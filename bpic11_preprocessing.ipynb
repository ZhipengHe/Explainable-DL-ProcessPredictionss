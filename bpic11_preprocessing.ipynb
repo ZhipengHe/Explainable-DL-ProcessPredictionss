{
 "metadata": {
  "language_info": {
   "codemirror_mode": {
    "name": "ipython",
    "version": 3
   },
   "file_extension": ".py",
   "mimetype": "text/x-python",
   "name": "python",
   "nbconvert_exporter": "python",
   "pygments_lexer": "ipython3",
   "version": "3.8.10"
  },
  "orig_nbformat": 4,
  "kernelspec": {
   "name": "python3",
   "display_name": "Python 3.8.10 64-bit ('TensorFlow25': conda)"
  },
  "interpreter": {
   "hash": "fe8cdd8b0905bc5dc811ca6f6f67baa88326482ee2d1fcebca307d9df55426eb"
  }
 },
 "nbformat": 4,
 "nbformat_minor": 2,
 "cells": [
  {
   "source": [
    "#Title Here\n",
    "\n",
    "Description: Here"
   ],
   "cell_type": "markdown",
   "metadata": {}
  },
  {
   "source": [
    "## 0. Inport necessary library & Set workspace"
   ],
   "cell_type": "markdown",
   "metadata": {}
  },
  {
   "cell_type": "code",
   "execution_count": 1,
   "metadata": {},
   "outputs": [
    {
     "output_type": "stream",
     "name": "stdout",
     "text": [
      "2.5.0\n"
     ]
    }
   ],
   "source": [
    "import os\n",
    "import numpy as np\n",
    "import pandas as pd\n",
    "\n",
    "from natsort import natsorted\n",
    "from datetime import datetime\n",
    "from dateutil.relativedelta import relativedelta\n",
    "\n",
    "import math\n",
    "import itertools\n",
    "\n",
    "# library for plotting\n",
    "import seaborn as sns\n",
    "import matplotlib.pyplot as plt\n",
    "\n",
    "import tensorflow.compat.v1 as tf\n",
    "\n",
    "from keras import backend as K\n",
    "from keras.models import Model\n",
    "from keras.preprocessing import sequence\n",
    "from keras.utils.data_utils import Sequence\n",
    "from keras.regularizers import l2\n",
    "from keras.constraints import non_neg, Constraint\n",
    "from sklearn.metrics import roc_auc_score, average_precision_score, precision_recall_curve, confusion_matrix\n",
    "\n",
    "\n",
    "from keras.layers import Input, Concatenate, Flatten\n",
    "from keras.layers.core import Dense\n",
    "from keras.layers.recurrent import LSTM\n",
    "from tensorflow.keras.optimizers import Nadam, Adam, SGD, Adagrad\n",
    "from keras.callbacks import EarlyStopping, ModelCheckpoint, ReduceLROnPlateau\n",
    "from keras.layers.normalization import BatchNormalization\n",
    "\n",
    "from tensorflow.keras import utils as ku \n",
    "from nltk.util import ngrams\n",
    "import pickle\n",
    "\n",
    "\n",
    "import keras\n",
    "print(keras.__version__)\n"
   ]
  },
  {
   "source": [
    "MY_WORKSPACE_DIR = os.path.join(os.getcwd(),\"BPIC_11\")\n",
    "try:\n",
    "    os.makedirs(MY_WORKSPACE_DIR)\n",
    "    print(\"Directory \" , MY_WORKSPACE_DIR ,  \" created\")\n",
    "except:\n",
    "    print(\"Directory \" , MY_WORKSPACE_DIR ,  \" already exists\")\n",
    "\n",
    "OUTPUT_DIR = os.path.join(MY_WORKSPACE_DIR, \"output_files\")\n",
    "\n",
    "try:\n",
    "    os.makedirs(OUTPUT_DIR)\n",
    "    print(\"Directory \" , OUTPUT_DIR ,  \" created\")\n",
    "except:\n",
    "    print(\"Directory \" , OUTPUT_DIR ,  \" already exists\")\n",
    "\n",
    "# The args dictionary is adapted from GenerativeLSTM by Manuel Camargo\n",
    "# https://github.com/AdaptiveBProcess/GenerativeLSTM/blob/master/dg_training.py\n",
    "\n",
    "args = dict()\n",
    "\n",
    "args['processed_training_vec'] = os.path.join(OUTPUT_DIR, 'vec_training.p')\n",
    "args['processed_test_vec'] = os.path.join(OUTPUT_DIR, 'vec_test.p')\n",
    "args['weights'] = os.path.join(OUTPUT_DIR, 'weights.p')\n",
    "args['indexes'] = os.path.join(OUTPUT_DIR, 'indexes.p')\n",
    "args['args'] = os.path.join(OUTPUT_DIR, 'args.p') \n",
    "\n",
    "args['url'] = \"https://www.win.tue.nl/bpi/lib/exe/fetch.php?media=2011:hospital_log.csv.zip\"\n",
    "args['log_name'] = 'bpic2011_Hospital_Data'\n",
    "args['file_name'] = os.path.join(MY_WORKSPACE_DIR, 'BPIC_2011.csv') \n",
    "args['processed_file_name'] = os.path.join(OUTPUT_DIR, 'BPIC_2011_Processed.csv')\n",
    "args['task']='outcome'\n",
    "\n",
    "args['lstm_act'] = None # optimization function see keras doc\n",
    "args['dense_act'] = None # optimization function see keras doc\n",
    "args['n_size'] = 15 # n-gram size\n",
    "args['l_size'] = 50 # LSTM layer sizes\n",
    "args['norm_method'] = 'lognorm' # max, lognorm"
   ],
   "cell_type": "code",
   "metadata": {},
   "execution_count": 47,
   "outputs": [
    {
     "output_type": "stream",
     "name": "stdout",
     "text": [
      "Directory  c:\\Users\\mithr\\Documents\\GitHub\\Explainable-DL-ProcessPredictionss\\BPIC_11  already exists\nDirectory  c:\\Users\\mithr\\Documents\\GitHub\\Explainable-DL-ProcessPredictionss\\BPIC_11\\output_files  already exists\n"
     ]
    }
   ]
  },
  {
   "cell_type": "code",
   "execution_count": 3,
   "metadata": {},
   "outputs": [
    {
     "output_type": "execute_result",
     "data": {
      "text/plain": [
       "{'processed_training_vec': 'c:\\\\Users\\\\mithr\\\\Documents\\\\GitHub\\\\Explainable-DL-ProcessPredictionss\\\\BPIC_11\\\\output_files\\\\vec_training.p',\n",
       " 'processed_test_vec': 'c:\\\\Users\\\\mithr\\\\Documents\\\\GitHub\\\\Explainable-DL-ProcessPredictionss\\\\BPIC_11\\\\output_files\\\\vec_training.p',\n",
       " 'weights': 'c:\\\\Users\\\\mithr\\\\Documents\\\\GitHub\\\\Explainable-DL-ProcessPredictionss\\\\BPIC_11\\\\output_files\\\\weights.p',\n",
       " 'indexes': 'c:\\\\Users\\\\mithr\\\\Documents\\\\GitHub\\\\Explainable-DL-ProcessPredictionss\\\\BPIC_11\\\\output_files\\\\indexes.p',\n",
       " 'url': 'https://www.win.tue.nl/bpi/lib/exe/fetch.php?media=2011:hospital_log.csv.zip',\n",
       " 'log_name': 'bpic2011_Hospital_Data',\n",
       " 'file_name': 'c:\\\\Users\\\\mithr\\\\Documents\\\\GitHub\\\\Explainable-DL-ProcessPredictionss\\\\BPIC_11\\\\BPIC_2011.csv',\n",
       " 'processed_file_name': 'c:\\\\Users\\\\mithr\\\\Documents\\\\GitHub\\\\Explainable-DL-ProcessPredictionss\\\\BPIC_11\\\\output_files\\\\BPIC_2011_Processed.csv',\n",
       " 'task': 'outcome',\n",
       " 'lstm_act': None,\n",
       " 'dense_act': None,\n",
       " 'n_size': 15,\n",
       " 'l_size': 50,\n",
       " 'norm_method': 'lognorm'}"
      ]
     },
     "metadata": {},
     "execution_count": 3
    }
   ],
   "source": [
    "args"
   ]
  },
  {
   "source": [
    "## 1. Data Cleaning\n",
    "\n",
    "The [raw dataset](https://www.win.tue.nl/bpi/lib/exe/fetch.php?media=2011:hospital_log.csv.zip) is from Business Processing Intelligence Challenge (BPIC) 2011. Find more information [here](https://www.win.tue.nl/bpi/doku.php?id=2011:challenge)."
   ],
   "cell_type": "markdown",
   "metadata": {}
  },
  {
   "cell_type": "code",
   "execution_count": 4,
   "metadata": {},
   "outputs": [
    {
     "output_type": "execute_result",
     "data": {
      "text/plain": [
       "(150291, 128)"
      ]
     },
     "metadata": {},
     "execution_count": 4
    }
   ],
   "source": [
    "# Dataframe creation\n",
    "raw_data = pd.read_csv(args['url'], compression='zip', sep=\";\", low_memory=False, dtype='str')\n",
    "raw_data.to_csv(path_or_buf=args['file_name'],sep=';', index=False)\n",
    "\n",
    "df = raw_data\n",
    "df.shape"
   ]
  },
  {
   "cell_type": "code",
   "execution_count": 5,
   "metadata": {},
   "outputs": [
    {
     "output_type": "execute_result",
     "data": {
      "text/plain": [
       "  case:concept:name                        event:concept:name Treatment code  \\\n",
       "0          00000000                   1e consult poliklinisch            103   \n",
       "1          00000000  administratief tarief       - eerste pol            103   \n",
       "2          00000000   verlosk.-gynaec. korte kaart kosten-out            103   \n",
       "3          00000000           echografie  - genitalia interna            103   \n",
       "4          00000000                   1e consult poliklinisch            103   \n",
       "\n",
       "  Producer code           Diagnosis End date:10 End date:11 Diagnosis code  \\\n",
       "0          SRTH  maligniteit cervix         NaN         NaN            M13   \n",
       "1          SRTH  maligniteit cervix         NaN         NaN            M13   \n",
       "2          SGEH  maligniteit cervix         NaN         NaN            M13   \n",
       "3          SGEC  maligniteit cervix         NaN         NaN            M13   \n",
       "4          SGEH  maligniteit cervix         NaN         NaN            M13   \n",
       "\n",
       "  Number of executions Start date:10 Start date:12 Start date:11 End date:12  \\\n",
       "0                    1           NaN           NaN           NaN         NaN   \n",
       "1                    1           NaN           NaN           NaN         NaN   \n",
       "2                    1           NaN           NaN           NaN         NaN   \n",
       "3                    1           NaN           NaN           NaN         NaN   \n",
       "4                    1           NaN           NaN           NaN         NaN   \n",
       "\n",
       "  End date:13 End date:14 End date:15 Specialism code:15 Specialism code:14  \\\n",
       "0         NaN         NaN         NaN                NaN                NaN   \n",
       "1         NaN         NaN         NaN                NaN                NaN   \n",
       "2         NaN         NaN         NaN                NaN                NaN   \n",
       "3         NaN         NaN         NaN                NaN                NaN   \n",
       "4         NaN         NaN         NaN                NaN                NaN   \n",
       "\n",
       "  Specialism code:13 Specialism code:12 Diagnosis code:12 Start date:13  \\\n",
       "0                NaN                NaN               NaN           NaN   \n",
       "1                NaN                NaN               NaN           NaN   \n",
       "2                NaN                NaN               NaN           NaN   \n",
       "3                NaN                NaN               NaN           NaN   \n",
       "4                NaN                NaN               NaN           NaN   \n",
       "\n",
       "  Diagnosis code:11 Start date:14 Start date:15 Diagnosis code:10  \\\n",
       "0               NaN           NaN           NaN               NaN   \n",
       "1               NaN           NaN           NaN               NaN   \n",
       "2               NaN           NaN           NaN               NaN   \n",
       "3               NaN           NaN           NaN               NaN   \n",
       "4               NaN           NaN           NaN               NaN   \n",
       "\n",
       "  Specialism code:11 Specialism code:10 Treatment code:4 Treatment code:3  \\\n",
       "0                NaN                NaN              NaN              NaN   \n",
       "1                NaN                NaN              NaN              NaN   \n",
       "2                NaN                NaN              NaN              NaN   \n",
       "3                NaN                NaN              NaN              NaN   \n",
       "4                NaN                NaN              NaN              NaN   \n",
       "\n",
       "  Diagnosis Treatment Combination ID:11 Treatment code:2 Treatment code:1  \\\n",
       "0                                   NaN               23               13   \n",
       "1                                   NaN               23               13   \n",
       "2                                   NaN               23               13   \n",
       "3                                   NaN               23               13   \n",
       "4                                   NaN               23               13   \n",
       "\n",
       "  Diagnosis Treatment Combination ID:10 Diagnosis Treatment Combination ID:13  \\\n",
       "0                                   NaN                                   NaN   \n",
       "1                                   NaN                                   NaN   \n",
       "2                                   NaN                                   NaN   \n",
       "3                                   NaN                                   NaN   \n",
       "4                                   NaN                                   NaN   \n",
       "\n",
       "  Diagnosis Treatment Combination ID:12 Diagnosis Treatment Combination ID:15  \\\n",
       "0                                   NaN                                   NaN   \n",
       "1                                   NaN                                   NaN   \n",
       "2                                   NaN                                   NaN   \n",
       "3                                   NaN                                   NaN   \n",
       "4                                   NaN                                   NaN   \n",
       "\n",
       "  Diagnosis Treatment Combination ID:14 Treatment code:9 Treatment code:7  \\\n",
       "0                                   NaN              NaN              NaN   \n",
       "1                                   NaN              NaN              NaN   \n",
       "2                                   NaN              NaN              NaN   \n",
       "3                                   NaN              NaN              NaN   \n",
       "4                                   NaN              NaN              NaN   \n",
       "\n",
       "  Treatment code:8 Treatment code:5 Treatment code:6 Treatment code:12  \\\n",
       "0              NaN              NaN              NaN               NaN   \n",
       "1              NaN              NaN              NaN               NaN   \n",
       "2              NaN              NaN              NaN               NaN   \n",
       "3              NaN              NaN              NaN               NaN   \n",
       "4              NaN              NaN              NaN               NaN   \n",
       "\n",
       "  Treatment code:13 Treatment code:10 Treatment code:11 Treatment code:14  \\\n",
       "0               NaN               NaN               NaN               NaN   \n",
       "1               NaN               NaN               NaN               NaN   \n",
       "2               NaN               NaN               NaN               NaN   \n",
       "3               NaN               NaN               NaN               NaN   \n",
       "4               NaN               NaN               NaN               NaN   \n",
       "\n",
       "  Treatment code:15 Specialism code:3               Start date:1  \\\n",
       "0               NaN               NaN  2005-01-03T00:14:24+01:00   \n",
       "1               NaN               NaN  2005-01-03T00:14:24+01:00   \n",
       "2               NaN               NaN  2005-01-03T00:14:24+01:00   \n",
       "3               NaN               NaN  2005-01-03T00:14:24+01:00   \n",
       "4               NaN               NaN  2005-01-03T00:14:24+01:00   \n",
       "\n",
       "  Specialism code:4 Specialism code:5 Activity code Specialism code:6  \\\n",
       "0               NaN               NaN        410100               NaN   \n",
       "1               NaN               NaN        419100               NaN   \n",
       "2               NaN               NaN         10107               NaN   \n",
       "3               NaN               NaN       339486E               NaN   \n",
       "4               NaN               NaN        410100               NaN   \n",
       "\n",
       "  Start date:5 Start date:4 Start date:3 Specialism code:1  \\\n",
       "0          NaN          NaN          NaN                61   \n",
       "1          NaN          NaN          NaN                61   \n",
       "2          NaN          NaN          NaN                61   \n",
       "3          NaN          NaN          NaN                61   \n",
       "4          NaN          NaN          NaN                61   \n",
       "\n",
       "                Start date:2 Specialism code:2 Start date:9 Start date:8  \\\n",
       "0  2005-01-03T00:14:24+01:00                61          NaN          NaN   \n",
       "1  2005-01-03T00:14:24+01:00                61          NaN          NaN   \n",
       "2  2005-01-03T00:14:24+01:00                61          NaN          NaN   \n",
       "3  2005-01-03T00:14:24+01:00                61          NaN          NaN   \n",
       "4  2005-01-03T00:14:24+01:00                61          NaN          NaN   \n",
       "\n",
       "  Start date:7 Start date:6 Diagnosis:15 Diagnosis code:5  \\\n",
       "0          NaN          NaN          NaN              NaN   \n",
       "1          NaN          NaN          NaN              NaN   \n",
       "2          NaN          NaN          NaN              NaN   \n",
       "3          NaN          NaN          NaN              NaN   \n",
       "4          NaN          NaN          NaN              NaN   \n",
       "\n",
       "                         org:group Specialism code:9 Diagnosis:14  \\\n",
       "0                     Radiotherapy               NaN          NaN   \n",
       "1                     Radiotherapy               NaN          NaN   \n",
       "2                     Nursing ward               NaN          NaN   \n",
       "3  Obstetrics & Gynaecology clinic               NaN          NaN   \n",
       "4                     Nursing ward               NaN          NaN   \n",
       "\n",
       "  Diagnosis code:4 Diagnosis code:3 Specialism code:7 Diagnosis code:2  \\\n",
       "0              NaN              NaN               NaN              106   \n",
       "1              NaN              NaN               NaN              106   \n",
       "2              NaN              NaN               NaN              106   \n",
       "3              NaN              NaN               NaN              106   \n",
       "4              NaN              NaN               NaN              106   \n",
       "\n",
       "  Specialism code:8 Diagnosis:11 Diagnosis code:1 Diagnosis:10 Diagnosis:13  \\\n",
       "0               NaN          NaN              106          NaN          NaN   \n",
       "1               NaN          NaN              106          NaN          NaN   \n",
       "2               NaN          NaN              106          NaN          NaN   \n",
       "3               NaN          NaN              106          NaN          NaN   \n",
       "4               NaN          NaN              106          NaN          NaN   \n",
       "\n",
       "  Diagnosis:12 Diagnosis code:9 Diagnosis code:8 Diagnosis code:7  \\\n",
       "0          NaN              NaN              NaN              NaN   \n",
       "1          NaN              NaN              NaN              NaN   \n",
       "2          NaN              NaN              NaN              NaN   \n",
       "3          NaN              NaN              NaN              NaN   \n",
       "4          NaN              NaN              NaN              NaN   \n",
       "\n",
       "  Diagnosis code:6 lifecycle:transition             time:timestamp  \\\n",
       "0              NaN             complete  2005-01-03T00:00:00+01:00   \n",
       "1              NaN             complete  2005-01-03T00:00:00+01:00   \n",
       "2              NaN             complete  2005-01-05T00:00:00+01:00   \n",
       "3              NaN             complete  2005-01-05T00:00:00+01:00   \n",
       "4              NaN             complete  2005-01-05T00:00:00+01:00   \n",
       "\n",
       "                    End date Age:5 Age:3 Age Age:4 Diagnosis code:14  \\\n",
       "0  2006-01-04T23:45:36+01:00   NaN   NaN  33   NaN               NaN   \n",
       "1  2006-01-04T23:45:36+01:00   NaN   NaN  33   NaN               NaN   \n",
       "2  2006-01-04T23:45:36+01:00   NaN   NaN  33   NaN               NaN   \n",
       "3  2006-01-04T23:45:36+01:00   NaN   NaN  33   NaN               NaN   \n",
       "4  2006-01-04T23:45:36+01:00   NaN   NaN  33   NaN               NaN   \n",
       "\n",
       "  Specialism code Diagnosis code:13 Diagnosis code:15 Diagnosis:8 Diagnosis:7  \\\n",
       "0              61               NaN               NaN         NaN         NaN   \n",
       "1              61               NaN               NaN         NaN         NaN   \n",
       "2               7               NaN               NaN         NaN         NaN   \n",
       "3               7               NaN               NaN         NaN         NaN   \n",
       "4               7               NaN               NaN         NaN         NaN   \n",
       "\n",
       "  Diagnosis:6 Diagnosis:5 Diagnosis:4 Age:1 Diagnosis:3 Age:2  \\\n",
       "0         NaN         NaN         NaN   NaN         NaN   NaN   \n",
       "1         NaN         NaN         NaN   NaN         NaN   NaN   \n",
       "2         NaN         NaN         NaN   NaN         NaN   NaN   \n",
       "3         NaN         NaN         NaN   NaN         NaN   NaN   \n",
       "4         NaN         NaN         NaN   NaN         NaN   NaN   \n",
       "\n",
       "               Diagnosis:2              Diagnosis:1 Diagnosis:9  \\\n",
       "0  Gynaecologische tumoren  Gynaecologische tumoren         NaN   \n",
       "1  Gynaecologische tumoren  Gynaecologische tumoren         NaN   \n",
       "2  Gynaecologische tumoren  Gynaecologische tumoren         NaN   \n",
       "3  Gynaecologische tumoren  Gynaecologische tumoren         NaN   \n",
       "4  Gynaecologische tumoren  Gynaecologische tumoren         NaN   \n",
       "\n",
       "  Diagnosis Treatment Combination ID Diagnosis Treatment Combination ID:7  \\\n",
       "0                             181229                                  NaN   \n",
       "1                             181229                                  NaN   \n",
       "2                             181229                                  NaN   \n",
       "3                             181229                                  NaN   \n",
       "4                             181229                                  NaN   \n",
       "\n",
       "  Diagnosis Treatment Combination ID:8 Diagnosis Treatment Combination ID:9  \\\n",
       "0                                  NaN                                  NaN   \n",
       "1                                  NaN                                  NaN   \n",
       "2                                  NaN                                  NaN   \n",
       "3                                  NaN                                  NaN   \n",
       "4                                  NaN                                  NaN   \n",
       "\n",
       "                  Start date Diagnosis Treatment Combination ID:6  \\\n",
       "0  2005-01-05T00:14:24+01:00                                  NaN   \n",
       "1  2005-01-05T00:14:24+01:00                                  NaN   \n",
       "2  2005-01-05T00:14:24+01:00                                  NaN   \n",
       "3  2005-01-05T00:14:24+01:00                                  NaN   \n",
       "4  2005-01-05T00:14:24+01:00                                  NaN   \n",
       "\n",
       "  Diagnosis Treatment Combination ID:5 Diagnosis Treatment Combination ID:4  \\\n",
       "0                                  NaN                                  NaN   \n",
       "1                                  NaN                                  NaN   \n",
       "2                                  NaN                                  NaN   \n",
       "3                                  NaN                                  NaN   \n",
       "4                                  NaN                                  NaN   \n",
       "\n",
       "  Diagnosis Treatment Combination ID:3 Diagnosis Treatment Combination ID:2  \\\n",
       "0                                  NaN                               376908   \n",
       "1                                  NaN                               376908   \n",
       "2                                  NaN                               376908   \n",
       "3                                  NaN                               376908   \n",
       "4                                  NaN                               376908   \n",
       "\n",
       "  Diagnosis Treatment Combination ID:1 End date:8 End date:7 End date:9  \\\n",
       "0                               376907        NaN        NaN        NaN   \n",
       "1                               376907        NaN        NaN        NaN   \n",
       "2                               376907        NaN        NaN        NaN   \n",
       "3                               376907        NaN        NaN        NaN   \n",
       "4                               376907        NaN        NaN        NaN   \n",
       "\n",
       "     Section                 End date:1                 End date:2 End date:3  \\\n",
       "0  Section 5  2005-01-29T23:45:36+01:00  2005-01-29T23:45:36+01:00        NaN   \n",
       "1  Section 5  2005-01-29T23:45:36+01:00  2005-01-29T23:45:36+01:00        NaN   \n",
       "2  Section 2  2005-01-29T23:45:36+01:00  2005-01-29T23:45:36+01:00        NaN   \n",
       "3  Section 2  2005-01-29T23:45:36+01:00  2005-01-29T23:45:36+01:00        NaN   \n",
       "4  Section 2  2005-01-29T23:45:36+01:00  2005-01-29T23:45:36+01:00        NaN   \n",
       "\n",
       "  End date:4 End date:5 End date:6 Unnamed: 127  \n",
       "0        NaN        NaN        NaN          NaN  \n",
       "1        NaN        NaN        NaN          NaN  \n",
       "2        NaN        NaN        NaN          NaN  \n",
       "3        NaN        NaN        NaN          NaN  \n",
       "4        NaN        NaN        NaN          NaN  "
      ],
      "text/html": "<div>\n<style scoped>\n    .dataframe tbody tr th:only-of-type {\n        vertical-align: middle;\n    }\n\n    .dataframe tbody tr th {\n        vertical-align: top;\n    }\n\n    .dataframe thead th {\n        text-align: right;\n    }\n</style>\n<table border=\"1\" class=\"dataframe\">\n  <thead>\n    <tr style=\"text-align: right;\">\n      <th></th>\n      <th>case:concept:name</th>\n      <th>event:concept:name</th>\n      <th>Treatment code</th>\n      <th>Producer code</th>\n      <th>Diagnosis</th>\n      <th>End date:10</th>\n      <th>End date:11</th>\n      <th>Diagnosis code</th>\n      <th>Number of executions</th>\n      <th>Start date:10</th>\n      <th>Start date:12</th>\n      <th>Start date:11</th>\n      <th>End date:12</th>\n      <th>End date:13</th>\n      <th>End date:14</th>\n      <th>End date:15</th>\n      <th>Specialism code:15</th>\n      <th>Specialism code:14</th>\n      <th>Specialism code:13</th>\n      <th>Specialism code:12</th>\n      <th>Diagnosis code:12</th>\n      <th>Start date:13</th>\n      <th>Diagnosis code:11</th>\n      <th>Start date:14</th>\n      <th>Start date:15</th>\n      <th>Diagnosis code:10</th>\n      <th>Specialism code:11</th>\n      <th>Specialism code:10</th>\n      <th>Treatment code:4</th>\n      <th>Treatment code:3</th>\n      <th>Diagnosis Treatment Combination ID:11</th>\n      <th>Treatment code:2</th>\n      <th>Treatment code:1</th>\n      <th>Diagnosis Treatment Combination ID:10</th>\n      <th>Diagnosis Treatment Combination ID:13</th>\n      <th>Diagnosis Treatment Combination ID:12</th>\n      <th>Diagnosis Treatment Combination ID:15</th>\n      <th>Diagnosis Treatment Combination ID:14</th>\n      <th>Treatment code:9</th>\n      <th>Treatment code:7</th>\n      <th>Treatment code:8</th>\n      <th>Treatment code:5</th>\n      <th>Treatment code:6</th>\n      <th>Treatment code:12</th>\n      <th>Treatment code:13</th>\n      <th>Treatment code:10</th>\n      <th>Treatment code:11</th>\n      <th>Treatment code:14</th>\n      <th>Treatment code:15</th>\n      <th>Specialism code:3</th>\n      <th>Start date:1</th>\n      <th>Specialism code:4</th>\n      <th>Specialism code:5</th>\n      <th>Activity code</th>\n      <th>Specialism code:6</th>\n      <th>Start date:5</th>\n      <th>Start date:4</th>\n      <th>Start date:3</th>\n      <th>Specialism code:1</th>\n      <th>Start date:2</th>\n      <th>Specialism code:2</th>\n      <th>Start date:9</th>\n      <th>Start date:8</th>\n      <th>Start date:7</th>\n      <th>Start date:6</th>\n      <th>Diagnosis:15</th>\n      <th>Diagnosis code:5</th>\n      <th>org:group</th>\n      <th>Specialism code:9</th>\n      <th>Diagnosis:14</th>\n      <th>Diagnosis code:4</th>\n      <th>Diagnosis code:3</th>\n      <th>Specialism code:7</th>\n      <th>Diagnosis code:2</th>\n      <th>Specialism code:8</th>\n      <th>Diagnosis:11</th>\n      <th>Diagnosis code:1</th>\n      <th>Diagnosis:10</th>\n      <th>Diagnosis:13</th>\n      <th>Diagnosis:12</th>\n      <th>Diagnosis code:9</th>\n      <th>Diagnosis code:8</th>\n      <th>Diagnosis code:7</th>\n      <th>Diagnosis code:6</th>\n      <th>lifecycle:transition</th>\n      <th>time:timestamp</th>\n      <th>End date</th>\n      <th>Age:5</th>\n      <th>Age:3</th>\n      <th>Age</th>\n      <th>Age:4</th>\n      <th>Diagnosis code:14</th>\n      <th>Specialism code</th>\n      <th>Diagnosis code:13</th>\n      <th>Diagnosis code:15</th>\n      <th>Diagnosis:8</th>\n      <th>Diagnosis:7</th>\n      <th>Diagnosis:6</th>\n      <th>Diagnosis:5</th>\n      <th>Diagnosis:4</th>\n      <th>Age:1</th>\n      <th>Diagnosis:3</th>\n      <th>Age:2</th>\n      <th>Diagnosis:2</th>\n      <th>Diagnosis:1</th>\n      <th>Diagnosis:9</th>\n      <th>Diagnosis Treatment Combination ID</th>\n      <th>Diagnosis Treatment Combination ID:7</th>\n      <th>Diagnosis Treatment Combination ID:8</th>\n      <th>Diagnosis Treatment Combination ID:9</th>\n      <th>Start date</th>\n      <th>Diagnosis Treatment Combination ID:6</th>\n      <th>Diagnosis Treatment Combination ID:5</th>\n      <th>Diagnosis Treatment Combination ID:4</th>\n      <th>Diagnosis Treatment Combination ID:3</th>\n      <th>Diagnosis Treatment Combination ID:2</th>\n      <th>Diagnosis Treatment Combination ID:1</th>\n      <th>End date:8</th>\n      <th>End date:7</th>\n      <th>End date:9</th>\n      <th>Section</th>\n      <th>End date:1</th>\n      <th>End date:2</th>\n      <th>End date:3</th>\n      <th>End date:4</th>\n      <th>End date:5</th>\n      <th>End date:6</th>\n      <th>Unnamed: 127</th>\n    </tr>\n  </thead>\n  <tbody>\n    <tr>\n      <th>0</th>\n      <td>00000000</td>\n      <td>1e consult poliklinisch</td>\n      <td>103</td>\n      <td>SRTH</td>\n      <td>maligniteit cervix</td>\n      <td>NaN</td>\n      <td>NaN</td>\n      <td>M13</td>\n      <td>1</td>\n      <td>NaN</td>\n      <td>NaN</td>\n      <td>NaN</td>\n      <td>NaN</td>\n      <td>NaN</td>\n      <td>NaN</td>\n      <td>NaN</td>\n      <td>NaN</td>\n      <td>NaN</td>\n      <td>NaN</td>\n      <td>NaN</td>\n      <td>NaN</td>\n      <td>NaN</td>\n      <td>NaN</td>\n      <td>NaN</td>\n      <td>NaN</td>\n      <td>NaN</td>\n      <td>NaN</td>\n      <td>NaN</td>\n      <td>NaN</td>\n      <td>NaN</td>\n      <td>NaN</td>\n      <td>23</td>\n      <td>13</td>\n      <td>NaN</td>\n      <td>NaN</td>\n      <td>NaN</td>\n      <td>NaN</td>\n      <td>NaN</td>\n      <td>NaN</td>\n      <td>NaN</td>\n      <td>NaN</td>\n      <td>NaN</td>\n      <td>NaN</td>\n      <td>NaN</td>\n      <td>NaN</td>\n      <td>NaN</td>\n      <td>NaN</td>\n      <td>NaN</td>\n      <td>NaN</td>\n      <td>NaN</td>\n      <td>2005-01-03T00:14:24+01:00</td>\n      <td>NaN</td>\n      <td>NaN</td>\n      <td>410100</td>\n      <td>NaN</td>\n      <td>NaN</td>\n      <td>NaN</td>\n      <td>NaN</td>\n      <td>61</td>\n      <td>2005-01-03T00:14:24+01:00</td>\n      <td>61</td>\n      <td>NaN</td>\n      <td>NaN</td>\n      <td>NaN</td>\n      <td>NaN</td>\n      <td>NaN</td>\n      <td>NaN</td>\n      <td>Radiotherapy</td>\n      <td>NaN</td>\n      <td>NaN</td>\n      <td>NaN</td>\n      <td>NaN</td>\n      <td>NaN</td>\n      <td>106</td>\n      <td>NaN</td>\n      <td>NaN</td>\n      <td>106</td>\n      <td>NaN</td>\n      <td>NaN</td>\n      <td>NaN</td>\n      <td>NaN</td>\n      <td>NaN</td>\n      <td>NaN</td>\n      <td>NaN</td>\n      <td>complete</td>\n      <td>2005-01-03T00:00:00+01:00</td>\n      <td>2006-01-04T23:45:36+01:00</td>\n      <td>NaN</td>\n      <td>NaN</td>\n      <td>33</td>\n      <td>NaN</td>\n      <td>NaN</td>\n      <td>61</td>\n      <td>NaN</td>\n      <td>NaN</td>\n      <td>NaN</td>\n      <td>NaN</td>\n      <td>NaN</td>\n      <td>NaN</td>\n      <td>NaN</td>\n      <td>NaN</td>\n      <td>NaN</td>\n      <td>NaN</td>\n      <td>Gynaecologische tumoren</td>\n      <td>Gynaecologische tumoren</td>\n      <td>NaN</td>\n      <td>181229</td>\n      <td>NaN</td>\n      <td>NaN</td>\n      <td>NaN</td>\n      <td>2005-01-05T00:14:24+01:00</td>\n      <td>NaN</td>\n      <td>NaN</td>\n      <td>NaN</td>\n      <td>NaN</td>\n      <td>376908</td>\n      <td>376907</td>\n      <td>NaN</td>\n      <td>NaN</td>\n      <td>NaN</td>\n      <td>Section 5</td>\n      <td>2005-01-29T23:45:36+01:00</td>\n      <td>2005-01-29T23:45:36+01:00</td>\n      <td>NaN</td>\n      <td>NaN</td>\n      <td>NaN</td>\n      <td>NaN</td>\n      <td>NaN</td>\n    </tr>\n    <tr>\n      <th>1</th>\n      <td>00000000</td>\n      <td>administratief tarief       - eerste pol</td>\n      <td>103</td>\n      <td>SRTH</td>\n      <td>maligniteit cervix</td>\n      <td>NaN</td>\n      <td>NaN</td>\n      <td>M13</td>\n      <td>1</td>\n      <td>NaN</td>\n      <td>NaN</td>\n      <td>NaN</td>\n      <td>NaN</td>\n      <td>NaN</td>\n      <td>NaN</td>\n      <td>NaN</td>\n      <td>NaN</td>\n      <td>NaN</td>\n      <td>NaN</td>\n      <td>NaN</td>\n      <td>NaN</td>\n      <td>NaN</td>\n      <td>NaN</td>\n      <td>NaN</td>\n      <td>NaN</td>\n      <td>NaN</td>\n      <td>NaN</td>\n      <td>NaN</td>\n      <td>NaN</td>\n      <td>NaN</td>\n      <td>NaN</td>\n      <td>23</td>\n      <td>13</td>\n      <td>NaN</td>\n      <td>NaN</td>\n      <td>NaN</td>\n      <td>NaN</td>\n      <td>NaN</td>\n      <td>NaN</td>\n      <td>NaN</td>\n      <td>NaN</td>\n      <td>NaN</td>\n      <td>NaN</td>\n      <td>NaN</td>\n      <td>NaN</td>\n      <td>NaN</td>\n      <td>NaN</td>\n      <td>NaN</td>\n      <td>NaN</td>\n      <td>NaN</td>\n      <td>2005-01-03T00:14:24+01:00</td>\n      <td>NaN</td>\n      <td>NaN</td>\n      <td>419100</td>\n      <td>NaN</td>\n      <td>NaN</td>\n      <td>NaN</td>\n      <td>NaN</td>\n      <td>61</td>\n      <td>2005-01-03T00:14:24+01:00</td>\n      <td>61</td>\n      <td>NaN</td>\n      <td>NaN</td>\n      <td>NaN</td>\n      <td>NaN</td>\n      <td>NaN</td>\n      <td>NaN</td>\n      <td>Radiotherapy</td>\n      <td>NaN</td>\n      <td>NaN</td>\n      <td>NaN</td>\n      <td>NaN</td>\n      <td>NaN</td>\n      <td>106</td>\n      <td>NaN</td>\n      <td>NaN</td>\n      <td>106</td>\n      <td>NaN</td>\n      <td>NaN</td>\n      <td>NaN</td>\n      <td>NaN</td>\n      <td>NaN</td>\n      <td>NaN</td>\n      <td>NaN</td>\n      <td>complete</td>\n      <td>2005-01-03T00:00:00+01:00</td>\n      <td>2006-01-04T23:45:36+01:00</td>\n      <td>NaN</td>\n      <td>NaN</td>\n      <td>33</td>\n      <td>NaN</td>\n      <td>NaN</td>\n      <td>61</td>\n      <td>NaN</td>\n      <td>NaN</td>\n      <td>NaN</td>\n      <td>NaN</td>\n      <td>NaN</td>\n      <td>NaN</td>\n      <td>NaN</td>\n      <td>NaN</td>\n      <td>NaN</td>\n      <td>NaN</td>\n      <td>Gynaecologische tumoren</td>\n      <td>Gynaecologische tumoren</td>\n      <td>NaN</td>\n      <td>181229</td>\n      <td>NaN</td>\n      <td>NaN</td>\n      <td>NaN</td>\n      <td>2005-01-05T00:14:24+01:00</td>\n      <td>NaN</td>\n      <td>NaN</td>\n      <td>NaN</td>\n      <td>NaN</td>\n      <td>376908</td>\n      <td>376907</td>\n      <td>NaN</td>\n      <td>NaN</td>\n      <td>NaN</td>\n      <td>Section 5</td>\n      <td>2005-01-29T23:45:36+01:00</td>\n      <td>2005-01-29T23:45:36+01:00</td>\n      <td>NaN</td>\n      <td>NaN</td>\n      <td>NaN</td>\n      <td>NaN</td>\n      <td>NaN</td>\n    </tr>\n    <tr>\n      <th>2</th>\n      <td>00000000</td>\n      <td>verlosk.-gynaec. korte kaart kosten-out</td>\n      <td>103</td>\n      <td>SGEH</td>\n      <td>maligniteit cervix</td>\n      <td>NaN</td>\n      <td>NaN</td>\n      <td>M13</td>\n      <td>1</td>\n      <td>NaN</td>\n      <td>NaN</td>\n      <td>NaN</td>\n      <td>NaN</td>\n      <td>NaN</td>\n      <td>NaN</td>\n      <td>NaN</td>\n      <td>NaN</td>\n      <td>NaN</td>\n      <td>NaN</td>\n      <td>NaN</td>\n      <td>NaN</td>\n      <td>NaN</td>\n      <td>NaN</td>\n      <td>NaN</td>\n      <td>NaN</td>\n      <td>NaN</td>\n      <td>NaN</td>\n      <td>NaN</td>\n      <td>NaN</td>\n      <td>NaN</td>\n      <td>NaN</td>\n      <td>23</td>\n      <td>13</td>\n      <td>NaN</td>\n      <td>NaN</td>\n      <td>NaN</td>\n      <td>NaN</td>\n      <td>NaN</td>\n      <td>NaN</td>\n      <td>NaN</td>\n      <td>NaN</td>\n      <td>NaN</td>\n      <td>NaN</td>\n      <td>NaN</td>\n      <td>NaN</td>\n      <td>NaN</td>\n      <td>NaN</td>\n      <td>NaN</td>\n      <td>NaN</td>\n      <td>NaN</td>\n      <td>2005-01-03T00:14:24+01:00</td>\n      <td>NaN</td>\n      <td>NaN</td>\n      <td>10107</td>\n      <td>NaN</td>\n      <td>NaN</td>\n      <td>NaN</td>\n      <td>NaN</td>\n      <td>61</td>\n      <td>2005-01-03T00:14:24+01:00</td>\n      <td>61</td>\n      <td>NaN</td>\n      <td>NaN</td>\n      <td>NaN</td>\n      <td>NaN</td>\n      <td>NaN</td>\n      <td>NaN</td>\n      <td>Nursing ward</td>\n      <td>NaN</td>\n      <td>NaN</td>\n      <td>NaN</td>\n      <td>NaN</td>\n      <td>NaN</td>\n      <td>106</td>\n      <td>NaN</td>\n      <td>NaN</td>\n      <td>106</td>\n      <td>NaN</td>\n      <td>NaN</td>\n      <td>NaN</td>\n      <td>NaN</td>\n      <td>NaN</td>\n      <td>NaN</td>\n      <td>NaN</td>\n      <td>complete</td>\n      <td>2005-01-05T00:00:00+01:00</td>\n      <td>2006-01-04T23:45:36+01:00</td>\n      <td>NaN</td>\n      <td>NaN</td>\n      <td>33</td>\n      <td>NaN</td>\n      <td>NaN</td>\n      <td>7</td>\n      <td>NaN</td>\n      <td>NaN</td>\n      <td>NaN</td>\n      <td>NaN</td>\n      <td>NaN</td>\n      <td>NaN</td>\n      <td>NaN</td>\n      <td>NaN</td>\n      <td>NaN</td>\n      <td>NaN</td>\n      <td>Gynaecologische tumoren</td>\n      <td>Gynaecologische tumoren</td>\n      <td>NaN</td>\n      <td>181229</td>\n      <td>NaN</td>\n      <td>NaN</td>\n      <td>NaN</td>\n      <td>2005-01-05T00:14:24+01:00</td>\n      <td>NaN</td>\n      <td>NaN</td>\n      <td>NaN</td>\n      <td>NaN</td>\n      <td>376908</td>\n      <td>376907</td>\n      <td>NaN</td>\n      <td>NaN</td>\n      <td>NaN</td>\n      <td>Section 2</td>\n      <td>2005-01-29T23:45:36+01:00</td>\n      <td>2005-01-29T23:45:36+01:00</td>\n      <td>NaN</td>\n      <td>NaN</td>\n      <td>NaN</td>\n      <td>NaN</td>\n      <td>NaN</td>\n    </tr>\n    <tr>\n      <th>3</th>\n      <td>00000000</td>\n      <td>echografie  - genitalia interna</td>\n      <td>103</td>\n      <td>SGEC</td>\n      <td>maligniteit cervix</td>\n      <td>NaN</td>\n      <td>NaN</td>\n      <td>M13</td>\n      <td>1</td>\n      <td>NaN</td>\n      <td>NaN</td>\n      <td>NaN</td>\n      <td>NaN</td>\n      <td>NaN</td>\n      <td>NaN</td>\n      <td>NaN</td>\n      <td>NaN</td>\n      <td>NaN</td>\n      <td>NaN</td>\n      <td>NaN</td>\n      <td>NaN</td>\n      <td>NaN</td>\n      <td>NaN</td>\n      <td>NaN</td>\n      <td>NaN</td>\n      <td>NaN</td>\n      <td>NaN</td>\n      <td>NaN</td>\n      <td>NaN</td>\n      <td>NaN</td>\n      <td>NaN</td>\n      <td>23</td>\n      <td>13</td>\n      <td>NaN</td>\n      <td>NaN</td>\n      <td>NaN</td>\n      <td>NaN</td>\n      <td>NaN</td>\n      <td>NaN</td>\n      <td>NaN</td>\n      <td>NaN</td>\n      <td>NaN</td>\n      <td>NaN</td>\n      <td>NaN</td>\n      <td>NaN</td>\n      <td>NaN</td>\n      <td>NaN</td>\n      <td>NaN</td>\n      <td>NaN</td>\n      <td>NaN</td>\n      <td>2005-01-03T00:14:24+01:00</td>\n      <td>NaN</td>\n      <td>NaN</td>\n      <td>339486E</td>\n      <td>NaN</td>\n      <td>NaN</td>\n      <td>NaN</td>\n      <td>NaN</td>\n      <td>61</td>\n      <td>2005-01-03T00:14:24+01:00</td>\n      <td>61</td>\n      <td>NaN</td>\n      <td>NaN</td>\n      <td>NaN</td>\n      <td>NaN</td>\n      <td>NaN</td>\n      <td>NaN</td>\n      <td>Obstetrics &amp; Gynaecology clinic</td>\n      <td>NaN</td>\n      <td>NaN</td>\n      <td>NaN</td>\n      <td>NaN</td>\n      <td>NaN</td>\n      <td>106</td>\n      <td>NaN</td>\n      <td>NaN</td>\n      <td>106</td>\n      <td>NaN</td>\n      <td>NaN</td>\n      <td>NaN</td>\n      <td>NaN</td>\n      <td>NaN</td>\n      <td>NaN</td>\n      <td>NaN</td>\n      <td>complete</td>\n      <td>2005-01-05T00:00:00+01:00</td>\n      <td>2006-01-04T23:45:36+01:00</td>\n      <td>NaN</td>\n      <td>NaN</td>\n      <td>33</td>\n      <td>NaN</td>\n      <td>NaN</td>\n      <td>7</td>\n      <td>NaN</td>\n      <td>NaN</td>\n      <td>NaN</td>\n      <td>NaN</td>\n      <td>NaN</td>\n      <td>NaN</td>\n      <td>NaN</td>\n      <td>NaN</td>\n      <td>NaN</td>\n      <td>NaN</td>\n      <td>Gynaecologische tumoren</td>\n      <td>Gynaecologische tumoren</td>\n      <td>NaN</td>\n      <td>181229</td>\n      <td>NaN</td>\n      <td>NaN</td>\n      <td>NaN</td>\n      <td>2005-01-05T00:14:24+01:00</td>\n      <td>NaN</td>\n      <td>NaN</td>\n      <td>NaN</td>\n      <td>NaN</td>\n      <td>376908</td>\n      <td>376907</td>\n      <td>NaN</td>\n      <td>NaN</td>\n      <td>NaN</td>\n      <td>Section 2</td>\n      <td>2005-01-29T23:45:36+01:00</td>\n      <td>2005-01-29T23:45:36+01:00</td>\n      <td>NaN</td>\n      <td>NaN</td>\n      <td>NaN</td>\n      <td>NaN</td>\n      <td>NaN</td>\n    </tr>\n    <tr>\n      <th>4</th>\n      <td>00000000</td>\n      <td>1e consult poliklinisch</td>\n      <td>103</td>\n      <td>SGEH</td>\n      <td>maligniteit cervix</td>\n      <td>NaN</td>\n      <td>NaN</td>\n      <td>M13</td>\n      <td>1</td>\n      <td>NaN</td>\n      <td>NaN</td>\n      <td>NaN</td>\n      <td>NaN</td>\n      <td>NaN</td>\n      <td>NaN</td>\n      <td>NaN</td>\n      <td>NaN</td>\n      <td>NaN</td>\n      <td>NaN</td>\n      <td>NaN</td>\n      <td>NaN</td>\n      <td>NaN</td>\n      <td>NaN</td>\n      <td>NaN</td>\n      <td>NaN</td>\n      <td>NaN</td>\n      <td>NaN</td>\n      <td>NaN</td>\n      <td>NaN</td>\n      <td>NaN</td>\n      <td>NaN</td>\n      <td>23</td>\n      <td>13</td>\n      <td>NaN</td>\n      <td>NaN</td>\n      <td>NaN</td>\n      <td>NaN</td>\n      <td>NaN</td>\n      <td>NaN</td>\n      <td>NaN</td>\n      <td>NaN</td>\n      <td>NaN</td>\n      <td>NaN</td>\n      <td>NaN</td>\n      <td>NaN</td>\n      <td>NaN</td>\n      <td>NaN</td>\n      <td>NaN</td>\n      <td>NaN</td>\n      <td>NaN</td>\n      <td>2005-01-03T00:14:24+01:00</td>\n      <td>NaN</td>\n      <td>NaN</td>\n      <td>410100</td>\n      <td>NaN</td>\n      <td>NaN</td>\n      <td>NaN</td>\n      <td>NaN</td>\n      <td>61</td>\n      <td>2005-01-03T00:14:24+01:00</td>\n      <td>61</td>\n      <td>NaN</td>\n      <td>NaN</td>\n      <td>NaN</td>\n      <td>NaN</td>\n      <td>NaN</td>\n      <td>NaN</td>\n      <td>Nursing ward</td>\n      <td>NaN</td>\n      <td>NaN</td>\n      <td>NaN</td>\n      <td>NaN</td>\n      <td>NaN</td>\n      <td>106</td>\n      <td>NaN</td>\n      <td>NaN</td>\n      <td>106</td>\n      <td>NaN</td>\n      <td>NaN</td>\n      <td>NaN</td>\n      <td>NaN</td>\n      <td>NaN</td>\n      <td>NaN</td>\n      <td>NaN</td>\n      <td>complete</td>\n      <td>2005-01-05T00:00:00+01:00</td>\n      <td>2006-01-04T23:45:36+01:00</td>\n      <td>NaN</td>\n      <td>NaN</td>\n      <td>33</td>\n      <td>NaN</td>\n      <td>NaN</td>\n      <td>7</td>\n      <td>NaN</td>\n      <td>NaN</td>\n      <td>NaN</td>\n      <td>NaN</td>\n      <td>NaN</td>\n      <td>NaN</td>\n      <td>NaN</td>\n      <td>NaN</td>\n      <td>NaN</td>\n      <td>NaN</td>\n      <td>Gynaecologische tumoren</td>\n      <td>Gynaecologische tumoren</td>\n      <td>NaN</td>\n      <td>181229</td>\n      <td>NaN</td>\n      <td>NaN</td>\n      <td>NaN</td>\n      <td>2005-01-05T00:14:24+01:00</td>\n      <td>NaN</td>\n      <td>NaN</td>\n      <td>NaN</td>\n      <td>NaN</td>\n      <td>376908</td>\n      <td>376907</td>\n      <td>NaN</td>\n      <td>NaN</td>\n      <td>NaN</td>\n      <td>Section 2</td>\n      <td>2005-01-29T23:45:36+01:00</td>\n      <td>2005-01-29T23:45:36+01:00</td>\n      <td>NaN</td>\n      <td>NaN</td>\n      <td>NaN</td>\n      <td>NaN</td>\n      <td>NaN</td>\n    </tr>\n  </tbody>\n</table>\n</div>"
     },
     "metadata": {},
     "execution_count": 5
    }
   ],
   "source": [
    "pd.set_option('display.max_columns', None)\n",
    "df.head()"
   ]
  },
  {
   "source": [
    "### Delete irrelevant attributes\n",
    "\n",
    "From the analysis of the columns for bpic11 and the standard of event log, we can divide attributes (columns) into `Trace` attributes and `Event` attributes. The `Trace` attributes share the same values in one case. While, the `Event` attributes keep changing between activities. Here list all the attribiutes for bpic11:\n",
    "\n",
    "- Attributes for traces (Static)\n",
    "    - case:concept:name\n",
    "    - Age, Age:1-15\n",
    "    - ~~Diagnosis, Diagnosis:1-15~~\n",
    "    - Diagnosis code, Diagnosis code:1-15\n",
    "    - Treatment code, Treatment code:1-15\n",
    "    - ~~Diagnosis Treatment Combination ID, Diagnosis Treatment Combination ID:1-15~~\n",
    "    - ~~Specialism code, Specialism code:1-15~~\n",
    "    - ~~Start date, Start date:1-15~~\n",
    "    - ~~End date, End date:1-15~~\n",
    "\n",
    "- Attributes for events (Dynamic)\n",
    "    - org:group\n",
    "    - Number of executions\n",
    "    - ~~Specialism code~~\n",
    "    - event:concept:name\n",
    "    - Producer code\n",
    "    - Section\n",
    "    - Activity code\n",
    "    - time:timestamp\n",
    "    - ~~lifecycle:transition~~\n",
    "\n",
    "All irrelevant attributes with delete line need to be droped."
   ],
   "cell_type": "markdown",
   "metadata": {}
  },
  {
   "source": [
    "# Clean all columns with \"Diagnosis\", \"Diagnosis Treatment Combination ID\", \"Specialism code\" and \"lifecycle:transition\"\n",
    "df = df.loc[:,~df.columns.str.startswith('Diagnosis:')]\n",
    "df = df.drop(columns='Diagnosis')\n",
    "df = df.loc[:,~df.columns.str.startswith('Specialism code')] \n",
    "df = df.loc[:,~df.columns.str.startswith('lifecycle:transition')]\n",
    "df = df.loc[:,~df.columns.str.startswith('Diagnosis Treatment Combination ID')]\n",
    "\n",
    "df = df.loc[:,~df.columns.str.startswith('Start date')] \n",
    "df = df.loc[:,~df.columns.str.startswith('End date')]\n",
    "\n",
    "df = df.drop(columns='Unnamed: 127')\n",
    "df.shape\n"
   ],
   "cell_type": "code",
   "metadata": {},
   "execution_count": 6,
   "outputs": [
    {
     "output_type": "execute_result",
     "data": {
      "text/plain": [
       "(150291, 46)"
      ]
     },
     "metadata": {},
     "execution_count": 6
    }
   ]
  },
  {
   "cell_type": "code",
   "execution_count": 7,
   "metadata": {},
   "outputs": [
    {
     "output_type": "execute_result",
     "data": {
      "text/plain": [
       "   case:concept:name                        event:concept:name Treatment code  \\\n",
       "0                  0                   1e consult poliklinisch            103   \n",
       "1                  0  administratief tarief       - eerste pol            103   \n",
       "2                  0   verlosk.-gynaec. korte kaart kosten-out            103   \n",
       "3                  0           echografie  - genitalia interna            103   \n",
       "4                  0                   1e consult poliklinisch            103   \n",
       "\n",
       "  Producer code Diagnosis code  Number of executions Diagnosis code:12  \\\n",
       "0          SRTH            M13                     1               NaN   \n",
       "1          SRTH            M13                     1               NaN   \n",
       "2          SGEH            M13                     1               NaN   \n",
       "3          SGEC            M13                     1               NaN   \n",
       "4          SGEH            M13                     1               NaN   \n",
       "\n",
       "  Diagnosis code:11 Diagnosis code:10 Treatment code:4 Treatment code:3  \\\n",
       "0               NaN               NaN              NaN              NaN   \n",
       "1               NaN               NaN              NaN              NaN   \n",
       "2               NaN               NaN              NaN              NaN   \n",
       "3               NaN               NaN              NaN              NaN   \n",
       "4               NaN               NaN              NaN              NaN   \n",
       "\n",
       "  Treatment code:2 Treatment code:1 Treatment code:9 Treatment code:7  \\\n",
       "0               23               13              NaN              NaN   \n",
       "1               23               13              NaN              NaN   \n",
       "2               23               13              NaN              NaN   \n",
       "3               23               13              NaN              NaN   \n",
       "4               23               13              NaN              NaN   \n",
       "\n",
       "  Treatment code:8 Treatment code:5 Treatment code:6 Treatment code:12  \\\n",
       "0              NaN              NaN              NaN               NaN   \n",
       "1              NaN              NaN              NaN               NaN   \n",
       "2              NaN              NaN              NaN               NaN   \n",
       "3              NaN              NaN              NaN               NaN   \n",
       "4              NaN              NaN              NaN               NaN   \n",
       "\n",
       "  Treatment code:13 Treatment code:10 Treatment code:11 Treatment code:14  \\\n",
       "0               NaN               NaN               NaN               NaN   \n",
       "1               NaN               NaN               NaN               NaN   \n",
       "2               NaN               NaN               NaN               NaN   \n",
       "3               NaN               NaN               NaN               NaN   \n",
       "4               NaN               NaN               NaN               NaN   \n",
       "\n",
       "  Treatment code:15 Activity code Diagnosis code:5  \\\n",
       "0               NaN        410100              NaN   \n",
       "1               NaN        419100              NaN   \n",
       "2               NaN         10107              NaN   \n",
       "3               NaN       339486E              NaN   \n",
       "4               NaN        410100              NaN   \n",
       "\n",
       "                         org:group Diagnosis code:4 Diagnosis code:3  \\\n",
       "0                     Radiotherapy              NaN              NaN   \n",
       "1                     Radiotherapy              NaN              NaN   \n",
       "2                     Nursing ward              NaN              NaN   \n",
       "3  Obstetrics & Gynaecology clinic              NaN              NaN   \n",
       "4                     Nursing ward              NaN              NaN   \n",
       "\n",
       "  Diagnosis code:2 Diagnosis code:1 Diagnosis code:9 Diagnosis code:8  \\\n",
       "0              106              106              NaN              NaN   \n",
       "1              106              106              NaN              NaN   \n",
       "2              106              106              NaN              NaN   \n",
       "3              106              106              NaN              NaN   \n",
       "4              106              106              NaN              NaN   \n",
       "\n",
       "  Diagnosis code:7 Diagnosis code:6             time:timestamp Age:5 Age:3  \\\n",
       "0              NaN              NaN  2005-01-03T00:00:00+01:00   NaN   NaN   \n",
       "1              NaN              NaN  2005-01-03T00:00:00+01:00   NaN   NaN   \n",
       "2              NaN              NaN  2005-01-05T00:00:00+01:00   NaN   NaN   \n",
       "3              NaN              NaN  2005-01-05T00:00:00+01:00   NaN   NaN   \n",
       "4              NaN              NaN  2005-01-05T00:00:00+01:00   NaN   NaN   \n",
       "\n",
       "  Age Age:4 Diagnosis code:14 Diagnosis code:13 Diagnosis code:15 Age:1 Age:2  \\\n",
       "0  33   NaN               NaN               NaN               NaN   NaN   NaN   \n",
       "1  33   NaN               NaN               NaN               NaN   NaN   NaN   \n",
       "2  33   NaN               NaN               NaN               NaN   NaN   NaN   \n",
       "3  33   NaN               NaN               NaN               NaN   NaN   NaN   \n",
       "4  33   NaN               NaN               NaN               NaN   NaN   NaN   \n",
       "\n",
       "     Section  \n",
       "0  Section 5  \n",
       "1  Section 5  \n",
       "2  Section 2  \n",
       "3  Section 2  \n",
       "4  Section 2  "
      ],
      "text/html": "<div>\n<style scoped>\n    .dataframe tbody tr th:only-of-type {\n        vertical-align: middle;\n    }\n\n    .dataframe tbody tr th {\n        vertical-align: top;\n    }\n\n    .dataframe thead th {\n        text-align: right;\n    }\n</style>\n<table border=\"1\" class=\"dataframe\">\n  <thead>\n    <tr style=\"text-align: right;\">\n      <th></th>\n      <th>case:concept:name</th>\n      <th>event:concept:name</th>\n      <th>Treatment code</th>\n      <th>Producer code</th>\n      <th>Diagnosis code</th>\n      <th>Number of executions</th>\n      <th>Diagnosis code:12</th>\n      <th>Diagnosis code:11</th>\n      <th>Diagnosis code:10</th>\n      <th>Treatment code:4</th>\n      <th>Treatment code:3</th>\n      <th>Treatment code:2</th>\n      <th>Treatment code:1</th>\n      <th>Treatment code:9</th>\n      <th>Treatment code:7</th>\n      <th>Treatment code:8</th>\n      <th>Treatment code:5</th>\n      <th>Treatment code:6</th>\n      <th>Treatment code:12</th>\n      <th>Treatment code:13</th>\n      <th>Treatment code:10</th>\n      <th>Treatment code:11</th>\n      <th>Treatment code:14</th>\n      <th>Treatment code:15</th>\n      <th>Activity code</th>\n      <th>Diagnosis code:5</th>\n      <th>org:group</th>\n      <th>Diagnosis code:4</th>\n      <th>Diagnosis code:3</th>\n      <th>Diagnosis code:2</th>\n      <th>Diagnosis code:1</th>\n      <th>Diagnosis code:9</th>\n      <th>Diagnosis code:8</th>\n      <th>Diagnosis code:7</th>\n      <th>Diagnosis code:6</th>\n      <th>time:timestamp</th>\n      <th>Age:5</th>\n      <th>Age:3</th>\n      <th>Age</th>\n      <th>Age:4</th>\n      <th>Diagnosis code:14</th>\n      <th>Diagnosis code:13</th>\n      <th>Diagnosis code:15</th>\n      <th>Age:1</th>\n      <th>Age:2</th>\n      <th>Section</th>\n    </tr>\n  </thead>\n  <tbody>\n    <tr>\n      <th>0</th>\n      <td>0</td>\n      <td>1e consult poliklinisch</td>\n      <td>103</td>\n      <td>SRTH</td>\n      <td>M13</td>\n      <td>1</td>\n      <td>NaN</td>\n      <td>NaN</td>\n      <td>NaN</td>\n      <td>NaN</td>\n      <td>NaN</td>\n      <td>23</td>\n      <td>13</td>\n      <td>NaN</td>\n      <td>NaN</td>\n      <td>NaN</td>\n      <td>NaN</td>\n      <td>NaN</td>\n      <td>NaN</td>\n      <td>NaN</td>\n      <td>NaN</td>\n      <td>NaN</td>\n      <td>NaN</td>\n      <td>NaN</td>\n      <td>410100</td>\n      <td>NaN</td>\n      <td>Radiotherapy</td>\n      <td>NaN</td>\n      <td>NaN</td>\n      <td>106</td>\n      <td>106</td>\n      <td>NaN</td>\n      <td>NaN</td>\n      <td>NaN</td>\n      <td>NaN</td>\n      <td>2005-01-03T00:00:00+01:00</td>\n      <td>NaN</td>\n      <td>NaN</td>\n      <td>33</td>\n      <td>NaN</td>\n      <td>NaN</td>\n      <td>NaN</td>\n      <td>NaN</td>\n      <td>NaN</td>\n      <td>NaN</td>\n      <td>Section 5</td>\n    </tr>\n    <tr>\n      <th>1</th>\n      <td>0</td>\n      <td>administratief tarief       - eerste pol</td>\n      <td>103</td>\n      <td>SRTH</td>\n      <td>M13</td>\n      <td>1</td>\n      <td>NaN</td>\n      <td>NaN</td>\n      <td>NaN</td>\n      <td>NaN</td>\n      <td>NaN</td>\n      <td>23</td>\n      <td>13</td>\n      <td>NaN</td>\n      <td>NaN</td>\n      <td>NaN</td>\n      <td>NaN</td>\n      <td>NaN</td>\n      <td>NaN</td>\n      <td>NaN</td>\n      <td>NaN</td>\n      <td>NaN</td>\n      <td>NaN</td>\n      <td>NaN</td>\n      <td>419100</td>\n      <td>NaN</td>\n      <td>Radiotherapy</td>\n      <td>NaN</td>\n      <td>NaN</td>\n      <td>106</td>\n      <td>106</td>\n      <td>NaN</td>\n      <td>NaN</td>\n      <td>NaN</td>\n      <td>NaN</td>\n      <td>2005-01-03T00:00:00+01:00</td>\n      <td>NaN</td>\n      <td>NaN</td>\n      <td>33</td>\n      <td>NaN</td>\n      <td>NaN</td>\n      <td>NaN</td>\n      <td>NaN</td>\n      <td>NaN</td>\n      <td>NaN</td>\n      <td>Section 5</td>\n    </tr>\n    <tr>\n      <th>2</th>\n      <td>0</td>\n      <td>verlosk.-gynaec. korte kaart kosten-out</td>\n      <td>103</td>\n      <td>SGEH</td>\n      <td>M13</td>\n      <td>1</td>\n      <td>NaN</td>\n      <td>NaN</td>\n      <td>NaN</td>\n      <td>NaN</td>\n      <td>NaN</td>\n      <td>23</td>\n      <td>13</td>\n      <td>NaN</td>\n      <td>NaN</td>\n      <td>NaN</td>\n      <td>NaN</td>\n      <td>NaN</td>\n      <td>NaN</td>\n      <td>NaN</td>\n      <td>NaN</td>\n      <td>NaN</td>\n      <td>NaN</td>\n      <td>NaN</td>\n      <td>10107</td>\n      <td>NaN</td>\n      <td>Nursing ward</td>\n      <td>NaN</td>\n      <td>NaN</td>\n      <td>106</td>\n      <td>106</td>\n      <td>NaN</td>\n      <td>NaN</td>\n      <td>NaN</td>\n      <td>NaN</td>\n      <td>2005-01-05T00:00:00+01:00</td>\n      <td>NaN</td>\n      <td>NaN</td>\n      <td>33</td>\n      <td>NaN</td>\n      <td>NaN</td>\n      <td>NaN</td>\n      <td>NaN</td>\n      <td>NaN</td>\n      <td>NaN</td>\n      <td>Section 2</td>\n    </tr>\n    <tr>\n      <th>3</th>\n      <td>0</td>\n      <td>echografie  - genitalia interna</td>\n      <td>103</td>\n      <td>SGEC</td>\n      <td>M13</td>\n      <td>1</td>\n      <td>NaN</td>\n      <td>NaN</td>\n      <td>NaN</td>\n      <td>NaN</td>\n      <td>NaN</td>\n      <td>23</td>\n      <td>13</td>\n      <td>NaN</td>\n      <td>NaN</td>\n      <td>NaN</td>\n      <td>NaN</td>\n      <td>NaN</td>\n      <td>NaN</td>\n      <td>NaN</td>\n      <td>NaN</td>\n      <td>NaN</td>\n      <td>NaN</td>\n      <td>NaN</td>\n      <td>339486E</td>\n      <td>NaN</td>\n      <td>Obstetrics &amp; Gynaecology clinic</td>\n      <td>NaN</td>\n      <td>NaN</td>\n      <td>106</td>\n      <td>106</td>\n      <td>NaN</td>\n      <td>NaN</td>\n      <td>NaN</td>\n      <td>NaN</td>\n      <td>2005-01-05T00:00:00+01:00</td>\n      <td>NaN</td>\n      <td>NaN</td>\n      <td>33</td>\n      <td>NaN</td>\n      <td>NaN</td>\n      <td>NaN</td>\n      <td>NaN</td>\n      <td>NaN</td>\n      <td>NaN</td>\n      <td>Section 2</td>\n    </tr>\n    <tr>\n      <th>4</th>\n      <td>0</td>\n      <td>1e consult poliklinisch</td>\n      <td>103</td>\n      <td>SGEH</td>\n      <td>M13</td>\n      <td>1</td>\n      <td>NaN</td>\n      <td>NaN</td>\n      <td>NaN</td>\n      <td>NaN</td>\n      <td>NaN</td>\n      <td>23</td>\n      <td>13</td>\n      <td>NaN</td>\n      <td>NaN</td>\n      <td>NaN</td>\n      <td>NaN</td>\n      <td>NaN</td>\n      <td>NaN</td>\n      <td>NaN</td>\n      <td>NaN</td>\n      <td>NaN</td>\n      <td>NaN</td>\n      <td>NaN</td>\n      <td>410100</td>\n      <td>NaN</td>\n      <td>Nursing ward</td>\n      <td>NaN</td>\n      <td>NaN</td>\n      <td>106</td>\n      <td>106</td>\n      <td>NaN</td>\n      <td>NaN</td>\n      <td>NaN</td>\n      <td>NaN</td>\n      <td>2005-01-05T00:00:00+01:00</td>\n      <td>NaN</td>\n      <td>NaN</td>\n      <td>33</td>\n      <td>NaN</td>\n      <td>NaN</td>\n      <td>NaN</td>\n      <td>NaN</td>\n      <td>NaN</td>\n      <td>NaN</td>\n      <td>Section 2</td>\n    </tr>\n  </tbody>\n</table>\n</div>"
     },
     "metadata": {},
     "execution_count": 7
    }
   ],
   "source": [
    "df = df.astype({'case:concept:name': 'int64', 'Number of executions': 'int64'})\n",
    "df.head()"
   ]
  },
  {
   "source": [
    "### Combine repeating features to a list"
   ],
   "cell_type": "markdown",
   "metadata": {}
  },
  {
   "cell_type": "code",
   "execution_count": 8,
   "metadata": {},
   "outputs": [
    {
     "output_type": "execute_result",
     "data": {
      "text/plain": [
       "  Activity code Age Age:1 Age:2 Age:3 Age:4 Age:5 Diagnosis code  \\\n",
       "0        410100  33   NaN   NaN   NaN   NaN   NaN            M13   \n",
       "1        419100  33   NaN   NaN   NaN   NaN   NaN            M13   \n",
       "2         10107  33   NaN   NaN   NaN   NaN   NaN            M13   \n",
       "3       339486E  33   NaN   NaN   NaN   NaN   NaN            M13   \n",
       "4        410100  33   NaN   NaN   NaN   NaN   NaN            M13   \n",
       "\n",
       "  Diagnosis code:1 Diagnosis code:2 Diagnosis code:3 Diagnosis code:4  \\\n",
       "0              106              106              NaN              NaN   \n",
       "1              106              106              NaN              NaN   \n",
       "2              106              106              NaN              NaN   \n",
       "3              106              106              NaN              NaN   \n",
       "4              106              106              NaN              NaN   \n",
       "\n",
       "  Diagnosis code:5 Diagnosis code:6 Diagnosis code:7 Diagnosis code:8  \\\n",
       "0              NaN              NaN              NaN              NaN   \n",
       "1              NaN              NaN              NaN              NaN   \n",
       "2              NaN              NaN              NaN              NaN   \n",
       "3              NaN              NaN              NaN              NaN   \n",
       "4              NaN              NaN              NaN              NaN   \n",
       "\n",
       "  Diagnosis code:9 Diagnosis code:10 Diagnosis code:11 Diagnosis code:12  \\\n",
       "0              NaN               NaN               NaN               NaN   \n",
       "1              NaN               NaN               NaN               NaN   \n",
       "2              NaN               NaN               NaN               NaN   \n",
       "3              NaN               NaN               NaN               NaN   \n",
       "4              NaN               NaN               NaN               NaN   \n",
       "\n",
       "  Diagnosis code:13 Diagnosis code:14 Diagnosis code:15  Number of executions  \\\n",
       "0               NaN               NaN               NaN                     1   \n",
       "1               NaN               NaN               NaN                     1   \n",
       "2               NaN               NaN               NaN                     1   \n",
       "3               NaN               NaN               NaN                     1   \n",
       "4               NaN               NaN               NaN                     1   \n",
       "\n",
       "  Producer code    Section Treatment code Treatment code:1 Treatment code:2  \\\n",
       "0          SRTH  Section 5            103               13               23   \n",
       "1          SRTH  Section 5            103               13               23   \n",
       "2          SGEH  Section 2            103               13               23   \n",
       "3          SGEC  Section 2            103               13               23   \n",
       "4          SGEH  Section 2            103               13               23   \n",
       "\n",
       "  Treatment code:3 Treatment code:4 Treatment code:5 Treatment code:6  \\\n",
       "0              NaN              NaN              NaN              NaN   \n",
       "1              NaN              NaN              NaN              NaN   \n",
       "2              NaN              NaN              NaN              NaN   \n",
       "3              NaN              NaN              NaN              NaN   \n",
       "4              NaN              NaN              NaN              NaN   \n",
       "\n",
       "  Treatment code:7 Treatment code:8 Treatment code:9 Treatment code:10  \\\n",
       "0              NaN              NaN              NaN               NaN   \n",
       "1              NaN              NaN              NaN               NaN   \n",
       "2              NaN              NaN              NaN               NaN   \n",
       "3              NaN              NaN              NaN               NaN   \n",
       "4              NaN              NaN              NaN               NaN   \n",
       "\n",
       "  Treatment code:11 Treatment code:12 Treatment code:13 Treatment code:14  \\\n",
       "0               NaN               NaN               NaN               NaN   \n",
       "1               NaN               NaN               NaN               NaN   \n",
       "2               NaN               NaN               NaN               NaN   \n",
       "3               NaN               NaN               NaN               NaN   \n",
       "4               NaN               NaN               NaN               NaN   \n",
       "\n",
       "  Treatment code:15  case:concept:name  \\\n",
       "0               NaN                  0   \n",
       "1               NaN                  0   \n",
       "2               NaN                  0   \n",
       "3               NaN                  0   \n",
       "4               NaN                  0   \n",
       "\n",
       "                         event:concept:name                        org:group  \\\n",
       "0                   1e consult poliklinisch                     Radiotherapy   \n",
       "1  administratief tarief       - eerste pol                     Radiotherapy   \n",
       "2   verlosk.-gynaec. korte kaart kosten-out                     Nursing ward   \n",
       "3           echografie  - genitalia interna  Obstetrics & Gynaecology clinic   \n",
       "4                   1e consult poliklinisch                     Nursing ward   \n",
       "\n",
       "              time:timestamp  \n",
       "0  2005-01-03T00:00:00+01:00  \n",
       "1  2005-01-03T00:00:00+01:00  \n",
       "2  2005-01-05T00:00:00+01:00  \n",
       "3  2005-01-05T00:00:00+01:00  \n",
       "4  2005-01-05T00:00:00+01:00  "
      ],
      "text/html": "<div>\n<style scoped>\n    .dataframe tbody tr th:only-of-type {\n        vertical-align: middle;\n    }\n\n    .dataframe tbody tr th {\n        vertical-align: top;\n    }\n\n    .dataframe thead th {\n        text-align: right;\n    }\n</style>\n<table border=\"1\" class=\"dataframe\">\n  <thead>\n    <tr style=\"text-align: right;\">\n      <th></th>\n      <th>Activity code</th>\n      <th>Age</th>\n      <th>Age:1</th>\n      <th>Age:2</th>\n      <th>Age:3</th>\n      <th>Age:4</th>\n      <th>Age:5</th>\n      <th>Diagnosis code</th>\n      <th>Diagnosis code:1</th>\n      <th>Diagnosis code:2</th>\n      <th>Diagnosis code:3</th>\n      <th>Diagnosis code:4</th>\n      <th>Diagnosis code:5</th>\n      <th>Diagnosis code:6</th>\n      <th>Diagnosis code:7</th>\n      <th>Diagnosis code:8</th>\n      <th>Diagnosis code:9</th>\n      <th>Diagnosis code:10</th>\n      <th>Diagnosis code:11</th>\n      <th>Diagnosis code:12</th>\n      <th>Diagnosis code:13</th>\n      <th>Diagnosis code:14</th>\n      <th>Diagnosis code:15</th>\n      <th>Number of executions</th>\n      <th>Producer code</th>\n      <th>Section</th>\n      <th>Treatment code</th>\n      <th>Treatment code:1</th>\n      <th>Treatment code:2</th>\n      <th>Treatment code:3</th>\n      <th>Treatment code:4</th>\n      <th>Treatment code:5</th>\n      <th>Treatment code:6</th>\n      <th>Treatment code:7</th>\n      <th>Treatment code:8</th>\n      <th>Treatment code:9</th>\n      <th>Treatment code:10</th>\n      <th>Treatment code:11</th>\n      <th>Treatment code:12</th>\n      <th>Treatment code:13</th>\n      <th>Treatment code:14</th>\n      <th>Treatment code:15</th>\n      <th>case:concept:name</th>\n      <th>event:concept:name</th>\n      <th>org:group</th>\n      <th>time:timestamp</th>\n    </tr>\n  </thead>\n  <tbody>\n    <tr>\n      <th>0</th>\n      <td>410100</td>\n      <td>33</td>\n      <td>NaN</td>\n      <td>NaN</td>\n      <td>NaN</td>\n      <td>NaN</td>\n      <td>NaN</td>\n      <td>M13</td>\n      <td>106</td>\n      <td>106</td>\n      <td>NaN</td>\n      <td>NaN</td>\n      <td>NaN</td>\n      <td>NaN</td>\n      <td>NaN</td>\n      <td>NaN</td>\n      <td>NaN</td>\n      <td>NaN</td>\n      <td>NaN</td>\n      <td>NaN</td>\n      <td>NaN</td>\n      <td>NaN</td>\n      <td>NaN</td>\n      <td>1</td>\n      <td>SRTH</td>\n      <td>Section 5</td>\n      <td>103</td>\n      <td>13</td>\n      <td>23</td>\n      <td>NaN</td>\n      <td>NaN</td>\n      <td>NaN</td>\n      <td>NaN</td>\n      <td>NaN</td>\n      <td>NaN</td>\n      <td>NaN</td>\n      <td>NaN</td>\n      <td>NaN</td>\n      <td>NaN</td>\n      <td>NaN</td>\n      <td>NaN</td>\n      <td>NaN</td>\n      <td>0</td>\n      <td>1e consult poliklinisch</td>\n      <td>Radiotherapy</td>\n      <td>2005-01-03T00:00:00+01:00</td>\n    </tr>\n    <tr>\n      <th>1</th>\n      <td>419100</td>\n      <td>33</td>\n      <td>NaN</td>\n      <td>NaN</td>\n      <td>NaN</td>\n      <td>NaN</td>\n      <td>NaN</td>\n      <td>M13</td>\n      <td>106</td>\n      <td>106</td>\n      <td>NaN</td>\n      <td>NaN</td>\n      <td>NaN</td>\n      <td>NaN</td>\n      <td>NaN</td>\n      <td>NaN</td>\n      <td>NaN</td>\n      <td>NaN</td>\n      <td>NaN</td>\n      <td>NaN</td>\n      <td>NaN</td>\n      <td>NaN</td>\n      <td>NaN</td>\n      <td>1</td>\n      <td>SRTH</td>\n      <td>Section 5</td>\n      <td>103</td>\n      <td>13</td>\n      <td>23</td>\n      <td>NaN</td>\n      <td>NaN</td>\n      <td>NaN</td>\n      <td>NaN</td>\n      <td>NaN</td>\n      <td>NaN</td>\n      <td>NaN</td>\n      <td>NaN</td>\n      <td>NaN</td>\n      <td>NaN</td>\n      <td>NaN</td>\n      <td>NaN</td>\n      <td>NaN</td>\n      <td>0</td>\n      <td>administratief tarief       - eerste pol</td>\n      <td>Radiotherapy</td>\n      <td>2005-01-03T00:00:00+01:00</td>\n    </tr>\n    <tr>\n      <th>2</th>\n      <td>10107</td>\n      <td>33</td>\n      <td>NaN</td>\n      <td>NaN</td>\n      <td>NaN</td>\n      <td>NaN</td>\n      <td>NaN</td>\n      <td>M13</td>\n      <td>106</td>\n      <td>106</td>\n      <td>NaN</td>\n      <td>NaN</td>\n      <td>NaN</td>\n      <td>NaN</td>\n      <td>NaN</td>\n      <td>NaN</td>\n      <td>NaN</td>\n      <td>NaN</td>\n      <td>NaN</td>\n      <td>NaN</td>\n      <td>NaN</td>\n      <td>NaN</td>\n      <td>NaN</td>\n      <td>1</td>\n      <td>SGEH</td>\n      <td>Section 2</td>\n      <td>103</td>\n      <td>13</td>\n      <td>23</td>\n      <td>NaN</td>\n      <td>NaN</td>\n      <td>NaN</td>\n      <td>NaN</td>\n      <td>NaN</td>\n      <td>NaN</td>\n      <td>NaN</td>\n      <td>NaN</td>\n      <td>NaN</td>\n      <td>NaN</td>\n      <td>NaN</td>\n      <td>NaN</td>\n      <td>NaN</td>\n      <td>0</td>\n      <td>verlosk.-gynaec. korte kaart kosten-out</td>\n      <td>Nursing ward</td>\n      <td>2005-01-05T00:00:00+01:00</td>\n    </tr>\n    <tr>\n      <th>3</th>\n      <td>339486E</td>\n      <td>33</td>\n      <td>NaN</td>\n      <td>NaN</td>\n      <td>NaN</td>\n      <td>NaN</td>\n      <td>NaN</td>\n      <td>M13</td>\n      <td>106</td>\n      <td>106</td>\n      <td>NaN</td>\n      <td>NaN</td>\n      <td>NaN</td>\n      <td>NaN</td>\n      <td>NaN</td>\n      <td>NaN</td>\n      <td>NaN</td>\n      <td>NaN</td>\n      <td>NaN</td>\n      <td>NaN</td>\n      <td>NaN</td>\n      <td>NaN</td>\n      <td>NaN</td>\n      <td>1</td>\n      <td>SGEC</td>\n      <td>Section 2</td>\n      <td>103</td>\n      <td>13</td>\n      <td>23</td>\n      <td>NaN</td>\n      <td>NaN</td>\n      <td>NaN</td>\n      <td>NaN</td>\n      <td>NaN</td>\n      <td>NaN</td>\n      <td>NaN</td>\n      <td>NaN</td>\n      <td>NaN</td>\n      <td>NaN</td>\n      <td>NaN</td>\n      <td>NaN</td>\n      <td>NaN</td>\n      <td>0</td>\n      <td>echografie  - genitalia interna</td>\n      <td>Obstetrics &amp; Gynaecology clinic</td>\n      <td>2005-01-05T00:00:00+01:00</td>\n    </tr>\n    <tr>\n      <th>4</th>\n      <td>410100</td>\n      <td>33</td>\n      <td>NaN</td>\n      <td>NaN</td>\n      <td>NaN</td>\n      <td>NaN</td>\n      <td>NaN</td>\n      <td>M13</td>\n      <td>106</td>\n      <td>106</td>\n      <td>NaN</td>\n      <td>NaN</td>\n      <td>NaN</td>\n      <td>NaN</td>\n      <td>NaN</td>\n      <td>NaN</td>\n      <td>NaN</td>\n      <td>NaN</td>\n      <td>NaN</td>\n      <td>NaN</td>\n      <td>NaN</td>\n      <td>NaN</td>\n      <td>NaN</td>\n      <td>1</td>\n      <td>SGEH</td>\n      <td>Section 2</td>\n      <td>103</td>\n      <td>13</td>\n      <td>23</td>\n      <td>NaN</td>\n      <td>NaN</td>\n      <td>NaN</td>\n      <td>NaN</td>\n      <td>NaN</td>\n      <td>NaN</td>\n      <td>NaN</td>\n      <td>NaN</td>\n      <td>NaN</td>\n      <td>NaN</td>\n      <td>NaN</td>\n      <td>NaN</td>\n      <td>NaN</td>\n      <td>0</td>\n      <td>1e consult poliklinisch</td>\n      <td>Nursing ward</td>\n      <td>2005-01-05T00:00:00+01:00</td>\n    </tr>\n  </tbody>\n</table>\n</div>"
     },
     "metadata": {},
     "execution_count": 8
    }
   ],
   "source": [
    "# Sort all columns in alphabetical order\n",
    "\n",
    "df = df.reindex(natsorted(df.columns), axis=1)\n",
    "df.head()"
   ]
  },
  {
   "source": [
    "From the previous analysis, only three static `Trace` attributes - `Age`, `Diagnosis code` and `Treatment code` - contain repeating columns. Here we use functions for combining the repearting features into lists."
   ],
   "cell_type": "markdown",
   "metadata": {}
  },
  {
   "source": [
    "For three feature lists, we apply different methods to choose a suitable value.\n",
    "\n",
    "- `Age`: Because the diagnosis and treatment for a patient may be over years, the age in one case may increase. Here we choose the latest one."
   ],
   "cell_type": "markdown",
   "metadata": {}
  },
  {
   "cell_type": "code",
   "execution_count": 9,
   "metadata": {},
   "outputs": [],
   "source": [
    "# function for finding last valid value\n",
    "def findLastValid(x):\n",
    "    list_of_last_value = []\n",
    "    for index, row in x.iterrows():\n",
    "        if row.last_valid_index() is None:\n",
    "            list_of_last_value.append(np.nan)\n",
    "        else:\n",
    "            list_of_last_value.append(row[row.last_valid_index()])\n",
    "    \n",
    "    return list_of_last_value\n",
    "\n",
    "Age_List = findLastValid(df.loc[:, df.columns.str.startswith('Age')])\n"
   ]
  },
  {
   "source": [
    "\n",
    "- `Diagnosis code`: This code shows the diagnosis from doctors. In the Appendix of bpic11 winner paper by Bose and Aalst, it provides a table for distribution of cases based on diagnosis code combinations. We choose top 8 combinations ({'M13'},{'M16'},{'M11'},{'M14'},{'106'},{'822', '106'}, {'M13', '106'}, {'M13', '822', '106'}) for our experimentation in order to avoid noise and unbalanced splits. \n",
    "\n",
    "```bib\n",
    "@inproceedings{bpic11_winner,\n",
    "  title={Analysis of patient treatment procedures: The BPI Challenge case study},\n",
    "  author={R. P. J. C. Bose and W. Aalst},\n",
    "  year={2011}\n",
    "}\n",
    "```"
   ],
   "cell_type": "markdown",
   "metadata": {}
  },
  {
   "cell_type": "code",
   "execution_count": 10,
   "metadata": {},
   "outputs": [],
   "source": [
    "# function for finding the valid value list\n",
    "\n",
    "def findValidList(x):\n",
    "    list_of_values = []\n",
    "    for index, row in x.iterrows():\n",
    "        values = []\n",
    "        for i, v in row.items():\n",
    "            if pd.notnull(v):\n",
    "                values.append(v)\n",
    "        # values = frozenset(values)\n",
    "        list_of_values.append(values)\n",
    "    return list_of_values\n",
    "\n",
    "DiagnosisCode_List = findValidList(df.loc[:, df.columns.str.startswith('Diagnosis code')])\n"
   ]
  },
  {
   "cell_type": "code",
   "execution_count": 11,
   "metadata": {},
   "outputs": [],
   "source": [
    "for index, value in enumerate(DiagnosisCode_List):\n",
    "    DiagnosisCode_List[index] = list(set(value))\n",
    "    DiagnosisCode_List[index].sort()"
   ]
  },
  {
   "cell_type": "code",
   "execution_count": 12,
   "metadata": {},
   "outputs": [
    {
     "output_type": "execute_result",
     "data": {
      "text/plain": [
       "[['M12'],\n",
       " ['823'],\n",
       " ['106', '822', 'M14'],\n",
       " ['823', 'M14'],\n",
       " ['822'],\n",
       " ['106', '839', 'M11'],\n",
       " ['106', '839', 'M13'],\n",
       " ['106', '821', 'M13'],\n",
       " ['M15'],\n",
       " ['106', 'M13'],\n",
       " ['106', '821', 'M16'],\n",
       " ['106', 'M16'],\n",
       " ['106', 'M11'],\n",
       " ['M14'],\n",
       " ['106'],\n",
       " ['839'],\n",
       " ['821', '839', 'M16'],\n",
       " ['821'],\n",
       " ['821', '839'],\n",
       " ['106', '822', 'M13'],\n",
       " ['106', '823', 'M15'],\n",
       " ['106', 'M12'],\n",
       " ['106', '823', 'M14'],\n",
       " ['839', 'M16'],\n",
       " ['106', '821', '822'],\n",
       " ['106', '823'],\n",
       " ['106', '822'],\n",
       " ['106', 'M15'],\n",
       " ['M11'],\n",
       " ['M13'],\n",
       " ['M16'],\n",
       " ['106', 'M14'],\n",
       " ['821', 'M16'],\n",
       " ['822', 'M11'],\n",
       " ['822', 'M13'],\n",
       " ['839', 'M12'],\n",
       " ['106', '839'],\n",
       " ['106', '821']]"
      ]
     },
     "metadata": {},
     "execution_count": 12
    }
   ],
   "source": [
    "DiagnosisCode_Unique = [list(y) for y in set([tuple(x) for x in DiagnosisCode_List])]\n",
    "DiagnosisCode_Unique"
   ]
  },
  {
   "cell_type": "code",
   "execution_count": 13,
   "metadata": {},
   "outputs": [],
   "source": [
    "# ['106', '822'] -> ['106']\n",
    "# ['106', 'M13'] -> ['106']\n",
    "# ['106', '822', 'M13'] -> ['106']\n",
    "\n",
    "Changed_Diag_Comb = [['106', '822'], ['106', 'M13'], ['106', '822', 'M13']]\n",
    "\n",
    "for index, value in enumerate(DiagnosisCode_List):\n",
    "    if value in Changed_Diag_Comb:\n",
    "        DiagnosisCode_List[index] = ['106']"
   ]
  },
  {
   "source": [
    "- `Treatment code`: Combine the repeated codes in to one list and find a most frquent one."
   ],
   "cell_type": "markdown",
   "metadata": {}
  },
  {
   "cell_type": "code",
   "execution_count": 14,
   "metadata": {},
   "outputs": [],
   "source": [
    "# function for finding most frequent element\n",
    "def mostFrequent(x):\n",
    "    list_of_values=[]\n",
    "    for case in x:\n",
    "        if len(case) == 0:\n",
    "            list_of_values.append(None)\n",
    "        else:\n",
    "            list_of_values.append(max(case, key = case.count))\n",
    "    return list_of_values\n",
    "\n",
    "TreatmentCode_List = findValidList(df.loc[:, df.columns.str.startswith('Treatment code')])\n",
    "TreatmentCode_List = mostFrequent(TreatmentCode_List)"
   ]
  },
  {
   "source": [
    "### Add Additinal Features\n",
    "\n",
    "Add time features, by calculating the time difference between the first event and the last event."
   ],
   "cell_type": "markdown",
   "metadata": {}
  },
  {
   "cell_type": "code",
   "execution_count": 15,
   "metadata": {},
   "outputs": [],
   "source": [
    "# Calculate week and day\n",
    "\n",
    "# total number of traces: 1143 (Hard coding)\n",
    "\n",
    "Month_list = []\n",
    "Day_list = []\n",
    "\n",
    "for case_id in range(1143):\n",
    "    year_df = df.loc[df['case:concept:name'] == case_id]\n",
    "    dateStart = datetime.strptime(year_df.iloc[0,-1], '%Y-%m-%dT%H:%M:%S%z')\n",
    "    dateEnd = datetime.strptime(year_df.iloc[-1,-1], '%Y-%m-%dT%H:%M:%S%z')\n",
    "    Day_list.append(abs((dateEnd - dateStart).days))\n",
    "    Month_list.append(abs((dateEnd.year - dateStart.year) * 12 + (dateEnd.month - dateStart.month)))\n"
   ]
  },
  {
   "source": [
    "The new dataframe should include these feaures: \n",
    "\n",
    "Activity, Department, Number of executions, Activitycode, Producer code, Section, Age, Diagnosis Code, Treatment code and Year."
   ],
   "cell_type": "markdown",
   "metadata": {}
  },
  {
   "cell_type": "code",
   "execution_count": 16,
   "metadata": {},
   "outputs": [],
   "source": [
    "processed_df = df[['case:concept:name', 'event:concept:name', 'org:group', 'time:timestamp', 'Activity code', 'Number of executions', 'Producer code', 'Section']]\n",
    "\n",
    "processed_df = processed_df.assign(Age = Age_List)\n",
    "processed_df = processed_df.assign(Diagnosis_code = DiagnosisCode_List)\n",
    "processed_df = processed_df.assign(Treatment_code = TreatmentCode_List)\n",
    "\n",
    "def input_day(row):\n",
    "    return Day_list[row['case:concept:name']]\n",
    "\n",
    "def input_month(row):\n",
    "    return Month_list[row['case:concept:name']]\n",
    "\n",
    "# case lenth\n",
    "case_len_list = processed_df.groupby(['case:concept:name']).size().values\n",
    "def input_cl(row):\n",
    "    return case_len_list[row['case:concept:name']]\n",
    "\n",
    "processed_df['Total month'] = processed_df.apply(lambda x: input_month(x), axis=1)\n",
    "processed_df['Total day'] = processed_df.apply(lambda x: input_day(x), axis=1)\n",
    "processed_df['Case Lenth'] = processed_df.apply(lambda x: input_cl(x), axis=1)"
   ]
  },
  {
   "source": [
    "### Clean nosie in Diagnosis_code and event:concept:name"
   ],
   "cell_type": "markdown",
   "metadata": {}
  },
  {
   "cell_type": "code",
   "execution_count": 17,
   "metadata": {},
   "outputs": [],
   "source": [
    "# clean Number of executions less than 1\n",
    "\n",
    "processed_df = processed_df[processed_df['Number of executions'] > 0]\n",
    "\n",
    "activity_list = processed_df['event:concept:name'].value_counts().loc[lambda x : x>19].index.tolist()\n",
    "processed_df = processed_df[processed_df['event:concept:name'].isin(activity_list)]"
   ]
  },
  {
   "cell_type": "code",
   "execution_count": 18,
   "metadata": {},
   "outputs": [
    {
     "output_type": "execute_result",
     "data": {
      "text/plain": [
       "case:concept:name       False\n",
       "event:concept:name      False\n",
       "org:group               False\n",
       "time:timestamp          False\n",
       "Activity code           False\n",
       "Number of executions    False\n",
       "Producer code           False\n",
       "Section                 False\n",
       "Age                     False\n",
       "Diagnosis_code          False\n",
       "Treatment_code          False\n",
       "Total month             False\n",
       "Total day               False\n",
       "Case Lenth              False\n",
       "dtype: bool"
      ]
     },
     "metadata": {},
     "execution_count": 18
    }
   ],
   "source": [
    "# clean Treatment_code is null\n",
    "processed_df = processed_df[~processed_df['Treatment_code'].isnull()]\n",
    "processed_df.isnull().any()"
   ]
  },
  {
   "cell_type": "code",
   "execution_count": 19,
   "metadata": {},
   "outputs": [],
   "source": [
    "processed_df['Diagnosis_code'] = processed_df['Diagnosis_code'].apply(lambda x: ','.join(map(str, x)))\r\n",
    "Selected_Diag_Comb = ['M13', 'M16', 'M11', 'M14', '106']\r\n",
    "processed_df = processed_df[processed_df['Diagnosis_code'].isin(Selected_Diag_Comb)]\r\n",
    "\r\n"
   ]
  },
  {
   "cell_type": "code",
   "execution_count": 20,
   "metadata": {},
   "outputs": [
    {
     "output_type": "execute_result",
     "data": {
      "text/plain": [
       "CaseID                   int64\n",
       "Activity                object\n",
       "Department              object\n",
       "Timestamps              object\n",
       "Activity code           object\n",
       "Number of executions     int64\n",
       "Producer code           object\n",
       "Section                 object\n",
       "Age                      int64\n",
       "Diagnosis code          object\n",
       "Treatment code          object\n",
       "Month                    int64\n",
       "Day                      int64\n",
       "Case Lenth               int64\n",
       "dtype: object"
      ]
     },
     "metadata": {},
     "execution_count": 20
    }
   ],
   "source": [
    "column_names = ['CaseID', 'Activity', 'Department', 'Timestamps', 'Activity code', 'Number of executions', 'Producer code', 'Section', 'Age', 'Diagnosis code', 'Treatment code', 'Month', 'Day', 'Case Lenth']\n",
    "processed_df.columns = column_names\n",
    "\n",
    "processed_df = processed_df.astype({'Age': 'int64'})\n",
    "\n",
    "processed_df = processed_df.reset_index(drop=True)\n",
    "processed_df.dtypes"
   ]
  },
  {
   "source": [
    "### Save processed dataframe to csv for backup"
   ],
   "cell_type": "markdown",
   "metadata": {}
  },
  {
   "cell_type": "code",
   "execution_count": 21,
   "metadata": {},
   "outputs": [],
   "source": [
    "processed_df.to_csv(path_or_buf=args['processed_file_name'],sep=';', index=False)"
   ]
  },
  {
   "source": [
    "## 2. Understanding the dataset"
   ],
   "cell_type": "markdown",
   "metadata": {}
  },
  {
   "source": [
    "### Loading the data and parameter files"
   ],
   "cell_type": "markdown",
   "metadata": {}
  },
  {
   "cell_type": "code",
   "execution_count": 22,
   "metadata": {},
   "outputs": [
    {
     "output_type": "execute_result",
     "data": {
      "text/plain": [
       "   CaseID                                  Activity  \\\n",
       "0       0                   1e consult poliklinisch   \n",
       "1       0  administratief tarief       - eerste pol   \n",
       "2       0   verlosk.-gynaec. korte kaart kosten-out   \n",
       "3       0           echografie  - genitalia interna   \n",
       "4       0                   1e consult poliklinisch   \n",
       "\n",
       "                        Department                 Timestamps Activity code  \\\n",
       "0                     Radiotherapy  2005-01-03T00:00:00+01:00        410100   \n",
       "1                     Radiotherapy  2005-01-03T00:00:00+01:00        419100   \n",
       "2                     Nursing ward  2005-01-05T00:00:00+01:00         10107   \n",
       "3  Obstetrics & Gynaecology clinic  2005-01-05T00:00:00+01:00       339486E   \n",
       "4                     Nursing ward  2005-01-05T00:00:00+01:00        410100   \n",
       "\n",
       "   Number of executions Producer code    Section  Age Diagnosis code  \\\n",
       "0                     1          SRTH  Section 5   33            106   \n",
       "1                     1          SRTH  Section 5   33            106   \n",
       "2                     1          SGEH  Section 2   33            106   \n",
       "3                     1          SGEC  Section 2   33            106   \n",
       "4                     1          SGEH  Section 2   33            106   \n",
       "\n",
       "  Treatment code  Month  Day  Case Lenth  \n",
       "0            103      2   66          75  \n",
       "1            103      2   66          75  \n",
       "2            103      2   66          75  \n",
       "3            103      2   66          75  \n",
       "4            103      2   66          75  "
      ],
      "text/html": "<div>\n<style scoped>\n    .dataframe tbody tr th:only-of-type {\n        vertical-align: middle;\n    }\n\n    .dataframe tbody tr th {\n        vertical-align: top;\n    }\n\n    .dataframe thead th {\n        text-align: right;\n    }\n</style>\n<table border=\"1\" class=\"dataframe\">\n  <thead>\n    <tr style=\"text-align: right;\">\n      <th></th>\n      <th>CaseID</th>\n      <th>Activity</th>\n      <th>Department</th>\n      <th>Timestamps</th>\n      <th>Activity code</th>\n      <th>Number of executions</th>\n      <th>Producer code</th>\n      <th>Section</th>\n      <th>Age</th>\n      <th>Diagnosis code</th>\n      <th>Treatment code</th>\n      <th>Month</th>\n      <th>Day</th>\n      <th>Case Lenth</th>\n    </tr>\n  </thead>\n  <tbody>\n    <tr>\n      <th>0</th>\n      <td>0</td>\n      <td>1e consult poliklinisch</td>\n      <td>Radiotherapy</td>\n      <td>2005-01-03T00:00:00+01:00</td>\n      <td>410100</td>\n      <td>1</td>\n      <td>SRTH</td>\n      <td>Section 5</td>\n      <td>33</td>\n      <td>106</td>\n      <td>103</td>\n      <td>2</td>\n      <td>66</td>\n      <td>75</td>\n    </tr>\n    <tr>\n      <th>1</th>\n      <td>0</td>\n      <td>administratief tarief       - eerste pol</td>\n      <td>Radiotherapy</td>\n      <td>2005-01-03T00:00:00+01:00</td>\n      <td>419100</td>\n      <td>1</td>\n      <td>SRTH</td>\n      <td>Section 5</td>\n      <td>33</td>\n      <td>106</td>\n      <td>103</td>\n      <td>2</td>\n      <td>66</td>\n      <td>75</td>\n    </tr>\n    <tr>\n      <th>2</th>\n      <td>0</td>\n      <td>verlosk.-gynaec. korte kaart kosten-out</td>\n      <td>Nursing ward</td>\n      <td>2005-01-05T00:00:00+01:00</td>\n      <td>10107</td>\n      <td>1</td>\n      <td>SGEH</td>\n      <td>Section 2</td>\n      <td>33</td>\n      <td>106</td>\n      <td>103</td>\n      <td>2</td>\n      <td>66</td>\n      <td>75</td>\n    </tr>\n    <tr>\n      <th>3</th>\n      <td>0</td>\n      <td>echografie  - genitalia interna</td>\n      <td>Obstetrics &amp; Gynaecology clinic</td>\n      <td>2005-01-05T00:00:00+01:00</td>\n      <td>339486E</td>\n      <td>1</td>\n      <td>SGEC</td>\n      <td>Section 2</td>\n      <td>33</td>\n      <td>106</td>\n      <td>103</td>\n      <td>2</td>\n      <td>66</td>\n      <td>75</td>\n    </tr>\n    <tr>\n      <th>4</th>\n      <td>0</td>\n      <td>1e consult poliklinisch</td>\n      <td>Nursing ward</td>\n      <td>2005-01-05T00:00:00+01:00</td>\n      <td>410100</td>\n      <td>1</td>\n      <td>SGEH</td>\n      <td>Section 2</td>\n      <td>33</td>\n      <td>106</td>\n      <td>103</td>\n      <td>2</td>\n      <td>66</td>\n      <td>75</td>\n    </tr>\n  </tbody>\n</table>\n</div>"
     },
     "metadata": {},
     "execution_count": 22
    }
   ],
   "source": [
    "log_df = processed_df\n",
    "log_df.head()"
   ]
  },
  {
   "source": [
    "### Data Analysis - Balance of Data Set"
   ],
   "cell_type": "markdown",
   "metadata": {}
  },
  {
   "cell_type": "code",
   "execution_count": 23,
   "metadata": {},
   "outputs": [
    {
     "output_type": "stream",
     "name": "stdout",
     "text": [
      "Distribution of cases by the target variable - Diagnosis code\n\nDiagnosis code\n106    235\nM11    160\nM13    249\nM14    102\nM16    198\nName: CaseID, dtype: int64\n"
     ]
    }
   ],
   "source": [
    "#Checking the Balance of the Dataset, by the target variable\n",
    "print('Distribution of cases by the target variable - Diagnosis code\\n')\n",
    "print(log_df.groupby(['Diagnosis code'])['CaseID'].nunique())"
   ]
  },
  {
   "source": [
    "### Create indexes\n",
    "Author: Renuka Sindagatta/ Manuel Camargo\n",
    "\n",
    "Function: creates an index (index encoded set) for a given categorical column."
   ],
   "cell_type": "markdown",
   "metadata": {}
  },
  {
   "cell_type": "code",
   "execution_count": 24,
   "metadata": {},
   "outputs": [],
   "source": [
    "def create_index(log_df, column):\n",
    "    \"\"\"Creates an idx for a categorical attribute.\n",
    "    Args:\n",
    "        log_df: dataframe.\n",
    "        column: column name.\n",
    "    Returns:\n",
    "        index of a categorical attribute pairs.\n",
    "    \"\"\"\n",
    "    temp_list = log_df[[column]].values.tolist()\n",
    "    subsec_set = {(x[0]) for x in temp_list}\n",
    "    subsec_set = sorted(list(subsec_set))\n",
    "    alias = dict()\n",
    "    if column !='Diagnosis code':\n",
    "      for i, _ in enumerate(subsec_set):\n",
    "          alias[subsec_set[i]] = i + 1\n",
    "    else:\n",
    "      for i, _ in enumerate(subsec_set):\n",
    "          alias[subsec_set[i]] = i  \n",
    "    return alias"
   ]
  },
  {
   "source": [
    "create the indexes for the processed dataframe"
   ],
   "cell_type": "markdown",
   "metadata": {}
  },
  {
   "cell_type": "code",
   "execution_count": 25,
   "metadata": {},
   "outputs": [
    {
     "output_type": "stream",
     "name": "stdout",
     "text": [
      "{'Anesthesiology': 1, 'Anesthesiology clinic': 2, 'Cardiovascular clinics': 3, 'Day Centre - treatment': 4, 'Day Centre - ward': 5, 'Diet Studies': 6, 'Emergency room': 7, 'Endoscopy': 8, 'Function Centre ENT': 9, 'General Lab Clinical Chemistry': 10, 'Hyper Pressure Tank': 11, 'ICU Adults': 12, 'IVF clinic': 13, 'Internal Specialisms clinic': 14, 'Lab Experimental Immunology': 15, 'Lab Hematology': 16, 'Maternity ward': 17, 'Medical Microbiology': 18, 'Nuclear Medicine': 19, 'Nursing ward': 20, 'Obstetrics & Gynaecology clinic': 21, 'Operating rooms': 22, 'Pain clinic': 23, 'Pathology': 24, 'Pharmacy Laboratory': 25, 'Radiology': 26, 'Radiotherapy': 27, 'Recovery room / high care': 28, 'Special lab Nuro sensory': 29, 'Special lab radiology': 30, 'surgery & urology clinic': 31, 'start': 0, 'end': 32}\n{1: 'Anesthesiology', 2: 'Anesthesiology clinic', 3: 'Cardiovascular clinics', 4: 'Day Centre - treatment', 5: 'Day Centre - ward', 6: 'Diet Studies', 7: 'Emergency room', 8: 'Endoscopy', 9: 'Function Centre ENT', 10: 'General Lab Clinical Chemistry', 11: 'Hyper Pressure Tank', 12: 'ICU Adults', 13: 'IVF clinic', 14: 'Internal Specialisms clinic', 15: 'Lab Experimental Immunology', 16: 'Lab Hematology', 17: 'Maternity ward', 18: 'Medical Microbiology', 19: 'Nuclear Medicine', 20: 'Nursing ward', 21: 'Obstetrics & Gynaecology clinic', 22: 'Operating rooms', 23: 'Pain clinic', 24: 'Pathology', 25: 'Pharmacy Laboratory', 26: 'Radiology', 27: 'Radiotherapy', 28: 'Recovery room / high care', 29: 'Special lab Nuro sensory', 30: 'Special lab radiology', 31: 'surgery & urology clinic', 0: 'start', 32: 'end'}\n"
     ]
    },
    {
     "output_type": "execute_result",
     "data": {
      "text/plain": [
       "   CaseID                                  Activity  \\\n",
       "0       0                   1e consult poliklinisch   \n",
       "1       0  administratief tarief       - eerste pol   \n",
       "2       0   verlosk.-gynaec. korte kaart kosten-out   \n",
       "3       0           echografie  - genitalia interna   \n",
       "4       0                   1e consult poliklinisch   \n",
       "\n",
       "                        Department                 Timestamps Activity code  \\\n",
       "0                     Radiotherapy  2005-01-03T00:00:00+01:00        410100   \n",
       "1                     Radiotherapy  2005-01-03T00:00:00+01:00        419100   \n",
       "2                     Nursing ward  2005-01-05T00:00:00+01:00         10107   \n",
       "3  Obstetrics & Gynaecology clinic  2005-01-05T00:00:00+01:00       339486E   \n",
       "4                     Nursing ward  2005-01-05T00:00:00+01:00        410100   \n",
       "\n",
       "   Number of executions Producer code    Section  Age Diagnosis code  \\\n",
       "0                     1          SRTH  Section 5   33            106   \n",
       "1                     1          SRTH  Section 5   33            106   \n",
       "2                     1          SGEH  Section 2   33            106   \n",
       "3                     1          SGEC  Section 2   33            106   \n",
       "4                     1          SGEH  Section 2   33            106   \n",
       "\n",
       "  Treatment code  Month  Day  Case Lenth  ac_index  rl_index  di_index  \\\n",
       "0            103      2   66          75         7        27         0   \n",
       "1            103      2   66          75        10        27         0   \n",
       "2            103      2   66          75       192        20         0   \n",
       "3            103      2   66          75        83        21         0   \n",
       "4            103      2   66          75         7        20         0   \n",
       "\n",
       "   tr_index  \n",
       "0         3  \n",
       "1         3  \n",
       "2         3  \n",
       "3         3  \n",
       "4         3  "
      ],
      "text/html": "<div>\n<style scoped>\n    .dataframe tbody tr th:only-of-type {\n        vertical-align: middle;\n    }\n\n    .dataframe tbody tr th {\n        vertical-align: top;\n    }\n\n    .dataframe thead th {\n        text-align: right;\n    }\n</style>\n<table border=\"1\" class=\"dataframe\">\n  <thead>\n    <tr style=\"text-align: right;\">\n      <th></th>\n      <th>CaseID</th>\n      <th>Activity</th>\n      <th>Department</th>\n      <th>Timestamps</th>\n      <th>Activity code</th>\n      <th>Number of executions</th>\n      <th>Producer code</th>\n      <th>Section</th>\n      <th>Age</th>\n      <th>Diagnosis code</th>\n      <th>Treatment code</th>\n      <th>Month</th>\n      <th>Day</th>\n      <th>Case Lenth</th>\n      <th>ac_index</th>\n      <th>rl_index</th>\n      <th>di_index</th>\n      <th>tr_index</th>\n    </tr>\n  </thead>\n  <tbody>\n    <tr>\n      <th>0</th>\n      <td>0</td>\n      <td>1e consult poliklinisch</td>\n      <td>Radiotherapy</td>\n      <td>2005-01-03T00:00:00+01:00</td>\n      <td>410100</td>\n      <td>1</td>\n      <td>SRTH</td>\n      <td>Section 5</td>\n      <td>33</td>\n      <td>106</td>\n      <td>103</td>\n      <td>2</td>\n      <td>66</td>\n      <td>75</td>\n      <td>7</td>\n      <td>27</td>\n      <td>0</td>\n      <td>3</td>\n    </tr>\n    <tr>\n      <th>1</th>\n      <td>0</td>\n      <td>administratief tarief       - eerste pol</td>\n      <td>Radiotherapy</td>\n      <td>2005-01-03T00:00:00+01:00</td>\n      <td>419100</td>\n      <td>1</td>\n      <td>SRTH</td>\n      <td>Section 5</td>\n      <td>33</td>\n      <td>106</td>\n      <td>103</td>\n      <td>2</td>\n      <td>66</td>\n      <td>75</td>\n      <td>10</td>\n      <td>27</td>\n      <td>0</td>\n      <td>3</td>\n    </tr>\n    <tr>\n      <th>2</th>\n      <td>0</td>\n      <td>verlosk.-gynaec. korte kaart kosten-out</td>\n      <td>Nursing ward</td>\n      <td>2005-01-05T00:00:00+01:00</td>\n      <td>10107</td>\n      <td>1</td>\n      <td>SGEH</td>\n      <td>Section 2</td>\n      <td>33</td>\n      <td>106</td>\n      <td>103</td>\n      <td>2</td>\n      <td>66</td>\n      <td>75</td>\n      <td>192</td>\n      <td>20</td>\n      <td>0</td>\n      <td>3</td>\n    </tr>\n    <tr>\n      <th>3</th>\n      <td>0</td>\n      <td>echografie  - genitalia interna</td>\n      <td>Obstetrics &amp; Gynaecology clinic</td>\n      <td>2005-01-05T00:00:00+01:00</td>\n      <td>339486E</td>\n      <td>1</td>\n      <td>SGEC</td>\n      <td>Section 2</td>\n      <td>33</td>\n      <td>106</td>\n      <td>103</td>\n      <td>2</td>\n      <td>66</td>\n      <td>75</td>\n      <td>83</td>\n      <td>21</td>\n      <td>0</td>\n      <td>3</td>\n    </tr>\n    <tr>\n      <th>4</th>\n      <td>0</td>\n      <td>1e consult poliklinisch</td>\n      <td>Nursing ward</td>\n      <td>2005-01-05T00:00:00+01:00</td>\n      <td>410100</td>\n      <td>1</td>\n      <td>SGEH</td>\n      <td>Section 2</td>\n      <td>33</td>\n      <td>106</td>\n      <td>103</td>\n      <td>2</td>\n      <td>66</td>\n      <td>75</td>\n      <td>7</td>\n      <td>20</td>\n      <td>0</td>\n      <td>3</td>\n    </tr>\n  </tbody>\n</table>\n</div>"
     },
     "metadata": {},
     "execution_count": 25
    }
   ],
   "source": [
    "# Index creation for activity\n",
    "# column_names = ['CaseID', 'Activity', 'Department', 'Timestamps', 'Activity code', 'Number of executions', 'Producer code', 'Section', 'Age', 'Diagnosis code', 'Treatment code', 'Month', 'Day']\n",
    "\n",
    "ac_index = create_index(log_df, 'Activity')\n",
    "ac_index['start'] = 0\n",
    "ac_index['end'] = len(ac_index)\n",
    "index_ac = {v: k for k, v in ac_index.items()}\n",
    "\n",
    "# Index creation for department/role\n",
    "\n",
    "rl_index = create_index(log_df, 'Department')\n",
    "rl_index['start'] = 0\n",
    "rl_index['end'] = len(rl_index)\n",
    "index_rl = {v: k for k, v in rl_index.items()}\n",
    "\n",
    "# Index creation for Diagnosis\n",
    "\n",
    "di_index = create_index(log_df, 'Diagnosis code')\n",
    "\n",
    "index_di = {v: k for k, v in di_index.items()}\n",
    "\n",
    "# Index creation for Treatment\n",
    "tr_index = create_index(log_df, 'Treatment code')\n",
    "index_tr = {v: k for k, v in tr_index.items()}\n",
    "\n",
    "#mapping the dictionary values as columns in the dataframe\n",
    "log_df['ac_index'] = log_df['Activity'].map(ac_index)\n",
    "log_df['rl_index'] = log_df['Department'].map(rl_index)\n",
    "log_df['di_index'] = log_df['Diagnosis code'].map(di_index)\n",
    "log_df['tr_index'] = log_df['Treatment code'].map(tr_index)\n",
    "\n",
    "print(rl_index)\n",
    "print(index_rl)\n",
    "log_df.head()\n",
    "\n",
    "\n"
   ]
  },
  {
   "source": [
    "### Data Analysis - Correlation between features\n",
    "\n",
    "credits: https://seaborn.pydata.org/examples/many_pairwise_correlations.html"
   ],
   "cell_type": "markdown",
   "metadata": {}
  },
  {
   "source": [
    "cor_columns = ['Age','Month','Case Lenth','ac_index','rl_index','tr_index','di_index']\n",
    "\n",
    "d = log_df[cor_columns]\n",
    "\n",
    "# Compute the correlation matrix\n",
    "corr = d.corr()\n",
    "\n",
    "# Generate a mask for the upper triangle\n",
    "mask = np.triu(np.ones_like(corr, dtype=bool))\n",
    "\n",
    "# Set up the matplotlib figure\n",
    "f, ax = plt.subplots(figsize=(11, 9))\n",
    "\n",
    "# Generate a custom diverging colormap\n",
    "cmap = sns.diverging_palette(230, 20, as_cmap=True)\n",
    "\n",
    "# Draw the heatmap with the mask and correct aspect ratio\n",
    "sns.heatmap(corr, mask=mask, cmap=cmap, vmax=.3, center=0,\n",
    "            square=True, linewidths=.5, cbar_kws={\"shrink\": .5})"
   ],
   "cell_type": "code",
   "metadata": {},
   "execution_count": 26,
   "outputs": [
    {
     "output_type": "execute_result",
     "data": {
      "text/plain": [
       "<AxesSubplot:>"
      ]
     },
     "metadata": {},
     "execution_count": 26
    },
    {
     "output_type": "display_data",
     "data": {
      "text/plain": "<Figure size 792x648 with 2 Axes>",
      "image/svg+xml": "<?xml version=\"1.0\" encoding=\"utf-8\" standalone=\"no\"?>\r\n<!DOCTYPE svg PUBLIC \"-//W3C//DTD SVG 1.1//EN\"\r\n  \"http://www.w3.org/Graphics/SVG/1.1/DTD/svg11.dtd\">\r\n<svg height=\"520.59625pt\" version=\"1.1\" viewBox=\"0 0 594.800063 520.59625\" width=\"594.800063pt\" xmlns=\"http://www.w3.org/2000/svg\" xmlns:xlink=\"http://www.w3.org/1999/xlink\">\r\n <metadata>\r\n  <rdf:RDF xmlns:cc=\"http://creativecommons.org/ns#\" xmlns:dc=\"http://purl.org/dc/elements/1.1/\" xmlns:rdf=\"http://www.w3.org/1999/02/22-rdf-syntax-ns#\">\r\n   <cc:Work>\r\n    <dc:type rdf:resource=\"http://purl.org/dc/dcmitype/StillImage\"/>\r\n    <dc:date>2021-06-28T17:54:04.661435</dc:date>\r\n    <dc:format>image/svg+xml</dc:format>\r\n    <dc:creator>\r\n     <cc:Agent>\r\n      <dc:title>Matplotlib v3.4.2, https://matplotlib.org/</dc:title>\r\n     </cc:Agent>\r\n    </dc:creator>\r\n   </cc:Work>\r\n  </rdf:RDF>\r\n </metadata>\r\n <defs>\r\n  <style type=\"text/css\">*{stroke-linecap:butt;stroke-linejoin:round;}</style>\r\n </defs>\r\n <g id=\"figure_1\">\r\n  <g id=\"patch_1\">\r\n   <path d=\"M 0 520.59625 \r\nL 594.800063 520.59625 \r\nL 594.800063 0 \r\nL 0 0 \r\nz\r\n\" style=\"fill:none;\"/>\r\n  </g>\r\n  <g id=\"axes_1\">\r\n   <g id=\"patch_2\">\r\n    <path d=\"M 24.15625 496.44 \r\nL 513.39625 496.44 \r\nL 513.39625 7.2 \r\nL 24.15625 7.2 \r\nz\r\n\" style=\"fill:#ffffff;\"/>\r\n   </g>\r\n   <g id=\"QuadMesh_1\">\r\n    <path clip-path=\"url(#p80bbc7558b)\" d=\"M 24.15625 7.2 \r\nL 94.047679 7.2 \r\nL 94.047679 77.091429 \r\nL 24.15625 77.091429 \r\nL 24.15625 7.2 \r\n\" style=\"fill:none;stroke:#ffffff;stroke-width:0.5;\"/>\r\n    <path clip-path=\"url(#p80bbc7558b)\" d=\"M 94.047679 7.2 \r\nL 163.939107 7.2 \r\nL 163.939107 77.091429 \r\nL 94.047679 77.091429 \r\nL 94.047679 7.2 \r\n\" style=\"fill:none;stroke:#ffffff;stroke-width:0.5;\"/>\r\n    <path clip-path=\"url(#p80bbc7558b)\" d=\"M 163.939107 7.2 \r\nL 233.830536 7.2 \r\nL 233.830536 77.091429 \r\nL 163.939107 77.091429 \r\nL 163.939107 7.2 \r\n\" style=\"fill:none;stroke:#ffffff;stroke-width:0.5;\"/>\r\n    <path clip-path=\"url(#p80bbc7558b)\" d=\"M 233.830536 7.2 \r\nL 303.721964 7.2 \r\nL 303.721964 77.091429 \r\nL 233.830536 77.091429 \r\nL 233.830536 7.2 \r\n\" style=\"fill:none;stroke:#ffffff;stroke-width:0.5;\"/>\r\n    <path clip-path=\"url(#p80bbc7558b)\" d=\"M 303.721964 7.2 \r\nL 373.613393 7.2 \r\nL 373.613393 77.091429 \r\nL 303.721964 77.091429 \r\nL 303.721964 7.2 \r\n\" style=\"fill:none;stroke:#ffffff;stroke-width:0.5;\"/>\r\n    <path clip-path=\"url(#p80bbc7558b)\" d=\"M 373.613393 7.2 \r\nL 443.504821 7.2 \r\nL 443.504821 77.091429 \r\nL 373.613393 77.091429 \r\nL 373.613393 7.2 \r\n\" style=\"fill:none;stroke:#ffffff;stroke-width:0.5;\"/>\r\n    <path clip-path=\"url(#p80bbc7558b)\" d=\"M 443.504821 7.2 \r\nL 513.39625 7.2 \r\nL 513.39625 77.091429 \r\nL 443.504821 77.091429 \r\nL 443.504821 7.2 \r\n\" style=\"fill:none;stroke:#ffffff;stroke-width:0.5;\"/>\r\n    <path clip-path=\"url(#p80bbc7558b)\" d=\"M 24.15625 77.091429 \r\nL 94.047679 77.091429 \r\nL 94.047679 146.982857 \r\nL 24.15625 146.982857 \r\nL 24.15625 77.091429 \r\n\" style=\"fill:#b7ccd7;stroke:#ffffff;stroke-width:0.5;\"/>\r\n    <path clip-path=\"url(#p80bbc7558b)\" d=\"M 94.047679 77.091429 \r\nL 163.939107 77.091429 \r\nL 163.939107 146.982857 \r\nL 94.047679 146.982857 \r\nL 94.047679 77.091429 \r\n\" style=\"fill:none;stroke:#ffffff;stroke-width:0.5;\"/>\r\n    <path clip-path=\"url(#p80bbc7558b)\" d=\"M 163.939107 77.091429 \r\nL 233.830536 77.091429 \r\nL 233.830536 146.982857 \r\nL 163.939107 146.982857 \r\nL 163.939107 77.091429 \r\n\" style=\"fill:none;stroke:#ffffff;stroke-width:0.5;\"/>\r\n    <path clip-path=\"url(#p80bbc7558b)\" d=\"M 233.830536 77.091429 \r\nL 303.721964 77.091429 \r\nL 303.721964 146.982857 \r\nL 233.830536 146.982857 \r\nL 233.830536 77.091429 \r\n\" style=\"fill:none;stroke:#ffffff;stroke-width:0.5;\"/>\r\n    <path clip-path=\"url(#p80bbc7558b)\" d=\"M 303.721964 77.091429 \r\nL 373.613393 77.091429 \r\nL 373.613393 146.982857 \r\nL 303.721964 146.982857 \r\nL 303.721964 77.091429 \r\n\" style=\"fill:none;stroke:#ffffff;stroke-width:0.5;\"/>\r\n    <path clip-path=\"url(#p80bbc7558b)\" d=\"M 373.613393 77.091429 \r\nL 443.504821 77.091429 \r\nL 443.504821 146.982857 \r\nL 373.613393 146.982857 \r\nL 373.613393 77.091429 \r\n\" style=\"fill:none;stroke:#ffffff;stroke-width:0.5;\"/>\r\n    <path clip-path=\"url(#p80bbc7558b)\" d=\"M 443.504821 77.091429 \r\nL 513.39625 77.091429 \r\nL 513.39625 146.982857 \r\nL 443.504821 146.982857 \r\nL 443.504821 77.091429 \r\n\" style=\"fill:none;stroke:#ffffff;stroke-width:0.5;\"/>\r\n    <path clip-path=\"url(#p80bbc7558b)\" d=\"M 24.15625 146.982857 \r\nL 94.047679 146.982857 \r\nL 94.047679 216.874286 \r\nL 24.15625 216.874286 \r\nL 24.15625 146.982857 \r\n\" style=\"fill:#82a9bc;stroke:#ffffff;stroke-width:0.5;\"/>\r\n    <path clip-path=\"url(#p80bbc7558b)\" d=\"M 94.047679 146.982857 \r\nL 163.939107 146.982857 \r\nL 163.939107 216.874286 \r\nL 94.047679 216.874286 \r\nL 94.047679 146.982857 \r\n\" style=\"fill:#dfb3a7;stroke:#ffffff;stroke-width:0.5;\"/>\r\n    <path clip-path=\"url(#p80bbc7558b)\" d=\"M 163.939107 146.982857 \r\nL 233.830536 146.982857 \r\nL 233.830536 216.874286 \r\nL 163.939107 216.874286 \r\nL 163.939107 146.982857 \r\n\" style=\"fill:none;stroke:#ffffff;stroke-width:0.5;\"/>\r\n    <path clip-path=\"url(#p80bbc7558b)\" d=\"M 233.830536 146.982857 \r\nL 303.721964 146.982857 \r\nL 303.721964 216.874286 \r\nL 233.830536 216.874286 \r\nL 233.830536 146.982857 \r\n\" style=\"fill:none;stroke:#ffffff;stroke-width:0.5;\"/>\r\n    <path clip-path=\"url(#p80bbc7558b)\" d=\"M 303.721964 146.982857 \r\nL 373.613393 146.982857 \r\nL 373.613393 216.874286 \r\nL 303.721964 216.874286 \r\nL 303.721964 146.982857 \r\n\" style=\"fill:none;stroke:#ffffff;stroke-width:0.5;\"/>\r\n    <path clip-path=\"url(#p80bbc7558b)\" d=\"M 373.613393 146.982857 \r\nL 443.504821 146.982857 \r\nL 443.504821 216.874286 \r\nL 373.613393 216.874286 \r\nL 373.613393 146.982857 \r\n\" style=\"fill:none;stroke:#ffffff;stroke-width:0.5;\"/>\r\n    <path clip-path=\"url(#p80bbc7558b)\" d=\"M 443.504821 146.982857 \r\nL 513.39625 146.982857 \r\nL 513.39625 216.874286 \r\nL 443.504821 216.874286 \r\nL 443.504821 146.982857 \r\n\" style=\"fill:none;stroke:#ffffff;stroke-width:0.5;\"/>\r\n    <path clip-path=\"url(#p80bbc7558b)\" d=\"M 24.15625 216.874286 \r\nL 94.047679 216.874286 \r\nL 94.047679 286.765714 \r\nL 24.15625 286.765714 \r\nL 24.15625 216.874286 \r\n\" style=\"fill:#eaeef0;stroke:#ffffff;stroke-width:0.5;\"/>\r\n    <path clip-path=\"url(#p80bbc7558b)\" d=\"M 94.047679 216.874286 \r\nL 163.939107 216.874286 \r\nL 163.939107 286.765714 \r\nL 94.047679 286.765714 \r\nL 94.047679 216.874286 \r\n\" style=\"fill:#eddedb;stroke:#ffffff;stroke-width:0.5;\"/>\r\n    <path clip-path=\"url(#p80bbc7558b)\" d=\"M 163.939107 216.874286 \r\nL 233.830536 216.874286 \r\nL 233.830536 286.765714 \r\nL 163.939107 286.765714 \r\nL 163.939107 216.874286 \r\n\" style=\"fill:#e7ecee;stroke:#ffffff;stroke-width:0.5;\"/>\r\n    <path clip-path=\"url(#p80bbc7558b)\" d=\"M 233.830536 216.874286 \r\nL 303.721964 216.874286 \r\nL 303.721964 286.765714 \r\nL 233.830536 286.765714 \r\nL 233.830536 216.874286 \r\n\" style=\"fill:none;stroke:#ffffff;stroke-width:0.5;\"/>\r\n    <path clip-path=\"url(#p80bbc7558b)\" d=\"M 303.721964 216.874286 \r\nL 373.613393 216.874286 \r\nL 373.613393 286.765714 \r\nL 303.721964 286.765714 \r\nL 303.721964 216.874286 \r\n\" style=\"fill:none;stroke:#ffffff;stroke-width:0.5;\"/>\r\n    <path clip-path=\"url(#p80bbc7558b)\" d=\"M 373.613393 216.874286 \r\nL 443.504821 216.874286 \r\nL 443.504821 286.765714 \r\nL 373.613393 286.765714 \r\nL 373.613393 216.874286 \r\n\" style=\"fill:none;stroke:#ffffff;stroke-width:0.5;\"/>\r\n    <path clip-path=\"url(#p80bbc7558b)\" d=\"M 443.504821 216.874286 \r\nL 513.39625 216.874286 \r\nL 513.39625 286.765714 \r\nL 443.504821 286.765714 \r\nL 443.504821 216.874286 \r\n\" style=\"fill:none;stroke:#ffffff;stroke-width:0.5;\"/>\r\n    <path clip-path=\"url(#p80bbc7558b)\" d=\"M 24.15625 286.765714 \r\nL 94.047679 286.765714 \r\nL 94.047679 356.657143 \r\nL 24.15625 356.657143 \r\nL 24.15625 286.765714 \r\n\" style=\"fill:#f0e8e7;stroke:#ffffff;stroke-width:0.5;\"/>\r\n    <path clip-path=\"url(#p80bbc7558b)\" d=\"M 94.047679 286.765714 \r\nL 163.939107 286.765714 \r\nL 163.939107 356.657143 \r\nL 94.047679 356.657143 \r\nL 94.047679 286.765714 \r\n\" style=\"fill:#ead6d1;stroke:#ffffff;stroke-width:0.5;\"/>\r\n    <path clip-path=\"url(#p80bbc7558b)\" d=\"M 163.939107 286.765714 \r\nL 233.830536 286.765714 \r\nL 233.830536 356.657143 \r\nL 163.939107 356.657143 \r\nL 163.939107 286.765714 \r\n\" style=\"fill:#b6cbd6;stroke:#ffffff;stroke-width:0.5;\"/>\r\n    <path clip-path=\"url(#p80bbc7558b)\" d=\"M 233.830536 286.765714 \r\nL 303.721964 286.765714 \r\nL 303.721964 356.657143 \r\nL 233.830536 356.657143 \r\nL 233.830536 286.765714 \r\n\" style=\"fill:#c6d6de;stroke:#ffffff;stroke-width:0.5;\"/>\r\n    <path clip-path=\"url(#p80bbc7558b)\" d=\"M 303.721964 286.765714 \r\nL 373.613393 286.765714 \r\nL 373.613393 356.657143 \r\nL 303.721964 356.657143 \r\nL 303.721964 286.765714 \r\n\" style=\"fill:none;stroke:#ffffff;stroke-width:0.5;\"/>\r\n    <path clip-path=\"url(#p80bbc7558b)\" d=\"M 373.613393 286.765714 \r\nL 443.504821 286.765714 \r\nL 443.504821 356.657143 \r\nL 373.613393 356.657143 \r\nL 373.613393 286.765714 \r\n\" style=\"fill:none;stroke:#ffffff;stroke-width:0.5;\"/>\r\n    <path clip-path=\"url(#p80bbc7558b)\" d=\"M 443.504821 286.765714 \r\nL 513.39625 286.765714 \r\nL 513.39625 356.657143 \r\nL 443.504821 356.657143 \r\nL 443.504821 286.765714 \r\n\" style=\"fill:none;stroke:#ffffff;stroke-width:0.5;\"/>\r\n    <path clip-path=\"url(#p80bbc7558b)\" d=\"M 24.15625 356.657143 \r\nL 94.047679 356.657143 \r\nL 94.047679 426.548571 \r\nL 24.15625 426.548571 \r\nL 24.15625 356.657143 \r\n\" style=\"fill:#f1f2f2;stroke:#ffffff;stroke-width:0.5;\"/>\r\n    <path clip-path=\"url(#p80bbc7558b)\" d=\"M 94.047679 356.657143 \r\nL 163.939107 356.657143 \r\nL 163.939107 426.548571 \r\nL 94.047679 426.548571 \r\nL 94.047679 356.657143 \r\n\" style=\"fill:#407e9c;stroke:#ffffff;stroke-width:0.5;\"/>\r\n    <path clip-path=\"url(#p80bbc7558b)\" d=\"M 163.939107 356.657143 \r\nL 233.830536 356.657143 \r\nL 233.830536 426.548571 \r\nL 163.939107 426.548571 \r\nL 163.939107 356.657143 \r\n\" style=\"fill:#e8cfc8;stroke:#ffffff;stroke-width:0.5;\"/>\r\n    <path clip-path=\"url(#p80bbc7558b)\" d=\"M 233.830536 356.657143 \r\nL 303.721964 356.657143 \r\nL 303.721964 426.548571 \r\nL 233.830536 426.548571 \r\nL 233.830536 356.657143 \r\n\" style=\"fill:#dee6ea;stroke:#ffffff;stroke-width:0.5;\"/>\r\n    <path clip-path=\"url(#p80bbc7558b)\" d=\"M 303.721964 356.657143 \r\nL 373.613393 356.657143 \r\nL 373.613393 426.548571 \r\nL 303.721964 426.548571 \r\nL 303.721964 356.657143 \r\n\" style=\"fill:#d7e1e6;stroke:#ffffff;stroke-width:0.5;\"/>\r\n    <path clip-path=\"url(#p80bbc7558b)\" d=\"M 373.613393 356.657143 \r\nL 443.504821 356.657143 \r\nL 443.504821 426.548571 \r\nL 373.613393 426.548571 \r\nL 373.613393 356.657143 \r\n\" style=\"fill:none;stroke:#ffffff;stroke-width:0.5;\"/>\r\n    <path clip-path=\"url(#p80bbc7558b)\" d=\"M 443.504821 356.657143 \r\nL 513.39625 356.657143 \r\nL 513.39625 426.548571 \r\nL 443.504821 426.548571 \r\nL 443.504821 356.657143 \r\n\" style=\"fill:none;stroke:#ffffff;stroke-width:0.5;\"/>\r\n    <path clip-path=\"url(#p80bbc7558b)\" d=\"M 24.15625 426.548571 \r\nL 94.047679 426.548571 \r\nL 94.047679 496.44 \r\nL 24.15625 496.44 \r\nL 24.15625 426.548571 \r\n\" style=\"fill:#dca99c;stroke:#ffffff;stroke-width:0.5;\"/>\r\n    <path clip-path=\"url(#p80bbc7558b)\" d=\"M 94.047679 426.548571 \r\nL 163.939107 426.548571 \r\nL 163.939107 496.44 \r\nL 94.047679 496.44 \r\nL 94.047679 426.548571 \r\n\" style=\"fill:#5e92ab;stroke:#ffffff;stroke-width:0.5;\"/>\r\n    <path clip-path=\"url(#p80bbc7558b)\" d=\"M 163.939107 426.548571 \r\nL 233.830536 426.548571 \r\nL 233.830536 496.44 \r\nL 163.939107 496.44 \r\nL 163.939107 426.548571 \r\n\" style=\"fill:#8fb2c3;stroke:#ffffff;stroke-width:0.5;\"/>\r\n    <path clip-path=\"url(#p80bbc7558b)\" d=\"M 233.830536 426.548571 \r\nL 303.721964 426.548571 \r\nL 303.721964 496.44 \r\nL 233.830536 496.44 \r\nL 233.830536 426.548571 \r\n\" style=\"fill:#e7ecee;stroke:#ffffff;stroke-width:0.5;\"/>\r\n    <path clip-path=\"url(#p80bbc7558b)\" d=\"M 303.721964 426.548571 \r\nL 373.613393 426.548571 \r\nL 373.613393 496.44 \r\nL 303.721964 496.44 \r\nL 303.721964 426.548571 \r\n\" style=\"fill:#dce5e9;stroke:#ffffff;stroke-width:0.5;\"/>\r\n    <path clip-path=\"url(#p80bbc7558b)\" d=\"M 373.613393 426.548571 \r\nL 443.504821 426.548571 \r\nL 443.504821 496.44 \r\nL 373.613393 496.44 \r\nL 373.613393 426.548571 \r\n\" style=\"fill:#cd7862;stroke:#ffffff;stroke-width:0.5;\"/>\r\n    <path clip-path=\"url(#p80bbc7558b)\" d=\"M 443.504821 426.548571 \r\nL 513.39625 426.548571 \r\nL 513.39625 496.44 \r\nL 443.504821 496.44 \r\nL 443.504821 426.548571 \r\n\" style=\"fill:none;stroke:#ffffff;stroke-width:0.5;\"/>\r\n   </g>\r\n   <g id=\"matplotlib.axis_1\">\r\n    <g id=\"xtick_1\">\r\n     <g id=\"line2d_1\">\r\n      <defs>\r\n       <path d=\"M 0 0 \r\nL 0 3.5 \r\n\" id=\"m597fdaa625\" style=\"stroke:#000000;stroke-width:0.8;\"/>\r\n      </defs>\r\n      <g>\r\n       <use style=\"stroke:#000000;stroke-width:0.8;\" x=\"59.101964\" xlink:href=\"#m597fdaa625\" y=\"496.44\"/>\r\n      </g>\r\n     </g>\r\n     <g id=\"text_1\">\r\n      <!-- Age -->\r\n      <g transform=\"translate(49.430871 511.038437)scale(0.1 -0.1)\">\r\n       <defs>\r\n        <path d=\"M 2188 4044 \r\nL 1331 1722 \r\nL 3047 1722 \r\nL 2188 4044 \r\nz\r\nM 1831 4666 \r\nL 2547 4666 \r\nL 4325 0 \r\nL 3669 0 \r\nL 3244 1197 \r\nL 1141 1197 \r\nL 716 0 \r\nL 50 0 \r\nL 1831 4666 \r\nz\r\n\" id=\"DejaVuSans-41\" transform=\"scale(0.015625)\"/>\r\n        <path d=\"M 2906 1791 \r\nQ 2906 2416 2648 2759 \r\nQ 2391 3103 1925 3103 \r\nQ 1463 3103 1205 2759 \r\nQ 947 2416 947 1791 \r\nQ 947 1169 1205 825 \r\nQ 1463 481 1925 481 \r\nQ 2391 481 2648 825 \r\nQ 2906 1169 2906 1791 \r\nz\r\nM 3481 434 \r\nQ 3481 -459 3084 -895 \r\nQ 2688 -1331 1869 -1331 \r\nQ 1566 -1331 1297 -1286 \r\nQ 1028 -1241 775 -1147 \r\nL 775 -588 \r\nQ 1028 -725 1275 -790 \r\nQ 1522 -856 1778 -856 \r\nQ 2344 -856 2625 -561 \r\nQ 2906 -266 2906 331 \r\nL 2906 616 \r\nQ 2728 306 2450 153 \r\nQ 2172 0 1784 0 \r\nQ 1141 0 747 490 \r\nQ 353 981 353 1791 \r\nQ 353 2603 747 3093 \r\nQ 1141 3584 1784 3584 \r\nQ 2172 3584 2450 3431 \r\nQ 2728 3278 2906 2969 \r\nL 2906 3500 \r\nL 3481 3500 \r\nL 3481 434 \r\nz\r\n\" id=\"DejaVuSans-67\" transform=\"scale(0.015625)\"/>\r\n        <path d=\"M 3597 1894 \r\nL 3597 1613 \r\nL 953 1613 \r\nQ 991 1019 1311 708 \r\nQ 1631 397 2203 397 \r\nQ 2534 397 2845 478 \r\nQ 3156 559 3463 722 \r\nL 3463 178 \r\nQ 3153 47 2828 -22 \r\nQ 2503 -91 2169 -91 \r\nQ 1331 -91 842 396 \r\nQ 353 884 353 1716 \r\nQ 353 2575 817 3079 \r\nQ 1281 3584 2069 3584 \r\nQ 2775 3584 3186 3129 \r\nQ 3597 2675 3597 1894 \r\nz\r\nM 3022 2063 \r\nQ 3016 2534 2758 2815 \r\nQ 2500 3097 2075 3097 \r\nQ 1594 3097 1305 2825 \r\nQ 1016 2553 972 2059 \r\nL 3022 2063 \r\nz\r\n\" id=\"DejaVuSans-65\" transform=\"scale(0.015625)\"/>\r\n       </defs>\r\n       <use xlink:href=\"#DejaVuSans-41\"/>\r\n       <use x=\"68.408203\" xlink:href=\"#DejaVuSans-67\"/>\r\n       <use x=\"131.884766\" xlink:href=\"#DejaVuSans-65\"/>\r\n      </g>\r\n     </g>\r\n    </g>\r\n    <g id=\"xtick_2\">\r\n     <g id=\"line2d_2\">\r\n      <g>\r\n       <use style=\"stroke:#000000;stroke-width:0.8;\" x=\"128.993393\" xlink:href=\"#m597fdaa625\" y=\"496.44\"/>\r\n      </g>\r\n     </g>\r\n     <g id=\"text_2\">\r\n      <!-- Month -->\r\n      <g transform=\"translate(113.322299 511.038437)scale(0.1 -0.1)\">\r\n       <defs>\r\n        <path d=\"M 628 4666 \r\nL 1569 4666 \r\nL 2759 1491 \r\nL 3956 4666 \r\nL 4897 4666 \r\nL 4897 0 \r\nL 4281 0 \r\nL 4281 4097 \r\nL 3078 897 \r\nL 2444 897 \r\nL 1241 4097 \r\nL 1241 0 \r\nL 628 0 \r\nL 628 4666 \r\nz\r\n\" id=\"DejaVuSans-4d\" transform=\"scale(0.015625)\"/>\r\n        <path d=\"M 1959 3097 \r\nQ 1497 3097 1228 2736 \r\nQ 959 2375 959 1747 \r\nQ 959 1119 1226 758 \r\nQ 1494 397 1959 397 \r\nQ 2419 397 2687 759 \r\nQ 2956 1122 2956 1747 \r\nQ 2956 2369 2687 2733 \r\nQ 2419 3097 1959 3097 \r\nz\r\nM 1959 3584 \r\nQ 2709 3584 3137 3096 \r\nQ 3566 2609 3566 1747 \r\nQ 3566 888 3137 398 \r\nQ 2709 -91 1959 -91 \r\nQ 1206 -91 779 398 \r\nQ 353 888 353 1747 \r\nQ 353 2609 779 3096 \r\nQ 1206 3584 1959 3584 \r\nz\r\n\" id=\"DejaVuSans-6f\" transform=\"scale(0.015625)\"/>\r\n        <path d=\"M 3513 2113 \r\nL 3513 0 \r\nL 2938 0 \r\nL 2938 2094 \r\nQ 2938 2591 2744 2837 \r\nQ 2550 3084 2163 3084 \r\nQ 1697 3084 1428 2787 \r\nQ 1159 2491 1159 1978 \r\nL 1159 0 \r\nL 581 0 \r\nL 581 3500 \r\nL 1159 3500 \r\nL 1159 2956 \r\nQ 1366 3272 1645 3428 \r\nQ 1925 3584 2291 3584 \r\nQ 2894 3584 3203 3211 \r\nQ 3513 2838 3513 2113 \r\nz\r\n\" id=\"DejaVuSans-6e\" transform=\"scale(0.015625)\"/>\r\n        <path d=\"M 1172 4494 \r\nL 1172 3500 \r\nL 2356 3500 \r\nL 2356 3053 \r\nL 1172 3053 \r\nL 1172 1153 \r\nQ 1172 725 1289 603 \r\nQ 1406 481 1766 481 \r\nL 2356 481 \r\nL 2356 0 \r\nL 1766 0 \r\nQ 1100 0 847 248 \r\nQ 594 497 594 1153 \r\nL 594 3053 \r\nL 172 3053 \r\nL 172 3500 \r\nL 594 3500 \r\nL 594 4494 \r\nL 1172 4494 \r\nz\r\n\" id=\"DejaVuSans-74\" transform=\"scale(0.015625)\"/>\r\n        <path d=\"M 3513 2113 \r\nL 3513 0 \r\nL 2938 0 \r\nL 2938 2094 \r\nQ 2938 2591 2744 2837 \r\nQ 2550 3084 2163 3084 \r\nQ 1697 3084 1428 2787 \r\nQ 1159 2491 1159 1978 \r\nL 1159 0 \r\nL 581 0 \r\nL 581 4863 \r\nL 1159 4863 \r\nL 1159 2956 \r\nQ 1366 3272 1645 3428 \r\nQ 1925 3584 2291 3584 \r\nQ 2894 3584 3203 3211 \r\nQ 3513 2838 3513 2113 \r\nz\r\n\" id=\"DejaVuSans-68\" transform=\"scale(0.015625)\"/>\r\n       </defs>\r\n       <use xlink:href=\"#DejaVuSans-4d\"/>\r\n       <use x=\"86.279297\" xlink:href=\"#DejaVuSans-6f\"/>\r\n       <use x=\"147.460938\" xlink:href=\"#DejaVuSans-6e\"/>\r\n       <use x=\"210.839844\" xlink:href=\"#DejaVuSans-74\"/>\r\n       <use x=\"250.048828\" xlink:href=\"#DejaVuSans-68\"/>\r\n      </g>\r\n     </g>\r\n    </g>\r\n    <g id=\"xtick_3\">\r\n     <g id=\"line2d_3\">\r\n      <g>\r\n       <use style=\"stroke:#000000;stroke-width:0.8;\" x=\"198.884821\" xlink:href=\"#m597fdaa625\" y=\"496.44\"/>\r\n      </g>\r\n     </g>\r\n     <g id=\"text_3\">\r\n      <!-- Case Lenth -->\r\n      <g transform=\"translate(170.986384 511.038437)scale(0.1 -0.1)\">\r\n       <defs>\r\n        <path d=\"M 4122 4306 \r\nL 4122 3641 \r\nQ 3803 3938 3442 4084 \r\nQ 3081 4231 2675 4231 \r\nQ 1875 4231 1450 3742 \r\nQ 1025 3253 1025 2328 \r\nQ 1025 1406 1450 917 \r\nQ 1875 428 2675 428 \r\nQ 3081 428 3442 575 \r\nQ 3803 722 4122 1019 \r\nL 4122 359 \r\nQ 3791 134 3420 21 \r\nQ 3050 -91 2638 -91 \r\nQ 1578 -91 968 557 \r\nQ 359 1206 359 2328 \r\nQ 359 3453 968 4101 \r\nQ 1578 4750 2638 4750 \r\nQ 3056 4750 3426 4639 \r\nQ 3797 4528 4122 4306 \r\nz\r\n\" id=\"DejaVuSans-43\" transform=\"scale(0.015625)\"/>\r\n        <path d=\"M 2194 1759 \r\nQ 1497 1759 1228 1600 \r\nQ 959 1441 959 1056 \r\nQ 959 750 1161 570 \r\nQ 1363 391 1709 391 \r\nQ 2188 391 2477 730 \r\nQ 2766 1069 2766 1631 \r\nL 2766 1759 \r\nL 2194 1759 \r\nz\r\nM 3341 1997 \r\nL 3341 0 \r\nL 2766 0 \r\nL 2766 531 \r\nQ 2569 213 2275 61 \r\nQ 1981 -91 1556 -91 \r\nQ 1019 -91 701 211 \r\nQ 384 513 384 1019 \r\nQ 384 1609 779 1909 \r\nQ 1175 2209 1959 2209 \r\nL 2766 2209 \r\nL 2766 2266 \r\nQ 2766 2663 2505 2880 \r\nQ 2244 3097 1772 3097 \r\nQ 1472 3097 1187 3025 \r\nQ 903 2953 641 2809 \r\nL 641 3341 \r\nQ 956 3463 1253 3523 \r\nQ 1550 3584 1831 3584 \r\nQ 2591 3584 2966 3190 \r\nQ 3341 2797 3341 1997 \r\nz\r\n\" id=\"DejaVuSans-61\" transform=\"scale(0.015625)\"/>\r\n        <path d=\"M 2834 3397 \r\nL 2834 2853 \r\nQ 2591 2978 2328 3040 \r\nQ 2066 3103 1784 3103 \r\nQ 1356 3103 1142 2972 \r\nQ 928 2841 928 2578 \r\nQ 928 2378 1081 2264 \r\nQ 1234 2150 1697 2047 \r\nL 1894 2003 \r\nQ 2506 1872 2764 1633 \r\nQ 3022 1394 3022 966 \r\nQ 3022 478 2636 193 \r\nQ 2250 -91 1575 -91 \r\nQ 1294 -91 989 -36 \r\nQ 684 19 347 128 \r\nL 347 722 \r\nQ 666 556 975 473 \r\nQ 1284 391 1588 391 \r\nQ 1994 391 2212 530 \r\nQ 2431 669 2431 922 \r\nQ 2431 1156 2273 1281 \r\nQ 2116 1406 1581 1522 \r\nL 1381 1569 \r\nQ 847 1681 609 1914 \r\nQ 372 2147 372 2553 \r\nQ 372 3047 722 3315 \r\nQ 1072 3584 1716 3584 \r\nQ 2034 3584 2315 3537 \r\nQ 2597 3491 2834 3397 \r\nz\r\n\" id=\"DejaVuSans-73\" transform=\"scale(0.015625)\"/>\r\n        <path id=\"DejaVuSans-20\" transform=\"scale(0.015625)\"/>\r\n        <path d=\"M 628 4666 \r\nL 1259 4666 \r\nL 1259 531 \r\nL 3531 531 \r\nL 3531 0 \r\nL 628 0 \r\nL 628 4666 \r\nz\r\n\" id=\"DejaVuSans-4c\" transform=\"scale(0.015625)\"/>\r\n       </defs>\r\n       <use xlink:href=\"#DejaVuSans-43\"/>\r\n       <use x=\"69.824219\" xlink:href=\"#DejaVuSans-61\"/>\r\n       <use x=\"131.103516\" xlink:href=\"#DejaVuSans-73\"/>\r\n       <use x=\"183.203125\" xlink:href=\"#DejaVuSans-65\"/>\r\n       <use x=\"244.726562\" xlink:href=\"#DejaVuSans-20\"/>\r\n       <use x=\"276.513672\" xlink:href=\"#DejaVuSans-4c\"/>\r\n       <use x=\"330.476562\" xlink:href=\"#DejaVuSans-65\"/>\r\n       <use x=\"392\" xlink:href=\"#DejaVuSans-6e\"/>\r\n       <use x=\"455.378906\" xlink:href=\"#DejaVuSans-74\"/>\r\n       <use x=\"494.587891\" xlink:href=\"#DejaVuSans-68\"/>\r\n      </g>\r\n     </g>\r\n    </g>\r\n    <g id=\"xtick_4\">\r\n     <g id=\"line2d_4\">\r\n      <g>\r\n       <use style=\"stroke:#000000;stroke-width:0.8;\" x=\"268.77625\" xlink:href=\"#m597fdaa625\" y=\"496.44\"/>\r\n      </g>\r\n     </g>\r\n     <g id=\"text_4\">\r\n      <!-- ac_index -->\r\n      <g transform=\"translate(246.7825 511.038437)scale(0.1 -0.1)\">\r\n       <defs>\r\n        <path d=\"M 3122 3366 \r\nL 3122 2828 \r\nQ 2878 2963 2633 3030 \r\nQ 2388 3097 2138 3097 \r\nQ 1578 3097 1268 2742 \r\nQ 959 2388 959 1747 \r\nQ 959 1106 1268 751 \r\nQ 1578 397 2138 397 \r\nQ 2388 397 2633 464 \r\nQ 2878 531 3122 666 \r\nL 3122 134 \r\nQ 2881 22 2623 -34 \r\nQ 2366 -91 2075 -91 \r\nQ 1284 -91 818 406 \r\nQ 353 903 353 1747 \r\nQ 353 2603 823 3093 \r\nQ 1294 3584 2113 3584 \r\nQ 2378 3584 2631 3529 \r\nQ 2884 3475 3122 3366 \r\nz\r\n\" id=\"DejaVuSans-63\" transform=\"scale(0.015625)\"/>\r\n        <path d=\"M 3263 -1063 \r\nL 3263 -1509 \r\nL -63 -1509 \r\nL -63 -1063 \r\nL 3263 -1063 \r\nz\r\n\" id=\"DejaVuSans-5f\" transform=\"scale(0.015625)\"/>\r\n        <path d=\"M 603 3500 \r\nL 1178 3500 \r\nL 1178 0 \r\nL 603 0 \r\nL 603 3500 \r\nz\r\nM 603 4863 \r\nL 1178 4863 \r\nL 1178 4134 \r\nL 603 4134 \r\nL 603 4863 \r\nz\r\n\" id=\"DejaVuSans-69\" transform=\"scale(0.015625)\"/>\r\n        <path d=\"M 2906 2969 \r\nL 2906 4863 \r\nL 3481 4863 \r\nL 3481 0 \r\nL 2906 0 \r\nL 2906 525 \r\nQ 2725 213 2448 61 \r\nQ 2172 -91 1784 -91 \r\nQ 1150 -91 751 415 \r\nQ 353 922 353 1747 \r\nQ 353 2572 751 3078 \r\nQ 1150 3584 1784 3584 \r\nQ 2172 3584 2448 3432 \r\nQ 2725 3281 2906 2969 \r\nz\r\nM 947 1747 \r\nQ 947 1113 1208 752 \r\nQ 1469 391 1925 391 \r\nQ 2381 391 2643 752 \r\nQ 2906 1113 2906 1747 \r\nQ 2906 2381 2643 2742 \r\nQ 2381 3103 1925 3103 \r\nQ 1469 3103 1208 2742 \r\nQ 947 2381 947 1747 \r\nz\r\n\" id=\"DejaVuSans-64\" transform=\"scale(0.015625)\"/>\r\n        <path d=\"M 3513 3500 \r\nL 2247 1797 \r\nL 3578 0 \r\nL 2900 0 \r\nL 1881 1375 \r\nL 863 0 \r\nL 184 0 \r\nL 1544 1831 \r\nL 300 3500 \r\nL 978 3500 \r\nL 1906 2253 \r\nL 2834 3500 \r\nL 3513 3500 \r\nz\r\n\" id=\"DejaVuSans-78\" transform=\"scale(0.015625)\"/>\r\n       </defs>\r\n       <use xlink:href=\"#DejaVuSans-61\"/>\r\n       <use x=\"61.279297\" xlink:href=\"#DejaVuSans-63\"/>\r\n       <use x=\"116.259766\" xlink:href=\"#DejaVuSans-5f\"/>\r\n       <use x=\"166.259766\" xlink:href=\"#DejaVuSans-69\"/>\r\n       <use x=\"194.042969\" xlink:href=\"#DejaVuSans-6e\"/>\r\n       <use x=\"257.421875\" xlink:href=\"#DejaVuSans-64\"/>\r\n       <use x=\"320.898438\" xlink:href=\"#DejaVuSans-65\"/>\r\n       <use x=\"380.671875\" xlink:href=\"#DejaVuSans-78\"/>\r\n      </g>\r\n     </g>\r\n    </g>\r\n    <g id=\"xtick_5\">\r\n     <g id=\"line2d_5\">\r\n      <g>\r\n       <use style=\"stroke:#000000;stroke-width:0.8;\" x=\"338.667679\" xlink:href=\"#m597fdaa625\" y=\"496.44\"/>\r\n      </g>\r\n     </g>\r\n     <g id=\"text_5\">\r\n      <!-- rl_index -->\r\n      <g transform=\"translate(319.042679 511.038437)scale(0.1 -0.1)\">\r\n       <defs>\r\n        <path d=\"M 2631 2963 \r\nQ 2534 3019 2420 3045 \r\nQ 2306 3072 2169 3072 \r\nQ 1681 3072 1420 2755 \r\nQ 1159 2438 1159 1844 \r\nL 1159 0 \r\nL 581 0 \r\nL 581 3500 \r\nL 1159 3500 \r\nL 1159 2956 \r\nQ 1341 3275 1631 3429 \r\nQ 1922 3584 2338 3584 \r\nQ 2397 3584 2469 3576 \r\nQ 2541 3569 2628 3553 \r\nL 2631 2963 \r\nz\r\n\" id=\"DejaVuSans-72\" transform=\"scale(0.015625)\"/>\r\n        <path d=\"M 603 4863 \r\nL 1178 4863 \r\nL 1178 0 \r\nL 603 0 \r\nL 603 4863 \r\nz\r\n\" id=\"DejaVuSans-6c\" transform=\"scale(0.015625)\"/>\r\n       </defs>\r\n       <use xlink:href=\"#DejaVuSans-72\"/>\r\n       <use x=\"41.113281\" xlink:href=\"#DejaVuSans-6c\"/>\r\n       <use x=\"68.896484\" xlink:href=\"#DejaVuSans-5f\"/>\r\n       <use x=\"118.896484\" xlink:href=\"#DejaVuSans-69\"/>\r\n       <use x=\"146.679688\" xlink:href=\"#DejaVuSans-6e\"/>\r\n       <use x=\"210.058594\" xlink:href=\"#DejaVuSans-64\"/>\r\n       <use x=\"273.535156\" xlink:href=\"#DejaVuSans-65\"/>\r\n       <use x=\"333.308594\" xlink:href=\"#DejaVuSans-78\"/>\r\n      </g>\r\n     </g>\r\n    </g>\r\n    <g id=\"xtick_6\">\r\n     <g id=\"line2d_6\">\r\n      <g>\r\n       <use style=\"stroke:#000000;stroke-width:0.8;\" x=\"408.559107\" xlink:href=\"#m597fdaa625\" y=\"496.44\"/>\r\n      </g>\r\n     </g>\r\n     <g id=\"text_6\">\r\n      <!-- tr_index -->\r\n      <g transform=\"translate(388.363013 511.038437)scale(0.1 -0.1)\">\r\n       <use xlink:href=\"#DejaVuSans-74\"/>\r\n       <use x=\"39.208984\" xlink:href=\"#DejaVuSans-72\"/>\r\n       <use x=\"80.322266\" xlink:href=\"#DejaVuSans-5f\"/>\r\n       <use x=\"130.322266\" xlink:href=\"#DejaVuSans-69\"/>\r\n       <use x=\"158.105469\" xlink:href=\"#DejaVuSans-6e\"/>\r\n       <use x=\"221.484375\" xlink:href=\"#DejaVuSans-64\"/>\r\n       <use x=\"284.960938\" xlink:href=\"#DejaVuSans-65\"/>\r\n       <use x=\"344.734375\" xlink:href=\"#DejaVuSans-78\"/>\r\n      </g>\r\n     </g>\r\n    </g>\r\n    <g id=\"xtick_7\">\r\n     <g id=\"line2d_7\">\r\n      <g>\r\n       <use style=\"stroke:#000000;stroke-width:0.8;\" x=\"478.450536\" xlink:href=\"#m597fdaa625\" y=\"496.44\"/>\r\n      </g>\r\n     </g>\r\n     <g id=\"text_7\">\r\n      <!-- di_index -->\r\n      <g transform=\"translate(457.706786 511.038437)scale(0.1 -0.1)\">\r\n       <use xlink:href=\"#DejaVuSans-64\"/>\r\n       <use x=\"63.476562\" xlink:href=\"#DejaVuSans-69\"/>\r\n       <use x=\"91.259766\" xlink:href=\"#DejaVuSans-5f\"/>\r\n       <use x=\"141.259766\" xlink:href=\"#DejaVuSans-69\"/>\r\n       <use x=\"169.042969\" xlink:href=\"#DejaVuSans-6e\"/>\r\n       <use x=\"232.421875\" xlink:href=\"#DejaVuSans-64\"/>\r\n       <use x=\"295.898438\" xlink:href=\"#DejaVuSans-65\"/>\r\n       <use x=\"355.671875\" xlink:href=\"#DejaVuSans-78\"/>\r\n      </g>\r\n     </g>\r\n    </g>\r\n   </g>\r\n   <g id=\"matplotlib.axis_2\">\r\n    <g id=\"ytick_1\">\r\n     <g id=\"line2d_8\">\r\n      <defs>\r\n       <path d=\"M 0 0 \r\nL -3.5 0 \r\n\" id=\"m39d6275731\" style=\"stroke:#000000;stroke-width:0.8;\"/>\r\n      </defs>\r\n      <g>\r\n       <use style=\"stroke:#000000;stroke-width:0.8;\" x=\"24.15625\" xlink:href=\"#m39d6275731\" y=\"42.145714\"/>\r\n      </g>\r\n     </g>\r\n     <g id=\"text_8\">\r\n      <!-- Age -->\r\n      <g transform=\"translate(15.076563 57.688683)rotate(-90)scale(0.1 -0.1)\">\r\n       <use xlink:href=\"#DejaVuSans-41\"/>\r\n       <use x=\"68.408203\" xlink:href=\"#DejaVuSans-67\"/>\r\n       <use x=\"131.884766\" xlink:href=\"#DejaVuSans-65\"/>\r\n      </g>\r\n     </g>\r\n    </g>\r\n    <g id=\"ytick_2\">\r\n     <g id=\"line2d_9\">\r\n      <g>\r\n       <use style=\"stroke:#000000;stroke-width:0.8;\" x=\"24.15625\" xlink:href=\"#m39d6275731\" y=\"112.037143\"/>\r\n      </g>\r\n     </g>\r\n     <g id=\"text_9\">\r\n      <!-- Month -->\r\n      <g transform=\"translate(15.076563 139.580112)rotate(-90)scale(0.1 -0.1)\">\r\n       <use xlink:href=\"#DejaVuSans-4d\"/>\r\n       <use x=\"86.279297\" xlink:href=\"#DejaVuSans-6f\"/>\r\n       <use x=\"147.460938\" xlink:href=\"#DejaVuSans-6e\"/>\r\n       <use x=\"210.839844\" xlink:href=\"#DejaVuSans-74\"/>\r\n       <use x=\"250.048828\" xlink:href=\"#DejaVuSans-68\"/>\r\n      </g>\r\n     </g>\r\n    </g>\r\n    <g id=\"ytick_3\">\r\n     <g id=\"line2d_10\">\r\n      <g>\r\n       <use style=\"stroke:#000000;stroke-width:0.8;\" x=\"24.15625\" xlink:href=\"#m39d6275731\" y=\"181.928571\"/>\r\n      </g>\r\n     </g>\r\n     <g id=\"text_10\">\r\n      <!-- Case Lenth -->\r\n      <g transform=\"translate(15.076563 233.926228)rotate(-90)scale(0.1 -0.1)\">\r\n       <use xlink:href=\"#DejaVuSans-43\"/>\r\n       <use x=\"69.824219\" xlink:href=\"#DejaVuSans-61\"/>\r\n       <use x=\"131.103516\" xlink:href=\"#DejaVuSans-73\"/>\r\n       <use x=\"183.203125\" xlink:href=\"#DejaVuSans-65\"/>\r\n       <use x=\"244.726562\" xlink:href=\"#DejaVuSans-20\"/>\r\n       <use x=\"276.513672\" xlink:href=\"#DejaVuSans-4c\"/>\r\n       <use x=\"330.476562\" xlink:href=\"#DejaVuSans-65\"/>\r\n       <use x=\"392\" xlink:href=\"#DejaVuSans-6e\"/>\r\n       <use x=\"455.378906\" xlink:href=\"#DejaVuSans-74\"/>\r\n       <use x=\"494.587891\" xlink:href=\"#DejaVuSans-68\"/>\r\n      </g>\r\n     </g>\r\n    </g>\r\n    <g id=\"ytick_4\">\r\n     <g id=\"line2d_11\">\r\n      <g>\r\n       <use style=\"stroke:#000000;stroke-width:0.8;\" x=\"24.15625\" xlink:href=\"#m39d6275731\" y=\"251.82\"/>\r\n      </g>\r\n     </g>\r\n     <g id=\"text_11\">\r\n      <!-- ac_index -->\r\n      <g transform=\"translate(14.798438 292.008281)rotate(-90)scale(0.1 -0.1)\">\r\n       <use xlink:href=\"#DejaVuSans-61\"/>\r\n       <use x=\"61.279297\" xlink:href=\"#DejaVuSans-63\"/>\r\n       <use x=\"116.259766\" xlink:href=\"#DejaVuSans-5f\"/>\r\n       <use x=\"166.259766\" xlink:href=\"#DejaVuSans-69\"/>\r\n       <use x=\"194.042969\" xlink:href=\"#DejaVuSans-6e\"/>\r\n       <use x=\"257.421875\" xlink:href=\"#DejaVuSans-64\"/>\r\n       <use x=\"320.898438\" xlink:href=\"#DejaVuSans-65\"/>\r\n       <use x=\"380.671875\" xlink:href=\"#DejaVuSans-78\"/>\r\n      </g>\r\n     </g>\r\n    </g>\r\n    <g id=\"ytick_5\">\r\n     <g id=\"line2d_12\">\r\n      <g>\r\n       <use style=\"stroke:#000000;stroke-width:0.8;\" x=\"24.15625\" xlink:href=\"#m39d6275731\" y=\"321.711429\"/>\r\n      </g>\r\n     </g>\r\n     <g id=\"text_12\">\r\n      <!-- rl_index -->\r\n      <g transform=\"translate(14.798438 357.16221)rotate(-90)scale(0.1 -0.1)\">\r\n       <use xlink:href=\"#DejaVuSans-72\"/>\r\n       <use x=\"41.113281\" xlink:href=\"#DejaVuSans-6c\"/>\r\n       <use x=\"68.896484\" xlink:href=\"#DejaVuSans-5f\"/>\r\n       <use x=\"118.896484\" xlink:href=\"#DejaVuSans-69\"/>\r\n       <use x=\"146.679688\" xlink:href=\"#DejaVuSans-6e\"/>\r\n       <use x=\"210.058594\" xlink:href=\"#DejaVuSans-64\"/>\r\n       <use x=\"273.535156\" xlink:href=\"#DejaVuSans-65\"/>\r\n       <use x=\"333.308594\" xlink:href=\"#DejaVuSans-78\"/>\r\n      </g>\r\n     </g>\r\n    </g>\r\n    <g id=\"ytick_6\">\r\n     <g id=\"line2d_13\">\r\n      <g>\r\n       <use style=\"stroke:#000000;stroke-width:0.8;\" x=\"24.15625\" xlink:href=\"#m39d6275731\" y=\"391.602857\"/>\r\n      </g>\r\n     </g>\r\n     <g id=\"text_13\">\r\n      <!-- tr_index -->\r\n      <g transform=\"translate(14.798438 428.195826)rotate(-90)scale(0.1 -0.1)\">\r\n       <use xlink:href=\"#DejaVuSans-74\"/>\r\n       <use x=\"39.208984\" xlink:href=\"#DejaVuSans-72\"/>\r\n       <use x=\"80.322266\" xlink:href=\"#DejaVuSans-5f\"/>\r\n       <use x=\"130.322266\" xlink:href=\"#DejaVuSans-69\"/>\r\n       <use x=\"158.105469\" xlink:href=\"#DejaVuSans-6e\"/>\r\n       <use x=\"221.484375\" xlink:href=\"#DejaVuSans-64\"/>\r\n       <use x=\"284.960938\" xlink:href=\"#DejaVuSans-65\"/>\r\n       <use x=\"344.734375\" xlink:href=\"#DejaVuSans-78\"/>\r\n      </g>\r\n     </g>\r\n    </g>\r\n    <g id=\"ytick_7\">\r\n     <g id=\"line2d_14\">\r\n      <g>\r\n       <use style=\"stroke:#000000;stroke-width:0.8;\" x=\"24.15625\" xlink:href=\"#m39d6275731\" y=\"461.494286\"/>\r\n      </g>\r\n     </g>\r\n     <g id=\"text_14\">\r\n      <!-- di_index -->\r\n      <g transform=\"translate(14.798438 499.182567)rotate(-90)scale(0.1 -0.1)\">\r\n       <use xlink:href=\"#DejaVuSans-64\"/>\r\n       <use x=\"63.476562\" xlink:href=\"#DejaVuSans-69\"/>\r\n       <use x=\"91.259766\" xlink:href=\"#DejaVuSans-5f\"/>\r\n       <use x=\"141.259766\" xlink:href=\"#DejaVuSans-69\"/>\r\n       <use x=\"169.042969\" xlink:href=\"#DejaVuSans-6e\"/>\r\n       <use x=\"232.421875\" xlink:href=\"#DejaVuSans-64\"/>\r\n       <use x=\"295.898438\" xlink:href=\"#DejaVuSans-65\"/>\r\n       <use x=\"355.671875\" xlink:href=\"#DejaVuSans-78\"/>\r\n      </g>\r\n     </g>\r\n    </g>\r\n   </g>\r\n  </g>\r\n  <g id=\"axes_2\">\r\n   <g id=\"patch_3\">\r\n    <path d=\"M 544.08625 374.13 \r\nL 556.31725 374.13 \r\nL 556.31725 129.51 \r\nL 544.08625 129.51 \r\nz\r\n\" style=\"fill:#ffffff;\"/>\r\n   </g>\r\n   <g id=\"patch_4\">\r\n    <path clip-path=\"url(#pff1350c190)\" d=\"M 544.08625 374.13 \r\nL 544.08625 373.174453 \r\nL 544.08625 130.465547 \r\nL 544.08625 129.51 \r\nL 556.31725 129.51 \r\nL 556.31725 130.465547 \r\nL 556.31725 373.174453 \r\nL 556.31725 374.13 \r\nL 556.31725 374.13 \r\nz\r\n\" style=\"fill:#ffffff;stroke:#ffffff;stroke-linejoin:miter;stroke-width:0.01;\"/>\r\n   </g>\r\n   <image height=\"245\" id=\"imageb26b453131\" transform=\"scale(1 -1)translate(0 -245)\" width=\"12\" x=\"544\" xlink:href=\"data:image/png;base64,\r\niVBORw0KGgoAAAANSUhEUgAAAAwAAAD1CAYAAABk6BQ2AAABR0lEQVR4nO2Z6xHCMAyDnbSDMRmTsGobVuDLnXQiKb/js2XJL9pe788o8OvkcVXV2Ro06NDibNSg05Cwh1ZpIc0Ql4bBII08tU4QRw2Ozpw4CihPfHriOAbeZtT14Khp9N5D3ALyplo6YEx6pi0zLk2tEyGh56EzLm5OJ4ZkUOuOE0iP4am43zyg95Y1FD3f9Y7DB0eg+OgU3XSrzAuJptXQKrecovh+2LJV5v2T+NxxPxrsd8cZmF5hdcg7y2Z4gAZtoA9Ndda4ocENPQzsQY5hQAycOIwhMUvXRT1g0BTDzTBw4nhIcuK4NGiJcmnwLKkrbo0s6ZvxlqDzeisXnxi0YcY5sqRvxuKRpS8gxzZjWB3+fuzO8JCmpcgJRCtO3sgca2hcmwnsGo6tEoOOU+uM+BYoIEOW8paTBXZvw3afB1quVlxxX5oE7UbJHjUnAAAAAElFTkSuQmCC\" y=\"-129\"/>\r\n   <g id=\"matplotlib.axis_3\"/>\r\n   <g id=\"matplotlib.axis_4\">\r\n    <g id=\"ytick_8\">\r\n     <g id=\"line2d_15\">\r\n      <defs>\r\n       <path d=\"M 0 0 \r\nL 3.5 0 \r\n\" id=\"ma48215c478\" style=\"stroke:#000000;stroke-width:0.8;\"/>\r\n      </defs>\r\n      <g>\r\n       <use style=\"stroke:#000000;stroke-width:0.8;\" x=\"556.31725\" xlink:href=\"#ma48215c478\" y=\"344.056657\"/>\r\n      </g>\r\n     </g>\r\n     <g id=\"text_15\">\r\n      <!-- −0.3 -->\r\n      <g transform=\"translate(563.31725 347.855876)scale(0.1 -0.1)\">\r\n       <defs>\r\n        <path d=\"M 678 2272 \r\nL 4684 2272 \r\nL 4684 1741 \r\nL 678 1741 \r\nL 678 2272 \r\nz\r\n\" id=\"DejaVuSans-2212\" transform=\"scale(0.015625)\"/>\r\n        <path d=\"M 2034 4250 \r\nQ 1547 4250 1301 3770 \r\nQ 1056 3291 1056 2328 \r\nQ 1056 1369 1301 889 \r\nQ 1547 409 2034 409 \r\nQ 2525 409 2770 889 \r\nQ 3016 1369 3016 2328 \r\nQ 3016 3291 2770 3770 \r\nQ 2525 4250 2034 4250 \r\nz\r\nM 2034 4750 \r\nQ 2819 4750 3233 4129 \r\nQ 3647 3509 3647 2328 \r\nQ 3647 1150 3233 529 \r\nQ 2819 -91 2034 -91 \r\nQ 1250 -91 836 529 \r\nQ 422 1150 422 2328 \r\nQ 422 3509 836 4129 \r\nQ 1250 4750 2034 4750 \r\nz\r\n\" id=\"DejaVuSans-30\" transform=\"scale(0.015625)\"/>\r\n        <path d=\"M 684 794 \r\nL 1344 794 \r\nL 1344 0 \r\nL 684 0 \r\nL 684 794 \r\nz\r\n\" id=\"DejaVuSans-2e\" transform=\"scale(0.015625)\"/>\r\n        <path d=\"M 2597 2516 \r\nQ 3050 2419 3304 2112 \r\nQ 3559 1806 3559 1356 \r\nQ 3559 666 3084 287 \r\nQ 2609 -91 1734 -91 \r\nQ 1441 -91 1130 -33 \r\nQ 819 25 488 141 \r\nL 488 750 \r\nQ 750 597 1062 519 \r\nQ 1375 441 1716 441 \r\nQ 2309 441 2620 675 \r\nQ 2931 909 2931 1356 \r\nQ 2931 1769 2642 2001 \r\nQ 2353 2234 1838 2234 \r\nL 1294 2234 \r\nL 1294 2753 \r\nL 1863 2753 \r\nQ 2328 2753 2575 2939 \r\nQ 2822 3125 2822 3475 \r\nQ 2822 3834 2567 4026 \r\nQ 2313 4219 1838 4219 \r\nQ 1578 4219 1281 4162 \r\nQ 984 4106 628 3988 \r\nL 628 4550 \r\nQ 988 4650 1302 4700 \r\nQ 1616 4750 1894 4750 \r\nQ 2613 4750 3031 4423 \r\nQ 3450 4097 3450 3541 \r\nQ 3450 3153 3228 2886 \r\nQ 3006 2619 2597 2516 \r\nz\r\n\" id=\"DejaVuSans-33\" transform=\"scale(0.015625)\"/>\r\n       </defs>\r\n       <use xlink:href=\"#DejaVuSans-2212\"/>\r\n       <use x=\"83.789062\" xlink:href=\"#DejaVuSans-30\"/>\r\n       <use x=\"147.412109\" xlink:href=\"#DejaVuSans-2e\"/>\r\n       <use x=\"179.199219\" xlink:href=\"#DejaVuSans-33\"/>\r\n      </g>\r\n     </g>\r\n    </g>\r\n    <g id=\"ytick_9\">\r\n     <g id=\"line2d_16\">\r\n      <g>\r\n       <use style=\"stroke:#000000;stroke-width:0.8;\" x=\"556.31725\" xlink:href=\"#ma48215c478\" y=\"308.298881\"/>\r\n      </g>\r\n     </g>\r\n     <g id=\"text_16\">\r\n      <!-- −0.2 -->\r\n      <g transform=\"translate(563.31725 312.0981)scale(0.1 -0.1)\">\r\n       <defs>\r\n        <path d=\"M 1228 531 \r\nL 3431 531 \r\nL 3431 0 \r\nL 469 0 \r\nL 469 531 \r\nQ 828 903 1448 1529 \r\nQ 2069 2156 2228 2338 \r\nQ 2531 2678 2651 2914 \r\nQ 2772 3150 2772 3378 \r\nQ 2772 3750 2511 3984 \r\nQ 2250 4219 1831 4219 \r\nQ 1534 4219 1204 4116 \r\nQ 875 4013 500 3803 \r\nL 500 4441 \r\nQ 881 4594 1212 4672 \r\nQ 1544 4750 1819 4750 \r\nQ 2544 4750 2975 4387 \r\nQ 3406 4025 3406 3419 \r\nQ 3406 3131 3298 2873 \r\nQ 3191 2616 2906 2266 \r\nQ 2828 2175 2409 1742 \r\nQ 1991 1309 1228 531 \r\nz\r\n\" id=\"DejaVuSans-32\" transform=\"scale(0.015625)\"/>\r\n       </defs>\r\n       <use xlink:href=\"#DejaVuSans-2212\"/>\r\n       <use x=\"83.789062\" xlink:href=\"#DejaVuSans-30\"/>\r\n       <use x=\"147.412109\" xlink:href=\"#DejaVuSans-2e\"/>\r\n       <use x=\"179.199219\" xlink:href=\"#DejaVuSans-32\"/>\r\n      </g>\r\n     </g>\r\n    </g>\r\n    <g id=\"ytick_10\">\r\n     <g id=\"line2d_17\">\r\n      <g>\r\n       <use style=\"stroke:#000000;stroke-width:0.8;\" x=\"556.31725\" xlink:href=\"#ma48215c478\" y=\"272.541105\"/>\r\n      </g>\r\n     </g>\r\n     <g id=\"text_17\">\r\n      <!-- −0.1 -->\r\n      <g transform=\"translate(563.31725 276.340324)scale(0.1 -0.1)\">\r\n       <defs>\r\n        <path d=\"M 794 531 \r\nL 1825 531 \r\nL 1825 4091 \r\nL 703 3866 \r\nL 703 4441 \r\nL 1819 4666 \r\nL 2450 4666 \r\nL 2450 531 \r\nL 3481 531 \r\nL 3481 0 \r\nL 794 0 \r\nL 794 531 \r\nz\r\n\" id=\"DejaVuSans-31\" transform=\"scale(0.015625)\"/>\r\n       </defs>\r\n       <use xlink:href=\"#DejaVuSans-2212\"/>\r\n       <use x=\"83.789062\" xlink:href=\"#DejaVuSans-30\"/>\r\n       <use x=\"147.412109\" xlink:href=\"#DejaVuSans-2e\"/>\r\n       <use x=\"179.199219\" xlink:href=\"#DejaVuSans-31\"/>\r\n      </g>\r\n     </g>\r\n    </g>\r\n    <g id=\"ytick_11\">\r\n     <g id=\"line2d_18\">\r\n      <g>\r\n       <use style=\"stroke:#000000;stroke-width:0.8;\" x=\"556.31725\" xlink:href=\"#ma48215c478\" y=\"236.783329\"/>\r\n      </g>\r\n     </g>\r\n     <g id=\"text_18\">\r\n      <!-- 0.0 -->\r\n      <g transform=\"translate(563.31725 240.582547)scale(0.1 -0.1)\">\r\n       <use xlink:href=\"#DejaVuSans-30\"/>\r\n       <use x=\"63.623047\" xlink:href=\"#DejaVuSans-2e\"/>\r\n       <use x=\"95.410156\" xlink:href=\"#DejaVuSans-30\"/>\r\n      </g>\r\n     </g>\r\n    </g>\r\n    <g id=\"ytick_12\">\r\n     <g id=\"line2d_19\">\r\n      <g>\r\n       <use style=\"stroke:#000000;stroke-width:0.8;\" x=\"556.31725\" xlink:href=\"#ma48215c478\" y=\"201.025552\"/>\r\n      </g>\r\n     </g>\r\n     <g id=\"text_19\">\r\n      <!-- 0.1 -->\r\n      <g transform=\"translate(563.31725 204.824771)scale(0.1 -0.1)\">\r\n       <use xlink:href=\"#DejaVuSans-30\"/>\r\n       <use x=\"63.623047\" xlink:href=\"#DejaVuSans-2e\"/>\r\n       <use x=\"95.410156\" xlink:href=\"#DejaVuSans-31\"/>\r\n      </g>\r\n     </g>\r\n    </g>\r\n    <g id=\"ytick_13\">\r\n     <g id=\"line2d_20\">\r\n      <g>\r\n       <use style=\"stroke:#000000;stroke-width:0.8;\" x=\"556.31725\" xlink:href=\"#ma48215c478\" y=\"165.267776\"/>\r\n      </g>\r\n     </g>\r\n     <g id=\"text_20\">\r\n      <!-- 0.2 -->\r\n      <g transform=\"translate(563.31725 169.066995)scale(0.1 -0.1)\">\r\n       <use xlink:href=\"#DejaVuSans-30\"/>\r\n       <use x=\"63.623047\" xlink:href=\"#DejaVuSans-2e\"/>\r\n       <use x=\"95.410156\" xlink:href=\"#DejaVuSans-32\"/>\r\n      </g>\r\n     </g>\r\n    </g>\r\n    <g id=\"ytick_14\">\r\n     <g id=\"line2d_21\">\r\n      <g>\r\n       <use style=\"stroke:#000000;stroke-width:0.8;\" x=\"556.31725\" xlink:href=\"#ma48215c478\" y=\"129.51\"/>\r\n      </g>\r\n     </g>\r\n     <g id=\"text_21\">\r\n      <!-- 0.3 -->\r\n      <g transform=\"translate(563.31725 133.309219)scale(0.1 -0.1)\">\r\n       <use xlink:href=\"#DejaVuSans-30\"/>\r\n       <use x=\"63.623047\" xlink:href=\"#DejaVuSans-2e\"/>\r\n       <use x=\"95.410156\" xlink:href=\"#DejaVuSans-33\"/>\r\n      </g>\r\n     </g>\r\n    </g>\r\n   </g>\r\n   <g id=\"LineCollection_1\"/>\r\n   <g id=\"patch_5\">\r\n    <path d=\"M 544.08625 374.13 \r\nL 544.08625 373.174453 \r\nL 544.08625 130.465547 \r\nL 544.08625 129.51 \r\nL 556.31725 129.51 \r\nL 556.31725 130.465547 \r\nL 556.31725 373.174453 \r\nL 556.31725 374.13 \r\nz\r\n\" style=\"fill:none;\"/>\r\n   </g>\r\n  </g>\r\n </g>\r\n <defs>\r\n  <clipPath id=\"p80bbc7558b\">\r\n   <rect height=\"489.24\" width=\"489.24\" x=\"24.15625\" y=\"7.2\"/>\r\n  </clipPath>\r\n  <clipPath id=\"pff1350c190\">\r\n   <rect height=\"244.62\" width=\"12.231\" x=\"544.08625\" y=\"129.51\"/>\r\n  </clipPath>\r\n </defs>\r\n</svg>\r\n",
      "image/png": "[encoded data removed]"
     },
     "metadata": {
      "needs_background": "light"
     }
    }
   ]
  },
  {
   "source": [
    "### Split train test\n",
    "\n",
    "Author: Renuka Sindagatta/ Manuel Camargo\n",
    "\n",
    "Function: divides the dataset into test and train sets, preserving traces"
   ],
   "cell_type": "markdown",
   "metadata": {}
  },
  {
   "cell_type": "code",
   "execution_count": 27,
   "metadata": {},
   "outputs": [],
   "source": [
    "# =============================================================================\n",
    "# Split an event log dataframe to peform split-validation \n",
    "# =============================================================================\n",
    "def split_train_test(df, percentage):\n",
    "    cases = df.CaseID.unique()\n",
    "    num_test_cases = int(np.round(len(cases)*percentage))\n",
    "    test_cases = cases[:num_test_cases]\n",
    "    train_cases = cases[num_test_cases:]\n",
    "    df_train, df_test = pd.DataFrame(), pd.DataFrame()\n",
    "    for case in train_cases:\n",
    "        df_train = df_train.append(df[df.CaseID==case]) \n",
    "    df_train = df_train.sort_values('Timestamps', ascending=True).reset_index(drop=True)\n",
    " \n",
    "    for case in test_cases:\n",
    "        df_test = df_test.append(df[df.CaseID==case]) \n",
    "    df_test = df_test.sort_values('Timestamps', ascending=True).reset_index(drop=True)\n",
    "    \n",
    "    return df_train, df_test "
   ]
  },
  {
   "source": [
    "splitting the dataframe into test and train sets"
   ],
   "cell_type": "markdown",
   "metadata": {}
  },
  {
   "cell_type": "code",
   "execution_count": 28,
   "metadata": {},
   "outputs": [],
   "source": [
    "# Split validation datasets\n",
    "log_df_train, log_df_test = split_train_test(log_df, 0.3) # 70%/30%"
   ]
  },
  {
   "source": [
    "### normalize_events\n",
    "\n",
    "Modified from the function of: Renuka Sindagatta/ Manuel Camargo\n",
    "\n",
    "Function: Normalizes the numerical features"
   ],
   "cell_type": "markdown",
   "metadata": {}
  },
  {
   "cell_type": "code",
   "execution_count": 29,
   "metadata": {},
   "outputs": [],
   "source": [
    "def normalize_events(log_df,args,features):\n",
    "\n",
    "#log_df(DataFrame): The dataframe with eventlog data\n",
    "#args(Dictionary): The set of parameters\n",
    "#Returns a Dataframe with normalized numerical features\n",
    "  for feature in features:\n",
    "    if args['norm_method'] == 'max':\n",
    "        mean_feature = np.mean(log_df.feature)\n",
    "        std_feature = np.std(log_df.feature)\n",
    "        norm = lambda x: (x[feature]-mean_feature)/std_feature\n",
    "        log_df['%s_norm'%(feature)] = log_df.apply(norm, axis=1)\n",
    "    elif args['norm_method'] == 'lognorm':\n",
    "        logit = lambda x: math.log1p(x[feature])\n",
    "        log_df['%s_log'%(feature)] = log_df.apply(logit, axis=1)\n",
    "        mean_feature = np.mean(log_df['%s_log'%(feature)])\n",
    "        std_feature=np.std(log_df['%s_log'%(feature)])\n",
    "        norm = lambda x: (x['%s_log'%(feature)]-mean_feature)/std_feature\n",
    "        log_df['%s_norm'%(feature)] = log_df.apply(norm, axis=1)\n",
    "  return log_df"
   ]
  },
  {
   "source": [
    "Adding normalized features: to the training set"
   ],
   "cell_type": "markdown",
   "metadata": {}
  },
  {
   "cell_type": "code",
   "execution_count": 30,
   "metadata": {},
   "outputs": [
    {
     "output_type": "execute_result",
     "data": {
      "text/plain": [
       "   CaseID                                  Activity  \\\n",
       "0     341  ligdagen - alle spec.beh.kinderg.-reval.   \n",
       "1     341              190205 klasse 3b        a205   \n",
       "2     341              190021 klinische opname a002   \n",
       "3     341                               ordertarief   \n",
       "4     341                       ca-19.9 tumormarker   \n",
       "\n",
       "                       Department                 Timestamps Activity code  \\\n",
       "0                    Nursing ward  2005-07-25T01:00:00+02:00         40014   \n",
       "1                    Nursing ward  2005-07-25T01:00:00+02:00        613000   \n",
       "2                    Nursing ward  2005-07-25T01:00:00+02:00        610001   \n",
       "3  General Lab Clinical Chemistry  2005-07-25T01:00:00+02:00        379999   \n",
       "4  General Lab Clinical Chemistry  2005-07-25T01:00:00+02:00        379414   \n",
       "\n",
       "   Number of executions Producer code    Section  Age Diagnosis code  \\\n",
       "0                     1          H5ZU  Section 2   59            M16   \n",
       "1                     1          H5ZU  Section 2   59            M16   \n",
       "2                     1          H5ZU  Section 2   59            M16   \n",
       "3                     1          CRLA  Section 4   59            M16   \n",
       "4                     1          CHE1  Section 4   59            M16   \n",
       "\n",
       "  Treatment code  Month  Day  Case Lenth  ac_index  rl_index  di_index  \\\n",
       "0            101     31  934         307       125        20         4   \n",
       "1            101     31  934         307         5        20         4   \n",
       "2            101     31  934         307         1        20         4   \n",
       "3            101     31  934         307       147        10         4   \n",
       "4            101     31  934         307        42        10         4   \n",
       "\n",
       "   tr_index   Age_log  Age_norm  Month_log  Month_norm   Day_log  Day_norm  \\\n",
       "0         1  4.094345  0.425742   3.465736     1.40527  6.840547  1.184411   \n",
       "1         1  4.094345  0.425742   3.465736     1.40527  6.840547  1.184411   \n",
       "2         1  4.094345  0.425742   3.465736     1.40527  6.840547  1.184411   \n",
       "3         1  4.094345  0.425742   3.465736     1.40527  6.840547  1.184411   \n",
       "4         1  4.094345  0.425742   3.465736     1.40527  6.840547  1.184411   \n",
       "\n",
       "   Case Lenth_log  Case Lenth_norm  \n",
       "0          5.7301         0.174067  \n",
       "1          5.7301         0.174067  \n",
       "2          5.7301         0.174067  \n",
       "3          5.7301         0.174067  \n",
       "4          5.7301         0.174067  "
      ],
      "text/html": "<div>\n<style scoped>\n    .dataframe tbody tr th:only-of-type {\n        vertical-align: middle;\n    }\n\n    .dataframe tbody tr th {\n        vertical-align: top;\n    }\n\n    .dataframe thead th {\n        text-align: right;\n    }\n</style>\n<table border=\"1\" class=\"dataframe\">\n  <thead>\n    <tr style=\"text-align: right;\">\n      <th></th>\n      <th>CaseID</th>\n      <th>Activity</th>\n      <th>Department</th>\n      <th>Timestamps</th>\n      <th>Activity code</th>\n      <th>Number of executions</th>\n      <th>Producer code</th>\n      <th>Section</th>\n      <th>Age</th>\n      <th>Diagnosis code</th>\n      <th>Treatment code</th>\n      <th>Month</th>\n      <th>Day</th>\n      <th>Case Lenth</th>\n      <th>ac_index</th>\n      <th>rl_index</th>\n      <th>di_index</th>\n      <th>tr_index</th>\n      <th>Age_log</th>\n      <th>Age_norm</th>\n      <th>Month_log</th>\n      <th>Month_norm</th>\n      <th>Day_log</th>\n      <th>Day_norm</th>\n      <th>Case Lenth_log</th>\n      <th>Case Lenth_norm</th>\n    </tr>\n  </thead>\n  <tbody>\n    <tr>\n      <th>0</th>\n      <td>341</td>\n      <td>ligdagen - alle spec.beh.kinderg.-reval.</td>\n      <td>Nursing ward</td>\n      <td>2005-07-25T01:00:00+02:00</td>\n      <td>40014</td>\n      <td>1</td>\n      <td>H5ZU</td>\n      <td>Section 2</td>\n      <td>59</td>\n      <td>M16</td>\n      <td>101</td>\n      <td>31</td>\n      <td>934</td>\n      <td>307</td>\n      <td>125</td>\n      <td>20</td>\n      <td>4</td>\n      <td>1</td>\n      <td>4.094345</td>\n      <td>0.425742</td>\n      <td>3.465736</td>\n      <td>1.40527</td>\n      <td>6.840547</td>\n      <td>1.184411</td>\n      <td>5.7301</td>\n      <td>0.174067</td>\n    </tr>\n    <tr>\n      <th>1</th>\n      <td>341</td>\n      <td>190205 klasse 3b        a205</td>\n      <td>Nursing ward</td>\n      <td>2005-07-25T01:00:00+02:00</td>\n      <td>613000</td>\n      <td>1</td>\n      <td>H5ZU</td>\n      <td>Section 2</td>\n      <td>59</td>\n      <td>M16</td>\n      <td>101</td>\n      <td>31</td>\n      <td>934</td>\n      <td>307</td>\n      <td>5</td>\n      <td>20</td>\n      <td>4</td>\n      <td>1</td>\n      <td>4.094345</td>\n      <td>0.425742</td>\n      <td>3.465736</td>\n      <td>1.40527</td>\n      <td>6.840547</td>\n      <td>1.184411</td>\n      <td>5.7301</td>\n      <td>0.174067</td>\n    </tr>\n    <tr>\n      <th>2</th>\n      <td>341</td>\n      <td>190021 klinische opname a002</td>\n      <td>Nursing ward</td>\n      <td>2005-07-25T01:00:00+02:00</td>\n      <td>610001</td>\n      <td>1</td>\n      <td>H5ZU</td>\n      <td>Section 2</td>\n      <td>59</td>\n      <td>M16</td>\n      <td>101</td>\n      <td>31</td>\n      <td>934</td>\n      <td>307</td>\n      <td>1</td>\n      <td>20</td>\n      <td>4</td>\n      <td>1</td>\n      <td>4.094345</td>\n      <td>0.425742</td>\n      <td>3.465736</td>\n      <td>1.40527</td>\n      <td>6.840547</td>\n      <td>1.184411</td>\n      <td>5.7301</td>\n      <td>0.174067</td>\n    </tr>\n    <tr>\n      <th>3</th>\n      <td>341</td>\n      <td>ordertarief</td>\n      <td>General Lab Clinical Chemistry</td>\n      <td>2005-07-25T01:00:00+02:00</td>\n      <td>379999</td>\n      <td>1</td>\n      <td>CRLA</td>\n      <td>Section 4</td>\n      <td>59</td>\n      <td>M16</td>\n      <td>101</td>\n      <td>31</td>\n      <td>934</td>\n      <td>307</td>\n      <td>147</td>\n      <td>10</td>\n      <td>4</td>\n      <td>1</td>\n      <td>4.094345</td>\n      <td>0.425742</td>\n      <td>3.465736</td>\n      <td>1.40527</td>\n      <td>6.840547</td>\n      <td>1.184411</td>\n      <td>5.7301</td>\n      <td>0.174067</td>\n    </tr>\n    <tr>\n      <th>4</th>\n      <td>341</td>\n      <td>ca-19.9 tumormarker</td>\n      <td>General Lab Clinical Chemistry</td>\n      <td>2005-07-25T01:00:00+02:00</td>\n      <td>379414</td>\n      <td>1</td>\n      <td>CHE1</td>\n      <td>Section 4</td>\n      <td>59</td>\n      <td>M16</td>\n      <td>101</td>\n      <td>31</td>\n      <td>934</td>\n      <td>307</td>\n      <td>42</td>\n      <td>10</td>\n      <td>4</td>\n      <td>1</td>\n      <td>4.094345</td>\n      <td>0.425742</td>\n      <td>3.465736</td>\n      <td>1.40527</td>\n      <td>6.840547</td>\n      <td>1.184411</td>\n      <td>5.7301</td>\n      <td>0.174067</td>\n    </tr>\n  </tbody>\n</table>\n</div>"
     },
     "metadata": {},
     "execution_count": 30
    }
   ],
   "source": [
    "numerical_features = ['Age','Month', 'Day', 'Case Lenth']\n",
    "log_df_train = normalize_events(log_df_train,args,numerical_features)\n",
    "log_df_test = normalize_events(log_df_test,args,numerical_features)\n",
    "log_df_train.head()"
   ]
  },
  {
   "cell_type": "code",
   "execution_count": 31,
   "metadata": {},
   "outputs": [
    {
     "output_type": "stream",
     "name": "stdout",
     "text": [
      "Number of traces in training set is:661\nNumber of traces in test set is:283\n"
     ]
    }
   ],
   "source": [
    "training_traces = len(log_df_train['CaseID'].unique())\n",
    "test_traces = len(log_df_test['CaseID'].unique())\n",
    "\n",
    "print('Number of traces in training set is:'+str(training_traces))\n",
    "print('Number of traces in test set is:'+str(test_traces))"
   ]
  },
  {
   "cell_type": "code",
   "execution_count": 32,
   "metadata": {},
   "outputs": [
    {
     "output_type": "stream",
     "name": "stdout",
     "text": [
      "training dataset\nDiagnosis code\n106    161\nM11    101\nM13    176\nM14     83\nM16    140\nName: CaseID, dtype: int64\ntest dataset\nDiagnosis code\n106    74\nM11    59\nM13    73\nM14    19\nM16    58\nName: CaseID, dtype: int64\n"
     ]
    }
   ],
   "source": [
    "#Checking the Balance of the Dataset, by the target variable\n",
    "print('training dataset')\n",
    "print(log_df_train.groupby(['Diagnosis code'])['CaseID'].nunique())\n",
    "\n",
    "print('test dataset')\n",
    "print(log_df_test.groupby(['Diagnosis code'])['CaseID'].nunique())\n",
    "\n"
   ]
  },
  {
   "source": [
    "### Reformat events\n",
    "\n",
    "Modified from the function of: Renuka Sindagatta/ Manuel Camargo\n",
    "\n",
    "Function: converts the dataframe into a dictionary, using the indexes created"
   ],
   "cell_type": "markdown",
   "metadata": {}
  },
  {
   "cell_type": "code",
   "execution_count": 33,
   "metadata": {},
   "outputs": [],
   "source": [
    "# ==============================================================================\n",
    "# Reformat events: converts the dataframe into a numerical dictionary\n",
    "# ==============================================================================\n",
    "\n",
    "def reformat_events(log_df, ac_index, rl_index,di_index):\n",
    "    \"\"\"Creates series of activities, roles and relative times per trace.\n",
    "    Args:\n",
    "        log_df: dataframe.\n",
    "        ac_index (dict): index of activities.\n",
    "        rl_index (dict): index of roles.\n",
    "    Returns:\n",
    "        list: lists of activities, roles and relative times.\n",
    "    \"\"\"\n",
    "    log_df = log_df.to_dict('records')\n",
    "\n",
    "    temp_data = list()\n",
    "    log_df = sorted(log_df, key=lambda x: (x['CaseID'], x['Timestamps']))\n",
    "    for key, group in itertools.groupby(log_df, key=lambda x: x['CaseID']):\n",
    "        trace = list(group)\n",
    "        #dynamic features\n",
    "        ac_order = [x['ac_index'] for x in trace]\n",
    "        rl_order = [x['rl_index'] for x in trace]\n",
    "\n",
    "        #static features: the aggregation used is max(), however, any aggregation could be used since we have a single value for this for the whole trace\n",
    "        age = max(x['Age_norm'] for x in trace)\n",
    "        months = max(x['Month_norm'] for x in trace)\n",
    "        case_len = max(x['Case Lenth_norm'] for x in trace)\n",
    "\n",
    "        #outcome\n",
    "        diagnosis = max(x['di_index'] for x in trace)\n",
    "\n",
    "        #Adding start and end to the dynamic features\n",
    "        ac_order.insert(0, ac_index[('start')])\n",
    "        ac_order.append(ac_index[('end')])\n",
    "        rl_order.insert(0, rl_index[('start')])\n",
    "        rl_order.append(rl_index[('end')])\n",
    "        temp_dict = dict(caseid=key,\n",
    "                         ac_order=ac_order,\n",
    "                         rl_order=rl_order,\n",
    "                         age=age,\n",
    "                         months=months,\n",
    "                         case_len= case_len,\n",
    "                         diagnosis = diagnosis)\n",
    "        temp_data.append(temp_dict)\n",
    "\n",
    "    return temp_data\n"
   ]
  },
  {
   "source": [
    "converting the training dataframe into a dictionary\n"
   ],
   "cell_type": "markdown",
   "metadata": {}
  },
  {
   "cell_type": "code",
   "execution_count": 34,
   "metadata": {},
   "outputs": [],
   "source": [
    "log_train = reformat_events(log_df_train, ac_index, rl_index,di_index)\n",
    "log_test = reformat_events(log_df_test, ac_index, rl_index,di_index)"
   ]
  },
  {
   "cell_type": "code",
   "execution_count": 35,
   "metadata": {},
   "outputs": [
    {
     "output_type": "stream",
     "name": "stdout",
     "text": [
      "{'caseid': 468, 'ac_order': [0, 143, 16, 58, 182, 92, 29, 30, 8, 8, 8, 192, 115, 12, 158, 147, 170, 7, 10, 43, 166, 137, 161, 163, 34, 157, 94, 123, 176, 90, 140, 8, 8, 8, 10, 7, 147, 122, 177, 94, 75, 20, 58, 183, 152, 147, 147, 65, 62, 7, 10, 8, 176, 115, 143, 57, 98, 182, 92, 8, 8, 114, 47, 178, 123, 184, 125, 125, 1, 1, 5, 3, 3, 4, 3, 125, 125, 33, 189, 7, 4, 5, 3, 73, 147, 4, 5, 3, 3, 125, 125, 8, 182, 143, 57, 115, 3, 3, 4, 125, 125, 5, 125, 125, 8, 8, 183, 58, 142, 15, 117, 94, 177, 122, 147, 4, 5, 3, 3, 8, 177, 147, 193, 122, 8, 58, 15, 94, 75, 142, 117, 8, 193, 147, 184, 123, 57, 159, 8, 8, 147, 98, 176, 104, 168, 24, 2, 170, 147, 147, 34, 2, 147, 91, 157, 147, 8, 8, 8, 8, 8, 8, 8, 160, 57, 58, 142, 117, 20, 20, 20, 70, 147, 75, 158, 184, 122, 121, 121, 177, 94, 70, 91, 2, 2, 70, 70, 122, 8, 8, 58, 75, 94, 147, 147, 123, 57, 98, 8, 8, 121, 121, 57, 143, 115, 34, 157, 75, 123, 158, 91, 91, 2, 147, 176, 8, 8, 70, 98, 8, 147, 123, 57, 98, 8, 8, 70, 8, 8, 8, 57, 143, 115, 157, 123, 176, 121, 121, 158, 147, 2, 91, 34, 98, 91, 1, 125, 125, 3, 5, 36, 18, 125, 5, 3, 147, 123, 97, 57, 98, 8, 8, 147, 184, 20, 159, 8, 8, 117, 142, 58, 122, 183, 8, 8, 94, 147, 177, 1, 125, 5, 125, 18, 36, 36, 3, 90, 8, 8, 98, 16, 193, 147, 166, 176, 75, 123, 57, 193, 147, 174, 90, 176, 123, 75, 115, 143, 106, 16, 57, 98, 8, 8, 97, 167, 193, 62, 176, 137, 163, 161, 115, 143, 16, 57, 98, 92, 8, 8, 123, 90, 147, 193, 167, 8, 8, 57, 16, 106, 143, 115, 173, 161, 75, 94, 97, 177, 166, 122, 43, 174, 147, 7, 193, 163, 30, 29, 121, 121, 8, 34, 157, 125, 158, 147, 1, 5, 150, 150, 91, 91, 3, 3, 5, 125, 8, 8, 16, 143, 57, 115, 161, 163, 137, 75, 94, 177, 193, 147, 90, 122, 150, 2, 70, 115, 161, 163, 137, 75, 94, 177, 90, 143, 166, 122, 12, 147, 193, 16, 29, 57, 8, 8, 1, 8, 5, 91, 91, 3, 57, 158, 122, 121, 121, 94, 147, 8, 125, 143, 115, 34, 157, 8, 125, 147, 5, 3, 176, 123, 75, 115, 143, 57, 98, 8, 8, 147, 5, 3, 115, 125, 182, 57, 8, 143, 5, 115, 143, 57, 8, 125, 147, 3, 5, 125, 3, 125, 115, 8, 3, 5, 147, 8, 122, 94, 75, 143, 57, 177, 125, 5, 3, 150, 125, 5, 3, 3, 5, 125, 125, 3, 5, 125, 5, 3, 125, 5, 3, 3, 5, 125, 3, 5, 125, 125, 5, 3, 125, 65, 62, 5, 3, 193, 125, 70, 34, 8, 91, 157, 121, 121, 91, 121, 147, 1, 5, 3, 2, 91, 158, 115, 75, 143, 57, 8, 8, 177, 122, 193, 94, 147, 70, 2, 150, 8, 193, 147, 12, 122, 8, 30, 29, 57, 16, 143, 115, 161, 43, 163, 75, 94, 177, 166, 91, 91, 91, 3, 5, 1, 147, 158, 121, 121, 121, 34, 8, 8, 157, 94, 177, 121, 125, 150, 3, 73, 125, 91, 5, 125, 5, 3, 3, 5, 125, 100, 147, 147, 100, 155, 155, 20, 20, 160, 8, 8, 125, 5, 3, 184, 3, 5, 147, 122, 177, 94, 75, 115, 143, 57, 8, 125, 8, 147, 122, 177, 94, 75, 115, 57, 8, 8, 125, 5, 3, 143, 3, 5, 125, 125, 3, 5, 125, 5, 3, 125, 5, 3, 125, 140, 5, 3, 3, 125, 5, 8, 143, 176, 147, 115, 5, 3, 125, 8, 123, 98, 57, 5, 62, 65, 125, 3, 98, 34, 157, 121, 121, 158, 147, 5, 3, 91, 91, 8, 8, 125, 5, 125, 3, 3, 5, 125, 3, 5, 125, 8, 8, 98, 57, 143, 115, 147, 5, 3, 125, 3, 5, 147, 147, 100, 155, 20, 20, 20, 20, 139, 8, 8, 125, 8, 3, 5, 125, 198], 'rl_order': [0, 10, 10, 10, 10, 10, 10, 10, 10, 10, 10, 21, 10, 10, 10, 10, 26, 21, 21, 10, 25, 10, 10, 10, 10, 10, 10, 10, 10, 10, 26, 10, 18, 10, 27, 27, 10, 10, 10, 10, 10, 18, 10, 10, 10, 10, 10, 26, 26, 14, 14, 10, 10, 10, 10, 10, 10, 10, 10, 10, 10, 14, 10, 10, 10, 10, 20, 20, 20, 20, 20, 20, 20, 20, 20, 20, 20, 22, 22, 27, 20, 20, 20, 6, 10, 20, 20, 20, 20, 20, 20, 10, 10, 10, 10, 10, 20, 20, 20, 20, 20, 20, 20, 20, 10, 10, 10, 10, 10, 10, 10, 10, 10, 10, 10, 20, 20, 20, 20, 10, 10, 10, 14, 10, 10, 10, 10, 10, 10, 10, 10, 10, 27, 10, 10, 10, 10, 10, 10, 10, 10, 10, 10, 27, 27, 27, 20, 26, 10, 10, 10, 20, 10, 10, 10, 10, 10, 10, 10, 10, 18, 10, 18, 10, 10, 10, 10, 10, 18, 18, 18, 20, 10, 10, 10, 10, 10, 10, 10, 10, 10, 20, 10, 20, 20, 20, 20, 10, 10, 10, 10, 10, 10, 10, 10, 10, 10, 10, 10, 10, 10, 10, 10, 10, 10, 10, 10, 10, 10, 10, 10, 10, 20, 10, 10, 10, 10, 20, 10, 10, 10, 10, 10, 10, 10, 10, 20, 10, 10, 10, 10, 10, 10, 10, 10, 10, 10, 10, 10, 10, 20, 10, 10, 10, 10, 20, 20, 20, 20, 20, 27, 22, 20, 20, 20, 10, 10, 10, 10, 10, 10, 10, 10, 10, 18, 10, 18, 10, 10, 10, 10, 10, 10, 10, 10, 10, 10, 10, 20, 20, 20, 20, 22, 27, 27, 20, 10, 10, 10, 10, 10, 27, 10, 25, 10, 10, 10, 10, 27, 10, 10, 10, 10, 10, 10, 10, 10, 10, 10, 10, 10, 10, 10, 10, 27, 21, 26, 10, 10, 10, 10, 10, 10, 10, 10, 10, 10, 10, 10, 10, 10, 10, 27, 27, 10, 10, 10, 10, 10, 10, 10, 10, 10, 10, 10, 10, 10, 25, 10, 10, 10, 10, 14, 27, 10, 10, 10, 10, 10, 10, 10, 10, 20, 10, 10, 20, 20, 20, 20, 10, 10, 20, 20, 20, 20, 10, 10, 10, 10, 10, 10, 10, 10, 10, 10, 10, 10, 14, 10, 10, 10, 20, 20, 20, 10, 10, 10, 10, 10, 10, 10, 10, 10, 25, 10, 10, 10, 14, 10, 10, 10, 10, 10, 20, 10, 20, 10, 10, 20, 10, 10, 10, 10, 10, 10, 10, 10, 20, 10, 10, 10, 10, 10, 20, 10, 20, 20, 10, 10, 10, 10, 10, 10, 10, 10, 10, 10, 20, 20, 10, 20, 10, 10, 10, 10, 20, 10, 10, 10, 10, 20, 10, 20, 20, 20, 20, 20, 10, 10, 20, 20, 10, 10, 10, 10, 10, 10, 10, 10, 20, 20, 20, 20, 20, 20, 20, 20, 20, 20, 20, 20, 20, 20, 20, 20, 20, 20, 20, 20, 20, 20, 20, 20, 20, 20, 20, 20, 20, 26, 26, 20, 20, 14, 20, 20, 10, 10, 10, 10, 10, 10, 10, 10, 10, 20, 20, 20, 20, 10, 10, 10, 10, 10, 10, 10, 10, 10, 10, 14, 10, 10, 20, 20, 20, 10, 14, 10, 10, 10, 10, 10, 10, 10, 10, 10, 10, 10, 10, 10, 10, 10, 10, 25, 10, 10, 10, 20, 20, 20, 10, 10, 10, 10, 10, 10, 10, 10, 10, 10, 10, 10, 20, 20, 20, 6, 20, 10, 20, 20, 20, 20, 20, 20, 20, 18, 10, 10, 18, 18, 18, 18, 18, 10, 18, 10, 20, 20, 20, 10, 20, 20, 10, 10, 10, 10, 10, 10, 10, 10, 10, 20, 10, 10, 10, 10, 10, 10, 10, 10, 10, 10, 20, 20, 20, 10, 20, 20, 20, 20, 20, 20, 20, 20, 20, 20, 20, 20, 20, 26, 20, 20, 20, 20, 20, 10, 10, 10, 10, 10, 20, 20, 20, 10, 10, 10, 10, 20, 26, 26, 20, 20, 10, 10, 10, 10, 10, 10, 10, 20, 20, 10, 10, 10, 10, 20, 20, 20, 20, 20, 20, 20, 20, 20, 20, 10, 10, 10, 10, 10, 10, 10, 20, 20, 20, 20, 20, 10, 10, 18, 18, 18, 18, 18, 18, 18, 18, 18, 20, 18, 20, 20, 20, 32], 'age': 0.42574162590644227, 'months': 0.08500488649423624, 'case_len': 1.0265212206028314, 'diagnosis': 0}\n"
     ]
    }
   ],
   "source": [
    "#print a sample of the dictionary\n",
    "print(log_train[111])"
   ]
  },
  {
   "source": [
    "#### Support Function 7: Vectorization\n",
    "Author: Bemali Wickramanayake\n",
    "\n",
    "Inspired by the code of: Renuka Sindagatta\n",
    "\n",
    "Function: Creating the Input and Output Tensors \n",
    "\n",
    "Notes: Editing needs to finish for this function"
   ],
   "cell_type": "markdown",
   "metadata": {}
  },
  {
   "source": [
    "# Support function for Vectirization\n",
    "\n",
    "# This function returns the maximum trace length (trc_len), and the number of cases for train and test sets (cases)\n",
    "# The maximum out of trc_len for train and test sets will be used to define the trace length of the dataset that is fed to lstm\n",
    "\n",
    "def lengths (log):\n",
    "  trc_len = 1\n",
    "  cases = 1\n",
    "\n",
    "  for i,_ in enumerate(log):\n",
    "\n",
    "    if trc_len <len(log[i]['ac_order']):\n",
    "\n",
    "        trc_len = len(log[i]['ac_order'])\n",
    "        cases += 1\n",
    "    else:\n",
    "        cases += 1\n",
    "\n",
    "  return trc_len, cases\n"
   ],
   "cell_type": "code",
   "metadata": {},
   "execution_count": 36,
   "outputs": []
  },
  {
   "cell_type": "code",
   "execution_count": 37,
   "metadata": {},
   "outputs": [
    {
     "output_type": "stream",
     "name": "stdout",
     "text": [
      "trace_length: 1791, training cases: 662, test cases: 284\n"
     ]
    }
   ],
   "source": [
    "#Obtain the trc_len and cases for each set\n",
    "\n",
    "trc_len_train, cases_train = lengths(log_train)\n",
    "trc_len_test, cases_test = lengths(log_test)\n",
    "\n",
    "trc_len = trc_len_train\n",
    "if trc_len < trc_len_test:\n",
    "  trc_len = trc_len_test\n",
    "\n",
    "print(\"trace_length: \"+str(trc_len)+\", training cases: \"+str(cases_train)+\", test cases: \"+str(cases_test))"
   ]
  },
  {
   "cell_type": "code",
   "execution_count": 38,
   "metadata": {},
   "outputs": [],
   "source": [
    "def vectorization(log, ac_index, rl_index, di_index,trc_len,cases):\n",
    "\n",
    "#Example function with types documented in the docstring.\n",
    "#Args:\n",
    "        #log: event log data in a dictionary.\n",
    "        #ac_index (dict): index of activities.\n",
    "        #rl_index (dict): index of roles (departments).\n",
    "        #di_index (dict) : index of diagnosis codes.\n",
    "\n",
    "#Returns:vec: Dictionary that contains all the LSTM inputs. \"\"\"\n",
    "\n",
    "  vec = {'prefixes':dict(), 'static':dict(),'diagnosis':[]} \n",
    "  len_ac = trc_len  \n",
    "\n",
    "  for i ,_ in enumerate(log):\n",
    "  \n",
    "    padding = np.zeros(len_ac-len(log[i]['ac_order']))\n",
    "\n",
    "    if i == 0:\n",
    "            vec['prefixes']['x_ac_inp'] = np.array(np.append(log[i]['ac_order'],padding))\n",
    "            vec['prefixes']['x_rl_inp'] = np.array(np.append(log[i]['rl_order'],padding))\n",
    "            # vec['prefixes']['xt_inp'] = np.array(np.append(log[i]['tbtw'],padding))\n",
    "            vec['static']['x_age_inp'] = np.array(log[i]['age'])\n",
    "            vec['static']['x_months_inp'] = np.array(log[i]['months'])\n",
    "            vec['static']['x_cl_inp'] = np.array(log[i]['case_len'])\n",
    "            vec['diagnosis'] = np.array(log[i]['diagnosis'])\n",
    "\n",
    "\n",
    "            #print(len(vec['prefixes']['x_ac_inp']))\n",
    "\n",
    "  \n",
    "    vec['prefixes']['x_ac_inp'] = np.concatenate((vec['prefixes']['x_ac_inp'],\n",
    "                                                          np.array(np.append(log[i]['ac_order'],padding))), axis=0)\n",
    "    vec['prefixes']['x_rl_inp'] = np.concatenate((vec['prefixes']['x_rl_inp'],\n",
    "                                                          np.array(np.append(log[i]['rl_order'],padding))), axis=0)\n",
    "    # vec['prefixes']['xt_inp'] = np.concatenate((vec['prefixes']['xt_inp'],\n",
    "    #                                                     np.array(np.append(log[i]['tbtw'],padding))), axis=0)\n",
    "    vec['static']['x_age_inp'] = np.append(vec['static']['x_age_inp'],log[i]['age'])\n",
    "    vec['static']['x_months_inp'] = np.append(vec['static']['x_months_inp'],log[i]['months'])\n",
    "    vec['static']['x_cl_inp'] = np.append(vec['static']['x_cl_inp'],log[i]['case_len'])\n",
    "    vec['diagnosis'] = np.append(vec['diagnosis'],log[i]['diagnosis'])\n",
    "  \n",
    "\n",
    "  \n",
    "\n",
    "  \n",
    "  #The concatenation returns a flattened vector. Hence, reshaping the vectors at the end\n",
    "  vec['prefixes']['x_ac_inp'] = np.reshape(vec['prefixes']['x_ac_inp'],(cases,len_ac))\n",
    "  vec['prefixes']['x_rl_inp'] = np.reshape(vec['prefixes']['x_rl_inp'],(cases,len_ac))\n",
    "#   vec['prefixes']['xt_inp'] = np.reshape(vec['prefixes']['xt_inp'],(cases,len_ac))\n",
    "\n",
    "  #one-hot-encoding the y class\n",
    "  vec['diagnosis'] = ku.to_categorical(vec['diagnosis'],\n",
    "                                               num_classes=len(di_index))\n",
    "\n",
    "  return vec\n"
   ]
  },
  {
   "source": [
    "converting the training log (dictionary) into a Tensor"
   ],
   "cell_type": "markdown",
   "metadata": {}
  },
  {
   "cell_type": "code",
   "execution_count": 39,
   "metadata": {},
   "outputs": [],
   "source": [
    "vec_train = vectorization(log_train,ac_index,rl_index,di_index,trc_len,cases_train)\n",
    "vec_test = vectorization(log_test,ac_index,rl_index,di_index,trc_len,cases_test)"
   ]
  },
  {
   "cell_type": "code",
   "execution_count": 40,
   "metadata": {},
   "outputs": [
    {
     "output_type": "execute_result",
     "data": {
      "text/plain": [
       "array([[0., 0., 0., 0., 1.],\n",
       "       [0., 0., 0., 0., 1.],\n",
       "       [0., 0., 0., 0., 1.],\n",
       "       ...,\n",
       "       [0., 0., 1., 0., 0.],\n",
       "       [0., 0., 0., 0., 1.],\n",
       "       [0., 0., 1., 0., 0.]], dtype=float32)"
      ]
     },
     "metadata": {},
     "execution_count": 40
    }
   ],
   "source": [
    "vec_train['diagnosis']"
   ]
  },
  {
   "source": [
    "### Initial Embedding weights for the Embedding layer"
   ],
   "cell_type": "markdown",
   "metadata": {}
  },
  {
   "cell_type": "code",
   "execution_count": 41,
   "metadata": {},
   "outputs": [],
   "source": [
    "# Load embedded matrix\n",
    "ac_weights = ku.to_categorical(sorted(index_ac.keys()), len(ac_index))\n",
    "#print('AC_WEIGHTS', ac_weights)\n",
    "rl_weights =  ku.to_categorical(sorted(index_rl.keys()), len(rl_index))\n",
    "#print('RL_WEIGHTS', rl_weights)\n"
   ]
  },
  {
   "source": [
    "### Saving the Processed Tensor and Other Support Data"
   ],
   "cell_type": "markdown",
   "metadata": {}
  },
  {
   "cell_type": "code",
   "execution_count": 42,
   "metadata": {},
   "outputs": [],
   "source": [
    "# args['processed_training_vec'] = vec_train\n",
    "# args['processed_test_vec'] = vec_test\n",
    "\n",
    "\n",
    "# # converting the weights into a dictionary and saving\n",
    "# weights = {'ac_weights':ac_weights, 'rl_weights':rl_weights, 'diagnoses':len(di_index)}\n",
    "# args['weights'] = weights\n",
    "\n",
    "# indexes = {'index_ac':index_ac, 'index_rl':index_rl, 'index_di':index_di}\n",
    "# args['indexes'] = indexes\n"
   ]
  },
  {
   "cell_type": "code",
   "execution_count": 48,
   "metadata": {},
   "outputs": [],
   "source": [
    "\n",
    "# saving the processed tensor\n",
    "with open(args['processed_training_vec'], 'wb') as fp:\n",
    "    pickle.dump(vec_train, fp, protocol=pickle.HIGHEST_PROTOCOL)\n",
    "with open(args['processed_test_vec'], 'wb') as fp:\n",
    "    pickle.dump(vec_test, fp, protocol=pickle.HIGHEST_PROTOCOL)\n",
    "\n",
    "# converting the weights into a dictionary and saving\n",
    "weights = {'ac_weights':ac_weights, 'rl_weights':rl_weights, 'diagnoses':len(di_index)}\n",
    "with open(args['weights'], 'wb') as fp:\n",
    "    pickle.dump(weights, fp, protocol=pickle.HIGHEST_PROTOCOL)\n",
    "\n",
    "# converting the weights into a dictionary and saving\n",
    "indexes = {'index_ac':index_ac, 'index_rl':index_rl, 'index_di':index_di}\n",
    "with open(args['indexes'], 'wb') as fp:\n",
    "    pickle.dump(indexes, fp, protocol=pickle.HIGHEST_PROTOCOL)\n",
    "\n",
    "#saving the arguements (args)\n",
    "with open(args['args'], 'wb') as fp:\n",
    "    pickle.dump(args, fp, protocol=pickle.HIGHEST_PROTOCOL)\n",
    "\n",
    "\n"
   ]
  },
  {
   "source": [
    "## 3. Dynamic Features with Attention"
   ],
   "cell_type": "markdown",
   "metadata": {}
  },
  {
   "cell_type": "code",
   "execution_count": null,
   "metadata": {},
   "outputs": [],
   "source": []
  },
  {
   "source": [
    "## 4. Dynamic and Static Features with Attention"
   ],
   "cell_type": "markdown",
   "metadata": {}
  },
  {
   "cell_type": "code",
   "execution_count": null,
   "metadata": {},
   "outputs": [],
   "source": []
  }
 ]
}