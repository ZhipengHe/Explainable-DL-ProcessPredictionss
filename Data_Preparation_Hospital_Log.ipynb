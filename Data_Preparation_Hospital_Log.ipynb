{
  "nbformat": 4,
  "nbformat_minor": 0,
  "metadata": {
    "colab": {
      "name": "Data Preparation_Hospital_Log.ipynb",
      "provenance": [],
      "collapsed_sections": []
    },
    "kernelspec": {
      "name": "python3",
      "display_name": "Python 3.8.10 64-bit ('TensorFlow25': conda)"
    },
    "language_info": {
      "name": "python",
      "version": "3.8.10"
    },
    "interpreter": {
      "hash": "fe8cdd8b0905bc5dc811ca6f6f67baa88326482ee2d1fcebca307d9df55426eb"
    }
  },
  "cells": [
    {
      "cell_type": "code",
      "metadata": {
        "colab": {
          "base_uri": "https://localhost:8080/"
        },
        "id": "3LtczMeS48oC",
        "outputId": "1e3983f0-ef88-46d8-eb4a-537a1f242932"
      },
      "source": [
        "import os\n",
        "import argparse\n",
        "import numpy as np\n",
        "import pandas as pd\n",
        "import seaborn as sns\n",
        "import matplotlib.pyplot as plt\n",
        "#import tensorflow as tf\n",
        "\n",
        "import sys\n",
        "import getopt\n",
        "\n",
        "\n",
        "import tensorflow.compat.v1 as tf\n",
        "\n",
        "from keras import backend as K\n",
        "from keras.models import Model\n",
        "from keras.preprocessing import sequence\n",
        "from keras.utils.data_utils import Sequence\n",
        "from keras.regularizers import l2\n",
        "from keras.constraints import non_neg, Constraint\n",
        "from sklearn.metrics import roc_auc_score, average_precision_score, precision_recall_curve\n",
        "\n",
        "\n",
        "from keras.layers import Input, Concatenate, Flatten\n",
        "from keras.layers.core import Dense\n",
        "from keras.layers.recurrent import LSTM\n",
        "from tensorflow.keras.optimizers import Nadam, Adam, SGD, Adagrad\n",
        "from keras.callbacks import EarlyStopping, ModelCheckpoint, ReduceLROnPlateau\n",
        "from keras.layers.normalization import BatchNormalization\n",
        "\n",
        "import csv\n",
        "import math\n",
        "import itertools\n",
        "\n",
        "from tensorflow.keras import utils as ku \n",
        "\n",
        "import pickle\n",
        "\n",
        "from nltk.util import ngrams\n",
        "\n",
        "import keras\n",
        "print(keras.__version__)\n",
        "\n",
        "\n",
        "# from google.colab import drive\n",
        "# drive.mount('/content/drive')"
      ],
      "execution_count": 1,
      "outputs": [
        {
          "output_type": "stream",
          "name": "stdout",
          "text": [
            "2.5.0\n"
          ]
        }
      ]
    },
    {
      "cell_type": "markdown",
      "metadata": {
        "id": "d14smtqnCAn0"
      },
      "source": [
        "#### Testing the main function section by section and Understanding the code\n",
        "\n",
        "Bemali Wickramanayake\n",
        "\n",
        "From this section of the notebook, we try to understand the support code that is written above by testing the main function section by section"
      ]
    },
    {
      "cell_type": "code",
      "metadata": {
        "id": "21m70iTvCSdK"
      },
      "source": [
        "MY_WORKSPACE_DIR = os.path.join(os.getcwd(),\"BPIC_11\")\n",
        "# MY_WORKSPACE_DIR = \"/content/drive/My Drive/BPIC_11/\""
      ],
      "execution_count": 2,
      "outputs": []
    },
    {
      "cell_type": "code",
      "metadata": {
        "id": "VLAea_0ZCc-k"
      },
      "source": [
        "def catch_parameter(opt):\n",
        "    \"\"\"Change the captured parameters names\"\"\"\n",
        "    switch = {'-h':'help', '-i':'imp', '-l':'lstm_act',\n",
        "              '-d':'dense_act', '-n':'norm_method', '-f':'folder',\n",
        "              '-m':'model_file', '-t':'model_type', '-a':'activity',\n",
        "              '-e':'file_name', '-b':'n_size', '-c':'l_size', '-o':'optim'}\n",
        "    try:\n",
        "        return switch[opt]\n",
        "    except:\n",
        "        raise Exception('Invalid option ' + opt)\n",
        "\n",
        "\n",
        "\n",
        "# --setup--\n",
        "#def main():\n",
        "#    \"\"\"Main aplication method\"\"\"\n",
        "timeformat = '%Y-%m-%dT%H:%M:%S.%f'\n",
        "parameters = dict()\n",
        "#   Parameters setting manual fixed or catched by console for batch operations\n",
        "   \n",
        "parameters['folder'] = os.path.join(MY_WORKSPACE_DIR, \"output_files\")\n",
        "# parameters['folder'] = \"/content/drive/My Drive/BPIC_11/output_files/\"\n",
        "#       Specific model training parameters\n",
        "parameters['imp'] = 1 # keras lstm implementation 1 cpu, 2 gpu\n",
        "parameters['lstm_act'] = None # optimization function see keras doc\n",
        "parameters['dense_act'] = None # optimization function see keras doc\n",
        "parameters['optim'] = 'Adagrad' #'Adagrad' # optimization function see keras doc\n",
        "parameters['norm_method'] = 'lognorm' # max, lognorm\n",
        "                # Model types --> specialized, concatenated, shared_cat, joint, shared\n",
        "parameters['model_type'] = 'shared_cat'\n",
        "parameters['l_size'] = 50 # LSTM layer sizes\n",
        "#       Generation parameters\n",
        "parameters['folder'] = os.path.join(MY_WORKSPACE_DIR, \"output_files\")\n",
        "# parameters['folder'] = \"/content/drive/My Drive/BPIC_11/output_files/\"\n",
        "parameters['file_name'] = os.path.join(MY_WORKSPACE_DIR, 'BPIC_2011_A.csv') #'BPI_2012_W_complete.xes.gz'\n",
        "parameters['processed_file_name'] = os.path.join(MY_WORKSPACE_DIR, 'BPIC_2011_Processed.csv') \n",
        "parameters['processed_training_vec'] = os.path.join(MY_WORKSPACE_DIR, 'vec_training.p')\n",
        "parameters['processed_test_vec'] = os.path.join(MY_WORKSPACE_DIR, 'vec_test.p')\n",
        "parameters['weights'] = os.path.join(MY_WORKSPACE_DIR, 'weights.p') \n",
        "parameters['indexes'] = os.path.join(MY_WORKSPACE_DIR, 'indexes.p')\n",
        "parameters['args'] = os.path.join(MY_WORKSPACE_DIR, 'args.p') \n",
        "\n",
        "    #parameters['model_file'] = 'model_rd_100 Nadam_02-0.90.h5'\n",
        "parameters['n_size'] = 15 # n-gram size\n",
        "\n",
        "parameters['log_name'] = 'bpic2011_Hospital_Data'\n",
        "\n",
        "parameters['task']='outcome'\n",
        "    \n",
        "    #training_model(timeformat, parameters)\n",
        "    \n",
        " \n",
        "\n",
        "\n",
        "#if __name__ == \"__main__\":\n",
        "#  main()"
      ],
      "execution_count": 3,
      "outputs": []
    },
    {
      "cell_type": "code",
      "metadata": {
        "id": "CQB4aYiQHl8m",
        "colab": {
          "base_uri": "https://localhost:8080/"
        },
        "outputId": "3a2fc705-6617-4499-99fd-53f335bc9c69"
      },
      "source": [
        "args = parameters\n",
        "args"
      ],
      "execution_count": 4,
      "outputs": [
        {
          "output_type": "execute_result",
          "data": {
            "text/plain": [
              "{'folder': 'c:\\\\Users\\\\mithr\\\\Documents\\\\GitHub\\\\Explainable-DL-ProcessPredictionss\\\\BPIC_11\\\\output_files',\n",
              " 'imp': 1,\n",
              " 'lstm_act': None,\n",
              " 'dense_act': None,\n",
              " 'optim': 'Adagrad',\n",
              " 'norm_method': 'lognorm',\n",
              " 'model_type': 'shared_cat',\n",
              " 'l_size': 50,\n",
              " 'file_name': 'c:\\\\Users\\\\mithr\\\\Documents\\\\GitHub\\\\Explainable-DL-ProcessPredictionss\\\\BPIC_11\\\\BPIC_2011_A.csv',\n",
              " 'processed_file_name': 'c:\\\\Users\\\\mithr\\\\Documents\\\\GitHub\\\\Explainable-DL-ProcessPredictionss\\\\BPIC_11\\\\BPIC_2011_Processed.csv',\n",
              " 'processed_training_vec': 'c:\\\\Users\\\\mithr\\\\Documents\\\\GitHub\\\\Explainable-DL-ProcessPredictionss\\\\BPIC_11\\\\vec_training.p',\n",
              " 'processed_test_vec': 'c:\\\\Users\\\\mithr\\\\Documents\\\\GitHub\\\\Explainable-DL-ProcessPredictionss\\\\BPIC_11\\\\vec_test.p',\n",
              " 'weights': 'c:\\\\Users\\\\mithr\\\\Documents\\\\GitHub\\\\Explainable-DL-ProcessPredictionss\\\\BPIC_11\\\\weights.p',\n",
              " 'indexes': 'c:\\\\Users\\\\mithr\\\\Documents\\\\GitHub\\\\Explainable-DL-ProcessPredictionss\\\\BPIC_11\\\\indexes.p',\n",
              " 'args': 'c:\\\\Users\\\\mithr\\\\Documents\\\\GitHub\\\\Explainable-DL-ProcessPredictionss\\\\BPIC_11\\\\args.p',\n",
              " 'n_size': 15,\n",
              " 'log_name': 'bpic2011_Hospital_Data',\n",
              " 'task': 'outcome'}"
            ]
          },
          "metadata": {},
          "execution_count": 4
        }
      ]
    },
    {
      "cell_type": "markdown",
      "metadata": {
        "id": "smQs5TIjOLGO"
      },
      "source": [
        "Read the log file based on the parameters given above"
      ]
    },
    {
      "cell_type": "code",
      "metadata": {
        "id": "NGwVWx-gO0dd",
        "colab": {
          "base_uri": "https://localhost:8080/",
          "height": 585
        },
        "outputId": "cc2fdb45-3db1-4b71-aadf-b7bcb630f3dc"
      },
      "source": [
        "# Create the event log dataframe\n",
        "\n",
        "# Dataframe creation\n",
        "log_df = pd.read_csv(args['file_name'])\n",
        "log_df = log_df.reset_index(drop=True)\n",
        "\n",
        "log_df"
      ],
      "execution_count": 5,
      "outputs": [
        {
          "output_type": "execute_result",
          "data": {
            "text/plain": [
              "        caseid                                  activity  \\\n",
              "0            0                   1e consult poliklinisch   \n",
              "1            0  administratief tarief       - eerste pol   \n",
              "2            0   verlosk.-gynaec. korte kaart kosten-out   \n",
              "3            0           echografie  - genitalia interna   \n",
              "4            0                   1e consult poliklinisch   \n",
              "...        ...                                       ...   \n",
              "147059    1141         screening antistoffen erytrocyten   \n",
              "147060    1141     differentiatie leukocyten - handmatig   \n",
              "147061    1141                               ordertarief   \n",
              "147062    1141                   1e consult poliklinisch   \n",
              "147063    1141  administratief tarief       - eerste pol   \n",
              "\n",
              "                             department   Timestamp activity_code  executions  \\\n",
              "0                          Radiotherapy   3/01/2005        410100           1   \n",
              "1                          Radiotherapy   3/01/2005        419100           1   \n",
              "2                          Nursing ward   5/01/2005         10107           1   \n",
              "3       Obstetrics & Gynaecology clinic   5/01/2005       339486E           1   \n",
              "4                          Nursing ward   5/01/2005        410100           1   \n",
              "...                                 ...         ...           ...         ...   \n",
              "147059   General Lab Clinical Chemistry  18/03/2008        378607           1   \n",
              "147060   General Lab Clinical Chemistry  18/03/2008       379000A           1   \n",
              "147061   General Lab Clinical Chemistry  18/03/2008        379999           1   \n",
              "147062  Obstetrics & Gynaecology clinic  18/03/2008        410100           1   \n",
              "147063  Obstetrics & Gynaecology clinic  18/03/2008        419100           1   \n",
              "\n",
              "       producer_code    section  age Diagnosis_code  treatment_code  Year  \\\n",
              "0               SRTH  Section 5   33            106              23     0   \n",
              "1               SRTH  Section 5   33            106              23     0   \n",
              "2               SGEH  Section 2   33            106              23     0   \n",
              "3               SGEC  Section 2   33            106              23     0   \n",
              "4               SGEH  Section 2   33            106              23     0   \n",
              "...              ...        ...  ...            ...             ...   ...   \n",
              "147059          BLOB  Section 4   60            M13             803     0   \n",
              "147060          HAEM  Section 4   60            M13             803     0   \n",
              "147061          CRLA  Section 4   60            M13             803     0   \n",
              "147062          SGNA  Section 2   60            M13             803     0   \n",
              "147063          SGNA  Section 2   60            M13             803     0   \n",
              "\n",
              "                   Diagnosis  \n",
              "0       gynecological tumors  \n",
              "1       gynecological tumors  \n",
              "2       gynecological tumors  \n",
              "3       gynecological tumors  \n",
              "4       gynecological tumors  \n",
              "...                      ...  \n",
              "147059         Cancer-Cervix  \n",
              "147060         Cancer-Cervix  \n",
              "147061         Cancer-Cervix  \n",
              "147062         Cancer-Cervix  \n",
              "147063         Cancer-Cervix  \n",
              "\n",
              "[147064 rows x 13 columns]"
            ],
            "text/html": "<div>\n<style scoped>\n    .dataframe tbody tr th:only-of-type {\n        vertical-align: middle;\n    }\n\n    .dataframe tbody tr th {\n        vertical-align: top;\n    }\n\n    .dataframe thead th {\n        text-align: right;\n    }\n</style>\n<table border=\"1\" class=\"dataframe\">\n  <thead>\n    <tr style=\"text-align: right;\">\n      <th></th>\n      <th>caseid</th>\n      <th>activity</th>\n      <th>department</th>\n      <th>Timestamp</th>\n      <th>activity_code</th>\n      <th>executions</th>\n      <th>producer_code</th>\n      <th>section</th>\n      <th>age</th>\n      <th>Diagnosis_code</th>\n      <th>treatment_code</th>\n      <th>Year</th>\n      <th>Diagnosis</th>\n    </tr>\n  </thead>\n  <tbody>\n    <tr>\n      <th>0</th>\n      <td>0</td>\n      <td>1e consult poliklinisch</td>\n      <td>Radiotherapy</td>\n      <td>3/01/2005</td>\n      <td>410100</td>\n      <td>1</td>\n      <td>SRTH</td>\n      <td>Section 5</td>\n      <td>33</td>\n      <td>106</td>\n      <td>23</td>\n      <td>0</td>\n      <td>gynecological tumors</td>\n    </tr>\n    <tr>\n      <th>1</th>\n      <td>0</td>\n      <td>administratief tarief       - eerste pol</td>\n      <td>Radiotherapy</td>\n      <td>3/01/2005</td>\n      <td>419100</td>\n      <td>1</td>\n      <td>SRTH</td>\n      <td>Section 5</td>\n      <td>33</td>\n      <td>106</td>\n      <td>23</td>\n      <td>0</td>\n      <td>gynecological tumors</td>\n    </tr>\n    <tr>\n      <th>2</th>\n      <td>0</td>\n      <td>verlosk.-gynaec. korte kaart kosten-out</td>\n      <td>Nursing ward</td>\n      <td>5/01/2005</td>\n      <td>10107</td>\n      <td>1</td>\n      <td>SGEH</td>\n      <td>Section 2</td>\n      <td>33</td>\n      <td>106</td>\n      <td>23</td>\n      <td>0</td>\n      <td>gynecological tumors</td>\n    </tr>\n    <tr>\n      <th>3</th>\n      <td>0</td>\n      <td>echografie  - genitalia interna</td>\n      <td>Obstetrics &amp; Gynaecology clinic</td>\n      <td>5/01/2005</td>\n      <td>339486E</td>\n      <td>1</td>\n      <td>SGEC</td>\n      <td>Section 2</td>\n      <td>33</td>\n      <td>106</td>\n      <td>23</td>\n      <td>0</td>\n      <td>gynecological tumors</td>\n    </tr>\n    <tr>\n      <th>4</th>\n      <td>0</td>\n      <td>1e consult poliklinisch</td>\n      <td>Nursing ward</td>\n      <td>5/01/2005</td>\n      <td>410100</td>\n      <td>1</td>\n      <td>SGEH</td>\n      <td>Section 2</td>\n      <td>33</td>\n      <td>106</td>\n      <td>23</td>\n      <td>0</td>\n      <td>gynecological tumors</td>\n    </tr>\n    <tr>\n      <th>...</th>\n      <td>...</td>\n      <td>...</td>\n      <td>...</td>\n      <td>...</td>\n      <td>...</td>\n      <td>...</td>\n      <td>...</td>\n      <td>...</td>\n      <td>...</td>\n      <td>...</td>\n      <td>...</td>\n      <td>...</td>\n      <td>...</td>\n    </tr>\n    <tr>\n      <th>147059</th>\n      <td>1141</td>\n      <td>screening antistoffen erytrocyten</td>\n      <td>General Lab Clinical Chemistry</td>\n      <td>18/03/2008</td>\n      <td>378607</td>\n      <td>1</td>\n      <td>BLOB</td>\n      <td>Section 4</td>\n      <td>60</td>\n      <td>M13</td>\n      <td>803</td>\n      <td>0</td>\n      <td>Cancer-Cervix</td>\n    </tr>\n    <tr>\n      <th>147060</th>\n      <td>1141</td>\n      <td>differentiatie leukocyten - handmatig</td>\n      <td>General Lab Clinical Chemistry</td>\n      <td>18/03/2008</td>\n      <td>379000A</td>\n      <td>1</td>\n      <td>HAEM</td>\n      <td>Section 4</td>\n      <td>60</td>\n      <td>M13</td>\n      <td>803</td>\n      <td>0</td>\n      <td>Cancer-Cervix</td>\n    </tr>\n    <tr>\n      <th>147061</th>\n      <td>1141</td>\n      <td>ordertarief</td>\n      <td>General Lab Clinical Chemistry</td>\n      <td>18/03/2008</td>\n      <td>379999</td>\n      <td>1</td>\n      <td>CRLA</td>\n      <td>Section 4</td>\n      <td>60</td>\n      <td>M13</td>\n      <td>803</td>\n      <td>0</td>\n      <td>Cancer-Cervix</td>\n    </tr>\n    <tr>\n      <th>147062</th>\n      <td>1141</td>\n      <td>1e consult poliklinisch</td>\n      <td>Obstetrics &amp; Gynaecology clinic</td>\n      <td>18/03/2008</td>\n      <td>410100</td>\n      <td>1</td>\n      <td>SGNA</td>\n      <td>Section 2</td>\n      <td>60</td>\n      <td>M13</td>\n      <td>803</td>\n      <td>0</td>\n      <td>Cancer-Cervix</td>\n    </tr>\n    <tr>\n      <th>147063</th>\n      <td>1141</td>\n      <td>administratief tarief       - eerste pol</td>\n      <td>Obstetrics &amp; Gynaecology clinic</td>\n      <td>18/03/2008</td>\n      <td>419100</td>\n      <td>1</td>\n      <td>SGNA</td>\n      <td>Section 2</td>\n      <td>60</td>\n      <td>M13</td>\n      <td>803</td>\n      <td>0</td>\n      <td>Cancer-Cervix</td>\n    </tr>\n  </tbody>\n</table>\n<p>147064 rows × 13 columns</p>\n</div>"
          },
          "metadata": {},
          "execution_count": 5
        }
      ]
    },
    {
      "cell_type": "markdown",
      "metadata": {
        "id": "AByVNGmfYcBw"
      },
      "source": [
        "#### Support Function 1: Add calculated Features\n",
        "Author: Bemali Wickramanayake\n",
        "Function: Adds features to the existing dataframe\n",
        "* end_timestamp: The existing dataset has only one timestamp. we create the end timestamp using the preceding activity's timestamp\n",
        "* case_len: Total trace duration for a given case - this will be a static variable\n",
        "* tbtw: Time between two consecutive activities"
      ]
    },
    {
      "cell_type": "code",
      "metadata": {
        "id": "0oEqTi9UO_2-"
      },
      "source": [
        "# \n",
        "\n",
        "# ==============================================================================\n",
        "# Data Preprocessing - Add calculated features\n",
        "# =============================================================================\n",
        "\n",
        "#df = log_df\n",
        "\n",
        "def add_calculated_features(df):\n",
        "\n",
        "  #Adds\n",
        "  # end_timestamp\n",
        "  # case_len : total case duration from the start to end\n",
        "  # tbtw : activity length\n",
        "\n",
        "  df['Timestamp'] = pd.to_datetime(df['Timestamp'], format='%d/%m/%Y')\n",
        "\n",
        "  column_list = ['caseid', 'activity', 'department', 'Timestamp', 'activity_code',\n",
        "       'executions', 'producer_code', 'section', 'age', 'Diagnosis_code',\n",
        "       'treatment_code', 'Year', 'Diagnosis', 'case_len','tbtw']\n",
        "  new_column_list = ['caseid', 'activity', 'department', 'start_timestamp', 'activity_code',\n",
        "       'executions', 'producer_code', 'section', 'age', 'diagnosis',\n",
        "       'treatment_code', 'years', 'diagnosis_group', 'case_len','tbtw']\n",
        "\n",
        "  df_new = pd.DataFrame(columns=column_list)\n",
        "\n",
        "  cases = df.caseid.unique()\n",
        "  for case in cases:\n",
        "\n",
        "    df_temp = df[df['caseid']==case] \n",
        "    df_temp['case_len']=max(df_temp['Timestamp'])-min(df_temp['Timestamp'])\n",
        "    df_temp['tbtw']=df_temp['Timestamp']-min(df_temp['Timestamp']) #time lapsed from the start of first activity\n",
        "\n",
        "    df_new = df_new.append(df_temp)\n",
        "\n",
        "\n",
        "  df_new = df_new.drop_duplicates()\n",
        "  df_new['case_len']= pd.to_numeric(df_new['case_len'].dt.days, downcast='integer')\n",
        "  df_new['tbtw']= pd.to_numeric(df_new['tbtw'].dt.days, downcast='integer')\n",
        "  df_new.columns= new_column_list\n",
        "\n",
        "  return df_new\n",
        "\n",
        "\n",
        "\n",
        "\n"
      ],
      "execution_count": 12,
      "outputs": []
    },
    {
      "cell_type": "code",
      "metadata": {
        "id": "sJ4dRb2YPH9L",
        "colab": {
          "base_uri": "https://localhost:8080/",
          "height": 1000
        },
        "outputId": "5212d3eb-3bf9-450e-d0cc-7d15d903b324",
        "tags": [
          "outputPrepend"
        ]
      },
      "source": [
        "df_log = add_calculated_features(log_df)\n",
        "df_log.head()"
      ],
      "execution_count": 13,
      "outputs": [
        {
          "output_type": "stream",
          "name": "stderr",
          "text": [
            "ctivity\n",
            "<ipython-input-12-fb60c3b019a9>:31: SettingWithCopyWarning: \n",
            "A value is trying to be set on a copy of a slice from a DataFrame.\n",
            "Try using .loc[row_indexer,col_indexer] = value instead\n",
            "\n",
            "See the caveats in the documentation: https://pandas.pydata.org/pandas-docs/stable/user_guide/indexing.html#returning-a-view-versus-a-copy\n",
            "  df_temp['case_len']=max(df_temp['Timestamp'])-min(df_temp['Timestamp'])\n",
            "<ipython-input-12-fb60c3b019a9>:32: SettingWithCopyWarning: \n",
            "A value is trying to be set on a copy of a slice from a DataFrame.\n",
            "Try using .loc[row_indexer,col_indexer] = value instead\n",
            "\n",
            "See the caveats in the documentation: https://pandas.pydata.org/pandas-docs/stable/user_guide/indexing.html#returning-a-view-versus-a-copy\n",
            "  df_temp['tbtw']=df_temp['Timestamp']-min(df_temp['Timestamp']) #time lapsed from the start of first activity\n",
            "<ipython-input-12-fb60c3b019a9>:31: SettingWithCopyWarning: \n",
            "A value is trying to be set on a copy of a slice from a DataFrame.\n",
            "Try using .loc[row_indexer,col_indexer] = value instead\n",
            "\n",
            "See the caveats in the documentation: https://pandas.pydata.org/pandas-docs/stable/user_guide/indexing.html#returning-a-view-versus-a-copy\n",
            "  df_temp['case_len']=max(df_temp['Timestamp'])-min(df_temp['Timestamp'])\n",
            "<ipython-input-12-fb60c3b019a9>:32: SettingWithCopyWarning: \n",
            "A value is trying to be set on a copy of a slice from a DataFrame.\n",
            "Try using .loc[row_indexer,col_indexer] = value instead\n",
            "\n",
            "See the caveats in the documentation: https://pandas.pydata.org/pandas-docs/stable/user_guide/indexing.html#returning-a-view-versus-a-copy\n",
            "  df_temp['tbtw']=df_temp['Timestamp']-min(df_temp['Timestamp']) #time lapsed from the start of first activity\n",
            "<ipython-input-12-fb60c3b019a9>:31: SettingWithCopyWarning: \n",
            "A value is trying to be set on a copy of a slice from a DataFrame.\n",
            "Try using .loc[row_indexer,col_indexer] = value instead\n",
            "\n",
            "See the caveats in the documentation: https://pandas.pydata.org/pandas-docs/stable/user_guide/indexing.html#returning-a-view-versus-a-copy\n",
            "  df_temp['case_len']=max(df_temp['Timestamp'])-min(df_temp['Timestamp'])\n",
            "<ipython-input-12-fb60c3b019a9>:32: SettingWithCopyWarning: \n",
            "A value is trying to be set on a copy of a slice from a DataFrame.\n",
            "Try using .loc[row_indexer,col_indexer] = value instead\n",
            "\n",
            "See the caveats in the documentation: https://pandas.pydata.org/pandas-docs/stable/user_guide/indexing.html#returning-a-view-versus-a-copy\n",
            "  df_temp['tbtw']=df_temp['Timestamp']-min(df_temp['Timestamp']) #time lapsed from the start of first activity\n",
            "<ipython-input-12-fb60c3b019a9>:31: SettingWithCopyWarning: \n",
            "A value is trying to be set on a copy of a slice from a DataFrame.\n",
            "Try using .loc[row_indexer,col_indexer] = value instead\n",
            "\n",
            "See the caveats in the documentation: https://pandas.pydata.org/pandas-docs/stable/user_guide/indexing.html#returning-a-view-versus-a-copy\n",
            "  df_temp['case_len']=max(df_temp['Timestamp'])-min(df_temp['Timestamp'])\n",
            "<ipython-input-12-fb60c3b019a9>:32: SettingWithCopyWarning: \n",
            "A value is trying to be set on a copy of a slice from a DataFrame.\n",
            "Try using .loc[row_indexer,col_indexer] = value instead\n",
            "\n",
            "See the caveats in the documentation: https://pandas.pydata.org/pandas-docs/stable/user_guide/indexing.html#returning-a-view-versus-a-copy\n",
            "  df_temp['tbtw']=df_temp['Timestamp']-min(df_temp['Timestamp']) #time lapsed from the start of first activity\n",
            "<ipython-input-12-fb60c3b019a9>:31: SettingWithCopyWarning: \n",
            "A value is trying to be set on a copy of a slice from a DataFrame.\n",
            "Try using .loc[row_indexer,col_indexer] = value instead\n",
            "\n",
            "See the caveats in the documentation: https://pandas.pydata.org/pandas-docs/stable/user_guide/indexing.html#returning-a-view-versus-a-copy\n",
            "  df_temp['case_len']=max(df_temp['Timestamp'])-min(df_temp['Timestamp'])\n",
            "<ipython-input-12-fb60c3b019a9>:32: SettingWithCopyWarning: \n",
            "A value is trying to be set on a copy of a slice from a DataFrame.\n",
            "Try using .loc[row_indexer,col_indexer] = value instead\n",
            "\n",
            "See the caveats in the documentation: https://pandas.pydata.org/pandas-docs/stable/user_guide/indexing.html#returning-a-view-versus-a-copy\n",
            "  df_temp['tbtw']=df_temp['Timestamp']-min(df_temp['Timestamp']) #time lapsed from the start of first activity\n",
            "<ipython-input-12-fb60c3b019a9>:31: SettingWithCopyWarning: \n",
            "A value is trying to be set on a copy of a slice from a DataFrame.\n",
            "Try using .loc[row_indexer,col_indexer] = value instead\n",
            "\n",
            "See the caveats in the documentation: https://pandas.pydata.org/pandas-docs/stable/user_guide/indexing.html#returning-a-view-versus-a-copy\n",
            "  df_temp['case_len']=max(df_temp['Timestamp'])-min(df_temp['Timestamp'])\n",
            "<ipython-input-12-fb60c3b019a9>:32: SettingWithCopyWarning: \n",
            "A value is trying to be set on a copy of a slice from a DataFrame.\n",
            "Try using .loc[row_indexer,col_indexer] = value instead\n",
            "\n",
            "See the caveats in the documentation: https://pandas.pydata.org/pandas-docs/stable/user_guide/indexing.html#returning-a-view-versus-a-copy\n",
            "  df_temp['tbtw']=df_temp['Timestamp']-min(df_temp['Timestamp']) #time lapsed from the start of first activity\n",
            "<ipython-input-12-fb60c3b019a9>:31: SettingWithCopyWarning: \n",
            "A value is trying to be set on a copy of a slice from a DataFrame.\n",
            "Try using .loc[row_indexer,col_indexer] = value instead\n",
            "\n",
            "See the caveats in the documentation: https://pandas.pydata.org/pandas-docs/stable/user_guide/indexing.html#returning-a-view-versus-a-copy\n",
            "  df_temp['case_len']=max(df_temp['Timestamp'])-min(df_temp['Timestamp'])\n",
            "<ipython-input-12-fb60c3b019a9>:32: SettingWithCopyWarning: \n",
            "A value is trying to be set on a copy of a slice from a DataFrame.\n",
            "Try using .loc[row_indexer,col_indexer] = value instead\n",
            "\n",
            "See the caveats in the documentation: https://pandas.pydata.org/pandas-docs/stable/user_guide/indexing.html#returning-a-view-versus-a-copy\n",
            "  df_temp['tbtw']=df_temp['Timestamp']-min(df_temp['Timestamp']) #time lapsed from the start of first activity\n",
            "<ipython-input-12-fb60c3b019a9>:31: SettingWithCopyWarning: \n",
            "A value is trying to be set on a copy of a slice from a DataFrame.\n",
            "Try using .loc[row_indexer,col_indexer] = value instead\n",
            "\n",
            "See the caveats in the documentation: https://pandas.pydata.org/pandas-docs/stable/user_guide/indexing.html#returning-a-view-versus-a-copy\n",
            "  df_temp['case_len']=max(df_temp['Timestamp'])-min(df_temp['Timestamp'])\n",
            "<ipython-input-12-fb60c3b019a9>:32: SettingWithCopyWarning: \n",
            "A value is trying to be set on a copy of a slice from a DataFrame.\n",
            "Try using .loc[row_indexer,col_indexer] = value instead\n",
            "\n",
            "See the caveats in the documentation: https://pandas.pydata.org/pandas-docs/stable/user_guide/indexing.html#returning-a-view-versus-a-copy\n",
            "  df_temp['tbtw']=df_temp['Timestamp']-min(df_temp['Timestamp']) #time lapsed from the start of first activity\n",
            "<ipython-input-12-fb60c3b019a9>:31: SettingWithCopyWarning: \n",
            "A value is trying to be set on a copy of a slice from a DataFrame.\n",
            "Try using .loc[row_indexer,col_indexer] = value instead\n",
            "\n",
            "See the caveats in the documentation: https://pandas.pydata.org/pandas-docs/stable/user_guide/indexing.html#returning-a-view-versus-a-copy\n",
            "  df_temp['case_len']=max(df_temp['Timestamp'])-min(df_temp['Timestamp'])\n",
            "<ipython-input-12-fb60c3b019a9>:32: SettingWithCopyWarning: \n",
            "A value is trying to be set on a copy of a slice from a DataFrame.\n",
            "Try using .loc[row_indexer,col_indexer] = value instead\n",
            "\n",
            "See the caveats in the documentation: https://pandas.pydata.org/pandas-docs/stable/user_guide/indexing.html#returning-a-view-versus-a-copy\n",
            "  df_temp['tbtw']=df_temp['Timestamp']-min(df_temp['Timestamp']) #time lapsed from the start of first activity\n",
            "<ipython-input-12-fb60c3b019a9>:31: SettingWithCopyWarning: \n",
            "A value is trying to be set on a copy of a slice from a DataFrame.\n",
            "Try using .loc[row_indexer,col_indexer] = value instead\n",
            "\n",
            "See the caveats in the documentation: https://pandas.pydata.org/pandas-docs/stable/user_guide/indexing.html#returning-a-view-versus-a-copy\n",
            "  df_temp['case_len']=max(df_temp['Timestamp'])-min(df_temp['Timestamp'])\n",
            "<ipython-input-12-fb60c3b019a9>:32: SettingWithCopyWarning: \n",
            "A value is trying to be set on a copy of a slice from a DataFrame.\n",
            "Try using .loc[row_indexer,col_indexer] = value instead\n",
            "\n",
            "See the caveats in the documentation: https://pandas.pydata.org/pandas-docs/stable/user_guide/indexing.html#returning-a-view-versus-a-copy\n",
            "  df_temp['tbtw']=df_temp['Timestamp']-min(df_temp['Timestamp']) #time lapsed from the start of first activity\n",
            "<ipython-input-12-fb60c3b019a9>:31: SettingWithCopyWarning: \n",
            "A value is trying to be set on a copy of a slice from a DataFrame.\n",
            "Try using .loc[row_indexer,col_indexer] = value instead\n",
            "\n",
            "See the caveats in the documentation: https://pandas.pydata.org/pandas-docs/stable/user_guide/indexing.html#returning-a-view-versus-a-copy\n",
            "  df_temp['case_len']=max(df_temp['Timestamp'])-min(df_temp['Timestamp'])\n",
            "<ipython-input-12-fb60c3b019a9>:32: SettingWithCopyWarning: \n",
            "A value is trying to be set on a copy of a slice from a DataFrame.\n",
            "Try using .loc[row_indexer,col_indexer] = value instead\n",
            "\n",
            "See the caveats in the documentation: https://pandas.pydata.org/pandas-docs/stable/user_guide/indexing.html#returning-a-view-versus-a-copy\n",
            "  df_temp['tbtw']=df_temp['Timestamp']-min(df_temp['Timestamp']) #time lapsed from the start of first activity\n",
            "<ipython-input-12-fb60c3b019a9>:31: SettingWithCopyWarning: \n",
            "A value is trying to be set on a copy of a slice from a DataFrame.\n",
            "Try using .loc[row_indexer,col_indexer] = value instead\n",
            "\n",
            "See the caveats in the documentation: https://pandas.pydata.org/pandas-docs/stable/user_guide/indexing.html#returning-a-view-versus-a-copy\n",
            "  df_temp['case_len']=max(df_temp['Timestamp'])-min(df_temp['Timestamp'])\n",
            "<ipython-input-12-fb60c3b019a9>:32: SettingWithCopyWarning: \n",
            "A value is trying to be set on a copy of a slice from a DataFrame.\n",
            "Try using .loc[row_indexer,col_indexer] = value instead\n",
            "\n",
            "See the caveats in the documentation: https://pandas.pydata.org/pandas-docs/stable/user_guide/indexing.html#returning-a-view-versus-a-copy\n",
            "  df_temp['tbtw']=df_temp['Timestamp']-min(df_temp['Timestamp']) #time lapsed from the start of first activity\n",
            "<ipython-input-12-fb60c3b019a9>:31: SettingWithCopyWarning: \n",
            "A value is trying to be set on a copy of a slice from a DataFrame.\n",
            "Try using .loc[row_indexer,col_indexer] = value instead\n",
            "\n",
            "See the caveats in the documentation: https://pandas.pydata.org/pandas-docs/stable/user_guide/indexing.html#returning-a-view-versus-a-copy\n",
            "  df_temp['case_len']=max(df_temp['Timestamp'])-min(df_temp['Timestamp'])\n",
            "<ipython-input-12-fb60c3b019a9>:32: SettingWithCopyWarning: \n",
            "A value is trying to be set on a copy of a slice from a DataFrame.\n",
            "Try using .loc[row_indexer,col_indexer] = value instead\n",
            "\n",
            "See the caveats in the documentation: https://pandas.pydata.org/pandas-docs/stable/user_guide/indexing.html#returning-a-view-versus-a-copy\n",
            "  df_temp['tbtw']=df_temp['Timestamp']-min(df_temp['Timestamp']) #time lapsed from the start of first activity\n",
            "<ipython-input-12-fb60c3b019a9>:31: SettingWithCopyWarning: \n",
            "A value is trying to be set on a copy of a slice from a DataFrame.\n",
            "Try using .loc[row_indexer,col_indexer] = value instead\n",
            "\n",
            "See the caveats in the documentation: https://pandas.pydata.org/pandas-docs/stable/user_guide/indexing.html#returning-a-view-versus-a-copy\n",
            "  df_temp['case_len']=max(df_temp['Timestamp'])-min(df_temp['Timestamp'])\n",
            "<ipython-input-12-fb60c3b019a9>:32: SettingWithCopyWarning: \n",
            "A value is trying to be set on a copy of a slice from a DataFrame.\n",
            "Try using .loc[row_indexer,col_indexer] = value instead\n",
            "\n",
            "See the caveats in the documentation: https://pandas.pydata.org/pandas-docs/stable/user_guide/indexing.html#returning-a-view-versus-a-copy\n",
            "  df_temp['tbtw']=df_temp['Timestamp']-min(df_temp['Timestamp']) #time lapsed from the start of first activity\n",
            "<ipython-input-12-fb60c3b019a9>:31: SettingWithCopyWarning: \n",
            "A value is trying to be set on a copy of a slice from a DataFrame.\n",
            "Try using .loc[row_indexer,col_indexer] = value instead\n",
            "\n",
            "See the caveats in the documentation: https://pandas.pydata.org/pandas-docs/stable/user_guide/indexing.html#returning-a-view-versus-a-copy\n",
            "  df_temp['case_len']=max(df_temp['Timestamp'])-min(df_temp['Timestamp'])\n",
            "<ipython-input-12-fb60c3b019a9>:32: SettingWithCopyWarning: \n",
            "A value is trying to be set on a copy of a slice from a DataFrame.\n",
            "Try using .loc[row_indexer,col_indexer] = value instead\n",
            "\n",
            "See the caveats in the documentation: https://pandas.pydata.org/pandas-docs/stable/user_guide/indexing.html#returning-a-view-versus-a-copy\n",
            "  df_temp['tbtw']=df_temp['Timestamp']-min(df_temp['Timestamp']) #time lapsed from the start of first activity\n",
            "<ipython-input-12-fb60c3b019a9>:31: SettingWithCopyWarning: \n",
            "A value is trying to be set on a copy of a slice from a DataFrame.\n",
            "Try using .loc[row_indexer,col_indexer] = value instead\n",
            "\n",
            "See the caveats in the documentation: https://pandas.pydata.org/pandas-docs/stable/user_guide/indexing.html#returning-a-view-versus-a-copy\n",
            "  df_temp['case_len']=max(df_temp['Timestamp'])-min(df_temp['Timestamp'])\n",
            "<ipython-input-12-fb60c3b019a9>:32: SettingWithCopyWarning: \n",
            "A value is trying to be set on a copy of a slice from a DataFrame.\n",
            "Try using .loc[row_indexer,col_indexer] = value instead\n",
            "\n",
            "See the caveats in the documentation: https://pandas.pydata.org/pandas-docs/stable/user_guide/indexing.html#returning-a-view-versus-a-copy\n",
            "  df_temp['tbtw']=df_temp['Timestamp']-min(df_temp['Timestamp']) #time lapsed from the start of first activity\n",
            "<ipython-input-12-fb60c3b019a9>:31: SettingWithCopyWarning: \n",
            "A value is trying to be set on a copy of a slice from a DataFrame.\n",
            "Try using .loc[row_indexer,col_indexer] = value instead\n",
            "\n",
            "See the caveats in the documentation: https://pandas.pydata.org/pandas-docs/stable/user_guide/indexing.html#returning-a-view-versus-a-copy\n",
            "  df_temp['case_len']=max(df_temp['Timestamp'])-min(df_temp['Timestamp'])\n",
            "<ipython-input-12-fb60c3b019a9>:32: SettingWithCopyWarning: \n",
            "A value is trying to be set on a copy of a slice from a DataFrame.\n",
            "Try using .loc[row_indexer,col_indexer] = value instead\n",
            "\n",
            "See the caveats in the documentation: https://pandas.pydata.org/pandas-docs/stable/user_guide/indexing.html#returning-a-view-versus-a-copy\n",
            "  df_temp['tbtw']=df_temp['Timestamp']-min(df_temp['Timestamp']) #time lapsed from the start of first activity\n",
            "<ipython-input-12-fb60c3b019a9>:31: SettingWithCopyWarning: \n",
            "A value is trying to be set on a copy of a slice from a DataFrame.\n",
            "Try using .loc[row_indexer,col_indexer] = value instead\n",
            "\n",
            "See the caveats in the documentation: https://pandas.pydata.org/pandas-docs/stable/user_guide/indexing.html#returning-a-view-versus-a-copy\n",
            "  df_temp['case_len']=max(df_temp['Timestamp'])-min(df_temp['Timestamp'])\n",
            "<ipython-input-12-fb60c3b019a9>:32: SettingWithCopyWarning: \n",
            "A value is trying to be set on a copy of a slice from a DataFrame.\n",
            "Try using .loc[row_indexer,col_indexer] = value instead\n",
            "\n",
            "See the caveats in the documentation: https://pandas.pydata.org/pandas-docs/stable/user_guide/indexing.html#returning-a-view-versus-a-copy\n",
            "  df_temp['tbtw']=df_temp['Timestamp']-min(df_temp['Timestamp']) #time lapsed from the start of first activity\n",
            "<ipython-input-12-fb60c3b019a9>:31: SettingWithCopyWarning: \n",
            "A value is trying to be set on a copy of a slice from a DataFrame.\n",
            "Try using .loc[row_indexer,col_indexer] = value instead\n",
            "\n",
            "See the caveats in the documentation: https://pandas.pydata.org/pandas-docs/stable/user_guide/indexing.html#returning-a-view-versus-a-copy\n",
            "  df_temp['case_len']=max(df_temp['Timestamp'])-min(df_temp['Timestamp'])\n",
            "<ipython-input-12-fb60c3b019a9>:32: SettingWithCopyWarning: \n",
            "A value is trying to be set on a copy of a slice from a DataFrame.\n",
            "Try using .loc[row_indexer,col_indexer] = value instead\n",
            "\n",
            "See the caveats in the documentation: https://pandas.pydata.org/pandas-docs/stable/user_guide/indexing.html#returning-a-view-versus-a-copy\n",
            "  df_temp['tbtw']=df_temp['Timestamp']-min(df_temp['Timestamp']) #time lapsed from the start of first activity\n",
            "<ipython-input-12-fb60c3b019a9>:31: SettingWithCopyWarning: \n",
            "A value is trying to be set on a copy of a slice from a DataFrame.\n",
            "Try using .loc[row_indexer,col_indexer] = value instead\n",
            "\n",
            "See the caveats in the documentation: https://pandas.pydata.org/pandas-docs/stable/user_guide/indexing.html#returning-a-view-versus-a-copy\n",
            "  df_temp['case_len']=max(df_temp['Timestamp'])-min(df_temp['Timestamp'])\n",
            "<ipython-input-12-fb60c3b019a9>:32: SettingWithCopyWarning: \n",
            "A value is trying to be set on a copy of a slice from a DataFrame.\n",
            "Try using .loc[row_indexer,col_indexer] = value instead\n",
            "\n",
            "See the caveats in the documentation: https://pandas.pydata.org/pandas-docs/stable/user_guide/indexing.html#returning-a-view-versus-a-copy\n",
            "  df_temp['tbtw']=df_temp['Timestamp']-min(df_temp['Timestamp']) #time lapsed from the start of first activity\n",
            "<ipython-input-12-fb60c3b019a9>:31: SettingWithCopyWarning: \n",
            "A value is trying to be set on a copy of a slice from a DataFrame.\n",
            "Try using .loc[row_indexer,col_indexer] = value instead\n",
            "\n",
            "See the caveats in the documentation: https://pandas.pydata.org/pandas-docs/stable/user_guide/indexing.html#returning-a-view-versus-a-copy\n",
            "  df_temp['case_len']=max(df_temp['Timestamp'])-min(df_temp['Timestamp'])\n",
            "<ipython-input-12-fb60c3b019a9>:32: SettingWithCopyWarning: \n",
            "A value is trying to be set on a copy of a slice from a DataFrame.\n",
            "Try using .loc[row_indexer,col_indexer] = value instead\n",
            "\n",
            "See the caveats in the documentation: https://pandas.pydata.org/pandas-docs/stable/user_guide/indexing.html#returning-a-view-versus-a-copy\n",
            "  df_temp['tbtw']=df_temp['Timestamp']-min(df_temp['Timestamp']) #time lapsed from the start of first activity\n",
            "<ipython-input-12-fb60c3b019a9>:31: SettingWithCopyWarning: \n",
            "A value is trying to be set on a copy of a slice from a DataFrame.\n",
            "Try using .loc[row_indexer,col_indexer] = value instead\n",
            "\n",
            "See the caveats in the documentation: https://pandas.pydata.org/pandas-docs/stable/user_guide/indexing.html#returning-a-view-versus-a-copy\n",
            "  df_temp['case_len']=max(df_temp['Timestamp'])-min(df_temp['Timestamp'])\n",
            "<ipython-input-12-fb60c3b019a9>:32: SettingWithCopyWarning: \n",
            "A value is trying to be set on a copy of a slice from a DataFrame.\n",
            "Try using .loc[row_indexer,col_indexer] = value instead\n",
            "\n",
            "See the caveats in the documentation: https://pandas.pydata.org/pandas-docs/stable/user_guide/indexing.html#returning-a-view-versus-a-copy\n",
            "  df_temp['tbtw']=df_temp['Timestamp']-min(df_temp['Timestamp']) #time lapsed from the start of first activity\n",
            "<ipython-input-12-fb60c3b019a9>:31: SettingWithCopyWarning: \n",
            "A value is trying to be set on a copy of a slice from a DataFrame.\n",
            "Try using .loc[row_indexer,col_indexer] = value instead\n",
            "\n",
            "See the caveats in the documentation: https://pandas.pydata.org/pandas-docs/stable/user_guide/indexing.html#returning-a-view-versus-a-copy\n",
            "  df_temp['case_len']=max(df_temp['Timestamp'])-min(df_temp['Timestamp'])\n",
            "<ipython-input-12-fb60c3b019a9>:32: SettingWithCopyWarning: \n",
            "A value is trying to be set on a copy of a slice from a DataFrame.\n",
            "Try using .loc[row_indexer,col_indexer] = value instead\n",
            "\n",
            "See the caveats in the documentation: https://pandas.pydata.org/pandas-docs/stable/user_guide/indexing.html#returning-a-view-versus-a-copy\n",
            "  df_temp['tbtw']=df_temp['Timestamp']-min(df_temp['Timestamp']) #time lapsed from the start of first activity\n",
            "<ipython-input-12-fb60c3b019a9>:31: SettingWithCopyWarning: \n",
            "A value is trying to be set on a copy of a slice from a DataFrame.\n",
            "Try using .loc[row_indexer,col_indexer] = value instead\n",
            "\n",
            "See the caveats in the documentation: https://pandas.pydata.org/pandas-docs/stable/user_guide/indexing.html#returning-a-view-versus-a-copy\n",
            "  df_temp['case_len']=max(df_temp['Timestamp'])-min(df_temp['Timestamp'])\n",
            "<ipython-input-12-fb60c3b019a9>:32: SettingWithCopyWarning: \n",
            "A value is trying to be set on a copy of a slice from a DataFrame.\n",
            "Try using .loc[row_indexer,col_indexer] = value instead\n",
            "\n",
            "See the caveats in the documentation: https://pandas.pydata.org/pandas-docs/stable/user_guide/indexing.html#returning-a-view-versus-a-copy\n",
            "  df_temp['tbtw']=df_temp['Timestamp']-min(df_temp['Timestamp']) #time lapsed from the start of first activity\n"
          ]
        },
        {
          "output_type": "execute_result",
          "data": {
            "text/plain": [
              "  caseid                                  activity  \\\n",
              "0      0                   1e consult poliklinisch   \n",
              "1      0  administratief tarief       - eerste pol   \n",
              "2      0   verlosk.-gynaec. korte kaart kosten-out   \n",
              "3      0           echografie  - genitalia interna   \n",
              "4      0                   1e consult poliklinisch   \n",
              "\n",
              "                        department start_timestamp activity_code executions  \\\n",
              "0                     Radiotherapy      2005-01-03        410100          1   \n",
              "1                     Radiotherapy      2005-01-03        419100          1   \n",
              "2                     Nursing ward      2005-01-05         10107          1   \n",
              "3  Obstetrics & Gynaecology clinic      2005-01-05       339486E          1   \n",
              "4                     Nursing ward      2005-01-05        410100          1   \n",
              "\n",
              "  producer_code    section age diagnosis treatment_code years  \\\n",
              "0          SRTH  Section 5  33       106             23     0   \n",
              "1          SRTH  Section 5  33       106             23     0   \n",
              "2          SGEH  Section 2  33       106             23     0   \n",
              "3          SGEC  Section 2  33       106             23     0   \n",
              "4          SGEH  Section 2  33       106             23     0   \n",
              "\n",
              "        diagnosis_group  case_len  tbtw  \n",
              "0  gynecological tumors        66     0  \n",
              "1  gynecological tumors        66     0  \n",
              "2  gynecological tumors        66     2  \n",
              "3  gynecological tumors        66     2  \n",
              "4  gynecological tumors        66     2  "
            ],
            "text/html": "<div>\n<style scoped>\n    .dataframe tbody tr th:only-of-type {\n        vertical-align: middle;\n    }\n\n    .dataframe tbody tr th {\n        vertical-align: top;\n    }\n\n    .dataframe thead th {\n        text-align: right;\n    }\n</style>\n<table border=\"1\" class=\"dataframe\">\n  <thead>\n    <tr style=\"text-align: right;\">\n      <th></th>\n      <th>caseid</th>\n      <th>activity</th>\n      <th>department</th>\n      <th>start_timestamp</th>\n      <th>activity_code</th>\n      <th>executions</th>\n      <th>producer_code</th>\n      <th>section</th>\n      <th>age</th>\n      <th>diagnosis</th>\n      <th>treatment_code</th>\n      <th>years</th>\n      <th>diagnosis_group</th>\n      <th>case_len</th>\n      <th>tbtw</th>\n    </tr>\n  </thead>\n  <tbody>\n    <tr>\n      <th>0</th>\n      <td>0</td>\n      <td>1e consult poliklinisch</td>\n      <td>Radiotherapy</td>\n      <td>2005-01-03</td>\n      <td>410100</td>\n      <td>1</td>\n      <td>SRTH</td>\n      <td>Section 5</td>\n      <td>33</td>\n      <td>106</td>\n      <td>23</td>\n      <td>0</td>\n      <td>gynecological tumors</td>\n      <td>66</td>\n      <td>0</td>\n    </tr>\n    <tr>\n      <th>1</th>\n      <td>0</td>\n      <td>administratief tarief       - eerste pol</td>\n      <td>Radiotherapy</td>\n      <td>2005-01-03</td>\n      <td>419100</td>\n      <td>1</td>\n      <td>SRTH</td>\n      <td>Section 5</td>\n      <td>33</td>\n      <td>106</td>\n      <td>23</td>\n      <td>0</td>\n      <td>gynecological tumors</td>\n      <td>66</td>\n      <td>0</td>\n    </tr>\n    <tr>\n      <th>2</th>\n      <td>0</td>\n      <td>verlosk.-gynaec. korte kaart kosten-out</td>\n      <td>Nursing ward</td>\n      <td>2005-01-05</td>\n      <td>10107</td>\n      <td>1</td>\n      <td>SGEH</td>\n      <td>Section 2</td>\n      <td>33</td>\n      <td>106</td>\n      <td>23</td>\n      <td>0</td>\n      <td>gynecological tumors</td>\n      <td>66</td>\n      <td>2</td>\n    </tr>\n    <tr>\n      <th>3</th>\n      <td>0</td>\n      <td>echografie  - genitalia interna</td>\n      <td>Obstetrics &amp; Gynaecology clinic</td>\n      <td>2005-01-05</td>\n      <td>339486E</td>\n      <td>1</td>\n      <td>SGEC</td>\n      <td>Section 2</td>\n      <td>33</td>\n      <td>106</td>\n      <td>23</td>\n      <td>0</td>\n      <td>gynecological tumors</td>\n      <td>66</td>\n      <td>2</td>\n    </tr>\n    <tr>\n      <th>4</th>\n      <td>0</td>\n      <td>1e consult poliklinisch</td>\n      <td>Nursing ward</td>\n      <td>2005-01-05</td>\n      <td>410100</td>\n      <td>1</td>\n      <td>SGEH</td>\n      <td>Section 2</td>\n      <td>33</td>\n      <td>106</td>\n      <td>23</td>\n      <td>0</td>\n      <td>gynecological tumors</td>\n      <td>66</td>\n      <td>2</td>\n    </tr>\n  </tbody>\n</table>\n</div>"
          },
          "metadata": {},
          "execution_count": 13
        }
      ]
    },
    {
      "cell_type": "code",
      "metadata": {
        "id": "-dwzjZEFbPS5"
      },
      "source": [
        "df_log.to_csv(args['processed_file_name'],index=False)"
      ],
      "execution_count": 14,
      "outputs": []
    },
    {
      "cell_type": "code",
      "metadata": {
        "id": "lDmskHNsbaJC",
        "colab": {
          "base_uri": "https://localhost:8080/",
          "height": 321
        },
        "outputId": "971bcbc5-285f-422e-a9ac-cd830d80ebfc"
      },
      "source": [
        "log_df = pd.read_csv(args['processed_file_name'])\n",
        "log_df = log_df.reset_index(drop=True)\n",
        "log_df.head()\n"
      ],
      "execution_count": 15,
      "outputs": [
        {
          "output_type": "execute_result",
          "data": {
            "text/plain": [
              "   caseid                                  activity  \\\n",
              "0       0                   1e consult poliklinisch   \n",
              "1       0  administratief tarief       - eerste pol   \n",
              "2       0   verlosk.-gynaec. korte kaart kosten-out   \n",
              "3       0           echografie  - genitalia interna   \n",
              "4       0                   1e consult poliklinisch   \n",
              "\n",
              "                        department start_timestamp activity_code  executions  \\\n",
              "0                     Radiotherapy      2005-01-03        410100           1   \n",
              "1                     Radiotherapy      2005-01-03        419100           1   \n",
              "2                     Nursing ward      2005-01-05         10107           1   \n",
              "3  Obstetrics & Gynaecology clinic      2005-01-05       339486E           1   \n",
              "4                     Nursing ward      2005-01-05        410100           1   \n",
              "\n",
              "  producer_code    section  age diagnosis  treatment_code  years  \\\n",
              "0          SRTH  Section 5   33       106              23      0   \n",
              "1          SRTH  Section 5   33       106              23      0   \n",
              "2          SGEH  Section 2   33       106              23      0   \n",
              "3          SGEC  Section 2   33       106              23      0   \n",
              "4          SGEH  Section 2   33       106              23      0   \n",
              "\n",
              "        diagnosis_group  case_len  tbtw  \n",
              "0  gynecological tumors        66     0  \n",
              "1  gynecological tumors        66     0  \n",
              "2  gynecological tumors        66     2  \n",
              "3  gynecological tumors        66     2  \n",
              "4  gynecological tumors        66     2  "
            ],
            "text/html": "<div>\n<style scoped>\n    .dataframe tbody tr th:only-of-type {\n        vertical-align: middle;\n    }\n\n    .dataframe tbody tr th {\n        vertical-align: top;\n    }\n\n    .dataframe thead th {\n        text-align: right;\n    }\n</style>\n<table border=\"1\" class=\"dataframe\">\n  <thead>\n    <tr style=\"text-align: right;\">\n      <th></th>\n      <th>caseid</th>\n      <th>activity</th>\n      <th>department</th>\n      <th>start_timestamp</th>\n      <th>activity_code</th>\n      <th>executions</th>\n      <th>producer_code</th>\n      <th>section</th>\n      <th>age</th>\n      <th>diagnosis</th>\n      <th>treatment_code</th>\n      <th>years</th>\n      <th>diagnosis_group</th>\n      <th>case_len</th>\n      <th>tbtw</th>\n    </tr>\n  </thead>\n  <tbody>\n    <tr>\n      <th>0</th>\n      <td>0</td>\n      <td>1e consult poliklinisch</td>\n      <td>Radiotherapy</td>\n      <td>2005-01-03</td>\n      <td>410100</td>\n      <td>1</td>\n      <td>SRTH</td>\n      <td>Section 5</td>\n      <td>33</td>\n      <td>106</td>\n      <td>23</td>\n      <td>0</td>\n      <td>gynecological tumors</td>\n      <td>66</td>\n      <td>0</td>\n    </tr>\n    <tr>\n      <th>1</th>\n      <td>0</td>\n      <td>administratief tarief       - eerste pol</td>\n      <td>Radiotherapy</td>\n      <td>2005-01-03</td>\n      <td>419100</td>\n      <td>1</td>\n      <td>SRTH</td>\n      <td>Section 5</td>\n      <td>33</td>\n      <td>106</td>\n      <td>23</td>\n      <td>0</td>\n      <td>gynecological tumors</td>\n      <td>66</td>\n      <td>0</td>\n    </tr>\n    <tr>\n      <th>2</th>\n      <td>0</td>\n      <td>verlosk.-gynaec. korte kaart kosten-out</td>\n      <td>Nursing ward</td>\n      <td>2005-01-05</td>\n      <td>10107</td>\n      <td>1</td>\n      <td>SGEH</td>\n      <td>Section 2</td>\n      <td>33</td>\n      <td>106</td>\n      <td>23</td>\n      <td>0</td>\n      <td>gynecological tumors</td>\n      <td>66</td>\n      <td>2</td>\n    </tr>\n    <tr>\n      <th>3</th>\n      <td>0</td>\n      <td>echografie  - genitalia interna</td>\n      <td>Obstetrics &amp; Gynaecology clinic</td>\n      <td>2005-01-05</td>\n      <td>339486E</td>\n      <td>1</td>\n      <td>SGEC</td>\n      <td>Section 2</td>\n      <td>33</td>\n      <td>106</td>\n      <td>23</td>\n      <td>0</td>\n      <td>gynecological tumors</td>\n      <td>66</td>\n      <td>2</td>\n    </tr>\n    <tr>\n      <th>4</th>\n      <td>0</td>\n      <td>1e consult poliklinisch</td>\n      <td>Nursing ward</td>\n      <td>2005-01-05</td>\n      <td>410100</td>\n      <td>1</td>\n      <td>SGEH</td>\n      <td>Section 2</td>\n      <td>33</td>\n      <td>106</td>\n      <td>23</td>\n      <td>0</td>\n      <td>gynecological tumors</td>\n      <td>66</td>\n      <td>2</td>\n    </tr>\n  </tbody>\n</table>\n</div>"
          },
          "metadata": {},
          "execution_count": 15
        }
      ]
    },
    {
      "cell_type": "markdown",
      "metadata": {
        "id": "cjQGCFJdaAky"
      },
      "source": [
        "#### Data Analysis - Balance of Data Set"
      ]
    },
    {
      "cell_type": "code",
      "metadata": {
        "colab": {
          "base_uri": "https://localhost:8080/"
        },
        "id": "sDzBQScYzmE3",
        "outputId": "7aca94b5-1699-45bb-82ca-bd33a04784de"
      },
      "source": [
        "#Checking the Balance of the Dataset, by the target variable\n",
        "print('Distribution of cases by the target variable - diagnosis\\n')\n",
        "print(log_df.groupby(['diagnosis'])['caseid'].nunique())"
      ],
      "execution_count": 18,
      "outputs": [
        {
          "output_type": "stream",
          "name": "stdout",
          "text": [
            "Distribution of cases by the target variable - diagnosis\n\ndiagnosis\n106    226\n821     23\n822     15\n823      9\n839     13\nM11    168\nM12     19\nM13    304\nM14    113\nM15     15\nM16    225\nName: caseid, dtype: int64\n"
          ]
        }
      ]
    },
    {
      "cell_type": "markdown",
      "metadata": {
        "id": "GI1Qffm2zqdD"
      },
      "source": [
        "We can see that there is an imbalance in the dataset, by the diagnosis.\n",
        "Therefore, we can reduce the imbalance of data by grouping some of the diagnoses.\n",
        "\n",
        "We use the logic below to perform the same, based on the paper by Bose and Aalst\n",
        "\n",
        "@inproceedings{Bose2011AnalysisOP,\n",
        "  title={Analysis of patient treatment procedures: The BPI Challenge case study},\n",
        "  author={R. P. J. C. Bose and W. Aalst},\n",
        "  year={2011}\n",
        "}\n",
        "\n",
        "* 821 group with m16\n",
        "* 822 group with m13\n",
        "* 823 group with 839 and discarded (minority class, multiple types of cancers)\n",
        "* m12  discarded (minority class)\n",
        "* m15 group with m14"
      ]
    },
    {
      "cell_type": "markdown",
      "metadata": {
        "id": "oAR81L1ZzCEL"
      },
      "source": [
        "#### Support Function 2: Grouping Target Variables\n",
        "Author: Bemali Wickramanayake\n",
        "\n",
        "Function: Groups the Diagnoses codes to balance the dataset"
      ]
    },
    {
      "cell_type": "code",
      "metadata": {
        "id": "1m2ON1ha0-sr"
      },
      "source": [
        "def balance(df):\n",
        "  # Dictonary with the mapping of columns\n",
        "  group_dict = {'106':'106',\n",
        "  '821' :'M16',\n",
        "  '822' :'M13',\n",
        "  '823' :'839',\n",
        "  '839' :'839',\n",
        "  'M11' :'M11',\n",
        "  'M12' :'M12',\n",
        "  'M13' :'M13',\n",
        "  'M14' :'M14',\n",
        "  'M15' :'M14',\n",
        "  'M16' :'M16'}\n",
        "\n",
        "  \n",
        "  df['diagnosis'].replace(group_dict, inplace=True)\n",
        "  #Dropping the minority classes\n",
        "  df = df.drop(df[df.diagnosis == '839'].index)\n",
        "  df = df.drop(df[df.diagnosis == 'M12'].index)\n",
        "\n",
        "  return df\n",
        "\n"
      ],
      "execution_count": 19,
      "outputs": []
    },
    {
      "cell_type": "markdown",
      "metadata": {
        "id": "89Cd0m-t6ily"
      },
      "source": [
        "Balancing the dataset"
      ]
    },
    {
      "cell_type": "code",
      "metadata": {
        "id": "65OV3Vir3RId"
      },
      "source": [
        "log_df = balance(log_df)"
      ],
      "execution_count": 20,
      "outputs": []
    },
    {
      "cell_type": "code",
      "metadata": {
        "colab": {
          "base_uri": "https://localhost:8080/"
        },
        "id": "nGRpabpY3AYd",
        "outputId": "ad4b3b8c-a6dd-40c2-ebe2-865fafdbbba7"
      },
      "source": [
        "# Check the balance\n",
        "\n",
        "print('Distribution of cases by the target variable - diagnosis\\n')\n",
        "print(log_df.groupby(['diagnosis'])['caseid'].nunique())"
      ],
      "execution_count": 21,
      "outputs": [
        {
          "output_type": "stream",
          "name": "stdout",
          "text": [
            "Distribution of cases by the target variable - diagnosis\n\ndiagnosis\n106    226\nM11    168\nM13    319\nM14    128\nM16    248\nName: caseid, dtype: int64\n"
          ]
        }
      ]
    },
    {
      "cell_type": "markdown",
      "metadata": {
        "id": "c8ryArjFcKh6"
      },
      "source": [
        "#### Support Function 3: Create indexes\n",
        "Author: Renuka Sindagatta/ Manuel Camargo\n",
        "\n",
        "Function: creates an index (index encoded set) for a given categorical column."
      ]
    },
    {
      "cell_type": "code",
      "metadata": {
        "id": "8uOGLqTlXnoO"
      },
      "source": [
        "def create_index(log_df, column):\n",
        "    \"\"\"Creates an idx for a categorical attribute.\n",
        "    Args:\n",
        "        log_df: dataframe.\n",
        "        column: column name.\n",
        "    Returns:\n",
        "        index of a categorical attribute pairs.\n",
        "    \"\"\"\n",
        "    temp_list = log_df[[column]].values.tolist()\n",
        "    subsec_set = {(x[0]) for x in temp_list}\n",
        "    subsec_set = sorted(list(subsec_set))\n",
        "    alias = dict()\n",
        "    if column !='diagnosis':\n",
        "      for i, _ in enumerate(subsec_set):\n",
        "          alias[subsec_set[i]] = i + 1\n",
        "    else:\n",
        "      for i, _ in enumerate(subsec_set):\n",
        "          alias[subsec_set[i]] = i  \n",
        "    return alias"
      ],
      "execution_count": 22,
      "outputs": []
    },
    {
      "cell_type": "markdown",
      "metadata": {
        "id": "8XRO0TmYck28"
      },
      "source": [
        "create the indexes for the processed dataframe"
      ]
    },
    {
      "cell_type": "code",
      "metadata": {
        "id": "BkPnc0-OX5aQ",
        "colab": {
          "base_uri": "https://localhost:8080/",
          "height": 408
        },
        "outputId": "318c51e1-5404-4ea1-fcec-895b638981dc"
      },
      "source": [
        "# Index creation for activity\n",
        "\n",
        "ac_index = create_index(log_df, 'activity')\n",
        "ac_index['start'] = 0\n",
        "ac_index['end'] = len(ac_index)\n",
        "index_ac = {v: k for k, v in ac_index.items()}\n",
        "\n",
        "# Index creation for department/role\n",
        "\n",
        "rl_index = create_index(log_df, 'department')\n",
        "rl_index['start'] = 0\n",
        "rl_index['end'] = len(rl_index)\n",
        "index_rl = {v: k for k, v in rl_index.items()}\n",
        "\n",
        "# Index creation for Diagnosis\n",
        "\n",
        "di_index = create_index(log_df, 'diagnosis')\n",
        "\n",
        "index_di = {v: k for k, v in di_index.items()}\n",
        "\n",
        "#mapping the dictionary values as columns in the dataframe\n",
        "log_df['ac_index'] = log_df['activity'].map(ac_index)\n",
        "log_df['rl_index'] = log_df['department'].map(rl_index)\n",
        "log_df['di_index'] = log_df['diagnosis'].map(di_index)\n",
        "\n",
        "print(rl_index)\n",
        "print(index_rl)\n",
        "log_df.head()\n",
        "\n",
        "\n"
      ],
      "execution_count": 23,
      "outputs": [
        {
          "output_type": "stream",
          "name": "stdout",
          "text": [
            "{'Anesthesiology': 1, 'Anesthesiology clinic': 2, 'Cardiovascular clinics': 3, 'Day Centre - treatment': 4, 'Day Centre - ward': 5, 'Diet Studies': 6, 'Emergency room': 7, 'Endoscopy': 8, 'Function Centre ENT': 9, 'General Lab Clinical Chemistry': 10, 'Hyper Pressure Tank': 11, 'ICU Adults': 12, 'IVF clinic': 13, 'Internal Specialisms clinic': 14, 'Lab Experimental Immunology': 15, 'Lab Hematology': 16, 'Maternity ward': 17, 'Medical Microbiology': 18, 'Nuclear Medicine': 19, 'Nursing ward': 20, 'Obstetrics & Gynaecology clinic': 21, 'Operating rooms': 22, 'Ophthalmology clinic': 23, 'Pain clinic': 24, 'Pathology': 25, 'Pharmacy Laboratory': 26, 'Radiology': 27, 'Radiotherapy': 28, 'Recovery room / high care': 29, 'Special lab Nuro sensory': 30, 'Special lab radiology': 31, 'surgery & urology clinic': 32, 'start': 0, 'end': 33}\n{1: 'Anesthesiology', 2: 'Anesthesiology clinic', 3: 'Cardiovascular clinics', 4: 'Day Centre - treatment', 5: 'Day Centre - ward', 6: 'Diet Studies', 7: 'Emergency room', 8: 'Endoscopy', 9: 'Function Centre ENT', 10: 'General Lab Clinical Chemistry', 11: 'Hyper Pressure Tank', 12: 'ICU Adults', 13: 'IVF clinic', 14: 'Internal Specialisms clinic', 15: 'Lab Experimental Immunology', 16: 'Lab Hematology', 17: 'Maternity ward', 18: 'Medical Microbiology', 19: 'Nuclear Medicine', 20: 'Nursing ward', 21: 'Obstetrics & Gynaecology clinic', 22: 'Operating rooms', 23: 'Ophthalmology clinic', 24: 'Pain clinic', 25: 'Pathology', 26: 'Pharmacy Laboratory', 27: 'Radiology', 28: 'Radiotherapy', 29: 'Recovery room / high care', 30: 'Special lab Nuro sensory', 31: 'Special lab radiology', 32: 'surgery & urology clinic', 0: 'start', 33: 'end'}\n"
          ]
        },
        {
          "output_type": "execute_result",
          "data": {
            "text/plain": [
              "   caseid                                  activity  \\\n",
              "0       0                   1e consult poliklinisch   \n",
              "1       0  administratief tarief       - eerste pol   \n",
              "2       0   verlosk.-gynaec. korte kaart kosten-out   \n",
              "3       0           echografie  - genitalia interna   \n",
              "4       0                   1e consult poliklinisch   \n",
              "\n",
              "                        department start_timestamp activity_code  executions  \\\n",
              "0                     Radiotherapy      2005-01-03        410100           1   \n",
              "1                     Radiotherapy      2005-01-03        419100           1   \n",
              "2                     Nursing ward      2005-01-05         10107           1   \n",
              "3  Obstetrics & Gynaecology clinic      2005-01-05       339486E           1   \n",
              "4                     Nursing ward      2005-01-05        410100           1   \n",
              "\n",
              "  producer_code    section  age diagnosis  treatment_code  years  \\\n",
              "0          SRTH  Section 5   33       106              23      0   \n",
              "1          SRTH  Section 5   33       106              23      0   \n",
              "2          SGEH  Section 2   33       106              23      0   \n",
              "3          SGEC  Section 2   33       106              23      0   \n",
              "4          SGEH  Section 2   33       106              23      0   \n",
              "\n",
              "        diagnosis_group  case_len  tbtw  ac_index  rl_index  di_index  \n",
              "0  gynecological tumors        66     0         7        28         0  \n",
              "1  gynecological tumors        66     0        10        28         0  \n",
              "2  gynecological tumors        66     2       194        20         0  \n",
              "3  gynecological tumors        66     2        84        21         0  \n",
              "4  gynecological tumors        66     2         7        20         0  "
            ],
            "text/html": "<div>\n<style scoped>\n    .dataframe tbody tr th:only-of-type {\n        vertical-align: middle;\n    }\n\n    .dataframe tbody tr th {\n        vertical-align: top;\n    }\n\n    .dataframe thead th {\n        text-align: right;\n    }\n</style>\n<table border=\"1\" class=\"dataframe\">\n  <thead>\n    <tr style=\"text-align: right;\">\n      <th></th>\n      <th>caseid</th>\n      <th>activity</th>\n      <th>department</th>\n      <th>start_timestamp</th>\n      <th>activity_code</th>\n      <th>executions</th>\n      <th>producer_code</th>\n      <th>section</th>\n      <th>age</th>\n      <th>diagnosis</th>\n      <th>treatment_code</th>\n      <th>years</th>\n      <th>diagnosis_group</th>\n      <th>case_len</th>\n      <th>tbtw</th>\n      <th>ac_index</th>\n      <th>rl_index</th>\n      <th>di_index</th>\n    </tr>\n  </thead>\n  <tbody>\n    <tr>\n      <th>0</th>\n      <td>0</td>\n      <td>1e consult poliklinisch</td>\n      <td>Radiotherapy</td>\n      <td>2005-01-03</td>\n      <td>410100</td>\n      <td>1</td>\n      <td>SRTH</td>\n      <td>Section 5</td>\n      <td>33</td>\n      <td>106</td>\n      <td>23</td>\n      <td>0</td>\n      <td>gynecological tumors</td>\n      <td>66</td>\n      <td>0</td>\n      <td>7</td>\n      <td>28</td>\n      <td>0</td>\n    </tr>\n    <tr>\n      <th>1</th>\n      <td>0</td>\n      <td>administratief tarief       - eerste pol</td>\n      <td>Radiotherapy</td>\n      <td>2005-01-03</td>\n      <td>419100</td>\n      <td>1</td>\n      <td>SRTH</td>\n      <td>Section 5</td>\n      <td>33</td>\n      <td>106</td>\n      <td>23</td>\n      <td>0</td>\n      <td>gynecological tumors</td>\n      <td>66</td>\n      <td>0</td>\n      <td>10</td>\n      <td>28</td>\n      <td>0</td>\n    </tr>\n    <tr>\n      <th>2</th>\n      <td>0</td>\n      <td>verlosk.-gynaec. korte kaart kosten-out</td>\n      <td>Nursing ward</td>\n      <td>2005-01-05</td>\n      <td>10107</td>\n      <td>1</td>\n      <td>SGEH</td>\n      <td>Section 2</td>\n      <td>33</td>\n      <td>106</td>\n      <td>23</td>\n      <td>0</td>\n      <td>gynecological tumors</td>\n      <td>66</td>\n      <td>2</td>\n      <td>194</td>\n      <td>20</td>\n      <td>0</td>\n    </tr>\n    <tr>\n      <th>3</th>\n      <td>0</td>\n      <td>echografie  - genitalia interna</td>\n      <td>Obstetrics &amp; Gynaecology clinic</td>\n      <td>2005-01-05</td>\n      <td>339486E</td>\n      <td>1</td>\n      <td>SGEC</td>\n      <td>Section 2</td>\n      <td>33</td>\n      <td>106</td>\n      <td>23</td>\n      <td>0</td>\n      <td>gynecological tumors</td>\n      <td>66</td>\n      <td>2</td>\n      <td>84</td>\n      <td>21</td>\n      <td>0</td>\n    </tr>\n    <tr>\n      <th>4</th>\n      <td>0</td>\n      <td>1e consult poliklinisch</td>\n      <td>Nursing ward</td>\n      <td>2005-01-05</td>\n      <td>410100</td>\n      <td>1</td>\n      <td>SGEH</td>\n      <td>Section 2</td>\n      <td>33</td>\n      <td>106</td>\n      <td>23</td>\n      <td>0</td>\n      <td>gynecological tumors</td>\n      <td>66</td>\n      <td>2</td>\n      <td>7</td>\n      <td>20</td>\n      <td>0</td>\n    </tr>\n  </tbody>\n</table>\n</div>"
          },
          "metadata": {},
          "execution_count": 23
        }
      ]
    },
    {
      "cell_type": "markdown",
      "metadata": {
        "id": "bWwsj6-PY7S6"
      },
      "source": [
        "#### Data Analysis - Correlation between features\n",
        "\n",
        "credits: https://seaborn.pydata.org/examples/many_pairwise_correlations.html"
      ]
    },
    {
      "cell_type": "code",
      "metadata": {
        "colab": {
          "base_uri": "https://localhost:8080/",
          "height": 555
        },
        "id": "YUQqEkT-Z7dL",
        "outputId": "8ff8ce30-61d1-4d53-b338-910ca5f1c5c7"
      },
      "source": [
        "cor_columns = ['age','years','case_len','ac_index','rl_index','tbtw','di_index']\n",
        "d = log_df[cor_columns]\n",
        "\n",
        "# Compute the correlation matrix\n",
        "corr = d.corr()\n",
        "\n",
        "# Generate a mask for the upper triangle\n",
        "mask = np.triu(np.ones_like(corr, dtype=bool))\n",
        "\n",
        "# Set up the matplotlib figure\n",
        "f, ax = plt.subplots(figsize=(11, 9))\n",
        "\n",
        "# Generate a custom diverging colormap\n",
        "cmap = sns.diverging_palette(230, 20, as_cmap=True)\n",
        "\n",
        "# Draw the heatmap with the mask and correct aspect ratio\n",
        "sns.heatmap(corr, mask=mask, cmap=cmap, vmax=.3, center=0,\n",
        "            square=True, linewidths=.5, cbar_kws={\"shrink\": .5})"
      ],
      "execution_count": 24,
      "outputs": [
        {
          "output_type": "execute_result",
          "data": {
            "text/plain": [
              "<AxesSubplot:>"
            ]
          },
          "metadata": {},
          "execution_count": 24
        },
        {
          "output_type": "display_data",
          "data": {
            "text/plain": "<Figure size 792x648 with 2 Axes>",
            "image/svg+xml": "<?xml version=\"1.0\" encoding=\"utf-8\" standalone=\"no\"?>\r\n<!DOCTYPE svg PUBLIC \"-//W3C//DTD SVG 1.1//EN\"\r\n  \"http://www.w3.org/Graphics/SVG/1.1/DTD/svg11.dtd\">\r\n<svg height=\"520.59625pt\" version=\"1.1\" viewBox=\"0 0 594.800063 520.59625\" width=\"594.800063pt\" xmlns=\"http://www.w3.org/2000/svg\" xmlns:xlink=\"http://www.w3.org/1999/xlink\">\r\n <metadata>\r\n  <rdf:RDF xmlns:cc=\"http://creativecommons.org/ns#\" xmlns:dc=\"http://purl.org/dc/elements/1.1/\" xmlns:rdf=\"http://www.w3.org/1999/02/22-rdf-syntax-ns#\">\r\n   <cc:Work>\r\n    <dc:type rdf:resource=\"http://purl.org/dc/dcmitype/StillImage\"/>\r\n    <dc:date>2021-06-25T15:12:18.951295</dc:date>\r\n    <dc:format>image/svg+xml</dc:format>\r\n    <dc:creator>\r\n     <cc:Agent>\r\n      <dc:title>Matplotlib v3.4.2, https://matplotlib.org/</dc:title>\r\n     </cc:Agent>\r\n    </dc:creator>\r\n   </cc:Work>\r\n  </rdf:RDF>\r\n </metadata>\r\n <defs>\r\n  <style type=\"text/css\">*{stroke-linecap:butt;stroke-linejoin:round;}</style>\r\n </defs>\r\n <g id=\"figure_1\">\r\n  <g id=\"patch_1\">\r\n   <path d=\"M 0 520.59625 \r\nL 594.800063 520.59625 \r\nL 594.800063 0 \r\nL 0 0 \r\nz\r\n\" style=\"fill:none;\"/>\r\n  </g>\r\n  <g id=\"axes_1\">\r\n   <g id=\"patch_2\">\r\n    <path d=\"M 24.15625 496.44 \r\nL 513.39625 496.44 \r\nL 513.39625 7.2 \r\nL 24.15625 7.2 \r\nz\r\n\" style=\"fill:#ffffff;\"/>\r\n   </g>\r\n   <g id=\"QuadMesh_1\">\r\n    <path clip-path=\"url(#p43b97f209d)\" d=\"M 24.15625 7.2 \r\nL 94.047679 7.2 \r\nL 94.047679 77.091429 \r\nL 24.15625 77.091429 \r\nL 24.15625 7.2 \r\n\" style=\"fill:none;stroke:#ffffff;stroke-width:0.5;\"/>\r\n    <path clip-path=\"url(#p43b97f209d)\" d=\"M 94.047679 7.2 \r\nL 163.939107 7.2 \r\nL 163.939107 77.091429 \r\nL 94.047679 77.091429 \r\nL 94.047679 7.2 \r\n\" style=\"fill:none;stroke:#ffffff;stroke-width:0.5;\"/>\r\n    <path clip-path=\"url(#p43b97f209d)\" d=\"M 163.939107 7.2 \r\nL 233.830536 7.2 \r\nL 233.830536 77.091429 \r\nL 163.939107 77.091429 \r\nL 163.939107 7.2 \r\n\" style=\"fill:none;stroke:#ffffff;stroke-width:0.5;\"/>\r\n    <path clip-path=\"url(#p43b97f209d)\" d=\"M 233.830536 7.2 \r\nL 303.721964 7.2 \r\nL 303.721964 77.091429 \r\nL 233.830536 77.091429 \r\nL 233.830536 7.2 \r\n\" style=\"fill:none;stroke:#ffffff;stroke-width:0.5;\"/>\r\n    <path clip-path=\"url(#p43b97f209d)\" d=\"M 303.721964 7.2 \r\nL 373.613393 7.2 \r\nL 373.613393 77.091429 \r\nL 303.721964 77.091429 \r\nL 303.721964 7.2 \r\n\" style=\"fill:none;stroke:#ffffff;stroke-width:0.5;\"/>\r\n    <path clip-path=\"url(#p43b97f209d)\" d=\"M 373.613393 7.2 \r\nL 443.504821 7.2 \r\nL 443.504821 77.091429 \r\nL 373.613393 77.091429 \r\nL 373.613393 7.2 \r\n\" style=\"fill:none;stroke:#ffffff;stroke-width:0.5;\"/>\r\n    <path clip-path=\"url(#p43b97f209d)\" d=\"M 443.504821 7.2 \r\nL 513.39625 7.2 \r\nL 513.39625 77.091429 \r\nL 443.504821 77.091429 \r\nL 443.504821 7.2 \r\n\" style=\"fill:none;stroke:#ffffff;stroke-width:0.5;\"/>\r\n    <path clip-path=\"url(#p43b97f209d)\" d=\"M 24.15625 77.091429 \r\nL 94.047679 77.091429 \r\nL 94.047679 146.982857 \r\nL 24.15625 146.982857 \r\nL 24.15625 77.091429 \r\n\" style=\"fill:#eaeef0;stroke:#ffffff;stroke-width:0.5;\"/>\r\n    <path clip-path=\"url(#p43b97f209d)\" d=\"M 94.047679 77.091429 \r\nL 163.939107 77.091429 \r\nL 163.939107 146.982857 \r\nL 94.047679 146.982857 \r\nL 94.047679 77.091429 \r\n\" style=\"fill:none;stroke:#ffffff;stroke-width:0.5;\"/>\r\n    <path clip-path=\"url(#p43b97f209d)\" d=\"M 163.939107 77.091429 \r\nL 233.830536 77.091429 \r\nL 233.830536 146.982857 \r\nL 163.939107 146.982857 \r\nL 163.939107 77.091429 \r\n\" style=\"fill:none;stroke:#ffffff;stroke-width:0.5;\"/>\r\n    <path clip-path=\"url(#p43b97f209d)\" d=\"M 233.830536 77.091429 \r\nL 303.721964 77.091429 \r\nL 303.721964 146.982857 \r\nL 233.830536 146.982857 \r\nL 233.830536 77.091429 \r\n\" style=\"fill:none;stroke:#ffffff;stroke-width:0.5;\"/>\r\n    <path clip-path=\"url(#p43b97f209d)\" d=\"M 303.721964 77.091429 \r\nL 373.613393 77.091429 \r\nL 373.613393 146.982857 \r\nL 303.721964 146.982857 \r\nL 303.721964 77.091429 \r\n\" style=\"fill:none;stroke:#ffffff;stroke-width:0.5;\"/>\r\n    <path clip-path=\"url(#p43b97f209d)\" d=\"M 373.613393 77.091429 \r\nL 443.504821 77.091429 \r\nL 443.504821 146.982857 \r\nL 373.613393 146.982857 \r\nL 373.613393 77.091429 \r\n\" style=\"fill:none;stroke:#ffffff;stroke-width:0.5;\"/>\r\n    <path clip-path=\"url(#p43b97f209d)\" d=\"M 443.504821 77.091429 \r\nL 513.39625 77.091429 \r\nL 513.39625 146.982857 \r\nL 443.504821 146.982857 \r\nL 443.504821 77.091429 \r\n\" style=\"fill:none;stroke:#ffffff;stroke-width:0.5;\"/>\r\n    <path clip-path=\"url(#p43b97f209d)\" d=\"M 24.15625 146.982857 \r\nL 94.047679 146.982857 \r\nL 94.047679 216.874286 \r\nL 24.15625 216.874286 \r\nL 24.15625 146.982857 \r\n\" style=\"fill:#d7e1e6;stroke:#ffffff;stroke-width:0.5;\"/>\r\n    <path clip-path=\"url(#p43b97f209d)\" d=\"M 94.047679 146.982857 \r\nL 163.939107 146.982857 \r\nL 163.939107 216.874286 \r\nL 94.047679 216.874286 \r\nL 94.047679 146.982857 \r\n\" style=\"fill:#c3553a;stroke:#ffffff;stroke-width:0.5;\"/>\r\n    <path clip-path=\"url(#p43b97f209d)\" d=\"M 163.939107 146.982857 \r\nL 233.830536 146.982857 \r\nL 233.830536 216.874286 \r\nL 163.939107 216.874286 \r\nL 163.939107 146.982857 \r\n\" style=\"fill:none;stroke:#ffffff;stroke-width:0.5;\"/>\r\n    <path clip-path=\"url(#p43b97f209d)\" d=\"M 233.830536 146.982857 \r\nL 303.721964 146.982857 \r\nL 303.721964 216.874286 \r\nL 233.830536 216.874286 \r\nL 233.830536 146.982857 \r\n\" style=\"fill:none;stroke:#ffffff;stroke-width:0.5;\"/>\r\n    <path clip-path=\"url(#p43b97f209d)\" d=\"M 303.721964 146.982857 \r\nL 373.613393 146.982857 \r\nL 373.613393 216.874286 \r\nL 303.721964 216.874286 \r\nL 303.721964 146.982857 \r\n\" style=\"fill:none;stroke:#ffffff;stroke-width:0.5;\"/>\r\n    <path clip-path=\"url(#p43b97f209d)\" d=\"M 373.613393 146.982857 \r\nL 443.504821 146.982857 \r\nL 443.504821 216.874286 \r\nL 373.613393 216.874286 \r\nL 373.613393 146.982857 \r\n\" style=\"fill:none;stroke:#ffffff;stroke-width:0.5;\"/>\r\n    <path clip-path=\"url(#p43b97f209d)\" d=\"M 443.504821 146.982857 \r\nL 513.39625 146.982857 \r\nL 513.39625 216.874286 \r\nL 443.504821 216.874286 \r\nL 443.504821 146.982857 \r\n\" style=\"fill:none;stroke:#ffffff;stroke-width:0.5;\"/>\r\n    <path clip-path=\"url(#p43b97f209d)\" d=\"M 24.15625 216.874286 \r\nL 94.047679 216.874286 \r\nL 94.047679 286.765714 \r\nL 24.15625 286.765714 \r\nL 24.15625 216.874286 \r\n\" style=\"fill:#e7ecee;stroke:#ffffff;stroke-width:0.5;\"/>\r\n    <path clip-path=\"url(#p43b97f209d)\" d=\"M 94.047679 216.874286 \r\nL 163.939107 216.874286 \r\nL 163.939107 286.765714 \r\nL 94.047679 286.765714 \r\nL 94.047679 216.874286 \r\n\" style=\"fill:#ead6d1;stroke:#ffffff;stroke-width:0.5;\"/>\r\n    <path clip-path=\"url(#p43b97f209d)\" d=\"M 163.939107 216.874286 \r\nL 233.830536 216.874286 \r\nL 233.830536 286.765714 \r\nL 163.939107 286.765714 \r\nL 163.939107 216.874286 \r\n\" style=\"fill:#ead5d0;stroke:#ffffff;stroke-width:0.5;\"/>\r\n    <path clip-path=\"url(#p43b97f209d)\" d=\"M 233.830536 216.874286 \r\nL 303.721964 216.874286 \r\nL 303.721964 286.765714 \r\nL 233.830536 286.765714 \r\nL 233.830536 216.874286 \r\n\" style=\"fill:none;stroke:#ffffff;stroke-width:0.5;\"/>\r\n    <path clip-path=\"url(#p43b97f209d)\" d=\"M 303.721964 216.874286 \r\nL 373.613393 216.874286 \r\nL 373.613393 286.765714 \r\nL 303.721964 286.765714 \r\nL 303.721964 216.874286 \r\n\" style=\"fill:none;stroke:#ffffff;stroke-width:0.5;\"/>\r\n    <path clip-path=\"url(#p43b97f209d)\" d=\"M 373.613393 216.874286 \r\nL 443.504821 216.874286 \r\nL 443.504821 286.765714 \r\nL 373.613393 286.765714 \r\nL 373.613393 216.874286 \r\n\" style=\"fill:none;stroke:#ffffff;stroke-width:0.5;\"/>\r\n    <path clip-path=\"url(#p43b97f209d)\" d=\"M 443.504821 216.874286 \r\nL 513.39625 216.874286 \r\nL 513.39625 286.765714 \r\nL 443.504821 286.765714 \r\nL 443.504821 216.874286 \r\n\" style=\"fill:none;stroke:#ffffff;stroke-width:0.5;\"/>\r\n    <path clip-path=\"url(#p43b97f209d)\" d=\"M 24.15625 286.765714 \r\nL 94.047679 286.765714 \r\nL 94.047679 356.657143 \r\nL 24.15625 356.657143 \r\nL 24.15625 286.765714 \r\n\" style=\"fill:#f0e8e7;stroke:#ffffff;stroke-width:0.5;\"/>\r\n    <path clip-path=\"url(#p43b97f209d)\" d=\"M 94.047679 286.765714 \r\nL 163.939107 286.765714 \r\nL 163.939107 356.657143 \r\nL 94.047679 356.657143 \r\nL 94.047679 286.765714 \r\n\" style=\"fill:#eee3e1;stroke:#ffffff;stroke-width:0.5;\"/>\r\n    <path clip-path=\"url(#p43b97f209d)\" d=\"M 163.939107 286.765714 \r\nL 233.830536 286.765714 \r\nL 233.830536 356.657143 \r\nL 163.939107 356.657143 \r\nL 163.939107 286.765714 \r\n\" style=\"fill:#eee2df;stroke:#ffffff;stroke-width:0.5;\"/>\r\n    <path clip-path=\"url(#p43b97f209d)\" d=\"M 233.830536 286.765714 \r\nL 303.721964 286.765714 \r\nL 303.721964 356.657143 \r\nL 233.830536 356.657143 \r\nL 233.830536 286.765714 \r\n\" style=\"fill:#a3bfcc;stroke:#ffffff;stroke-width:0.5;\"/>\r\n    <path clip-path=\"url(#p43b97f209d)\" d=\"M 303.721964 286.765714 \r\nL 373.613393 286.765714 \r\nL 373.613393 356.657143 \r\nL 303.721964 356.657143 \r\nL 303.721964 286.765714 \r\n\" style=\"fill:none;stroke:#ffffff;stroke-width:0.5;\"/>\r\n    <path clip-path=\"url(#p43b97f209d)\" d=\"M 373.613393 286.765714 \r\nL 443.504821 286.765714 \r\nL 443.504821 356.657143 \r\nL 373.613393 356.657143 \r\nL 373.613393 286.765714 \r\n\" style=\"fill:none;stroke:#ffffff;stroke-width:0.5;\"/>\r\n    <path clip-path=\"url(#p43b97f209d)\" d=\"M 443.504821 286.765714 \r\nL 513.39625 286.765714 \r\nL 513.39625 356.657143 \r\nL 443.504821 356.657143 \r\nL 443.504821 286.765714 \r\n\" style=\"fill:none;stroke:#ffffff;stroke-width:0.5;\"/>\r\n    <path clip-path=\"url(#p43b97f209d)\" d=\"M 24.15625 356.657143 \r\nL 94.047679 356.657143 \r\nL 94.047679 426.548571 \r\nL 24.15625 426.548571 \r\nL 24.15625 356.657143 \r\n\" style=\"fill:#dee6ea;stroke:#ffffff;stroke-width:0.5;\"/>\r\n    <path clip-path=\"url(#p43b97f209d)\" d=\"M 94.047679 356.657143 \r\nL 163.939107 356.657143 \r\nL 163.939107 426.548571 \r\nL 94.047679 426.548571 \r\nL 94.047679 356.657143 \r\n\" style=\"fill:#c3553a;stroke:#ffffff;stroke-width:0.5;\"/>\r\n    <path clip-path=\"url(#p43b97f209d)\" d=\"M 163.939107 356.657143 \r\nL 233.830536 356.657143 \r\nL 233.830536 426.548571 \r\nL 163.939107 426.548571 \r\nL 163.939107 356.657143 \r\n\" style=\"fill:#c3553a;stroke:#ffffff;stroke-width:0.5;\"/>\r\n    <path clip-path=\"url(#p43b97f209d)\" d=\"M 233.830536 356.657143 \r\nL 303.721964 356.657143 \r\nL 303.721964 426.548571 \r\nL 233.830536 426.548571 \r\nL 233.830536 356.657143 \r\n\" style=\"fill:#ebd8d4;stroke:#ffffff;stroke-width:0.5;\"/>\r\n    <path clip-path=\"url(#p43b97f209d)\" d=\"M 303.721964 356.657143 \r\nL 373.613393 356.657143 \r\nL 373.613393 426.548571 \r\nL 303.721964 426.548571 \r\nL 303.721964 356.657143 \r\n\" style=\"fill:#f1edec;stroke:#ffffff;stroke-width:0.5;\"/>\r\n    <path clip-path=\"url(#p43b97f209d)\" d=\"M 373.613393 356.657143 \r\nL 443.504821 356.657143 \r\nL 443.504821 426.548571 \r\nL 373.613393 426.548571 \r\nL 373.613393 356.657143 \r\n\" style=\"fill:none;stroke:#ffffff;stroke-width:0.5;\"/>\r\n    <path clip-path=\"url(#p43b97f209d)\" d=\"M 443.504821 356.657143 \r\nL 513.39625 356.657143 \r\nL 513.39625 426.548571 \r\nL 443.504821 426.548571 \r\nL 443.504821 356.657143 \r\n\" style=\"fill:none;stroke:#ffffff;stroke-width:0.5;\"/>\r\n    <path clip-path=\"url(#p43b97f209d)\" d=\"M 24.15625 426.548571 \r\nL 94.047679 426.548571 \r\nL 94.047679 496.44 \r\nL 24.15625 496.44 \r\nL 24.15625 426.548571 \r\n\" style=\"fill:#dba598;stroke:#ffffff;stroke-width:0.5;\"/>\r\n    <path clip-path=\"url(#p43b97f209d)\" d=\"M 94.047679 426.548571 \r\nL 163.939107 426.548571 \r\nL 163.939107 496.44 \r\nL 94.047679 496.44 \r\nL 94.047679 426.548571 \r\n\" style=\"fill:#a8c2cf;stroke:#ffffff;stroke-width:0.5;\"/>\r\n    <path clip-path=\"url(#p43b97f209d)\" d=\"M 163.939107 426.548571 \r\nL 233.830536 426.548571 \r\nL 233.830536 496.44 \r\nL 163.939107 496.44 \r\nL 163.939107 426.548571 \r\n\" style=\"fill:#91b3c4;stroke:#ffffff;stroke-width:0.5;\"/>\r\n    <path clip-path=\"url(#p43b97f209d)\" d=\"M 233.830536 426.548571 \r\nL 303.721964 426.548571 \r\nL 303.721964 496.44 \r\nL 233.830536 496.44 \r\nL 233.830536 426.548571 \r\n\" style=\"fill:#f2f1f1;stroke:#ffffff;stroke-width:0.5;\"/>\r\n    <path clip-path=\"url(#p43b97f209d)\" d=\"M 303.721964 426.548571 \r\nL 373.613393 426.548571 \r\nL 373.613393 496.44 \r\nL 303.721964 496.44 \r\nL 303.721964 426.548571 \r\n\" style=\"fill:#bed1da;stroke:#ffffff;stroke-width:0.5;\"/>\r\n    <path clip-path=\"url(#p43b97f209d)\" d=\"M 373.613393 426.548571 \r\nL 443.504821 426.548571 \r\nL 443.504821 496.44 \r\nL 373.613393 496.44 \r\nL 373.613393 426.548571 \r\n\" style=\"fill:#dfe6ea;stroke:#ffffff;stroke-width:0.5;\"/>\r\n    <path clip-path=\"url(#p43b97f209d)\" d=\"M 443.504821 426.548571 \r\nL 513.39625 426.548571 \r\nL 513.39625 496.44 \r\nL 443.504821 496.44 \r\nL 443.504821 426.548571 \r\n\" style=\"fill:none;stroke:#ffffff;stroke-width:0.5;\"/>\r\n   </g>\r\n   <g id=\"matplotlib.axis_1\">\r\n    <g id=\"xtick_1\">\r\n     <g id=\"line2d_1\">\r\n      <defs>\r\n       <path d=\"M 0 0 \r\nL 0 3.5 \r\n\" id=\"m01df86f367\" style=\"stroke:#000000;stroke-width:0.8;\"/>\r\n      </defs>\r\n      <g>\r\n       <use style=\"stroke:#000000;stroke-width:0.8;\" x=\"59.101964\" xlink:href=\"#m01df86f367\" y=\"496.44\"/>\r\n      </g>\r\n     </g>\r\n     <g id=\"text_1\">\r\n      <!-- age -->\r\n      <g transform=\"translate(49.787121 511.038437)scale(0.1 -0.1)\">\r\n       <defs>\r\n        <path d=\"M 2194 1759 \r\nQ 1497 1759 1228 1600 \r\nQ 959 1441 959 1056 \r\nQ 959 750 1161 570 \r\nQ 1363 391 1709 391 \r\nQ 2188 391 2477 730 \r\nQ 2766 1069 2766 1631 \r\nL 2766 1759 \r\nL 2194 1759 \r\nz\r\nM 3341 1997 \r\nL 3341 0 \r\nL 2766 0 \r\nL 2766 531 \r\nQ 2569 213 2275 61 \r\nQ 1981 -91 1556 -91 \r\nQ 1019 -91 701 211 \r\nQ 384 513 384 1019 \r\nQ 384 1609 779 1909 \r\nQ 1175 2209 1959 2209 \r\nL 2766 2209 \r\nL 2766 2266 \r\nQ 2766 2663 2505 2880 \r\nQ 2244 3097 1772 3097 \r\nQ 1472 3097 1187 3025 \r\nQ 903 2953 641 2809 \r\nL 641 3341 \r\nQ 956 3463 1253 3523 \r\nQ 1550 3584 1831 3584 \r\nQ 2591 3584 2966 3190 \r\nQ 3341 2797 3341 1997 \r\nz\r\n\" id=\"DejaVuSans-61\" transform=\"scale(0.015625)\"/>\r\n        <path d=\"M 2906 1791 \r\nQ 2906 2416 2648 2759 \r\nQ 2391 3103 1925 3103 \r\nQ 1463 3103 1205 2759 \r\nQ 947 2416 947 1791 \r\nQ 947 1169 1205 825 \r\nQ 1463 481 1925 481 \r\nQ 2391 481 2648 825 \r\nQ 2906 1169 2906 1791 \r\nz\r\nM 3481 434 \r\nQ 3481 -459 3084 -895 \r\nQ 2688 -1331 1869 -1331 \r\nQ 1566 -1331 1297 -1286 \r\nQ 1028 -1241 775 -1147 \r\nL 775 -588 \r\nQ 1028 -725 1275 -790 \r\nQ 1522 -856 1778 -856 \r\nQ 2344 -856 2625 -561 \r\nQ 2906 -266 2906 331 \r\nL 2906 616 \r\nQ 2728 306 2450 153 \r\nQ 2172 0 1784 0 \r\nQ 1141 0 747 490 \r\nQ 353 981 353 1791 \r\nQ 353 2603 747 3093 \r\nQ 1141 3584 1784 3584 \r\nQ 2172 3584 2450 3431 \r\nQ 2728 3278 2906 2969 \r\nL 2906 3500 \r\nL 3481 3500 \r\nL 3481 434 \r\nz\r\n\" id=\"DejaVuSans-67\" transform=\"scale(0.015625)\"/>\r\n        <path d=\"M 3597 1894 \r\nL 3597 1613 \r\nL 953 1613 \r\nQ 991 1019 1311 708 \r\nQ 1631 397 2203 397 \r\nQ 2534 397 2845 478 \r\nQ 3156 559 3463 722 \r\nL 3463 178 \r\nQ 3153 47 2828 -22 \r\nQ 2503 -91 2169 -91 \r\nQ 1331 -91 842 396 \r\nQ 353 884 353 1716 \r\nQ 353 2575 817 3079 \r\nQ 1281 3584 2069 3584 \r\nQ 2775 3584 3186 3129 \r\nQ 3597 2675 3597 1894 \r\nz\r\nM 3022 2063 \r\nQ 3016 2534 2758 2815 \r\nQ 2500 3097 2075 3097 \r\nQ 1594 3097 1305 2825 \r\nQ 1016 2553 972 2059 \r\nL 3022 2063 \r\nz\r\n\" id=\"DejaVuSans-65\" transform=\"scale(0.015625)\"/>\r\n       </defs>\r\n       <use xlink:href=\"#DejaVuSans-61\"/>\r\n       <use x=\"61.279297\" xlink:href=\"#DejaVuSans-67\"/>\r\n       <use x=\"124.755859\" xlink:href=\"#DejaVuSans-65\"/>\r\n      </g>\r\n     </g>\r\n    </g>\r\n    <g id=\"xtick_2\">\r\n     <g id=\"line2d_2\">\r\n      <g>\r\n       <use style=\"stroke:#000000;stroke-width:0.8;\" x=\"128.993393\" xlink:href=\"#m01df86f367\" y=\"496.44\"/>\r\n      </g>\r\n     </g>\r\n     <g id=\"text_2\">\r\n      <!-- years -->\r\n      <g transform=\"translate(115.233237 511.038437)scale(0.1 -0.1)\">\r\n       <defs>\r\n        <path d=\"M 2059 -325 \r\nQ 1816 -950 1584 -1140 \r\nQ 1353 -1331 966 -1331 \r\nL 506 -1331 \r\nL 506 -850 \r\nL 844 -850 \r\nQ 1081 -850 1212 -737 \r\nQ 1344 -625 1503 -206 \r\nL 1606 56 \r\nL 191 3500 \r\nL 800 3500 \r\nL 1894 763 \r\nL 2988 3500 \r\nL 3597 3500 \r\nL 2059 -325 \r\nz\r\n\" id=\"DejaVuSans-79\" transform=\"scale(0.015625)\"/>\r\n        <path d=\"M 2631 2963 \r\nQ 2534 3019 2420 3045 \r\nQ 2306 3072 2169 3072 \r\nQ 1681 3072 1420 2755 \r\nQ 1159 2438 1159 1844 \r\nL 1159 0 \r\nL 581 0 \r\nL 581 3500 \r\nL 1159 3500 \r\nL 1159 2956 \r\nQ 1341 3275 1631 3429 \r\nQ 1922 3584 2338 3584 \r\nQ 2397 3584 2469 3576 \r\nQ 2541 3569 2628 3553 \r\nL 2631 2963 \r\nz\r\n\" id=\"DejaVuSans-72\" transform=\"scale(0.015625)\"/>\r\n        <path d=\"M 2834 3397 \r\nL 2834 2853 \r\nQ 2591 2978 2328 3040 \r\nQ 2066 3103 1784 3103 \r\nQ 1356 3103 1142 2972 \r\nQ 928 2841 928 2578 \r\nQ 928 2378 1081 2264 \r\nQ 1234 2150 1697 2047 \r\nL 1894 2003 \r\nQ 2506 1872 2764 1633 \r\nQ 3022 1394 3022 966 \r\nQ 3022 478 2636 193 \r\nQ 2250 -91 1575 -91 \r\nQ 1294 -91 989 -36 \r\nQ 684 19 347 128 \r\nL 347 722 \r\nQ 666 556 975 473 \r\nQ 1284 391 1588 391 \r\nQ 1994 391 2212 530 \r\nQ 2431 669 2431 922 \r\nQ 2431 1156 2273 1281 \r\nQ 2116 1406 1581 1522 \r\nL 1381 1569 \r\nQ 847 1681 609 1914 \r\nQ 372 2147 372 2553 \r\nQ 372 3047 722 3315 \r\nQ 1072 3584 1716 3584 \r\nQ 2034 3584 2315 3537 \r\nQ 2597 3491 2834 3397 \r\nz\r\n\" id=\"DejaVuSans-73\" transform=\"scale(0.015625)\"/>\r\n       </defs>\r\n       <use xlink:href=\"#DejaVuSans-79\"/>\r\n       <use x=\"59.179688\" xlink:href=\"#DejaVuSans-65\"/>\r\n       <use x=\"120.703125\" xlink:href=\"#DejaVuSans-61\"/>\r\n       <use x=\"181.982422\" xlink:href=\"#DejaVuSans-72\"/>\r\n       <use x=\"223.095703\" xlink:href=\"#DejaVuSans-73\"/>\r\n      </g>\r\n     </g>\r\n    </g>\r\n    <g id=\"xtick_3\">\r\n     <g id=\"line2d_3\">\r\n      <g>\r\n       <use style=\"stroke:#000000;stroke-width:0.8;\" x=\"198.884821\" xlink:href=\"#m01df86f367\" y=\"496.44\"/>\r\n      </g>\r\n     </g>\r\n     <g id=\"text_3\">\r\n      <!-- case_len -->\r\n      <g transform=\"translate(177.255915 511.038437)scale(0.1 -0.1)\">\r\n       <defs>\r\n        <path d=\"M 3122 3366 \r\nL 3122 2828 \r\nQ 2878 2963 2633 3030 \r\nQ 2388 3097 2138 3097 \r\nQ 1578 3097 1268 2742 \r\nQ 959 2388 959 1747 \r\nQ 959 1106 1268 751 \r\nQ 1578 397 2138 397 \r\nQ 2388 397 2633 464 \r\nQ 2878 531 3122 666 \r\nL 3122 134 \r\nQ 2881 22 2623 -34 \r\nQ 2366 -91 2075 -91 \r\nQ 1284 -91 818 406 \r\nQ 353 903 353 1747 \r\nQ 353 2603 823 3093 \r\nQ 1294 3584 2113 3584 \r\nQ 2378 3584 2631 3529 \r\nQ 2884 3475 3122 3366 \r\nz\r\n\" id=\"DejaVuSans-63\" transform=\"scale(0.015625)\"/>\r\n        <path d=\"M 3263 -1063 \r\nL 3263 -1509 \r\nL -63 -1509 \r\nL -63 -1063 \r\nL 3263 -1063 \r\nz\r\n\" id=\"DejaVuSans-5f\" transform=\"scale(0.015625)\"/>\r\n        <path d=\"M 603 4863 \r\nL 1178 4863 \r\nL 1178 0 \r\nL 603 0 \r\nL 603 4863 \r\nz\r\n\" id=\"DejaVuSans-6c\" transform=\"scale(0.015625)\"/>\r\n        <path d=\"M 3513 2113 \r\nL 3513 0 \r\nL 2938 0 \r\nL 2938 2094 \r\nQ 2938 2591 2744 2837 \r\nQ 2550 3084 2163 3084 \r\nQ 1697 3084 1428 2787 \r\nQ 1159 2491 1159 1978 \r\nL 1159 0 \r\nL 581 0 \r\nL 581 3500 \r\nL 1159 3500 \r\nL 1159 2956 \r\nQ 1366 3272 1645 3428 \r\nQ 1925 3584 2291 3584 \r\nQ 2894 3584 3203 3211 \r\nQ 3513 2838 3513 2113 \r\nz\r\n\" id=\"DejaVuSans-6e\" transform=\"scale(0.015625)\"/>\r\n       </defs>\r\n       <use xlink:href=\"#DejaVuSans-63\"/>\r\n       <use x=\"54.980469\" xlink:href=\"#DejaVuSans-61\"/>\r\n       <use x=\"116.259766\" xlink:href=\"#DejaVuSans-73\"/>\r\n       <use x=\"168.359375\" xlink:href=\"#DejaVuSans-65\"/>\r\n       <use x=\"229.882812\" xlink:href=\"#DejaVuSans-5f\"/>\r\n       <use x=\"279.882812\" xlink:href=\"#DejaVuSans-6c\"/>\r\n       <use x=\"307.666016\" xlink:href=\"#DejaVuSans-65\"/>\r\n       <use x=\"369.189453\" xlink:href=\"#DejaVuSans-6e\"/>\r\n      </g>\r\n     </g>\r\n    </g>\r\n    <g id=\"xtick_4\">\r\n     <g id=\"line2d_4\">\r\n      <g>\r\n       <use style=\"stroke:#000000;stroke-width:0.8;\" x=\"268.77625\" xlink:href=\"#m01df86f367\" y=\"496.44\"/>\r\n      </g>\r\n     </g>\r\n     <g id=\"text_4\">\r\n      <!-- ac_index -->\r\n      <g transform=\"translate(246.7825 511.038437)scale(0.1 -0.1)\">\r\n       <defs>\r\n        <path d=\"M 603 3500 \r\nL 1178 3500 \r\nL 1178 0 \r\nL 603 0 \r\nL 603 3500 \r\nz\r\nM 603 4863 \r\nL 1178 4863 \r\nL 1178 4134 \r\nL 603 4134 \r\nL 603 4863 \r\nz\r\n\" id=\"DejaVuSans-69\" transform=\"scale(0.015625)\"/>\r\n        <path d=\"M 2906 2969 \r\nL 2906 4863 \r\nL 3481 4863 \r\nL 3481 0 \r\nL 2906 0 \r\nL 2906 525 \r\nQ 2725 213 2448 61 \r\nQ 2172 -91 1784 -91 \r\nQ 1150 -91 751 415 \r\nQ 353 922 353 1747 \r\nQ 353 2572 751 3078 \r\nQ 1150 3584 1784 3584 \r\nQ 2172 3584 2448 3432 \r\nQ 2725 3281 2906 2969 \r\nz\r\nM 947 1747 \r\nQ 947 1113 1208 752 \r\nQ 1469 391 1925 391 \r\nQ 2381 391 2643 752 \r\nQ 2906 1113 2906 1747 \r\nQ 2906 2381 2643 2742 \r\nQ 2381 3103 1925 3103 \r\nQ 1469 3103 1208 2742 \r\nQ 947 2381 947 1747 \r\nz\r\n\" id=\"DejaVuSans-64\" transform=\"scale(0.015625)\"/>\r\n        <path d=\"M 3513 3500 \r\nL 2247 1797 \r\nL 3578 0 \r\nL 2900 0 \r\nL 1881 1375 \r\nL 863 0 \r\nL 184 0 \r\nL 1544 1831 \r\nL 300 3500 \r\nL 978 3500 \r\nL 1906 2253 \r\nL 2834 3500 \r\nL 3513 3500 \r\nz\r\n\" id=\"DejaVuSans-78\" transform=\"scale(0.015625)\"/>\r\n       </defs>\r\n       <use xlink:href=\"#DejaVuSans-61\"/>\r\n       <use x=\"61.279297\" xlink:href=\"#DejaVuSans-63\"/>\r\n       <use x=\"116.259766\" xlink:href=\"#DejaVuSans-5f\"/>\r\n       <use x=\"166.259766\" xlink:href=\"#DejaVuSans-69\"/>\r\n       <use x=\"194.042969\" xlink:href=\"#DejaVuSans-6e\"/>\r\n       <use x=\"257.421875\" xlink:href=\"#DejaVuSans-64\"/>\r\n       <use x=\"320.898438\" xlink:href=\"#DejaVuSans-65\"/>\r\n       <use x=\"380.671875\" xlink:href=\"#DejaVuSans-78\"/>\r\n      </g>\r\n     </g>\r\n    </g>\r\n    <g id=\"xtick_5\">\r\n     <g id=\"line2d_5\">\r\n      <g>\r\n       <use style=\"stroke:#000000;stroke-width:0.8;\" x=\"338.667679\" xlink:href=\"#m01df86f367\" y=\"496.44\"/>\r\n      </g>\r\n     </g>\r\n     <g id=\"text_5\">\r\n      <!-- rl_index -->\r\n      <g transform=\"translate(319.042679 511.038437)scale(0.1 -0.1)\">\r\n       <use xlink:href=\"#DejaVuSans-72\"/>\r\n       <use x=\"41.113281\" xlink:href=\"#DejaVuSans-6c\"/>\r\n       <use x=\"68.896484\" xlink:href=\"#DejaVuSans-5f\"/>\r\n       <use x=\"118.896484\" xlink:href=\"#DejaVuSans-69\"/>\r\n       <use x=\"146.679688\" xlink:href=\"#DejaVuSans-6e\"/>\r\n       <use x=\"210.058594\" xlink:href=\"#DejaVuSans-64\"/>\r\n       <use x=\"273.535156\" xlink:href=\"#DejaVuSans-65\"/>\r\n       <use x=\"333.308594\" xlink:href=\"#DejaVuSans-78\"/>\r\n      </g>\r\n     </g>\r\n    </g>\r\n    <g id=\"xtick_6\">\r\n     <g id=\"line2d_6\">\r\n      <g>\r\n       <use style=\"stroke:#000000;stroke-width:0.8;\" x=\"408.559107\" xlink:href=\"#m01df86f367\" y=\"496.44\"/>\r\n      </g>\r\n     </g>\r\n     <g id=\"text_6\">\r\n      <!-- tbtw -->\r\n      <g transform=\"translate(397.375513 511.038437)scale(0.1 -0.1)\">\r\n       <defs>\r\n        <path d=\"M 1172 4494 \r\nL 1172 3500 \r\nL 2356 3500 \r\nL 2356 3053 \r\nL 1172 3053 \r\nL 1172 1153 \r\nQ 1172 725 1289 603 \r\nQ 1406 481 1766 481 \r\nL 2356 481 \r\nL 2356 0 \r\nL 1766 0 \r\nQ 1100 0 847 248 \r\nQ 594 497 594 1153 \r\nL 594 3053 \r\nL 172 3053 \r\nL 172 3500 \r\nL 594 3500 \r\nL 594 4494 \r\nL 1172 4494 \r\nz\r\n\" id=\"DejaVuSans-74\" transform=\"scale(0.015625)\"/>\r\n        <path d=\"M 3116 1747 \r\nQ 3116 2381 2855 2742 \r\nQ 2594 3103 2138 3103 \r\nQ 1681 3103 1420 2742 \r\nQ 1159 2381 1159 1747 \r\nQ 1159 1113 1420 752 \r\nQ 1681 391 2138 391 \r\nQ 2594 391 2855 752 \r\nQ 3116 1113 3116 1747 \r\nz\r\nM 1159 2969 \r\nQ 1341 3281 1617 3432 \r\nQ 1894 3584 2278 3584 \r\nQ 2916 3584 3314 3078 \r\nQ 3713 2572 3713 1747 \r\nQ 3713 922 3314 415 \r\nQ 2916 -91 2278 -91 \r\nQ 1894 -91 1617 61 \r\nQ 1341 213 1159 525 \r\nL 1159 0 \r\nL 581 0 \r\nL 581 4863 \r\nL 1159 4863 \r\nL 1159 2969 \r\nz\r\n\" id=\"DejaVuSans-62\" transform=\"scale(0.015625)\"/>\r\n        <path d=\"M 269 3500 \r\nL 844 3500 \r\nL 1563 769 \r\nL 2278 3500 \r\nL 2956 3500 \r\nL 3675 769 \r\nL 4391 3500 \r\nL 4966 3500 \r\nL 4050 0 \r\nL 3372 0 \r\nL 2619 2869 \r\nL 1863 0 \r\nL 1184 0 \r\nL 269 3500 \r\nz\r\n\" id=\"DejaVuSans-77\" transform=\"scale(0.015625)\"/>\r\n       </defs>\r\n       <use xlink:href=\"#DejaVuSans-74\"/>\r\n       <use x=\"39.208984\" xlink:href=\"#DejaVuSans-62\"/>\r\n       <use x=\"102.685547\" xlink:href=\"#DejaVuSans-74\"/>\r\n       <use x=\"141.894531\" xlink:href=\"#DejaVuSans-77\"/>\r\n      </g>\r\n     </g>\r\n    </g>\r\n    <g id=\"xtick_7\">\r\n     <g id=\"line2d_7\">\r\n      <g>\r\n       <use style=\"stroke:#000000;stroke-width:0.8;\" x=\"478.450536\" xlink:href=\"#m01df86f367\" y=\"496.44\"/>\r\n      </g>\r\n     </g>\r\n     <g id=\"text_7\">\r\n      <!-- di_index -->\r\n      <g transform=\"translate(457.706786 511.038437)scale(0.1 -0.1)\">\r\n       <use xlink:href=\"#DejaVuSans-64\"/>\r\n       <use x=\"63.476562\" xlink:href=\"#DejaVuSans-69\"/>\r\n       <use x=\"91.259766\" xlink:href=\"#DejaVuSans-5f\"/>\r\n       <use x=\"141.259766\" xlink:href=\"#DejaVuSans-69\"/>\r\n       <use x=\"169.042969\" xlink:href=\"#DejaVuSans-6e\"/>\r\n       <use x=\"232.421875\" xlink:href=\"#DejaVuSans-64\"/>\r\n       <use x=\"295.898438\" xlink:href=\"#DejaVuSans-65\"/>\r\n       <use x=\"355.671875\" xlink:href=\"#DejaVuSans-78\"/>\r\n      </g>\r\n     </g>\r\n    </g>\r\n   </g>\r\n   <g id=\"matplotlib.axis_2\">\r\n    <g id=\"ytick_1\">\r\n     <g id=\"line2d_8\">\r\n      <defs>\r\n       <path d=\"M 0 0 \r\nL -3.5 0 \r\n\" id=\"m18ad1feb92\" style=\"stroke:#000000;stroke-width:0.8;\"/>\r\n      </defs>\r\n      <g>\r\n       <use style=\"stroke:#000000;stroke-width:0.8;\" x=\"24.15625\" xlink:href=\"#m18ad1feb92\" y=\"42.145714\"/>\r\n      </g>\r\n     </g>\r\n     <g id=\"text_8\">\r\n      <!-- age -->\r\n      <g transform=\"translate(15.076563 56.976183)rotate(-90)scale(0.1 -0.1)\">\r\n       <use xlink:href=\"#DejaVuSans-61\"/>\r\n       <use x=\"61.279297\" xlink:href=\"#DejaVuSans-67\"/>\r\n       <use x=\"124.755859\" xlink:href=\"#DejaVuSans-65\"/>\r\n      </g>\r\n     </g>\r\n    </g>\r\n    <g id=\"ytick_2\">\r\n     <g id=\"line2d_9\">\r\n      <g>\r\n       <use style=\"stroke:#000000;stroke-width:0.8;\" x=\"24.15625\" xlink:href=\"#m18ad1feb92\" y=\"112.037143\"/>\r\n      </g>\r\n     </g>\r\n     <g id=\"text_9\">\r\n      <!-- years -->\r\n      <g transform=\"translate(15.076563 135.758237)rotate(-90)scale(0.1 -0.1)\">\r\n       <use xlink:href=\"#DejaVuSans-79\"/>\r\n       <use x=\"59.179688\" xlink:href=\"#DejaVuSans-65\"/>\r\n       <use x=\"120.703125\" xlink:href=\"#DejaVuSans-61\"/>\r\n       <use x=\"181.982422\" xlink:href=\"#DejaVuSans-72\"/>\r\n       <use x=\"223.095703\" xlink:href=\"#DejaVuSans-73\"/>\r\n      </g>\r\n     </g>\r\n    </g>\r\n    <g id=\"ytick_3\">\r\n     <g id=\"line2d_10\">\r\n      <g>\r\n       <use style=\"stroke:#000000;stroke-width:0.8;\" x=\"24.15625\" xlink:href=\"#m18ad1feb92\" y=\"181.928571\"/>\r\n      </g>\r\n     </g>\r\n     <g id=\"text_10\">\r\n      <!-- case_len -->\r\n      <g transform=\"translate(14.798438 221.387165)rotate(-90)scale(0.1 -0.1)\">\r\n       <use xlink:href=\"#DejaVuSans-63\"/>\r\n       <use x=\"54.980469\" xlink:href=\"#DejaVuSans-61\"/>\r\n       <use x=\"116.259766\" xlink:href=\"#DejaVuSans-73\"/>\r\n       <use x=\"168.359375\" xlink:href=\"#DejaVuSans-65\"/>\r\n       <use x=\"229.882812\" xlink:href=\"#DejaVuSans-5f\"/>\r\n       <use x=\"279.882812\" xlink:href=\"#DejaVuSans-6c\"/>\r\n       <use x=\"307.666016\" xlink:href=\"#DejaVuSans-65\"/>\r\n       <use x=\"369.189453\" xlink:href=\"#DejaVuSans-6e\"/>\r\n      </g>\r\n     </g>\r\n    </g>\r\n    <g id=\"ytick_4\">\r\n     <g id=\"line2d_11\">\r\n      <g>\r\n       <use style=\"stroke:#000000;stroke-width:0.8;\" x=\"24.15625\" xlink:href=\"#m18ad1feb92\" y=\"251.82\"/>\r\n      </g>\r\n     </g>\r\n     <g id=\"text_11\">\r\n      <!-- ac_index -->\r\n      <g transform=\"translate(14.798438 292.008281)rotate(-90)scale(0.1 -0.1)\">\r\n       <use xlink:href=\"#DejaVuSans-61\"/>\r\n       <use x=\"61.279297\" xlink:href=\"#DejaVuSans-63\"/>\r\n       <use x=\"116.259766\" xlink:href=\"#DejaVuSans-5f\"/>\r\n       <use x=\"166.259766\" xlink:href=\"#DejaVuSans-69\"/>\r\n       <use x=\"194.042969\" xlink:href=\"#DejaVuSans-6e\"/>\r\n       <use x=\"257.421875\" xlink:href=\"#DejaVuSans-64\"/>\r\n       <use x=\"320.898438\" xlink:href=\"#DejaVuSans-65\"/>\r\n       <use x=\"380.671875\" xlink:href=\"#DejaVuSans-78\"/>\r\n      </g>\r\n     </g>\r\n    </g>\r\n    <g id=\"ytick_5\">\r\n     <g id=\"line2d_12\">\r\n      <g>\r\n       <use style=\"stroke:#000000;stroke-width:0.8;\" x=\"24.15625\" xlink:href=\"#m18ad1feb92\" y=\"321.711429\"/>\r\n      </g>\r\n     </g>\r\n     <g id=\"text_12\">\r\n      <!-- rl_index -->\r\n      <g transform=\"translate(14.798438 357.16221)rotate(-90)scale(0.1 -0.1)\">\r\n       <use xlink:href=\"#DejaVuSans-72\"/>\r\n       <use x=\"41.113281\" xlink:href=\"#DejaVuSans-6c\"/>\r\n       <use x=\"68.896484\" xlink:href=\"#DejaVuSans-5f\"/>\r\n       <use x=\"118.896484\" xlink:href=\"#DejaVuSans-69\"/>\r\n       <use x=\"146.679688\" xlink:href=\"#DejaVuSans-6e\"/>\r\n       <use x=\"210.058594\" xlink:href=\"#DejaVuSans-64\"/>\r\n       <use x=\"273.535156\" xlink:href=\"#DejaVuSans-65\"/>\r\n       <use x=\"333.308594\" xlink:href=\"#DejaVuSans-78\"/>\r\n      </g>\r\n     </g>\r\n    </g>\r\n    <g id=\"ytick_6\">\r\n     <g id=\"line2d_13\">\r\n      <g>\r\n       <use style=\"stroke:#000000;stroke-width:0.8;\" x=\"24.15625\" xlink:href=\"#m18ad1feb92\" y=\"391.602857\"/>\r\n      </g>\r\n     </g>\r\n     <g id=\"text_13\">\r\n      <!-- tbtw -->\r\n      <g transform=\"translate(15.076563 410.170826)rotate(-90)scale(0.1 -0.1)\">\r\n       <use xlink:href=\"#DejaVuSans-74\"/>\r\n       <use x=\"39.208984\" xlink:href=\"#DejaVuSans-62\"/>\r\n       <use x=\"102.685547\" xlink:href=\"#DejaVuSans-74\"/>\r\n       <use x=\"141.894531\" xlink:href=\"#DejaVuSans-77\"/>\r\n      </g>\r\n     </g>\r\n    </g>\r\n    <g id=\"ytick_7\">\r\n     <g id=\"line2d_14\">\r\n      <g>\r\n       <use style=\"stroke:#000000;stroke-width:0.8;\" x=\"24.15625\" xlink:href=\"#m18ad1feb92\" y=\"461.494286\"/>\r\n      </g>\r\n     </g>\r\n     <g id=\"text_14\">\r\n      <!-- di_index -->\r\n      <g transform=\"translate(14.798438 499.182567)rotate(-90)scale(0.1 -0.1)\">\r\n       <use xlink:href=\"#DejaVuSans-64\"/>\r\n       <use x=\"63.476562\" xlink:href=\"#DejaVuSans-69\"/>\r\n       <use x=\"91.259766\" xlink:href=\"#DejaVuSans-5f\"/>\r\n       <use x=\"141.259766\" xlink:href=\"#DejaVuSans-69\"/>\r\n       <use x=\"169.042969\" xlink:href=\"#DejaVuSans-6e\"/>\r\n       <use x=\"232.421875\" xlink:href=\"#DejaVuSans-64\"/>\r\n       <use x=\"295.898438\" xlink:href=\"#DejaVuSans-65\"/>\r\n       <use x=\"355.671875\" xlink:href=\"#DejaVuSans-78\"/>\r\n      </g>\r\n     </g>\r\n    </g>\r\n   </g>\r\n  </g>\r\n  <g id=\"axes_2\">\r\n   <g id=\"patch_3\">\r\n    <path d=\"M 544.08625 374.13 \r\nL 556.31725 374.13 \r\nL 556.31725 129.51 \r\nL 544.08625 129.51 \r\nz\r\n\" style=\"fill:#ffffff;\"/>\r\n   </g>\r\n   <g id=\"patch_4\">\r\n    <path clip-path=\"url(#pb60964da3a)\" d=\"M 544.08625 374.13 \r\nL 544.08625 373.174453 \r\nL 544.08625 130.465547 \r\nL 544.08625 129.51 \r\nL 556.31725 129.51 \r\nL 556.31725 130.465547 \r\nL 556.31725 373.174453 \r\nL 556.31725 374.13 \r\nL 556.31725 374.13 \r\nz\r\n\" style=\"fill:#ffffff;stroke:#ffffff;stroke-linejoin:miter;stroke-width:0.01;\"/>\r\n   </g>\r\n   <image height=\"245\" id=\"image37249df7cd\" transform=\"scale(1 -1)translate(0 -245)\" width=\"12\" x=\"544\" xlink:href=\"data:image/png;base64,\r\niVBORw0KGgoAAAANSUhEUgAAAAwAAAD1CAYAAABk6BQ2AAABS0lEQVR4nO2Y0Q0DIQxDgbK/1Fm6Qtc66Awvqi2X632TCzZxHOjP13s38M3RO1nfJlzfZocRg/2/gkEO2oCB0soPjm6Jg8YYRl7xcQzyDHm0JtbSCXqAECIx6IvP4UAwIFBAchet1BIO+E8C3w9I1ENvv48hsPgeg8UYtmSgFS1P1TRaHzkJnIAhUNO0Vc4HzDH7ulAAx9AWetZoc+8FM2yWoYCBbmlT0HoMclr1LBkODoPe+uJblFb5wRVYohm4gFiGioDEmsYsGZox13ReMy440AnFp2cpzVAKtKp9+q7TjLyRqX0a226kphN9Os8U41hyaDrOUBIFtOVNwHDLCryhwFcHx/VYPhmfcMW/ox5u2b0dzfhSPz3medwZ04zBUA7AYOhLeZOAwYHSfDpS07Q0CrabN83kPVMYbih5zThvmjnCUAzvrepB9wMhUi7IHBaaxgAAAABJRU5ErkJggg==\" y=\"-129\"/>\r\n   <g id=\"matplotlib.axis_3\"/>\r\n   <g id=\"matplotlib.axis_4\">\r\n    <g id=\"ytick_8\">\r\n     <g id=\"line2d_15\">\r\n      <defs>\r\n       <path d=\"M 0 0 \r\nL 3.5 0 \r\n\" id=\"m3b467d38b0\" style=\"stroke:#000000;stroke-width:0.8;\"/>\r\n      </defs>\r\n      <g>\r\n       <use style=\"stroke:#000000;stroke-width:0.8;\" x=\"556.31725\" xlink:href=\"#m3b467d38b0\" y=\"342.318173\"/>\r\n      </g>\r\n     </g>\r\n     <g id=\"text_15\">\r\n      <!-- −0.1 -->\r\n      <g transform=\"translate(563.31725 346.117391)scale(0.1 -0.1)\">\r\n       <defs>\r\n        <path d=\"M 678 2272 \r\nL 4684 2272 \r\nL 4684 1741 \r\nL 678 1741 \r\nL 678 2272 \r\nz\r\n\" id=\"DejaVuSans-2212\" transform=\"scale(0.015625)\"/>\r\n        <path d=\"M 2034 4250 \r\nQ 1547 4250 1301 3770 \r\nQ 1056 3291 1056 2328 \r\nQ 1056 1369 1301 889 \r\nQ 1547 409 2034 409 \r\nQ 2525 409 2770 889 \r\nQ 3016 1369 3016 2328 \r\nQ 3016 3291 2770 3770 \r\nQ 2525 4250 2034 4250 \r\nz\r\nM 2034 4750 \r\nQ 2819 4750 3233 4129 \r\nQ 3647 3509 3647 2328 \r\nQ 3647 1150 3233 529 \r\nQ 2819 -91 2034 -91 \r\nQ 1250 -91 836 529 \r\nQ 422 1150 422 2328 \r\nQ 422 3509 836 4129 \r\nQ 1250 4750 2034 4750 \r\nz\r\n\" id=\"DejaVuSans-30\" transform=\"scale(0.015625)\"/>\r\n        <path d=\"M 684 794 \r\nL 1344 794 \r\nL 1344 0 \r\nL 684 0 \r\nL 684 794 \r\nz\r\n\" id=\"DejaVuSans-2e\" transform=\"scale(0.015625)\"/>\r\n        <path d=\"M 794 531 \r\nL 1825 531 \r\nL 1825 4091 \r\nL 703 3866 \r\nL 703 4441 \r\nL 1819 4666 \r\nL 2450 4666 \r\nL 2450 531 \r\nL 3481 531 \r\nL 3481 0 \r\nL 794 0 \r\nL 794 531 \r\nz\r\n\" id=\"DejaVuSans-31\" transform=\"scale(0.015625)\"/>\r\n       </defs>\r\n       <use xlink:href=\"#DejaVuSans-2212\"/>\r\n       <use x=\"83.789062\" xlink:href=\"#DejaVuSans-30\"/>\r\n       <use x=\"147.412109\" xlink:href=\"#DejaVuSans-2e\"/>\r\n       <use x=\"179.199219\" xlink:href=\"#DejaVuSans-31\"/>\r\n      </g>\r\n     </g>\r\n    </g>\r\n    <g id=\"ytick_9\">\r\n     <g id=\"line2d_16\">\r\n      <g>\r\n       <use style=\"stroke:#000000;stroke-width:0.8;\" x=\"556.31725\" xlink:href=\"#m3b467d38b0\" y=\"289.11613\"/>\r\n      </g>\r\n     </g>\r\n     <g id=\"text_16\">\r\n      <!-- 0.0 -->\r\n      <g transform=\"translate(563.31725 292.915348)scale(0.1 -0.1)\">\r\n       <use xlink:href=\"#DejaVuSans-30\"/>\r\n       <use x=\"63.623047\" xlink:href=\"#DejaVuSans-2e\"/>\r\n       <use x=\"95.410156\" xlink:href=\"#DejaVuSans-30\"/>\r\n      </g>\r\n     </g>\r\n    </g>\r\n    <g id=\"ytick_10\">\r\n     <g id=\"line2d_17\">\r\n      <g>\r\n       <use style=\"stroke:#000000;stroke-width:0.8;\" x=\"556.31725\" xlink:href=\"#m3b467d38b0\" y=\"235.914086\"/>\r\n      </g>\r\n     </g>\r\n     <g id=\"text_17\">\r\n      <!-- 0.1 -->\r\n      <g transform=\"translate(563.31725 239.713305)scale(0.1 -0.1)\">\r\n       <use xlink:href=\"#DejaVuSans-30\"/>\r\n       <use x=\"63.623047\" xlink:href=\"#DejaVuSans-2e\"/>\r\n       <use x=\"95.410156\" xlink:href=\"#DejaVuSans-31\"/>\r\n      </g>\r\n     </g>\r\n    </g>\r\n    <g id=\"ytick_11\">\r\n     <g id=\"line2d_18\">\r\n      <g>\r\n       <use style=\"stroke:#000000;stroke-width:0.8;\" x=\"556.31725\" xlink:href=\"#m3b467d38b0\" y=\"182.712043\"/>\r\n      </g>\r\n     </g>\r\n     <g id=\"text_18\">\r\n      <!-- 0.2 -->\r\n      <g transform=\"translate(563.31725 186.511262)scale(0.1 -0.1)\">\r\n       <defs>\r\n        <path d=\"M 1228 531 \r\nL 3431 531 \r\nL 3431 0 \r\nL 469 0 \r\nL 469 531 \r\nQ 828 903 1448 1529 \r\nQ 2069 2156 2228 2338 \r\nQ 2531 2678 2651 2914 \r\nQ 2772 3150 2772 3378 \r\nQ 2772 3750 2511 3984 \r\nQ 2250 4219 1831 4219 \r\nQ 1534 4219 1204 4116 \r\nQ 875 4013 500 3803 \r\nL 500 4441 \r\nQ 881 4594 1212 4672 \r\nQ 1544 4750 1819 4750 \r\nQ 2544 4750 2975 4387 \r\nQ 3406 4025 3406 3419 \r\nQ 3406 3131 3298 2873 \r\nQ 3191 2616 2906 2266 \r\nQ 2828 2175 2409 1742 \r\nQ 1991 1309 1228 531 \r\nz\r\n\" id=\"DejaVuSans-32\" transform=\"scale(0.015625)\"/>\r\n       </defs>\r\n       <use xlink:href=\"#DejaVuSans-30\"/>\r\n       <use x=\"63.623047\" xlink:href=\"#DejaVuSans-2e\"/>\r\n       <use x=\"95.410156\" xlink:href=\"#DejaVuSans-32\"/>\r\n      </g>\r\n     </g>\r\n    </g>\r\n    <g id=\"ytick_12\">\r\n     <g id=\"line2d_19\">\r\n      <g>\r\n       <use style=\"stroke:#000000;stroke-width:0.8;\" x=\"556.31725\" xlink:href=\"#m3b467d38b0\" y=\"129.51\"/>\r\n      </g>\r\n     </g>\r\n     <g id=\"text_19\">\r\n      <!-- 0.3 -->\r\n      <g transform=\"translate(563.31725 133.309219)scale(0.1 -0.1)\">\r\n       <defs>\r\n        <path d=\"M 2597 2516 \r\nQ 3050 2419 3304 2112 \r\nQ 3559 1806 3559 1356 \r\nQ 3559 666 3084 287 \r\nQ 2609 -91 1734 -91 \r\nQ 1441 -91 1130 -33 \r\nQ 819 25 488 141 \r\nL 488 750 \r\nQ 750 597 1062 519 \r\nQ 1375 441 1716 441 \r\nQ 2309 441 2620 675 \r\nQ 2931 909 2931 1356 \r\nQ 2931 1769 2642 2001 \r\nQ 2353 2234 1838 2234 \r\nL 1294 2234 \r\nL 1294 2753 \r\nL 1863 2753 \r\nQ 2328 2753 2575 2939 \r\nQ 2822 3125 2822 3475 \r\nQ 2822 3834 2567 4026 \r\nQ 2313 4219 1838 4219 \r\nQ 1578 4219 1281 4162 \r\nQ 984 4106 628 3988 \r\nL 628 4550 \r\nQ 988 4650 1302 4700 \r\nQ 1616 4750 1894 4750 \r\nQ 2613 4750 3031 4423 \r\nQ 3450 4097 3450 3541 \r\nQ 3450 3153 3228 2886 \r\nQ 3006 2619 2597 2516 \r\nz\r\n\" id=\"DejaVuSans-33\" transform=\"scale(0.015625)\"/>\r\n       </defs>\r\n       <use xlink:href=\"#DejaVuSans-30\"/>\r\n       <use x=\"63.623047\" xlink:href=\"#DejaVuSans-2e\"/>\r\n       <use x=\"95.410156\" xlink:href=\"#DejaVuSans-33\"/>\r\n      </g>\r\n     </g>\r\n    </g>\r\n   </g>\r\n   <g id=\"LineCollection_1\"/>\r\n   <g id=\"patch_5\">\r\n    <path d=\"M 544.08625 374.13 \r\nL 544.08625 373.174453 \r\nL 544.08625 130.465547 \r\nL 544.08625 129.51 \r\nL 556.31725 129.51 \r\nL 556.31725 130.465547 \r\nL 556.31725 373.174453 \r\nL 556.31725 374.13 \r\nz\r\n\" style=\"fill:none;\"/>\r\n   </g>\r\n  </g>\r\n </g>\r\n <defs>\r\n  <clipPath id=\"p43b97f209d\">\r\n   <rect height=\"489.24\" width=\"489.24\" x=\"24.15625\" y=\"7.2\"/>\r\n  </clipPath>\r\n  <clipPath id=\"pb60964da3a\">\r\n   <rect height=\"244.62\" width=\"12.231\" x=\"544.08625\" y=\"129.51\"/>\r\n  </clipPath>\r\n </defs>\r\n</svg>\r\n",
            "image/png": "[encoded data removed]"
          },
          "metadata": {
            "needs_background": "light"
          }
        }
      ]
    },
    {
      "cell_type": "markdown",
      "metadata": {
        "id": "8Wng9oxNPOt_"
      },
      "source": [
        "#### Support Function 4: Split train test\n",
        "Author: Renuka Sindagatta/ Manuel Camargo\n",
        "\n",
        "Function: divides the dataset into test and train sets, preserving traces"
      ]
    },
    {
      "cell_type": "code",
      "metadata": {
        "id": "3G2aUtRoQG-0"
      },
      "source": [
        "# =============================================================================\n",
        "# Split an event log dataframe to peform split-validation \n",
        "# =============================================================================\n",
        "def split_train_test(df, percentage):\n",
        "    cases = df.caseid.unique()\n",
        "    num_test_cases = int(np.round(len(cases)*percentage))\n",
        "    test_cases = cases[:num_test_cases]\n",
        "    train_cases = cases[num_test_cases:]\n",
        "    df_train, df_test = pd.DataFrame(), pd.DataFrame()\n",
        "    for case in train_cases:\n",
        "        df_train = df_train.append(df[df.caseid==case]) \n",
        "    df_train = df_train.sort_values('start_timestamp', ascending=True).reset_index(drop=True)\n",
        " \n",
        "    for case in test_cases:\n",
        "        df_test = df_test.append(df[df.caseid==case]) \n",
        "    df_test = df_test.sort_values('start_timestamp', ascending=True).reset_index(drop=True)\n",
        "    \n",
        "    return df_train, df_test "
      ],
      "execution_count": 25,
      "outputs": []
    },
    {
      "cell_type": "markdown",
      "metadata": {
        "id": "wcp__FMAQJmK"
      },
      "source": [
        "splitting the dataframe into test and train sets\n"
      ]
    },
    {
      "cell_type": "code",
      "metadata": {
        "id": "j9jt30VgQOLQ"
      },
      "source": [
        "# Split validation datasets\n",
        "log_df_train, log_df_test = split_train_test(log_df, 0.3) # 70%/30%"
      ],
      "execution_count": 26,
      "outputs": []
    },
    {
      "cell_type": "markdown",
      "metadata": {
        "id": "o7AxZsp5X13O"
      },
      "source": [
        "#### Support Function 5: normalize_events\n",
        "Modified from the function of: Renuka Sindagatta/ Manuel Camargo\n",
        "\n",
        "Function: Normalizes the numerical features"
      ]
    },
    {
      "cell_type": "code",
      "metadata": {
        "id": "hziRODUwX6N3"
      },
      "source": [
        "def normalize_events(log_df,args,features):\n",
        "\n",
        "#log_df(DataFrame): The dataframe with eventlog data\n",
        "#args(Dictionary): The set of parameters\n",
        "#Returns a Dataframe with normalized numerical features\n",
        "  for feature in features:\n",
        "    if args['norm_method'] == 'max':\n",
        "        mean_feature = np.mean(log_df.feature)\n",
        "        std_feature = np.std(log_df.feature)\n",
        "        norm = lambda x: (x[feature]-mean_feature)/std_feature\n",
        "        log_df['%s_norm'%(feature)] = log_df.apply(norm, axis=1)\n",
        "    elif args['norm_method'] == 'lognorm':\n",
        "        logit = lambda x: math.log1p(x[feature])\n",
        "        log_df['%s_log'%(feature)] = log_df.apply(logit, axis=1)\n",
        "        mean_feature = np.mean(log_df['%s_log'%(feature)])\n",
        "        std_feature=np.std(log_df['%s_log'%(feature)])\n",
        "        norm = lambda x: (x['%s_log'%(feature)]-mean_feature)/std_feature\n",
        "        log_df['%s_norm'%(feature)] = log_df.apply(norm, axis=1)\n",
        "  return log_df"
      ],
      "execution_count": 27,
      "outputs": []
    },
    {
      "cell_type": "markdown",
      "metadata": {
        "id": "eRu7pWAUy9TW"
      },
      "source": [
        "Adding normalized features: to the training set"
      ]
    },
    {
      "cell_type": "code",
      "metadata": {
        "colab": {
          "base_uri": "https://localhost:8080/",
          "height": 374
        },
        "id": "3lSfa6FazCr-",
        "outputId": "23f0f888-421a-4ce1-92c1-acb63e8a554e"
      },
      "source": [
        "numerical_features = ['age','years','case_len','tbtw']\n",
        "log_df_train = normalize_events(log_df_train,args,numerical_features)\n",
        "log_df_test = normalize_events(log_df_test,args,numerical_features)\n",
        "log_df_train.head()\n"
      ],
      "execution_count": 28,
      "outputs": [
        {
          "output_type": "execute_result",
          "data": {
            "text/plain": [
              "   caseid                                  activity  \\\n",
              "0     338   verlosk.-gynaec.   jaarkaart kosten-out   \n",
              "1     341               cito histologisch onderzoek   \n",
              "2     341             aanname laboratoriumonderzoek   \n",
              "3     341  bilirubine kwantitatief totaal of direct   \n",
              "4     341                             ureum - spoed   \n",
              "\n",
              "                        department start_timestamp activity_code  executions  \\\n",
              "0  Obstetrics & Gynaecology clinic      2005-07-22         10307           1   \n",
              "1                        Pathology      2005-07-25        359999           1   \n",
              "2   General Lab Clinical Chemistry      2005-07-25        370000           1   \n",
              "3   General Lab Clinical Chemistry      2005-07-25       370401S           1   \n",
              "4   General Lab Clinical Chemistry      2005-07-25       370403S           1   \n",
              "\n",
              "  producer_code    section  age diagnosis  ...  rl_index  di_index   age_log  \\\n",
              "0          SGNA  Section 2   37       M16  ...        21         4  3.637586   \n",
              "1          LVPT  Section 4   59       M16  ...        25         4  4.094345   \n",
              "2          CRLA  Section 4   59       M16  ...        10         4  4.094345   \n",
              "3          CHE2  Section 4   59       M16  ...        10         4  4.094345   \n",
              "4          CHE2  Section 4   59       M16  ...        10         4  4.094345   \n",
              "\n",
              "   age_norm  years_log  years_norm  case_len_log  case_len_norm  tbtw_log  \\\n",
              "0 -1.128957   0.000000   -0.881393      4.510860      -0.875326       0.0   \n",
              "1  0.396624   1.098612    1.717064      6.840547       1.157415       0.0   \n",
              "2  0.396624   1.098612    1.717064      6.840547       1.157415       0.0   \n",
              "3  0.396624   1.098612    1.717064      6.840547       1.157415       0.0   \n",
              "4  0.396624   1.098612    1.717064      6.840547       1.157415       0.0   \n",
              "\n",
              "   tbtw_norm  \n",
              "0  -1.951919  \n",
              "1  -1.951919  \n",
              "2  -1.951919  \n",
              "3  -1.951919  \n",
              "4  -1.951919  \n",
              "\n",
              "[5 rows x 26 columns]"
            ],
            "text/html": "<div>\n<style scoped>\n    .dataframe tbody tr th:only-of-type {\n        vertical-align: middle;\n    }\n\n    .dataframe tbody tr th {\n        vertical-align: top;\n    }\n\n    .dataframe thead th {\n        text-align: right;\n    }\n</style>\n<table border=\"1\" class=\"dataframe\">\n  <thead>\n    <tr style=\"text-align: right;\">\n      <th></th>\n      <th>caseid</th>\n      <th>activity</th>\n      <th>department</th>\n      <th>start_timestamp</th>\n      <th>activity_code</th>\n      <th>executions</th>\n      <th>producer_code</th>\n      <th>section</th>\n      <th>age</th>\n      <th>diagnosis</th>\n      <th>...</th>\n      <th>rl_index</th>\n      <th>di_index</th>\n      <th>age_log</th>\n      <th>age_norm</th>\n      <th>years_log</th>\n      <th>years_norm</th>\n      <th>case_len_log</th>\n      <th>case_len_norm</th>\n      <th>tbtw_log</th>\n      <th>tbtw_norm</th>\n    </tr>\n  </thead>\n  <tbody>\n    <tr>\n      <th>0</th>\n      <td>338</td>\n      <td>verlosk.-gynaec.   jaarkaart kosten-out</td>\n      <td>Obstetrics &amp; Gynaecology clinic</td>\n      <td>2005-07-22</td>\n      <td>10307</td>\n      <td>1</td>\n      <td>SGNA</td>\n      <td>Section 2</td>\n      <td>37</td>\n      <td>M16</td>\n      <td>...</td>\n      <td>21</td>\n      <td>4</td>\n      <td>3.637586</td>\n      <td>-1.128957</td>\n      <td>0.000000</td>\n      <td>-0.881393</td>\n      <td>4.510860</td>\n      <td>-0.875326</td>\n      <td>0.0</td>\n      <td>-1.951919</td>\n    </tr>\n    <tr>\n      <th>1</th>\n      <td>341</td>\n      <td>cito histologisch onderzoek</td>\n      <td>Pathology</td>\n      <td>2005-07-25</td>\n      <td>359999</td>\n      <td>1</td>\n      <td>LVPT</td>\n      <td>Section 4</td>\n      <td>59</td>\n      <td>M16</td>\n      <td>...</td>\n      <td>25</td>\n      <td>4</td>\n      <td>4.094345</td>\n      <td>0.396624</td>\n      <td>1.098612</td>\n      <td>1.717064</td>\n      <td>6.840547</td>\n      <td>1.157415</td>\n      <td>0.0</td>\n      <td>-1.951919</td>\n    </tr>\n    <tr>\n      <th>2</th>\n      <td>341</td>\n      <td>aanname laboratoriumonderzoek</td>\n      <td>General Lab Clinical Chemistry</td>\n      <td>2005-07-25</td>\n      <td>370000</td>\n      <td>1</td>\n      <td>CRLA</td>\n      <td>Section 4</td>\n      <td>59</td>\n      <td>M16</td>\n      <td>...</td>\n      <td>10</td>\n      <td>4</td>\n      <td>4.094345</td>\n      <td>0.396624</td>\n      <td>1.098612</td>\n      <td>1.717064</td>\n      <td>6.840547</td>\n      <td>1.157415</td>\n      <td>0.0</td>\n      <td>-1.951919</td>\n    </tr>\n    <tr>\n      <th>3</th>\n      <td>341</td>\n      <td>bilirubine kwantitatief totaal of direct</td>\n      <td>General Lab Clinical Chemistry</td>\n      <td>2005-07-25</td>\n      <td>370401S</td>\n      <td>1</td>\n      <td>CHE2</td>\n      <td>Section 4</td>\n      <td>59</td>\n      <td>M16</td>\n      <td>...</td>\n      <td>10</td>\n      <td>4</td>\n      <td>4.094345</td>\n      <td>0.396624</td>\n      <td>1.098612</td>\n      <td>1.717064</td>\n      <td>6.840547</td>\n      <td>1.157415</td>\n      <td>0.0</td>\n      <td>-1.951919</td>\n    </tr>\n    <tr>\n      <th>4</th>\n      <td>341</td>\n      <td>ureum - spoed</td>\n      <td>General Lab Clinical Chemistry</td>\n      <td>2005-07-25</td>\n      <td>370403S</td>\n      <td>1</td>\n      <td>CHE2</td>\n      <td>Section 4</td>\n      <td>59</td>\n      <td>M16</td>\n      <td>...</td>\n      <td>10</td>\n      <td>4</td>\n      <td>4.094345</td>\n      <td>0.396624</td>\n      <td>1.098612</td>\n      <td>1.717064</td>\n      <td>6.840547</td>\n      <td>1.157415</td>\n      <td>0.0</td>\n      <td>-1.951919</td>\n    </tr>\n  </tbody>\n</table>\n<p>5 rows × 26 columns</p>\n</div>"
          },
          "metadata": {},
          "execution_count": 28
        }
      ]
    },
    {
      "cell_type": "code",
      "metadata": {
        "id": "Yt_dD2yHJ6PQ",
        "colab": {
          "base_uri": "https://localhost:8080/"
        },
        "outputId": "40ac52a8-e120-41c5-d3f1-dec4ecb6c481"
      },
      "source": [
        "training_traces = len(log_df_train['caseid'].unique())\n",
        "test_traces = len(log_df_test['caseid'].unique())\n",
        "\n",
        "print('Number of traces in training set is:'+str(training_traces))\n",
        "print('Number of traces in test set is:'+str(test_traces))"
      ],
      "execution_count": 29,
      "outputs": [
        {
          "output_type": "stream",
          "name": "stdout",
          "text": [
            "Number of traces in training set is:762\nNumber of traces in test set is:327\n"
          ]
        }
      ]
    },
    {
      "cell_type": "code",
      "metadata": {
        "colab": {
          "base_uri": "https://localhost:8080/"
        },
        "id": "ppsWF0J1_y32",
        "outputId": "85e1f9ce-32fb-488f-8ce2-f30fdf7920c6"
      },
      "source": [
        "#Checking the Balance of the Dataset, by the target variable\n",
        "print('training dataset')\n",
        "print(log_df_train.groupby(['diagnosis'])['caseid'].nunique())\n",
        "\n",
        "print('test dataset')\n",
        "print(log_df_test.groupby(['diagnosis'])['caseid'].nunique())\n",
        "\n"
      ],
      "execution_count": 30,
      "outputs": [
        {
          "output_type": "stream",
          "name": "stdout",
          "text": [
            "training dataset\ndiagnosis\n106    174\nM11    105\nM13    210\nM14    101\nM16    172\nName: caseid, dtype: int64\ntest dataset\ndiagnosis\n106     52\nM11     63\nM13    109\nM14     27\nM16     76\nName: caseid, dtype: int64\n"
          ]
        }
      ]
    },
    {
      "cell_type": "markdown",
      "metadata": {
        "id": "sP--CCx2Pmss"
      },
      "source": [
        "#### Support Function 6: Reformat events\n",
        "Modified from the function of: Renuka Sindagatta/ Manuel Camargo\n",
        "\n",
        "Function: converts the dataframe into a dictionary, using the indexes created"
      ]
    },
    {
      "cell_type": "code",
      "metadata": {
        "id": "wKbX9LU2Qbv2"
      },
      "source": [
        "# ==============================================================================\n",
        "# Reformat events: converts the dataframe into a numerical dictionary\n",
        "# ==============================================================================\n",
        "\n",
        "def reformat_events(log_df, ac_index, rl_index,di_index):\n",
        "    \"\"\"Creates series of activities, roles and relative times per trace.\n",
        "    Args:\n",
        "        log_df: dataframe.\n",
        "        ac_index (dict): index of activities.\n",
        "        rl_index (dict): index of roles.\n",
        "    Returns:\n",
        "        list: lists of activities, roles and relative times.\n",
        "    \"\"\"\n",
        "    log_df = log_df.to_dict('records')\n",
        "\n",
        "    temp_data = list()\n",
        "    log_df = sorted(log_df, key=lambda x: (x['caseid'], x['start_timestamp']))\n",
        "    for key, group in itertools.groupby(log_df, key=lambda x: x['caseid']):\n",
        "        trace = list(group)\n",
        "        #dynamic features\n",
        "        ac_order = [x['ac_index'] for x in trace]\n",
        "        rl_order = [x['rl_index'] for x in trace]\n",
        "        tbtw = [x['tbtw_norm'] for x in trace]\n",
        "\n",
        "        #static features: the aggregation used is max(), however, any aggregation could be used since we have a single value for this for the whole trace\n",
        "        age = max(x['age_norm'] for x in trace)\n",
        "        years = max(x['years_norm'] for x in trace)\n",
        "        case_len = max(x['case_len_norm'] for x in trace)\n",
        "\n",
        "        #outcome\n",
        "        diagnosis = max(x['di_index'] for x in trace)\n",
        "\n",
        "        #Adding start and end to the dynamic features\n",
        "        ac_order.insert(0, ac_index[('start')])\n",
        "        ac_order.append(ac_index[('end')])\n",
        "        rl_order.insert(0, rl_index[('start')])\n",
        "        rl_order.append(rl_index[('end')])\n",
        "        tbtw.insert(0, 0)\n",
        "        tbtw.append(0)\n",
        "        temp_dict = dict(caseid=key,\n",
        "                         ac_order=ac_order,\n",
        "                         rl_order=rl_order,\n",
        "                         tbtw=tbtw,\n",
        "                         age=age,\n",
        "                         years=years,\n",
        "                         case_len= case_len,\n",
        "                         diagnosis = diagnosis)\n",
        "        temp_data.append(temp_dict)\n",
        "\n",
        "    return temp_data\n"
      ],
      "execution_count": 31,
      "outputs": []
    },
    {
      "cell_type": "markdown",
      "metadata": {
        "id": "VpqKdhqb0TAD"
      },
      "source": [
        "converting the training dataframe into a dictionary\n"
      ]
    },
    {
      "cell_type": "code",
      "metadata": {
        "id": "X-v81fzS0beR"
      },
      "source": [
        "\n",
        "log_train = reformat_events(log_df_train, ac_index, rl_index,di_index)\n",
        "log_test = reformat_events(log_df_test, ac_index, rl_index,di_index)"
      ],
      "execution_count": 32,
      "outputs": []
    },
    {
      "cell_type": "code",
      "metadata": {
        "colab": {
          "base_uri": "https://localhost:8080/"
        },
        "id": "5I1xe0R_3uvz",
        "outputId": "d65e7bf3-a677-4d2a-d664-ba1e6988ea32"
      },
      "source": [
        "#print a sample of the dictionary\n",
        "print(log_train[700])"
      ],
      "execution_count": 33,
      "outputs": [
        {
          "output_type": "stream",
          "name": "stdout",
          "text": [
            "{'caseid': 1069, 'ac_order': [0, 3, 172, 1, 5, 159, 8, 149, 133, 160, 12, 59, 43, 91, 178, 127, 99, 125, 139, 8, 29, 184, 34, 57, 100, 145, 117, 163, 165, 16, 127, 5, 3, 3, 5, 127, 73, 3, 5, 63, 127, 92, 3, 5, 10, 7, 65, 149, 133, 160, 12, 123, 35, 45, 91, 178, 125, 75, 159, 34, 43, 165, 163, 117, 145, 16, 57, 100, 184, 29, 8, 8, 127, 87, 139, 127, 8, 100, 149, 167, 5, 3, 127, 3, 5, 170, 23, 3, 5, 127, 127, 5, 3, 5, 127, 3, 127, 3, 5, 127, 112, 5, 3, 3, 127, 5, 3, 5, 127, 5, 127, 3, 127, 5, 3, 3, 5, 127, 73, 3, 5, 127, 3, 5, 127, 169, 200], 'rl_order': [0, 20, 27, 20, 20, 10, 10, 10, 10, 10, 10, 10, 10, 10, 10, 20, 10, 10, 10, 10, 10, 10, 10, 10, 10, 10, 10, 10, 10, 10, 20, 20, 20, 20, 20, 20, 6, 20, 20, 27, 20, 10, 20, 20, 28, 28, 27, 10, 10, 10, 10, 10, 10, 10, 10, 10, 10, 10, 10, 10, 10, 10, 10, 10, 10, 10, 10, 10, 10, 10, 10, 10, 20, 10, 10, 20, 10, 10, 10, 27, 20, 20, 20, 20, 20, 28, 28, 20, 20, 20, 20, 20, 20, 20, 20, 20, 20, 20, 20, 20, 24, 20, 20, 20, 20, 20, 20, 20, 20, 20, 20, 20, 20, 20, 20, 20, 20, 20, 6, 20, 20, 20, 20, 20, 20, 21, 33], 'tbtw': [0, -1.951918507626403, -1.951918507626403, -1.951918507626403, -1.951918507626403, -1.951918507626403, -1.951918507626403, -1.951918507626403, -1.951918507626403, -1.951918507626403, -1.951918507626403, -1.951918507626403, -1.951918507626403, -1.951918507626403, -1.951918507626403, -1.951918507626403, -1.951918507626403, -1.951918507626403, -1.951918507626403, -1.951918507626403, -1.951918507626403, -1.951918507626403, -1.951918507626403, -1.951918507626403, -1.951918507626403, -1.951918507626403, -1.951918507626403, -1.951918507626403, -1.951918507626403, -1.951918507626403, -1.5797063847303017, -1.5797063847303017, -1.5797063847303017, -1.361976250522268, -1.361976250522268, -1.361976250522268, -1.2074942618342004, -1.2074942618342004, -1.2074942618342004, -1.2074942618342004, -1.2074942618342004, -1.0876687222162778, -1.0876687222162778, -1.0876687222162778, -1.0876687222162778, -1.0876687222162778, -1.0876687222162778, -1.0876687222162778, -1.0876687222162778, -1.0876687222162778, -1.0876687222162778, -1.0876687222162778, -1.0876687222162778, -1.0876687222162778, -1.0876687222162778, -1.0876687222162778, -1.0876687222162778, -1.0876687222162778, -1.0876687222162778, -1.0876687222162778, -1.0876687222162778, -1.0876687222162778, -1.0876687222162778, -1.0876687222162778, -1.0876687222162778, -1.0876687222162778, -1.0876687222162778, -1.0876687222162778, -1.0876687222162778, -1.0876687222162778, -1.0876687222162778, -1.0876687222162778, -1.0876687222162778, -1.0876687222162778, -1.0876687222162778, -0.9897641276261668, -0.9897641276261668, -0.9897641276261668, -0.9897641276261668, -0.9897641276261668, -0.9897641276261668, -0.9897641276261668, -0.9069869723645234, -0.9069869723645234, -0.9069869723645234, -0.9069869723645234, -0.9069869723645234, -0.8352821389380993, -0.8352821389380993, -0.8352821389380993, -0.7720339934181331, -0.7720339934181331, -0.7720339934181331, -0.7154565993201765, -0.7154565993201765, -0.7154565993201765, -0.6642761208395188, -0.6642761208395188, -0.6642761208395188, -0.6175520047300656, -0.6175520047300656, -0.6175520047300656, -0.6175520047300656, -0.5745699844880565, -0.5745699844880565, -0.5745699844880565, -0.5347748494684222, -0.5347748494684222, -0.5347748494684222, -0.4977264651121429, -0.4977264651121429, -0.4977264651121429, -0.4630700160419981, -0.4630700160419981, -0.4630700160419981, -0.43051528622568447, -0.43051528622568447, -0.43051528622568447, -0.399821870522032, -0.399821870522032, -0.399821870522032, -0.399821870522032, -0.3707883899388095, -0.3707883899388095, -0.3707883899388095, -0.20235786159195526, 0], 'age': -1.0421986543923554, 'years': -0.881393450864054, 'case_len': -1.968409714068603, 'diagnosis': 0}\n"
          ]
        }
      ]
    },
    {
      "cell_type": "markdown",
      "metadata": {
        "id": "58C-KzPa5YeS"
      },
      "source": [
        "#### Support Function 7: Vectorization\n",
        "Author: Bemali Wickramanayake\n",
        "\n",
        "Inspired by the code of: Renuka Sindagatta\n",
        "\n",
        "Function: Creating the Input and Output Tensors \n",
        "\n",
        "Notes: Editing needs to finish for this function"
      ]
    },
    {
      "cell_type": "code",
      "metadata": {
        "id": "_eZN6X7RCV8Z"
      },
      "source": [
        "# Support function for Vectirization\n",
        "\n",
        "# This function returns the maximum trace length (trc_len), and the number of cases for train and test sets (cases)\n",
        "# The maximum out of trc_len for train and test sets will be used to define the trace length of the dataset that is fed to lstm\n",
        "\n",
        "def lengths (log):\n",
        "  trc_len = 1\n",
        "  cases = 1\n",
        "\n",
        "  for i,_ in enumerate(log):\n",
        "\n",
        "    if trc_len <len(log[i]['ac_order']):\n",
        "\n",
        "        trc_len = len(log[i]['ac_order'])\n",
        "        cases += 1\n",
        "    else:\n",
        "        cases += 1\n",
        "\n",
        "  return trc_len, cases\n"
      ],
      "execution_count": 34,
      "outputs": []
    },
    {
      "cell_type": "code",
      "metadata": {
        "colab": {
          "base_uri": "https://localhost:8080/"
        },
        "id": "nA2xA3QLDcEJ",
        "outputId": "b3d8371b-ca6f-4478-fa35-e19f7eaf64fc"
      },
      "source": [
        "#Obtain the trc_len and cases for each set\n",
        "\n",
        "trc_len_train, cases_train = lengths(log_train)\n",
        "trc_len_test, cases_test = lengths(log_test)\n",
        "\n",
        "trc_len = trc_len_train\n",
        "if trc_len < trc_len_test:\n",
        "  trc_len = trc_len_test\n",
        "\n",
        "print(\"trace_length: \"+str(trc_len)+\", training cases: \"+str(cases_train)+\", test cases: \"+str(cases_test))\n",
        "\n"
      ],
      "execution_count": 35,
      "outputs": [
        {
          "output_type": "stream",
          "name": "stdout",
          "text": [
            "trace_length: 1402, training cases: 763, test cases: 328\n"
          ]
        }
      ]
    },
    {
      "cell_type": "code",
      "metadata": {
        "id": "lA1xBzMDr0J1"
      },
      "source": [
        "def vectorization(log, ac_index, rl_index, di_index,trc_len,cases):\n",
        "\n",
        "#Example function with types documented in the docstring.\n",
        "#Args:\n",
        "        #log: event log data in a dictionary.\n",
        "        #ac_index (dict): index of activities.\n",
        "        #rl_index (dict): index of roles (departments).\n",
        "        #di_index (dict) : index of diagnosis codes.\n",
        "\n",
        "#Returns:vec: Dictionary that contains all the LSTM inputs. \"\"\"\n",
        "\n",
        "  vec = {'prefixes':dict(), 'static':dict(),'diagnosis':[]} \n",
        "  len_ac = trc_len  \n",
        "\n",
        "  for i ,_ in enumerate(log):\n",
        "  \n",
        "    padding = np.zeros(len_ac-len(log[i]['ac_order']))\n",
        "\n",
        "    if i == 0:\n",
        "            vec['prefixes']['x_ac_inp'] = np.array(np.append(log[i]['ac_order'],padding))\n",
        "            vec['prefixes']['x_rl_inp'] = np.array(np.append(log[i]['rl_order'],padding))\n",
        "            vec['prefixes']['xt_inp'] = np.array(np.append(log[i]['tbtw'],padding))\n",
        "            vec['static']['x_age_inp'] = np.array(log[i]['age'])\n",
        "            vec['static']['x_years_inp'] = np.array(log[i]['years'])\n",
        "            vec['static']['x_cl_inp'] = np.array(log[i]['case_len'])\n",
        "            vec['diagnosis'] = np.array(log[i]['diagnosis'])\n",
        "\n",
        "\n",
        "            #print(len(vec['prefixes']['x_ac_inp']))\n",
        "\n",
        "  \n",
        "    vec['prefixes']['x_ac_inp'] = np.concatenate((vec['prefixes']['x_ac_inp'],\n",
        "                                                          np.array(np.append(log[i]['ac_order'],padding))), axis=0)\n",
        "    vec['prefixes']['x_rl_inp'] = np.concatenate((vec['prefixes']['x_rl_inp'],\n",
        "                                                          np.array(np.append(log[i]['rl_order'],padding))), axis=0)\n",
        "    vec['prefixes']['xt_inp'] = np.concatenate((vec['prefixes']['xt_inp'],\n",
        "                                                        np.array(np.append(log[i]['tbtw'],padding))), axis=0)\n",
        "    vec['static']['x_age_inp'] = np.append(vec['static']['x_age_inp'],log[i]['age'])\n",
        "    vec['static']['x_years_inp'] = np.append(vec['static']['x_years_inp'],log[i]['years'])\n",
        "    vec['static']['x_cl_inp'] = np.append(vec['static']['x_cl_inp'],log[i]['case_len'])\n",
        "    vec['diagnosis'] = np.append(vec['diagnosis'],log[i]['diagnosis'])\n",
        "  \n",
        "\n",
        "  \n",
        "\n",
        "  \n",
        "  #The concatenation returns a flattened vector. Hence, reshaping the vectors at the end\n",
        "  vec['prefixes']['x_ac_inp'] = np.reshape(vec['prefixes']['x_ac_inp'],(cases,len_ac))\n",
        "  vec['prefixes']['x_rl_inp'] = np.reshape(vec['prefixes']['x_rl_inp'],(cases,len_ac))\n",
        "  vec['prefixes']['xt_inp'] = np.reshape(vec['prefixes']['xt_inp'],(cases,len_ac))\n",
        "\n",
        "  #one-hot-encoding the y class\n",
        "  vec['diagnosis'] = ku.to_categorical(vec['diagnosis'],\n",
        "                                               num_classes=len(di_index))\n",
        "\n",
        "  return vec\n"
      ],
      "execution_count": 36,
      "outputs": []
    },
    {
      "cell_type": "markdown",
      "metadata": {
        "id": "jhqsec6pv-Yz"
      },
      "source": [
        "converting the training log (dictionary) into a Tensor"
      ]
    },
    {
      "cell_type": "code",
      "metadata": {
        "id": "tC-kh5J8wHIh"
      },
      "source": [
        "vec_train = vectorization(log_train,ac_index,rl_index,di_index,trc_len,cases_train)\n",
        "vec_test = vectorization(log_test,ac_index,rl_index,di_index,trc_len,cases_test)"
      ],
      "execution_count": 37,
      "outputs": []
    },
    {
      "cell_type": "code",
      "metadata": {
        "colab": {
          "base_uri": "https://localhost:8080/"
        },
        "id": "v6RSHkic90l9",
        "outputId": "dab7d803-49ef-4dd3-9591-d468f94f828a"
      },
      "source": [
        "vec_train['diagnosis']"
      ],
      "execution_count": 38,
      "outputs": [
        {
          "output_type": "execute_result",
          "data": {
            "text/plain": [
              "array([[0., 0., 0., 0., 1.],\n",
              "       [0., 0., 0., 0., 1.],\n",
              "       [1., 0., 0., 0., 0.],\n",
              "       ...,\n",
              "       [0., 0., 1., 0., 0.],\n",
              "       [0., 0., 0., 0., 1.],\n",
              "       [0., 0., 1., 0., 0.]], dtype=float32)"
            ]
          },
          "metadata": {},
          "execution_count": 38
        }
      ]
    },
    {
      "cell_type": "markdown",
      "metadata": {
        "id": "hrM7xSh72Rv9"
      },
      "source": [
        "#### Initial Embedding weights for the Embedding layer"
      ]
    },
    {
      "cell_type": "code",
      "metadata": {
        "id": "Ve2jHK2F2Wtf"
      },
      "source": [
        "# Load embedded matrix\n",
        "ac_weights = ku.to_categorical(sorted(index_ac.keys()), len(ac_index))\n",
        "#print('AC_WEIGHTS', ac_weights)\n",
        "rl_weights =  ku.to_categorical(sorted(index_rl.keys()), len(rl_index))\n",
        "#print('RL_WEIGHTS', rl_weights)\n"
      ],
      "execution_count": 39,
      "outputs": []
    },
    {
      "cell_type": "markdown",
      "metadata": {
        "id": "bV5I0AiwxMps"
      },
      "source": [
        "#### Saving the Processed Tensor and Other Support Data"
      ]
    },
    {
      "cell_type": "code",
      "metadata": {
        "id": "zHiOfIhRxLYr"
      },
      "source": [
        "\n",
        "# saving the processed tensor\n",
        "with open(args['processed_training_vec'], 'wb') as fp:\n",
        "    pickle.dump(vec_train, fp, protocol=pickle.HIGHEST_PROTOCOL)\n",
        "with open(args['processed_test_vec'], 'wb') as fp:\n",
        "    pickle.dump(vec_test, fp, protocol=pickle.HIGHEST_PROTOCOL)\n",
        "\n",
        "# converting the weights into a dictionary and saving\n",
        "weights = {'ac_weights':ac_weights, 'rl_weights':rl_weights, 'diagnoses':len(di_index)}\n",
        "with open(args['weights'], 'wb') as fp:\n",
        "    pickle.dump(weights, fp, protocol=pickle.HIGHEST_PROTOCOL)\n",
        "\n",
        "# converting the weights into a dictionary and saving\n",
        "indexes = {'index_ac':index_ac, 'index_rl':index_rl, 'index_di':index_di}\n",
        "with open(args['indexes'], 'wb') as fp:\n",
        "    pickle.dump(indexes, fp, protocol=pickle.HIGHEST_PROTOCOL)\n",
        "\n",
        "#saving the arguements (args)\n",
        "with open(args['args'], 'wb') as fp:\n",
        "    pickle.dump(args, fp, protocol=pickle.HIGHEST_PROTOCOL)\n",
        "\n",
        "\n"
      ],
      "execution_count": 40,
      "outputs": []
    },
    {
      "cell_type": "code",
      "execution_count": null,
      "metadata": {},
      "outputs": [],
      "source": []
    }
  ]
}