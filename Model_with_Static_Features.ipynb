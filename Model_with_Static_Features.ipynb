{
  "nbformat": 4,
  "nbformat_minor": 0,
  "metadata": {
    "accelerator": "GPU",
    "colab": {
      "name": "Model with Static Features.ipynb",
      "provenance": []
    },
    "kernelspec": {
      "display_name": "Python 3",
      "name": "python3"
    },
    "language_info": {
      "name": "python"
    }
  },
  "cells": [
    {
      "cell_type": "code",
      "metadata": {
        "colab": {
          "base_uri": "https://localhost:8080/"
        },
        "id": "iMeQTdBH4DRn",
        "outputId": "342c4a40-1eaf-4537-cdd0-104ae3593155"
      },
      "source": [
        "import os\n",
        "import argparse\n",
        "import numpy as np\n",
        "import pandas as pd\n",
        "from matplotlib import pyplot as plt\n",
        "#import tensorflow as tf\n",
        "\n",
        "import sys\n",
        "import getopt\n",
        "\n",
        "\n",
        "import tensorflow.compat.v1 as tf\n",
        "\n",
        "from keras import backend as K\n",
        "from keras.models import Model\n",
        "from keras.preprocessing import sequence\n",
        "from keras.utils.data_utils import Sequence\n",
        "from keras.regularizers import l2\n",
        "from keras.constraints import non_neg, Constraint\n",
        "from sklearn.metrics import roc_auc_score, average_precision_score, precision_recall_curve, confusion_matrix\n",
        "\n",
        "\n",
        "from keras.layers import Input, Concatenate, Flatten\n",
        "from keras.layers.core import Dense\n",
        "from keras.layers.recurrent import LSTM\n",
        "from tensorflow.keras.optimizers import Nadam, Adam, SGD, Adagrad\n",
        "from keras.callbacks import EarlyStopping, ModelCheckpoint, ReduceLROnPlateau\n",
        "from keras.layers.normalization import BatchNormalization\n",
        "\n",
        "import csv\n",
        "import math\n",
        "import itertools\n",
        "\n",
        "from tensorflow.keras import utils as ku \n",
        "\n",
        "import pickle\n",
        "\n",
        "from nltk.util import ngrams\n",
        "\n",
        "import keras\n",
        "print(keras.__version__)\n",
        "\n",
        "\n",
        "from google.colab import drive\n",
        "drive.mount('/content/drive')"
      ],
      "execution_count": null,
      "outputs": [
        {
          "output_type": "stream",
          "text": [
            "2.5.0\n",
            "Mounted at /content/drive\n"
          ],
          "name": "stdout"
        }
      ]
    },
    {
      "cell_type": "code",
      "metadata": {
        "id": "NCl8QBs54T_B"
      },
      "source": [
        "MY_WORKSPACE_DIR = \"/content/drive/My Drive/BPIC_11/\""
      ],
      "execution_count": null,
      "outputs": []
    },
    {
      "cell_type": "markdown",
      "metadata": {
        "id": "Cyz-VISj4i9x"
      },
      "source": [
        "\n",
        "Loading the data and parameter files"
      ]
    },
    {
      "cell_type": "code",
      "metadata": {
        "id": "8sZsrKrp4hoR"
      },
      "source": [
        "with open('/content/drive/My Drive/BPIC_11/args.p', 'rb') as fp:\n",
        "    args = pickle.load(fp)"
      ],
      "execution_count": null,
      "outputs": []
    },
    {
      "cell_type": "code",
      "metadata": {
        "id": "HokhlOL047Qr"
      },
      "source": [
        "with open(args['processed_training_vec'], 'rb') as fp:\n",
        "    vec_train = pickle.load(fp)\n",
        "with open(args['processed_test_vec'], 'rb') as fp:\n",
        "    vec_test = pickle.load(fp)\n",
        "    \n",
        "with open(args['weights'], 'rb') as fp:\n",
        "    weights = pickle.load(fp)\n",
        "ac_weights = weights['ac_weights']\n",
        "rl_weights = weights['rl_weights']\n",
        "diagnoses = weights['diagnoses']\n",
        "\n",
        "with open(args['indexes'], 'rb') as fp:\n",
        "    indexes = pickle.load(fp)\n",
        "    index_ac = indexes['index_ac']\n",
        "    index_rl = indexes['index_rl']\n",
        "    "
      ],
      "execution_count": null,
      "outputs": []
    },
    {
      "cell_type": "code",
      "metadata": {
        "colab": {
          "base_uri": "https://localhost:8080/"
        },
        "id": "ME8liZ3LPlLv",
        "outputId": "7d5dc6ba-6d5c-4227-b1cc-ac708dd37d03"
      },
      "source": [
        "index_di = indexes['index_di']\n",
        "index_di"
      ],
      "execution_count": null,
      "outputs": [
        {
          "output_type": "execute_result",
          "data": {
            "text/plain": [
              "{0: '106', 1: 'M11', 2: 'M13', 3: 'M14', 4: 'M16'}"
            ]
          },
          "metadata": {
            "tags": []
          },
          "execution_count": 5
        }
      ]
    },
    {
      "cell_type": "code",
      "metadata": {
        "id": "kITCEJtq-Unp"
      },
      "source": [
        "args['optim'] = 'Adam'"
      ],
      "execution_count": null,
      "outputs": []
    },
    {
      "cell_type": "markdown",
      "metadata": {
        "id": "F1Pfq1SP5GUc"
      },
      "source": [
        "#### Model with Attention\n",
        "\n",
        "Author: Bemali Wickramanayake\n",
        "\n",
        "Model Details: This model computes the attention weights for the dynamic 'prefix' features and uses them in the final outcome prediction together with the static features"
      ]
    },
    {
      "cell_type": "code",
      "metadata": {
        "colab": {
          "base_uri": "https://localhost:8080/",
          "height": 1000
        },
        "id": "rqc8pK5Q5bas",
        "outputId": "8a9810c8-ad5f-48b5-be34-c7a2059c118e"
      },
      "source": [
        "import keras.layers as L\n",
        "from keras import backend as K\n",
        "from keras.layers import Embedding\n",
        "\n",
        "from keras.layers import Lambda, dot, Activation, concatenate, Dense\n",
        "\n",
        "\n",
        "#Initializing variables\n",
        "vec = vec_train\n",
        "output_folder = MY_WORKSPACE_DIR\n",
        "\n",
        "MAX_LEN = args['n_size']\n",
        "dropout_input = 0.15\n",
        "dropout_context=0.15\n",
        "  # number of lstm cells\n",
        "incl_time = True \n",
        "incl_res = True\n",
        "lstm_size_alpha=args['l_size'] #number of lstm cells\n",
        "lstm_size_beta=args['l_size']\n",
        "print(\"Training prefix-attention model\")\n",
        "\n",
        "l2reg=0.0001\n",
        "\n",
        "output_length = diagnoses\n",
        "\n",
        " \n",
        "  #Inputs include activity, resource and time - time is normalised- 0 mean and unit variance\n",
        "\n",
        "#Dynamic Inputs\n",
        "ac_input = Input(shape=(vec['prefixes']['x_ac_inp'].shape[1], ), name='ac_input') \n",
        "rl_input = Input(shape=(vec['prefixes']['x_rl_inp'].shape[1], ), name='rl_input')\n",
        "t_input = Input(shape=(vec['prefixes']['xt_inp'].shape[1], 1), name='t_input')\n",
        "\n",
        "#static inputs\n",
        "age_input = Input(shape = (1, ),name = 'age_input') #cl_input_d #vec['static']['x_age_inp']\n",
        "cl_input_d = Input(shape =(1, ),name = 'cl_input_d') #case length (the duration of a case) in days #vec['static']['x_cl_inp']\n",
        "cl_input_y = Input(shape=(1, ),name = 'cl_input_y') #case length (the duration of a case) in years, rounded down #vec['static']['x_years_inp']\n",
        "\n",
        "#Activity Embedding - dynamic input 1\n",
        "  \n",
        "ac_embs = L.Embedding(ac_weights.shape[0],\n",
        "                            ac_weights.shape[1],\n",
        "                            weights=[ac_weights], #the one hot encoded activity weight matrix used as the initial weight matrix\n",
        "                            input_length=vec['prefixes']['x_ac_inp'].shape[1],\n",
        "                            trainable=True, name='ac_embedding')(ac_input)\n",
        "\n",
        "dim_ac =ac_weights.shape[1]   \n",
        "\n",
        "\n",
        "\n",
        "#Role Embedding - dynamic input 2\n",
        "rl_embs = Embedding(rl_weights.shape[0],\n",
        "                            rl_weights.shape[1],\n",
        "                            weights=[rl_weights],\n",
        "                            input_length=vec['prefixes']['x_rl_inp'].shape[1],\n",
        "                            trainable=True, name='rl_embedding')(rl_input)\n",
        "\n",
        "dim_rl = rl_weights.shape[1]\n",
        "      \n",
        "\n",
        "#Time input\n",
        "\n",
        "time_embs=t_input\n",
        "dim_t = 1\n",
        "\n",
        "#Concatenated Input Vector\n",
        "\n",
        "full_embs = L.concatenate([ac_embs,rl_embs,time_embs],name = 'full_embs')\n",
        "full_embs = L.Dropout(dropout_input)(full_embs)\n",
        "\n",
        "#Set up the LSTM networks\n",
        "\n",
        "#LSTM \n",
        "alpha = L.Bidirectional(L.CuDNNLSTM(lstm_size_alpha, return_sequences=True),\n",
        "                                    name='alpha')\n",
        "beta = L.Bidirectional(L.LSTM(lstm_size_beta, return_sequences=True),\n",
        "                                   name='beta')\n",
        "\n",
        "\n",
        "#Dense layer for attention\n",
        "alpha_dense = L.Dense(1, kernel_regularizer=l2(l2reg))\n",
        "beta_dense = L.Dense(1,activation='tanh', kernel_regularizer=l2(l2reg))\n",
        "\n",
        "#Compute alpha, timestep attention\n",
        "\n",
        "alpha_out = alpha(full_embs)\n",
        "alpha_out = L.TimeDistributed(alpha_dense, name='alpha_dense')(alpha_out)\n",
        "alpha_out = L.Softmax(name='timestep_attention', axis=1)(alpha_out)\n",
        "\n",
        "#Compute beta, feature attention\n",
        "beta_out = beta(full_embs)\n",
        "beta_out = L.TimeDistributed(beta_dense, name='feature_attention')(beta_out)\n",
        "\n",
        "  \n",
        "#Compute context vector based on attentions and embeddings\n",
        "c_t = L.Multiply()([alpha_out, beta_out,full_embs])\n",
        "c_t = L.Lambda(lambda x: K.sum(x, axis=1))(c_t)\n",
        "\n",
        "\n",
        "# Static Features with attention\n",
        "\n",
        "#Dense layer for attention of static features\n",
        "\n",
        "alpha_dense_age = L.Dense(1, kernel_regularizer=l2(l2reg),name = 'alpha_dense_age')\n",
        "alpha_dense_cl = L.Dense(1, kernel_regularizer=l2(l2reg),name = 'alpha_dense_cl')\n",
        "\n",
        "#Compute static attentions\n",
        "\n",
        "age_out = alpha_dense_age(age_input)\n",
        "age_out = L.Softmax(name='age_static_attention', axis=1)(age_out)\n",
        "\n",
        "cl_out = alpha_dense_age(age_input)\n",
        "cl_out = L.Softmax(name='cl_static_attention', axis=1)(cl_input_d)\n",
        "\n",
        "\n",
        "\n",
        "\n",
        "  \n",
        "contexts = L.concatenate([c_t,age_out,cl_out], name='contexts')\n",
        "contexts = L.Dropout(dropout_context)(contexts)\n",
        "\n",
        "\n",
        "  \n",
        "act_output = Dense(output_length,\n",
        "                       activation='softmax',\n",
        "                       kernel_initializer='glorot_uniform',\n",
        "                       name='act_output')(contexts)\n",
        "\n",
        " #changing the optimizer\n",
        " #----- delete this bit if works--------\n",
        "#args['optim'] = 'Adagrad'\n",
        " #------------------------------------\n",
        "\n",
        "model = Model(inputs=[ac_input, rl_input, t_input,age_input,cl_input_d], outputs=act_output)\n",
        "#model = Model(inputs=[ac_input, rl_input, t_input], outputs=act_output)\n",
        "\n",
        "tf.keras.utils.plot_model(\n",
        "    model,\n",
        "    to_file=\"model.png\",\n",
        "    show_shapes=False,\n",
        "    show_dtype=False,\n",
        "    show_layer_names=True,\n",
        "    rankdir=\"TB\",\n",
        "    expand_nested=False,\n",
        "    dpi=96,\n",
        ")\n",
        "\n"
      ],
      "execution_count": null,
      "outputs": [
        {
          "output_type": "stream",
          "text": [
            "Training prefix-attention model\n"
          ],
          "name": "stdout"
        },
        {
          "output_type": "execute_result",
          "data": {
            "image/png": "[encoded data removed]",
            "text/plain": [
              "<IPython.core.display.Image object>"
            ]
          },
          "metadata": {
            "tags": []
          },
          "execution_count": 7
        }
      ]
    },
    {
      "cell_type": "code",
      "metadata": {
        "colab": {
          "base_uri": "https://localhost:8080/"
        },
        "id": "Ycc6xkXhVZFN",
        "outputId": "ec2a7338-eedb-4f19-c9c9-ca8d964f4104"
      },
      "source": [
        "# Model Training\n",
        "\n",
        "if args['optim'] == 'Nadam':\n",
        "      opt = Nadam(learning_rate=0.002, beta_1=0.9, beta_2=0.999,\n",
        "                    epsilon=1e-08, schedule_decay=0.004, clipvalue=3 , name = 'Nadam')\n",
        "elif args['optim'] == 'Adam':\n",
        "      opt = Adam(learning_rate=0.001, beta_1=0.9, beta_2=0.999,\n",
        "                   epsilon=None, decay=0.0, amsgrad=False,name = 'Adam')\n",
        "elif args['optim'] == 'SGD':\n",
        "      opt = SGD(momentum=0.0, decay=0.0, nesterov=False, name = 'SGD')\n",
        "elif args['optim'] == 'Adagrad':\n",
        "        opt = Adagrad(learning_rate=0.01, epsilon=None, decay=0.0, name = 'Adagrad')\n",
        "\n",
        "#model.compile(loss={'act_output':'categorical_crossentropy'}, optimizer=opt, metrics=['accuracy'])\n",
        "model.compile(loss='categorical_crossentropy', optimizer=opt, metrics=['accuracy'])\n",
        "    \n",
        "model.summary()\n",
        "    \n",
        "early_stopping = EarlyStopping(monitor='val_loss', patience=42)\n",
        "#\n",
        "#    # Output file\n",
        "output_file_path = os.path.join(output_folder,\n",
        "                                    'models/model_rd_' + str(args['n_size']) +\n",
        "                                    ' ' + args['optim']  + args['log_name']  +\n",
        "                                    '_{epoch:02d}-{val_loss:.2f}.h5')\n",
        "print('This is the output file path ', output_file_path)\n",
        "    # Saving\n",
        "model_checkpoint = ModelCheckpoint(output_file_path,\n",
        "                                       monitor='val_loss',\n",
        "                                       verbose=1,\n",
        "                                       save_best_only=True,\n",
        "                                       save_weights_only=False,\n",
        "                                       mode='auto')\n",
        "lr_reducer = ReduceLROnPlateau(monitor='val_loss',\n",
        "                                   factor=0.5,\n",
        "                                   patience=10,\n",
        "                                   verbose=0,\n",
        "                                   mode='auto',\n",
        "                                   min_delta=0.0001,\n",
        "                                   cooldown=0,\n",
        "                                   min_lr=0)\n",
        "\n",
        "model_inputs = [vec['prefixes']['x_ac_inp']]\n",
        "model_inputs.append(vec['prefixes']['x_rl_inp'])\n",
        "model_inputs.append(vec['prefixes']['xt_inp'])\n",
        "model_inputs.append(vec['static']['x_age_inp'])\n",
        "model_inputs.append(vec['static']['x_cl_inp'])\n",
        "\n",
        "\n",
        "\n",
        "with tf.compat.v1.Session() as sess:\n",
        "     sess.run(tf.compat.v1.global_variables_initializer())\n",
        "\n",
        "model.fit(model_inputs,\n",
        "            {'act_output':vec['diagnosis']},\n",
        "            validation_split=0.15,\n",
        "            verbose=2,\n",
        "            callbacks=[early_stopping, model_checkpoint,lr_reducer],\n",
        "            batch_size=10,\n",
        "            epochs=100)\n",
        "#return model"
      ],
      "execution_count": null,
      "outputs": [
        {
          "output_type": "stream",
          "text": [
            "Model: \"model\"\n",
            "__________________________________________________________________________________________________\n",
            "Layer (type)                    Output Shape         Param #     Connected to                     \n",
            "==================================================================================================\n",
            "ac_input (InputLayer)           [(None, 1402)]       0                                            \n",
            "__________________________________________________________________________________________________\n",
            "rl_input (InputLayer)           [(None, 1402)]       0                                            \n",
            "__________________________________________________________________________________________________\n",
            "ac_embedding (Embedding)        (None, 1402, 201)    40401       ac_input[0][0]                   \n",
            "__________________________________________________________________________________________________\n",
            "rl_embedding (Embedding)        (None, 1402, 34)     1156        rl_input[0][0]                   \n",
            "__________________________________________________________________________________________________\n",
            "t_input (InputLayer)            [(None, 1402, 1)]    0                                            \n",
            "__________________________________________________________________________________________________\n",
            "full_embs (Concatenate)         (None, 1402, 236)    0           ac_embedding[0][0]               \n",
            "                                                                 rl_embedding[0][0]               \n",
            "                                                                 t_input[0][0]                    \n",
            "__________________________________________________________________________________________________\n",
            "dropout (Dropout)               (None, 1402, 236)    0           full_embs[0][0]                  \n",
            "__________________________________________________________________________________________________\n",
            "alpha (Bidirectional)           (None, 1402, 100)    115200      dropout[0][0]                    \n",
            "__________________________________________________________________________________________________\n",
            "alpha_dense (TimeDistributed)   (None, 1402, 1)      101         alpha[0][0]                      \n",
            "__________________________________________________________________________________________________\n",
            "beta (Bidirectional)            (None, 1402, 100)    114800      dropout[0][0]                    \n",
            "__________________________________________________________________________________________________\n",
            "timestep_attention (Softmax)    (None, 1402, 1)      0           alpha_dense[0][0]                \n",
            "__________________________________________________________________________________________________\n",
            "feature_attention (TimeDistribu (None, 1402, 1)      101         beta[0][0]                       \n",
            "__________________________________________________________________________________________________\n",
            "age_input (InputLayer)          [(None, 1)]          0                                            \n",
            "__________________________________________________________________________________________________\n",
            "multiply (Multiply)             (None, 1402, 236)    0           timestep_attention[0][0]         \n",
            "                                                                 feature_attention[0][0]          \n",
            "                                                                 dropout[0][0]                    \n",
            "__________________________________________________________________________________________________\n",
            "alpha_dense_age (Dense)         (None, 1)            2           age_input[0][0]                  \n",
            "__________________________________________________________________________________________________\n",
            "cl_input_d (InputLayer)         [(None, 1)]          0                                            \n",
            "__________________________________________________________________________________________________\n",
            "lambda (Lambda)                 (None, 236)          0           multiply[0][0]                   \n",
            "__________________________________________________________________________________________________\n",
            "age_static_attention (Softmax)  (None, 1)            0           alpha_dense_age[0][0]            \n",
            "__________________________________________________________________________________________________\n",
            "cl_static_attention (Softmax)   (None, 1)            0           cl_input_d[0][0]                 \n",
            "__________________________________________________________________________________________________\n",
            "contexts (Concatenate)          (None, 238)          0           lambda[0][0]                     \n",
            "                                                                 age_static_attention[0][0]       \n",
            "                                                                 cl_static_attention[0][0]        \n",
            "__________________________________________________________________________________________________\n",
            "dropout_1 (Dropout)             (None, 238)          0           contexts[0][0]                   \n",
            "__________________________________________________________________________________________________\n",
            "act_output (Dense)              (None, 5)            1195        dropout_1[0][0]                  \n",
            "==================================================================================================\n",
            "Total params: 272,956\n",
            "Trainable params: 272,956\n",
            "Non-trainable params: 0\n",
            "__________________________________________________________________________________________________\n",
            "This is the output file path  /content/drive/My Drive/BPIC_11/models/model_rd_15 Adambpic2011_Hospital_Data_{epoch:02d}-{val_loss:.2f}.h5\n",
            "Epoch 1/100\n",
            "65/65 - 42s - loss: 1.5746 - accuracy: 0.2778 - val_loss: 1.6425 - val_accuracy: 0.1739\n",
            "\n",
            "Epoch 00001: val_loss improved from inf to 1.64253, saving model to /content/drive/My Drive/BPIC_11/models/model_rd_15 Adambpic2011_Hospital_Data_01-1.64.h5\n"
          ],
          "name": "stdout"
        },
        {
          "output_type": "stream",
          "text": [
            "/usr/local/lib/python3.7/dist-packages/keras/utils/generic_utils.py:497: CustomMaskWarning: Custom mask layers require a config and must override get_config. When loading, the custom mask layer must be passed to the custom_objects argument.\n",
            "  category=CustomMaskWarning)\n"
          ],
          "name": "stderr"
        },
        {
          "output_type": "stream",
          "text": [
            "Epoch 2/100\n",
            "65/65 - 11s - loss: 1.4204 - accuracy: 0.4059 - val_loss: 1.4310 - val_accuracy: 0.3478\n",
            "\n",
            "Epoch 00002: val_loss improved from 1.64253 to 1.43101, saving model to /content/drive/My Drive/BPIC_11/models/model_rd_15 Adambpic2011_Hospital_Data_02-1.43.h5\n",
            "Epoch 3/100\n",
            "65/65 - 11s - loss: 1.0843 - accuracy: 0.6065 - val_loss: 0.9463 - val_accuracy: 0.6435\n",
            "\n",
            "Epoch 00003: val_loss improved from 1.43101 to 0.94634, saving model to /content/drive/My Drive/BPIC_11/models/model_rd_15 Adambpic2011_Hospital_Data_03-0.95.h5\n",
            "Epoch 4/100\n",
            "65/65 - 11s - loss: 0.8454 - accuracy: 0.6713 - val_loss: 0.8053 - val_accuracy: 0.6435\n",
            "\n",
            "Epoch 00004: val_loss improved from 0.94634 to 0.80531, saving model to /content/drive/My Drive/BPIC_11/models/model_rd_15 Adambpic2011_Hospital_Data_04-0.81.h5\n",
            "Epoch 5/100\n",
            "65/65 - 11s - loss: 0.7539 - accuracy: 0.7099 - val_loss: 0.7497 - val_accuracy: 0.6696\n",
            "\n",
            "Epoch 00005: val_loss improved from 0.80531 to 0.74974, saving model to /content/drive/My Drive/BPIC_11/models/model_rd_15 Adambpic2011_Hospital_Data_05-0.75.h5\n",
            "Epoch 6/100\n",
            "65/65 - 11s - loss: 0.6986 - accuracy: 0.7346 - val_loss: 0.7563 - val_accuracy: 0.6870\n",
            "\n",
            "Epoch 00006: val_loss did not improve from 0.74974\n",
            "Epoch 7/100\n",
            "65/65 - 11s - loss: 0.6655 - accuracy: 0.7377 - val_loss: 0.7245 - val_accuracy: 0.6870\n",
            "\n",
            "Epoch 00007: val_loss improved from 0.74974 to 0.72447, saving model to /content/drive/My Drive/BPIC_11/models/model_rd_15 Adambpic2011_Hospital_Data_07-0.72.h5\n",
            "Epoch 8/100\n",
            "65/65 - 11s - loss: 0.6381 - accuracy: 0.7531 - val_loss: 0.7444 - val_accuracy: 0.6957\n",
            "\n",
            "Epoch 00008: val_loss did not improve from 0.72447\n",
            "Epoch 9/100\n",
            "65/65 - 11s - loss: 0.6056 - accuracy: 0.7623 - val_loss: 0.7868 - val_accuracy: 0.6783\n",
            "\n",
            "Epoch 00009: val_loss did not improve from 0.72447\n",
            "Epoch 10/100\n",
            "65/65 - 11s - loss: 0.6026 - accuracy: 0.7670 - val_loss: 0.8166 - val_accuracy: 0.7043\n",
            "\n",
            "Epoch 00010: val_loss did not improve from 0.72447\n",
            "Epoch 11/100\n",
            "65/65 - 11s - loss: 0.5745 - accuracy: 0.7793 - val_loss: 0.8047 - val_accuracy: 0.6870\n",
            "\n",
            "Epoch 00011: val_loss did not improve from 0.72447\n",
            "Epoch 12/100\n",
            "65/65 - 11s - loss: 0.5544 - accuracy: 0.7855 - val_loss: 0.8452 - val_accuracy: 0.7043\n",
            "\n",
            "Epoch 00012: val_loss did not improve from 0.72447\n",
            "Epoch 13/100\n",
            "65/65 - 11s - loss: 0.5432 - accuracy: 0.7886 - val_loss: 0.7714 - val_accuracy: 0.6957\n",
            "\n",
            "Epoch 00013: val_loss did not improve from 0.72447\n",
            "Epoch 14/100\n",
            "65/65 - 11s - loss: 0.5234 - accuracy: 0.7994 - val_loss: 0.8300 - val_accuracy: 0.7130\n",
            "\n",
            "Epoch 00014: val_loss did not improve from 0.72447\n",
            "Epoch 15/100\n",
            "65/65 - 11s - loss: 0.5182 - accuracy: 0.7886 - val_loss: 0.8389 - val_accuracy: 0.6957\n",
            "\n",
            "Epoch 00015: val_loss did not improve from 0.72447\n",
            "Epoch 16/100\n",
            "65/65 - 11s - loss: 0.5153 - accuracy: 0.7963 - val_loss: 0.9132 - val_accuracy: 0.6870\n",
            "\n",
            "Epoch 00016: val_loss did not improve from 0.72447\n",
            "Epoch 17/100\n",
            "65/65 - 11s - loss: 0.5217 - accuracy: 0.7870 - val_loss: 0.8851 - val_accuracy: 0.6870\n",
            "\n",
            "Epoch 00017: val_loss did not improve from 0.72447\n",
            "Epoch 18/100\n",
            "65/65 - 11s - loss: 0.4694 - accuracy: 0.8133 - val_loss: 0.9051 - val_accuracy: 0.6783\n",
            "\n",
            "Epoch 00018: val_loss did not improve from 0.72447\n",
            "Epoch 19/100\n",
            "65/65 - 11s - loss: 0.4588 - accuracy: 0.8210 - val_loss: 0.9392 - val_accuracy: 0.6609\n",
            "\n",
            "Epoch 00019: val_loss did not improve from 0.72447\n",
            "Epoch 20/100\n",
            "65/65 - 11s - loss: 0.4534 - accuracy: 0.8164 - val_loss: 0.9149 - val_accuracy: 0.6870\n",
            "\n",
            "Epoch 00020: val_loss did not improve from 0.72447\n",
            "Epoch 21/100\n",
            "65/65 - 11s - loss: 0.4498 - accuracy: 0.8241 - val_loss: 0.9436 - val_accuracy: 0.7043\n",
            "\n",
            "Epoch 00021: val_loss did not improve from 0.72447\n",
            "Epoch 22/100\n",
            "65/65 - 11s - loss: 0.4362 - accuracy: 0.8210 - val_loss: 0.9397 - val_accuracy: 0.7043\n",
            "\n",
            "Epoch 00022: val_loss did not improve from 0.72447\n",
            "Epoch 23/100\n",
            "65/65 - 11s - loss: 0.4241 - accuracy: 0.8272 - val_loss: 0.9732 - val_accuracy: 0.6870\n",
            "\n",
            "Epoch 00023: val_loss did not improve from 0.72447\n",
            "Epoch 24/100\n",
            "65/65 - 11s - loss: 0.4215 - accuracy: 0.8241 - val_loss: 0.9613 - val_accuracy: 0.6696\n",
            "\n",
            "Epoch 00024: val_loss did not improve from 0.72447\n",
            "Epoch 25/100\n",
            "65/65 - 11s - loss: 0.4163 - accuracy: 0.8318 - val_loss: 1.0042 - val_accuracy: 0.7130\n",
            "\n",
            "Epoch 00025: val_loss did not improve from 0.72447\n",
            "Epoch 26/100\n",
            "65/65 - 11s - loss: 0.4023 - accuracy: 0.8395 - val_loss: 1.0015 - val_accuracy: 0.7043\n",
            "\n",
            "Epoch 00026: val_loss did not improve from 0.72447\n",
            "Epoch 27/100\n",
            "65/65 - 11s - loss: 0.3971 - accuracy: 0.8426 - val_loss: 1.0729 - val_accuracy: 0.6696\n",
            "\n",
            "Epoch 00027: val_loss did not improve from 0.72447\n",
            "Epoch 28/100\n",
            "65/65 - 11s - loss: 0.3894 - accuracy: 0.8349 - val_loss: 1.0579 - val_accuracy: 0.6870\n",
            "\n",
            "Epoch 00028: val_loss did not improve from 0.72447\n",
            "Epoch 29/100\n",
            "65/65 - 11s - loss: 0.3817 - accuracy: 0.8349 - val_loss: 1.0338 - val_accuracy: 0.6870\n",
            "\n",
            "Epoch 00029: val_loss did not improve from 0.72447\n",
            "Epoch 30/100\n",
            "65/65 - 11s - loss: 0.3788 - accuracy: 0.8395 - val_loss: 1.0543 - val_accuracy: 0.6870\n",
            "\n",
            "Epoch 00030: val_loss did not improve from 0.72447\n",
            "Epoch 31/100\n",
            "65/65 - 11s - loss: 0.3864 - accuracy: 0.8426 - val_loss: 1.0818 - val_accuracy: 0.6957\n",
            "\n",
            "Epoch 00031: val_loss did not improve from 0.72447\n",
            "Epoch 32/100\n",
            "65/65 - 11s - loss: 0.3770 - accuracy: 0.8488 - val_loss: 1.1016 - val_accuracy: 0.7043\n",
            "\n",
            "Epoch 00032: val_loss did not improve from 0.72447\n",
            "Epoch 33/100\n",
            "65/65 - 11s - loss: 0.3787 - accuracy: 0.8441 - val_loss: 1.1224 - val_accuracy: 0.6957\n",
            "\n",
            "Epoch 00033: val_loss did not improve from 0.72447\n",
            "Epoch 34/100\n",
            "65/65 - 11s - loss: 0.3670 - accuracy: 0.8441 - val_loss: 1.1530 - val_accuracy: 0.6783\n",
            "\n",
            "Epoch 00034: val_loss did not improve from 0.72447\n",
            "Epoch 35/100\n",
            "65/65 - 11s - loss: 0.3604 - accuracy: 0.8519 - val_loss: 1.1502 - val_accuracy: 0.6870\n",
            "\n",
            "Epoch 00035: val_loss did not improve from 0.72447\n",
            "Epoch 36/100\n",
            "65/65 - 11s - loss: 0.3611 - accuracy: 0.8519 - val_loss: 1.1824 - val_accuracy: 0.6696\n",
            "\n",
            "Epoch 00036: val_loss did not improve from 0.72447\n",
            "Epoch 37/100\n",
            "65/65 - 11s - loss: 0.3619 - accuracy: 0.8534 - val_loss: 1.1964 - val_accuracy: 0.6957\n",
            "\n",
            "Epoch 00037: val_loss did not improve from 0.72447\n",
            "Epoch 38/100\n",
            "65/65 - 11s - loss: 0.3615 - accuracy: 0.8519 - val_loss: 1.1967 - val_accuracy: 0.7043\n",
            "\n",
            "Epoch 00038: val_loss did not improve from 0.72447\n",
            "Epoch 39/100\n",
            "65/65 - 11s - loss: 0.3480 - accuracy: 0.8596 - val_loss: 1.2132 - val_accuracy: 0.7043\n",
            "\n",
            "Epoch 00039: val_loss did not improve from 0.72447\n",
            "Epoch 40/100\n",
            "65/65 - 11s - loss: 0.3512 - accuracy: 0.8673 - val_loss: 1.2244 - val_accuracy: 0.7043\n",
            "\n",
            "Epoch 00040: val_loss did not improve from 0.72447\n",
            "Epoch 41/100\n",
            "65/65 - 11s - loss: 0.3508 - accuracy: 0.8611 - val_loss: 1.2281 - val_accuracy: 0.7043\n",
            "\n",
            "Epoch 00041: val_loss did not improve from 0.72447\n",
            "Epoch 42/100\n",
            "65/65 - 11s - loss: 0.3502 - accuracy: 0.8580 - val_loss: 1.2451 - val_accuracy: 0.6783\n",
            "\n",
            "Epoch 00042: val_loss did not improve from 0.72447\n",
            "Epoch 43/100\n",
            "65/65 - 11s - loss: 0.3458 - accuracy: 0.8596 - val_loss: 1.2555 - val_accuracy: 0.6870\n",
            "\n",
            "Epoch 00043: val_loss did not improve from 0.72447\n",
            "Epoch 44/100\n",
            "65/65 - 11s - loss: 0.3473 - accuracy: 0.8580 - val_loss: 1.2652 - val_accuracy: 0.6957\n",
            "\n",
            "Epoch 00044: val_loss did not improve from 0.72447\n",
            "Epoch 45/100\n",
            "65/65 - 11s - loss: 0.3462 - accuracy: 0.8549 - val_loss: 1.2360 - val_accuracy: 0.6957\n",
            "\n",
            "Epoch 00045: val_loss did not improve from 0.72447\n",
            "Epoch 46/100\n",
            "65/65 - 11s - loss: 0.3426 - accuracy: 0.8549 - val_loss: 1.2491 - val_accuracy: 0.7043\n",
            "\n",
            "Epoch 00046: val_loss did not improve from 0.72447\n",
            "Epoch 47/100\n",
            "65/65 - 11s - loss: 0.3430 - accuracy: 0.8534 - val_loss: 1.2627 - val_accuracy: 0.7043\n",
            "\n",
            "Epoch 00047: val_loss did not improve from 0.72447\n",
            "Epoch 48/100\n",
            "65/65 - 11s - loss: 0.3457 - accuracy: 0.8565 - val_loss: 1.2673 - val_accuracy: 0.7043\n",
            "\n",
            "Epoch 00048: val_loss did not improve from 0.72447\n",
            "Epoch 49/100\n",
            "65/65 - 11s - loss: 0.3457 - accuracy: 0.8580 - val_loss: 1.2746 - val_accuracy: 0.7043\n",
            "\n",
            "Epoch 00049: val_loss did not improve from 0.72447\n"
          ],
          "name": "stdout"
        },
        {
          "output_type": "execute_result",
          "data": {
            "text/plain": [
              "<keras.callbacks.History at 0x7f7060043710>"
            ]
          },
          "metadata": {
            "tags": []
          },
          "execution_count": 8
        }
      ]
    },
    {
      "cell_type": "code",
      "metadata": {
        "id": "OFHV9flhxgAE"
      },
      "source": [
        "# saving the trained model\n",
        "#model.save('/content/drive/My Drive/BPIC_11/Trained_Model')\n",
        "    "
      ],
      "execution_count": null,
      "outputs": []
    },
    {
      "cell_type": "code",
      "metadata": {
        "id": "fmhPm_R5ycxA"
      },
      "source": [
        "#loading the trained model\n",
        "\n",
        "#model2 = keras.models.load_model('/content/drive/My Drive/BPIC_11/Trained_Model')\n"
      ],
      "execution_count": null,
      "outputs": []
    },
    {
      "cell_type": "markdown",
      "metadata": {
        "id": "GvNQG4LyGtS6"
      },
      "source": [
        "#### Evaluating the Prediction performance of Diagnosis for new samples"
      ]
    },
    {
      "cell_type": "code",
      "metadata": {
        "colab": {
          "base_uri": "https://localhost:8080/"
        },
        "id": "IsCwGgalGrxc",
        "outputId": "32141180-4173-4cb0-a90e-8622380909ec"
      },
      "source": [
        "# Generating Inputs\n",
        "\n",
        "x_test = [vec_test['prefixes']['x_ac_inp']]\n",
        "x_test.append(vec_test['prefixes']['x_rl_inp'])\n",
        "x_test.append(vec_test['prefixes']['xt_inp'])\n",
        "x_test.append(vec_test['static']['x_age_inp'])\n",
        "x_test.append(vec_test['static']['x_cl_inp'])\n",
        "\n",
        "\n",
        "y_test = vec_test['diagnosis']\n",
        "\n",
        "# Evaluate the model on the test data using `evaluate`\n",
        "print(\"Evaluate on test data\")\n",
        "results = model.evaluate(x_test, y_test, batch_size=10)# fix the padding size to be common for both test and train\n",
        "print(\"test loss, test acc:\", results)\n",
        "\n",
        "#Prediction\n",
        "\n",
        "y_pred = model.predict(x_test)\n"
      ],
      "execution_count": null,
      "outputs": [
        {
          "output_type": "stream",
          "text": [
            "Evaluate on test data\n",
            "33/33 [==============================] - 4s 72ms/step - loss: 1.1776 - accuracy: 0.6555\n",
            "test loss, test acc: [1.1776312589645386, 0.6554877758026123]\n"
          ],
          "name": "stdout"
        }
      ]
    },
    {
      "cell_type": "code",
      "metadata": {
        "colab": {
          "base_uri": "https://localhost:8080/",
          "height": 529
        },
        "id": "TxPTS6r2ystW",
        "outputId": "40705a28-55bd-4e0d-be0a-b41a7d310067"
      },
      "source": [
        "#Confusion Matrix\n",
        "\n",
        "import seaborn as sn\n",
        "\n",
        "\n",
        "matrix = confusion_matrix(y_test.argmax(axis=1), y_pred.argmax(axis=1))\n",
        "print(matrix)\n",
        "df_cm = pd.DataFrame(matrix, index = [index_di[i] for i in range(5)],\n",
        "                  columns = [index_di[i] for i in range(5)])\n",
        "\n",
        "plt.figure(figsize = (10,7))\n",
        "sn.heatmap(df_cm, annot=True)"
      ],
      "execution_count": null,
      "outputs": [
        {
          "output_type": "stream",
          "text": [
            "[[46  0  6  1  0]\n",
            " [ 2 29 30  1  1]\n",
            " [11  8 82  3  5]\n",
            " [ 2  1 13  6  5]\n",
            " [ 2  3 16  3 52]]\n"
          ],
          "name": "stdout"
        },
        {
          "output_type": "execute_result",
          "data": {
            "text/plain": [
              "<matplotlib.axes._subplots.AxesSubplot at 0x7f705a512990>"
            ]
          },
          "metadata": {
            "tags": []
          },
          "execution_count": 11
        },
        {
          "output_type": "display_data",
          "data": {
            "image/png": "[encoded data removed]",
            "text/plain": [
              "<Figure size 720x504 with 2 Axes>"
            ]
          },
          "metadata": {
            "tags": [],
            "needs_background": "light"
          }
        }
      ]
    },
    {
      "cell_type": "markdown",
      "metadata": {
        "id": "qlg0UiYtGn9U"
      },
      "source": [
        "#### Visualizing Attention Weights\n",
        "\n",
        "credits: https://stackoverflow.com/questions/53867351/how-to-visualize-attention-weights"
      ]
    },
    {
      "cell_type": "code",
      "metadata": {
        "id": "SCGq1wHEGq00"
      },
      "source": [
        "model_attn_weights = Model(inputs=model.input,\n",
        "              outputs=[model.output, model.get_layer('timestep_attention').output, model.get_layer('feature_attention').output,\n",
        "                       model.get_layer('age_static_attention').output,model.get_layer('cl_static_attention').output])\n",
        "\n",
        "outputs = model_attn_weights.predict(x_test)"
      ],
      "execution_count": 12,
      "outputs": []
    },
    {
      "cell_type": "code",
      "metadata": {
        "id": "dHRe9rRkIGuj"
      },
      "source": [
        "i = 1"
      ],
      "execution_count": 14,
      "outputs": []
    },
    {
      "cell_type": "code",
      "metadata": {
        "colab": {
          "base_uri": "https://localhost:8080/"
        },
        "id": "i-nyvxi2HWf9",
        "outputId": "32da2a5c-082f-4004-8a2a-0a36eed06c55"
      },
      "source": [
        "timestep_attention = outputs[1][i]\n",
        "print(timestep_attention)\n",
        "print(timestep_attention.shape)"
      ],
      "execution_count": 22,
      "outputs": [
        {
          "output_type": "stream",
          "text": [
            "[[1.2290576e-09]\n",
            " [1.4581553e-03]\n",
            " [2.3688904e-03]\n",
            " ...\n",
            " [1.0434264e-12]\n",
            " [1.2164387e-12]\n",
            " [1.6419066e-12]]\n",
            "(1402, 1)\n"
          ],
          "name": "stdout"
        }
      ]
    },
    {
      "cell_type": "code",
      "metadata": {
        "colab": {
          "base_uri": "https://localhost:8080/"
        },
        "id": "LXVeFHdhHorD",
        "outputId": "d64e4233-23ef-463c-e239-3194e72c6805"
      },
      "source": [
        "feature_attention = outputs[2][i]\n",
        "print(feature_attention)\n",
        "print(feature_attention.shape)"
      ],
      "execution_count": 23,
      "outputs": [
        {
          "output_type": "stream",
          "text": [
            "[[0.9988404 ]\n",
            " [0.9995721 ]\n",
            " [0.99973387]\n",
            " ...\n",
            " [0.9766872 ]\n",
            " [0.9734492 ]\n",
            " [0.9712884 ]]\n",
            "(1402, 1)\n"
          ],
          "name": "stdout"
        }
      ]
    },
    {
      "cell_type": "code",
      "metadata": {
        "colab": {
          "base_uri": "https://localhost:8080/"
        },
        "id": "dROKiIvoHthl",
        "outputId": "2386fde6-76cf-40d0-dcbc-f57420f15297"
      },
      "source": [
        "age_static_attention= outputs[3][i]\n",
        "print(age_static_attention)"
      ],
      "execution_count": 26,
      "outputs": [
        {
          "output_type": "stream",
          "text": [
            "[1.]\n"
          ],
          "name": "stdout"
        }
      ]
    },
    {
      "cell_type": "code",
      "metadata": {
        "colab": {
          "base_uri": "https://localhost:8080/"
        },
        "id": "X5yKua1yH1DM",
        "outputId": "4c99652d-d035-48e6-dc6e-1c8401f3d6af"
      },
      "source": [
        "cl_static_attention= outputs[4][i]\n",
        "print(cl_static_attention)"
      ],
      "execution_count": 27,
      "outputs": [
        {
          "output_type": "stream",
          "text": [
            "[1.]\n"
          ],
          "name": "stdout"
        }
      ]
    },
    {
      "cell_type": "markdown",
      "metadata": {
        "id": "A3I4VVARHLSE"
      },
      "source": [
        "#### Support Function: plot attention\n",
        "\n",
        "Author: Bemali Wickramanayake\n",
        "\n",
        "Function: Plots the top x features in terms of attention weights, for the i<sup>th</sup> sample of test data individually as well as at an aggregated level"
      ]
    },
    {
      "cell_type": "code",
      "metadata": {
        "id": "yhG4zXcKHMBL"
      },
      "source": [
        ""
      ],
      "execution_count": null,
      "outputs": []
    }
  ]
}